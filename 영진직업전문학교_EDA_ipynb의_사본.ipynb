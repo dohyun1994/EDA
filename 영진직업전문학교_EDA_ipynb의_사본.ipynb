{
  "nbformat": 4,
  "nbformat_minor": 0,
  "metadata": {
    "colab": {
      "name": "영진직업전문학교 EDA.ipynb의 사본",
      "provenance": [],
      "collapsed_sections": [
        "66rAz2BR_RNy",
        "GhldSHnQTAqH",
        "Ue3ISAGaTbat",
        "byEYkus-OxM0",
        "a_CBfaXUo5VQ",
        "EMTxmER9wl4N",
        "8qhw76NqrNky",
        "iSy88yG6rNk1",
        "gtkkmw4IrNk3",
        "LuVYeGtey_SN",
        "eUS9kOov5Ojl"
      ],
      "include_colab_link": true
    },
    "kernelspec": {
      "name": "python3",
      "display_name": "Python 3"
    },
    "language_info": {
      "name": "python"
    }
  },
  "cells": [
    {
      "cell_type": "markdown",
      "metadata": {
        "id": "view-in-github",
        "colab_type": "text"
      },
      "source": [
        "<a href=\"https://colab.research.google.com/github/dohyun1994/EDA/blob/main/%EC%98%81%EC%A7%84%EC%A7%81%EC%97%85%EC%A0%84%EB%AC%B8%ED%95%99%EA%B5%90_EDA_ipynb%EC%9D%98_%EC%82%AC%EB%B3%B8.ipynb\" target=\"_parent\"><img src=\"https://colab.research.google.com/assets/colab-badge.svg\" alt=\"Open In Colab\"/></a>"
      ]
    },
    {
      "cell_type": "markdown",
      "metadata": {
        "id": "66rAz2BR_RNy"
      },
      "source": [
        "# Numpy"
      ]
    },
    {
      "cell_type": "markdown",
      "metadata": {
        "id": "IFCI9yrR_ifW"
      },
      "source": [
        "Python 내에서 수학 연산에 도움을 주기 위한 라이브러리로써 다차원 배열(행렬)을 계산하는데 필요한 여러 유용한 기능들을 제공합니다.\n",
        "\n",
        "다차원 배열은 딥러닝 모델 입력 시 아주 유용하게 활용됩니다."
      ]
    },
    {
      "cell_type": "markdown",
      "metadata": {
        "id": "3gd5TQmUAOCD"
      },
      "source": [
        "**Numpy 형식의 자료구조가 가지는 특징**\n",
        "\n",
        "- Numpy 배열을 리스트(list)와 같은 값의 집합으로 볼 수 있으나 리스트와 달리 집합 내 동일한 타입만 가질 수 있음\n",
        "\n",
        "- Numpy는 배열의 차원(Rank) 각 차원의 크기(Shape)를 튜플로 표시할 수 있음\n",
        "\n",
        "- 배열의 차원의 형태를 따라 인덱싱이 가능함\n",
        "\n",
        "- 인덱싱이란 성분을 추출하는 것으로 Numpy의 꽃이라 할 수 있음\n",
        "\n"
      ]
    },
    {
      "cell_type": "markdown",
      "metadata": {
        "id": "wiXSMA9AAo4Z"
      },
      "source": [
        "Numpy 라이브러리 불러오기"
      ]
    },
    {
      "cell_type": "code",
      "metadata": {
        "id": "Wkmf3itk_mjp"
      },
      "source": [
        "#numpy 패키지를 np로 사용\n",
        "import numpy as np "
      ],
      "execution_count": null,
      "outputs": []
    },
    {
      "cell_type": "markdown",
      "metadata": {
        "id": "aTvaP1fJA4hS"
      },
      "source": [
        "import pandas as pd와 함께 정말 많이 보시게 될 코드 입니다."
      ]
    },
    {
      "cell_type": "code",
      "metadata": {
        "colab": {
          "base_uri": "https://localhost:8080/"
        },
        "id": "SUK30Xv2_m0Y",
        "outputId": "b10641a5-9acc-44b3-b78d-7a2459ca0dce"
      },
      "source": [
        "#Numpy 행렬 생성 - 1\n",
        "arr1 = np.array([1,2,3])\n",
        "arr1"
      ],
      "execution_count": null,
      "outputs": [
        {
          "output_type": "execute_result",
          "data": {
            "text/plain": [
              "array([1, 2, 3])"
            ]
          },
          "metadata": {},
          "execution_count": 13
        }
      ]
    },
    {
      "cell_type": "code",
      "metadata": {
        "colab": {
          "base_uri": "https://localhost:8080/"
        },
        "id": "Gs-7neJpBFc1",
        "outputId": "85eef939-0ab8-4795-e439-71172e2cbe99"
      },
      "source": [
        "#생성된 행렬의 타입 \n",
        "type(arr1)"
      ],
      "execution_count": null,
      "outputs": [
        {
          "output_type": "execute_result",
          "data": {
            "text/plain": [
              "numpy.ndarray"
            ]
          },
          "metadata": {},
          "execution_count": 14
        }
      ]
    },
    {
      "cell_type": "markdown",
      "metadata": {
        "id": "vrOuEbCdKvlw"
      },
      "source": [
        "ndrray는 Numpy의 핵심인 다차원 행렬 자료구조 클래스를 말합니다."
      ]
    },
    {
      "cell_type": "code",
      "metadata": {
        "colab": {
          "base_uri": "https://localhost:8080/"
        },
        "id": "mCrw6ZerCUPK",
        "outputId": "15676b2b-8121-4d3b-cf18-cb430b749a81"
      },
      "source": [
        "#Numpy 행렬의 size 출력\n",
        "arr1.shape"
      ],
      "execution_count": null,
      "outputs": [
        {
          "output_type": "execute_result",
          "data": {
            "text/plain": [
              "(3,)"
            ]
          },
          "metadata": {},
          "execution_count": 15
        }
      ]
    },
    {
      "cell_type": "code",
      "metadata": {
        "colab": {
          "base_uri": "https://localhost:8080/"
        },
        "id": "syTsoFguC11n",
        "outputId": "09d69e41-e81b-4d2e-fade-9ad64e8987d7"
      },
      "source": [
        "#차원 수\n",
        "arr1.ndim"
      ],
      "execution_count": null,
      "outputs": [
        {
          "output_type": "execute_result",
          "data": {
            "text/plain": [
              "1"
            ]
          },
          "metadata": {},
          "execution_count": 16
        }
      ]
    },
    {
      "cell_type": "code",
      "metadata": {
        "colab": {
          "base_uri": "https://localhost:8080/"
        },
        "id": "V93-GgD8CEek",
        "outputId": "0ca7961f-f9ca-4191-ff42-18417284791f"
      },
      "source": [
        "#Numpy 행렬 생성 - 2\n",
        "arr2 = np.array([[1,2,3],[4,5,6]])\n",
        "arr2"
      ],
      "execution_count": null,
      "outputs": [
        {
          "output_type": "execute_result",
          "data": {
            "text/plain": [
              "array([[1, 2, 3],\n",
              "       [4, 5, 6]])"
            ]
          },
          "metadata": {},
          "execution_count": 17
        }
      ]
    },
    {
      "cell_type": "code",
      "metadata": {
        "colab": {
          "base_uri": "https://localhost:8080/"
        },
        "id": "V_BM4OsybZb9",
        "outputId": "3fd8b4de-9ab3-4a59-b7d3-1cccd3109fd1"
      },
      "source": [
        "array = np.array([[[[1,2,3],[4,5,6],[7,8,9],[10,11,12]]]])\n",
        "array"
      ],
      "execution_count": null,
      "outputs": [
        {
          "output_type": "execute_result",
          "data": {
            "text/plain": [
              "array([[[[ 1,  2,  3],\n",
              "         [ 4,  5,  6],\n",
              "         [ 7,  8,  9],\n",
              "         [10, 11, 12]]]])"
            ]
          },
          "metadata": {},
          "execution_count": 20
        }
      ]
    },
    {
      "cell_type": "code",
      "metadata": {
        "colab": {
          "base_uri": "https://localhost:8080/"
        },
        "id": "sC4yb0OQCIhl",
        "outputId": "e442d7e7-1f74-4eb3-fa51-5f61c899e9ac"
      },
      "source": [
        "#Numpy 행렬의 size 출력\n",
        "arr2.shape"
      ],
      "execution_count": null,
      "outputs": [
        {
          "output_type": "execute_result",
          "data": {
            "text/plain": [
              "(2, 3)"
            ]
          },
          "metadata": {},
          "execution_count": 179
        }
      ]
    },
    {
      "cell_type": "code",
      "metadata": {
        "colab": {
          "base_uri": "https://localhost:8080/"
        },
        "id": "ivzcVpOJDs0e",
        "outputId": "84106742-7261-42e4-d9e6-4dc5bc70327e"
      },
      "source": [
        "#생성된 행렬의 타입\n",
        "type(arr2)"
      ],
      "execution_count": null,
      "outputs": [
        {
          "output_type": "execute_result",
          "data": {
            "text/plain": [
              "numpy.ndarray"
            ]
          },
          "metadata": {},
          "execution_count": 21
        }
      ]
    },
    {
      "cell_type": "code",
      "metadata": {
        "colab": {
          "base_uri": "https://localhost:8080/"
        },
        "id": "uvi7FsfRCW2t",
        "outputId": "8d0c5622-b320-47ec-ad02-fbabe4ef598c"
      },
      "source": [
        "#차원 수\n",
        "arr2.ndim"
      ],
      "execution_count": null,
      "outputs": [
        {
          "output_type": "execute_result",
          "data": {
            "text/plain": [
              "2"
            ]
          },
          "metadata": {},
          "execution_count": 22
        }
      ]
    },
    {
      "cell_type": "code",
      "metadata": {
        "colab": {
          "base_uri": "https://localhost:8080/"
        },
        "id": "cVOqvhi8JXBG",
        "outputId": "226c1189-4385-4dfa-8e19-4807c93aa7c0"
      },
      "source": [
        "#Numpy 행렬 생성 - 3\n",
        "arr3 = np.array([[[1,2,3],[4,5,6],[7,8,9]]])\n",
        "arr3"
      ],
      "execution_count": null,
      "outputs": [
        {
          "output_type": "execute_result",
          "data": {
            "text/plain": [
              "array([[[1, 2, 3],\n",
              "        [4, 5, 6],\n",
              "        [7, 8, 9]]])"
            ]
          },
          "metadata": {},
          "execution_count": 25
        }
      ]
    },
    {
      "cell_type": "code",
      "metadata": {
        "colab": {
          "base_uri": "https://localhost:8080/"
        },
        "id": "Yv9UankTb2EZ",
        "outputId": "d667d10a-9750-4334-93f1-ebb999595d26"
      },
      "source": [
        "array2 = np.array([[1,2,3],[4,5,6]])\n",
        "array2"
      ],
      "execution_count": null,
      "outputs": [
        {
          "output_type": "execute_result",
          "data": {
            "text/plain": [
              "array([[1, 2, 3],\n",
              "       [4, 5, 6]])"
            ]
          },
          "metadata": {},
          "execution_count": 23
        }
      ]
    },
    {
      "cell_type": "code",
      "metadata": {
        "colab": {
          "base_uri": "https://localhost:8080/"
        },
        "id": "AR3CxSDeL0ma",
        "outputId": "f92258cd-6410-4844-bb3c-f239f7466f56"
      },
      "source": [
        "#Numpy 행렬의 size 출력\n",
        "arr3.shape"
      ],
      "execution_count": null,
      "outputs": [
        {
          "output_type": "execute_result",
          "data": {
            "text/plain": [
              "(1, 3, 3)"
            ]
          },
          "metadata": {},
          "execution_count": 26
        }
      ]
    },
    {
      "cell_type": "code",
      "metadata": {
        "colab": {
          "base_uri": "https://localhost:8080/"
        },
        "id": "UnwStFyFMO4h",
        "outputId": "1b47003e-73e0-4100-9b4f-a1e0a12332cd"
      },
      "source": [
        "#생성된 행렬의 타입\n",
        "type(arr3)"
      ],
      "execution_count": null,
      "outputs": [
        {
          "output_type": "execute_result",
          "data": {
            "text/plain": [
              "numpy.ndarray"
            ]
          },
          "metadata": {},
          "execution_count": 27
        }
      ]
    },
    {
      "cell_type": "code",
      "metadata": {
        "colab": {
          "base_uri": "https://localhost:8080/"
        },
        "id": "t1w5JH3QMQeI",
        "outputId": "6bc983bd-195f-44b7-f716-3677fbd6b7b9"
      },
      "source": [
        "#차원 수\n",
        "arr3.ndim"
      ],
      "execution_count": null,
      "outputs": [
        {
          "output_type": "execute_result",
          "data": {
            "text/plain": [
              "3"
            ]
          },
          "metadata": {},
          "execution_count": 28
        }
      ]
    },
    {
      "cell_type": "markdown",
      "metadata": {
        "id": "9pc9YilLMBC3"
      },
      "source": [
        "(1,3,3)은 3행 3열의 데이터가 1개 있다는 뜻입니다."
      ]
    },
    {
      "cell_type": "code",
      "metadata": {
        "colab": {
          "base_uri": "https://localhost:8080/"
        },
        "id": "xtjKc2OqaMwr",
        "outputId": "55d8e5c8-b138-4a21-bca0-c8e565aac08a"
      },
      "source": [
        "arr4 = np.array([[[[1,2,3],[4,5,6],[7,8,9],[10,11,12]]]])\n",
        "arr4"
      ],
      "execution_count": null,
      "outputs": [
        {
          "output_type": "execute_result",
          "data": {
            "text/plain": [
              "array([[[[ 1,  2,  3],\n",
              "         [ 4,  5,  6],\n",
              "         [ 7,  8,  9],\n",
              "         [10, 11, 12]]]])"
            ]
          },
          "metadata": {},
          "execution_count": 223
        }
      ]
    },
    {
      "cell_type": "code",
      "metadata": {
        "colab": {
          "base_uri": "https://localhost:8080/"
        },
        "id": "lPsALWY6aYqv",
        "outputId": "e495ed1e-91fa-4bb8-a488-417d25fb3517"
      },
      "source": [
        "arr4.ndim"
      ],
      "execution_count": null,
      "outputs": [
        {
          "output_type": "execute_result",
          "data": {
            "text/plain": [
              "4"
            ]
          },
          "metadata": {},
          "execution_count": 224
        }
      ]
    },
    {
      "cell_type": "code",
      "metadata": {
        "colab": {
          "base_uri": "https://localhost:8080/"
        },
        "id": "RepZAx5UC5yP",
        "outputId": "433c72d9-0284-478d-9794-8fd6100650ce"
      },
      "source": [
        "#0의 수로 채워진 행렬 생성\n",
        "np.zeros(shape=(5,5))"
      ],
      "execution_count": null,
      "outputs": [
        {
          "output_type": "execute_result",
          "data": {
            "text/plain": [
              "array([[0., 0., 0., 0., 0.],\n",
              "       [0., 0., 0., 0., 0.],\n",
              "       [0., 0., 0., 0., 0.],\n",
              "       [0., 0., 0., 0., 0.],\n",
              "       [0., 0., 0., 0., 0.]])"
            ]
          },
          "metadata": {},
          "execution_count": 29
        }
      ]
    },
    {
      "cell_type": "code",
      "metadata": {
        "colab": {
          "base_uri": "https://localhost:8080/"
        },
        "id": "6VkRLzqVcYHY",
        "outputId": "28b1cedb-0920-43e8-dadb-3c33f8e4124f"
      },
      "source": [
        "np.zeros(shape=(3,3))"
      ],
      "execution_count": null,
      "outputs": [
        {
          "output_type": "execute_result",
          "data": {
            "text/plain": [
              "array([[0., 0., 0.],\n",
              "       [0., 0., 0.],\n",
              "       [0., 0., 0.]])"
            ]
          },
          "metadata": {},
          "execution_count": 30
        }
      ]
    },
    {
      "cell_type": "code",
      "metadata": {
        "colab": {
          "base_uri": "https://localhost:8080/"
        },
        "id": "a9X-EEdAcejy",
        "outputId": "bb226794-ddf6-4c54-8acf-0c9d25e923e3"
      },
      "source": [
        "np.zeros(shape=(10,10))"
      ],
      "execution_count": null,
      "outputs": [
        {
          "output_type": "execute_result",
          "data": {
            "text/plain": [
              "array([[0., 0., 0., 0., 0., 0., 0., 0., 0., 0.],\n",
              "       [0., 0., 0., 0., 0., 0., 0., 0., 0., 0.],\n",
              "       [0., 0., 0., 0., 0., 0., 0., 0., 0., 0.],\n",
              "       [0., 0., 0., 0., 0., 0., 0., 0., 0., 0.],\n",
              "       [0., 0., 0., 0., 0., 0., 0., 0., 0., 0.],\n",
              "       [0., 0., 0., 0., 0., 0., 0., 0., 0., 0.],\n",
              "       [0., 0., 0., 0., 0., 0., 0., 0., 0., 0.],\n",
              "       [0., 0., 0., 0., 0., 0., 0., 0., 0., 0.],\n",
              "       [0., 0., 0., 0., 0., 0., 0., 0., 0., 0.],\n",
              "       [0., 0., 0., 0., 0., 0., 0., 0., 0., 0.]])"
            ]
          },
          "metadata": {},
          "execution_count": 31
        }
      ]
    },
    {
      "cell_type": "code",
      "metadata": {
        "colab": {
          "base_uri": "https://localhost:8080/"
        },
        "id": "Z0YmUUdfcjAw",
        "outputId": "dc5ba7eb-eaf3-475d-d228-495f4ecfe79c"
      },
      "source": [
        "np.zeros(shape=(15,15))"
      ],
      "execution_count": null,
      "outputs": [
        {
          "output_type": "execute_result",
          "data": {
            "text/plain": [
              "array([[0., 0., 0., 0., 0., 0., 0., 0., 0., 0., 0., 0., 0., 0., 0.],\n",
              "       [0., 0., 0., 0., 0., 0., 0., 0., 0., 0., 0., 0., 0., 0., 0.],\n",
              "       [0., 0., 0., 0., 0., 0., 0., 0., 0., 0., 0., 0., 0., 0., 0.],\n",
              "       [0., 0., 0., 0., 0., 0., 0., 0., 0., 0., 0., 0., 0., 0., 0.],\n",
              "       [0., 0., 0., 0., 0., 0., 0., 0., 0., 0., 0., 0., 0., 0., 0.],\n",
              "       [0., 0., 0., 0., 0., 0., 0., 0., 0., 0., 0., 0., 0., 0., 0.],\n",
              "       [0., 0., 0., 0., 0., 0., 0., 0., 0., 0., 0., 0., 0., 0., 0.],\n",
              "       [0., 0., 0., 0., 0., 0., 0., 0., 0., 0., 0., 0., 0., 0., 0.],\n",
              "       [0., 0., 0., 0., 0., 0., 0., 0., 0., 0., 0., 0., 0., 0., 0.],\n",
              "       [0., 0., 0., 0., 0., 0., 0., 0., 0., 0., 0., 0., 0., 0., 0.],\n",
              "       [0., 0., 0., 0., 0., 0., 0., 0., 0., 0., 0., 0., 0., 0., 0.],\n",
              "       [0., 0., 0., 0., 0., 0., 0., 0., 0., 0., 0., 0., 0., 0., 0.],\n",
              "       [0., 0., 0., 0., 0., 0., 0., 0., 0., 0., 0., 0., 0., 0., 0.],\n",
              "       [0., 0., 0., 0., 0., 0., 0., 0., 0., 0., 0., 0., 0., 0., 0.],\n",
              "       [0., 0., 0., 0., 0., 0., 0., 0., 0., 0., 0., 0., 0., 0., 0.]])"
            ]
          },
          "metadata": {},
          "execution_count": 32
        }
      ]
    },
    {
      "cell_type": "code",
      "metadata": {
        "colab": {
          "base_uri": "https://localhost:8080/"
        },
        "id": "hgFJ3bzMVycG",
        "outputId": "f9a4d2e2-59af-4aef-e1c7-99f3ad16d147"
      },
      "source": [
        "np.zeros(shape=(6,6))"
      ],
      "execution_count": null,
      "outputs": [
        {
          "output_type": "execute_result",
          "data": {
            "text/plain": [
              "array([[0., 0., 0., 0., 0., 0.],\n",
              "       [0., 0., 0., 0., 0., 0.],\n",
              "       [0., 0., 0., 0., 0., 0.],\n",
              "       [0., 0., 0., 0., 0., 0.],\n",
              "       [0., 0., 0., 0., 0., 0.],\n",
              "       [0., 0., 0., 0., 0., 0.]])"
            ]
          },
          "metadata": {},
          "execution_count": 33
        }
      ]
    },
    {
      "cell_type": "code",
      "metadata": {
        "colab": {
          "base_uri": "https://localhost:8080/"
        },
        "id": "My2I1zLFV2g2",
        "outputId": "6b4b98aa-0f1d-40ed-a681-b31fe03187e6"
      },
      "source": [
        "np.zeros(shape=(10,10))"
      ],
      "execution_count": null,
      "outputs": [
        {
          "output_type": "execute_result",
          "data": {
            "text/plain": [
              "array([[0., 0., 0., 0., 0., 0., 0., 0., 0., 0.],\n",
              "       [0., 0., 0., 0., 0., 0., 0., 0., 0., 0.],\n",
              "       [0., 0., 0., 0., 0., 0., 0., 0., 0., 0.],\n",
              "       [0., 0., 0., 0., 0., 0., 0., 0., 0., 0.],\n",
              "       [0., 0., 0., 0., 0., 0., 0., 0., 0., 0.],\n",
              "       [0., 0., 0., 0., 0., 0., 0., 0., 0., 0.],\n",
              "       [0., 0., 0., 0., 0., 0., 0., 0., 0., 0.],\n",
              "       [0., 0., 0., 0., 0., 0., 0., 0., 0., 0.],\n",
              "       [0., 0., 0., 0., 0., 0., 0., 0., 0., 0.],\n",
              "       [0., 0., 0., 0., 0., 0., 0., 0., 0., 0.]])"
            ]
          },
          "metadata": {},
          "execution_count": 34
        }
      ]
    },
    {
      "cell_type": "markdown",
      "metadata": {
        "id": "wAwkQrn2GxAS"
      },
      "source": [
        "np.zeros()은 0으로 구성된 행렬을 생성합니다."
      ]
    },
    {
      "cell_type": "code",
      "metadata": {
        "colab": {
          "base_uri": "https://localhost:8080/"
        },
        "id": "7DZFnx4KGvZ1",
        "outputId": "4ccd62c5-410c-4c17-cd1b-9043eb581f68"
      },
      "source": [
        "#1의 수로 채워진 행렬 생성\n",
        "np.ones(shape=(5,5))"
      ],
      "execution_count": null,
      "outputs": [
        {
          "output_type": "execute_result",
          "data": {
            "text/plain": [
              "array([[1., 1., 1., 1., 1.],\n",
              "       [1., 1., 1., 1., 1.],\n",
              "       [1., 1., 1., 1., 1.],\n",
              "       [1., 1., 1., 1., 1.],\n",
              "       [1., 1., 1., 1., 1.]])"
            ]
          },
          "metadata": {},
          "execution_count": 35
        }
      ]
    },
    {
      "cell_type": "code",
      "metadata": {
        "colab": {
          "base_uri": "https://localhost:8080/"
        },
        "id": "zf10Njkfc1pp",
        "outputId": "84ef73cd-85bf-49db-e80e-e7fb6e0016f9"
      },
      "source": [
        "np.ones(shape=(10,10))"
      ],
      "execution_count": null,
      "outputs": [
        {
          "output_type": "execute_result",
          "data": {
            "text/plain": [
              "array([[1., 1., 1., 1., 1., 1., 1., 1., 1., 1.],\n",
              "       [1., 1., 1., 1., 1., 1., 1., 1., 1., 1.],\n",
              "       [1., 1., 1., 1., 1., 1., 1., 1., 1., 1.],\n",
              "       [1., 1., 1., 1., 1., 1., 1., 1., 1., 1.],\n",
              "       [1., 1., 1., 1., 1., 1., 1., 1., 1., 1.],\n",
              "       [1., 1., 1., 1., 1., 1., 1., 1., 1., 1.],\n",
              "       [1., 1., 1., 1., 1., 1., 1., 1., 1., 1.],\n",
              "       [1., 1., 1., 1., 1., 1., 1., 1., 1., 1.],\n",
              "       [1., 1., 1., 1., 1., 1., 1., 1., 1., 1.],\n",
              "       [1., 1., 1., 1., 1., 1., 1., 1., 1., 1.]])"
            ]
          },
          "metadata": {},
          "execution_count": 36
        }
      ]
    },
    {
      "cell_type": "code",
      "metadata": {
        "colab": {
          "base_uri": "https://localhost:8080/"
        },
        "id": "rauu2BQZc6Ou",
        "outputId": "6090d035-5d4c-47cc-d124-8e78afeddf7b"
      },
      "source": [
        "np.ones(shape=(20,20))"
      ],
      "execution_count": null,
      "outputs": [
        {
          "output_type": "execute_result",
          "data": {
            "text/plain": [
              "array([[1., 1., 1., 1., 1., 1., 1., 1., 1., 1., 1., 1., 1., 1., 1., 1.,\n",
              "        1., 1., 1., 1.],\n",
              "       [1., 1., 1., 1., 1., 1., 1., 1., 1., 1., 1., 1., 1., 1., 1., 1.,\n",
              "        1., 1., 1., 1.],\n",
              "       [1., 1., 1., 1., 1., 1., 1., 1., 1., 1., 1., 1., 1., 1., 1., 1.,\n",
              "        1., 1., 1., 1.],\n",
              "       [1., 1., 1., 1., 1., 1., 1., 1., 1., 1., 1., 1., 1., 1., 1., 1.,\n",
              "        1., 1., 1., 1.],\n",
              "       [1., 1., 1., 1., 1., 1., 1., 1., 1., 1., 1., 1., 1., 1., 1., 1.,\n",
              "        1., 1., 1., 1.],\n",
              "       [1., 1., 1., 1., 1., 1., 1., 1., 1., 1., 1., 1., 1., 1., 1., 1.,\n",
              "        1., 1., 1., 1.],\n",
              "       [1., 1., 1., 1., 1., 1., 1., 1., 1., 1., 1., 1., 1., 1., 1., 1.,\n",
              "        1., 1., 1., 1.],\n",
              "       [1., 1., 1., 1., 1., 1., 1., 1., 1., 1., 1., 1., 1., 1., 1., 1.,\n",
              "        1., 1., 1., 1.],\n",
              "       [1., 1., 1., 1., 1., 1., 1., 1., 1., 1., 1., 1., 1., 1., 1., 1.,\n",
              "        1., 1., 1., 1.],\n",
              "       [1., 1., 1., 1., 1., 1., 1., 1., 1., 1., 1., 1., 1., 1., 1., 1.,\n",
              "        1., 1., 1., 1.],\n",
              "       [1., 1., 1., 1., 1., 1., 1., 1., 1., 1., 1., 1., 1., 1., 1., 1.,\n",
              "        1., 1., 1., 1.],\n",
              "       [1., 1., 1., 1., 1., 1., 1., 1., 1., 1., 1., 1., 1., 1., 1., 1.,\n",
              "        1., 1., 1., 1.],\n",
              "       [1., 1., 1., 1., 1., 1., 1., 1., 1., 1., 1., 1., 1., 1., 1., 1.,\n",
              "        1., 1., 1., 1.],\n",
              "       [1., 1., 1., 1., 1., 1., 1., 1., 1., 1., 1., 1., 1., 1., 1., 1.,\n",
              "        1., 1., 1., 1.],\n",
              "       [1., 1., 1., 1., 1., 1., 1., 1., 1., 1., 1., 1., 1., 1., 1., 1.,\n",
              "        1., 1., 1., 1.],\n",
              "       [1., 1., 1., 1., 1., 1., 1., 1., 1., 1., 1., 1., 1., 1., 1., 1.,\n",
              "        1., 1., 1., 1.],\n",
              "       [1., 1., 1., 1., 1., 1., 1., 1., 1., 1., 1., 1., 1., 1., 1., 1.,\n",
              "        1., 1., 1., 1.],\n",
              "       [1., 1., 1., 1., 1., 1., 1., 1., 1., 1., 1., 1., 1., 1., 1., 1.,\n",
              "        1., 1., 1., 1.],\n",
              "       [1., 1., 1., 1., 1., 1., 1., 1., 1., 1., 1., 1., 1., 1., 1., 1.,\n",
              "        1., 1., 1., 1.],\n",
              "       [1., 1., 1., 1., 1., 1., 1., 1., 1., 1., 1., 1., 1., 1., 1., 1.,\n",
              "        1., 1., 1., 1.]])"
            ]
          },
          "metadata": {},
          "execution_count": 37
        }
      ]
    },
    {
      "cell_type": "code",
      "metadata": {
        "colab": {
          "base_uri": "https://localhost:8080/"
        },
        "id": "Kk0GcmlRV-Vq",
        "outputId": "2ceb8bbc-be86-4254-9696-e26725e93ebb"
      },
      "source": [
        "np.ones(shape=((6,6)))"
      ],
      "execution_count": null,
      "outputs": [
        {
          "output_type": "execute_result",
          "data": {
            "text/plain": [
              "array([[1., 1., 1., 1., 1., 1.],\n",
              "       [1., 1., 1., 1., 1., 1.],\n",
              "       [1., 1., 1., 1., 1., 1.],\n",
              "       [1., 1., 1., 1., 1., 1.],\n",
              "       [1., 1., 1., 1., 1., 1.],\n",
              "       [1., 1., 1., 1., 1., 1.]])"
            ]
          },
          "metadata": {},
          "execution_count": 38
        }
      ]
    },
    {
      "cell_type": "code",
      "metadata": {
        "colab": {
          "base_uri": "https://localhost:8080/"
        },
        "id": "i-SYhxTpWBG5",
        "outputId": "026b1761-1ef5-4dbe-be66-8cbac782c597"
      },
      "source": [
        "np.ones(shape=((10,10)))"
      ],
      "execution_count": null,
      "outputs": [
        {
          "output_type": "execute_result",
          "data": {
            "text/plain": [
              "array([[1., 1., 1., 1., 1., 1., 1., 1., 1., 1.],\n",
              "       [1., 1., 1., 1., 1., 1., 1., 1., 1., 1.],\n",
              "       [1., 1., 1., 1., 1., 1., 1., 1., 1., 1.],\n",
              "       [1., 1., 1., 1., 1., 1., 1., 1., 1., 1.],\n",
              "       [1., 1., 1., 1., 1., 1., 1., 1., 1., 1.],\n",
              "       [1., 1., 1., 1., 1., 1., 1., 1., 1., 1.],\n",
              "       [1., 1., 1., 1., 1., 1., 1., 1., 1., 1.],\n",
              "       [1., 1., 1., 1., 1., 1., 1., 1., 1., 1.],\n",
              "       [1., 1., 1., 1., 1., 1., 1., 1., 1., 1.],\n",
              "       [1., 1., 1., 1., 1., 1., 1., 1., 1., 1.]])"
            ]
          },
          "metadata": {},
          "execution_count": 39
        }
      ]
    },
    {
      "cell_type": "markdown",
      "metadata": {
        "id": "8Xrd5YXnJ0Rz"
      },
      "source": [
        "np.ones()는 1로 구성된 행렬을 생성합니다.\n",
        "\n",
        "이 둘은 array 자료형이며 다차원 배열로 원소를 바꾸기전 변수를 미리 선언하는데 자주 사용합니다."
      ]
    },
    {
      "cell_type": "code",
      "metadata": {
        "colab": {
          "base_uri": "https://localhost:8080/"
        },
        "id": "bx4tsDsqJzVQ",
        "outputId": "bae9bcc4-a3e9-4ffd-90c1-205f5d5c07d6"
      },
      "source": [
        "#난수 5개 생성\n",
        "np.random.rand(5)"
      ],
      "execution_count": null,
      "outputs": [
        {
          "output_type": "execute_result",
          "data": {
            "text/plain": [
              "array([0.43011079, 0.31037506, 0.61893688, 0.22998099, 0.26048914])"
            ]
          },
          "metadata": {},
          "execution_count": 194
        }
      ]
    },
    {
      "cell_type": "code",
      "metadata": {
        "colab": {
          "base_uri": "https://localhost:8080/"
        },
        "id": "ytW9SgYudLBS",
        "outputId": "ca268dc2-8506-40d6-8a30-65e596d05e7b"
      },
      "source": [
        "np.random.rand(10)"
      ],
      "execution_count": null,
      "outputs": [
        {
          "output_type": "execute_result",
          "data": {
            "text/plain": [
              "array([0.35925999, 0.21331194, 0.46013361, 0.870199  , 0.82874925,\n",
              "       0.96308535, 0.28913697, 0.18940734, 0.39002529, 0.15845503])"
            ]
          },
          "metadata": {},
          "execution_count": 44
        }
      ]
    },
    {
      "cell_type": "code",
      "metadata": {
        "colab": {
          "base_uri": "https://localhost:8080/"
        },
        "id": "-kV9g5auWLdY",
        "outputId": "ea2cb0ad-3668-4061-d764-0fea0fcf613c"
      },
      "source": [
        "np.random.rand(10)"
      ],
      "execution_count": null,
      "outputs": [
        {
          "output_type": "execute_result",
          "data": {
            "text/plain": [
              "array([0.99649118, 0.16748545, 0.06964886, 0.40651785, 0.7094123 ,\n",
              "       0.28170252, 0.15148797, 0.36224472, 0.91981046, 0.25330445])"
            ]
          },
          "metadata": {},
          "execution_count": 45
        }
      ]
    },
    {
      "cell_type": "code",
      "metadata": {
        "colab": {
          "base_uri": "https://localhost:8080/"
        },
        "id": "AGt8JAYaWNv0",
        "outputId": "bc755977-2365-454c-a64d-70d5597f9d9b"
      },
      "source": [
        "np.random.rand(20)"
      ],
      "execution_count": null,
      "outputs": [
        {
          "output_type": "execute_result",
          "data": {
            "text/plain": [
              "array([0.82599643, 0.60335781, 0.80899205, 0.28680831, 0.39513826,\n",
              "       0.32664794, 0.71023504, 0.18605981, 0.32595059, 0.43766196,\n",
              "       0.28003729, 0.97477278, 0.14593894, 0.82603386, 0.26901183,\n",
              "       0.85085352, 0.44366671, 0.46056021, 0.33501641, 0.72924291])"
            ]
          },
          "metadata": {},
          "execution_count": 46
        }
      ]
    },
    {
      "cell_type": "markdown",
      "metadata": {
        "id": "Mj7HbpC2FLaN"
      },
      "source": [
        "np.random.rand()는 0부터 1까지의 난수를 생성합니다."
      ]
    },
    {
      "cell_type": "code",
      "metadata": {
        "colab": {
          "base_uri": "https://localhost:8080/"
        },
        "id": "tOcf8A7QJ_ki",
        "outputId": "1aa91f67-d24e-4ebe-8b7b-f4ee053a5613"
      },
      "source": [
        "#정규 분포 랜덤 값 생성\n",
        "np.random.randn(10)"
      ],
      "execution_count": null,
      "outputs": [
        {
          "output_type": "execute_result",
          "data": {
            "text/plain": [
              "array([-0.50209708, -1.62926783, -0.41437761,  1.38159162, -0.18654433,\n",
              "        0.89340006,  0.09066226, -0.32348643, -1.175163  ,  0.64494846])"
            ]
          },
          "metadata": {},
          "execution_count": 47
        }
      ]
    },
    {
      "cell_type": "code",
      "metadata": {
        "colab": {
          "base_uri": "https://localhost:8080/"
        },
        "id": "qL3MUI88dbYl",
        "outputId": "2e327d81-1386-40bb-c9e5-4159a13c557b"
      },
      "source": [
        "np.random.randn(30)"
      ],
      "execution_count": null,
      "outputs": [
        {
          "output_type": "execute_result",
          "data": {
            "text/plain": [
              "array([ 0.74960572, -1.31052758,  0.43822341,  0.36097709, -1.227465  ,\n",
              "       -0.00841961,  1.34158447, -0.19197654, -1.68293676,  0.26069755,\n",
              "        0.23095696,  0.01932367, -0.4377459 ,  0.12148885,  0.2549864 ,\n",
              "       -2.72433594, -1.02735465,  2.38367147,  0.52546901,  0.26148426,\n",
              "       -0.95382069, -0.49573598, -1.15865479, -0.12839657,  1.19904215,\n",
              "       -0.32720061, -0.522021  ,  0.56705172,  0.51283975,  1.26950427])"
            ]
          },
          "metadata": {},
          "execution_count": 48
        }
      ]
    },
    {
      "cell_type": "code",
      "metadata": {
        "colab": {
          "base_uri": "https://localhost:8080/"
        },
        "id": "kj7X6ACBWYUV",
        "outputId": "c28797c4-1380-4de0-c5b2-3b91b8f1d761"
      },
      "source": [
        "np.random.randn(50)"
      ],
      "execution_count": null,
      "outputs": [
        {
          "output_type": "execute_result",
          "data": {
            "text/plain": [
              "array([ 0.58689765, -1.0539109 ,  0.40783822,  0.2561086 , -0.75738678,\n",
              "       -0.86586331,  0.7050711 ,  1.02522392,  1.37650459,  0.99078961,\n",
              "        0.24765869, -1.04049885,  1.26767512,  1.44194877, -1.15973686,\n",
              "        0.48056205,  1.25476677,  0.44686227,  0.2874752 , -1.00234849,\n",
              "        0.40052193, -0.11559088, -0.83587429,  0.76239698,  1.30161855,\n",
              "        0.52102817, -0.42307453,  1.19067237,  0.1098658 , -0.93098135,\n",
              "        1.96566292,  1.06732194, -1.64708275, -0.27523837, -0.85047379,\n",
              "       -1.33000223,  0.17045354, -0.27760065,  1.85112528, -1.1010345 ,\n",
              "        0.65704344,  0.6157789 ,  1.18343836,  0.04730933,  0.17410868,\n",
              "       -0.31489506,  0.35372389, -2.73310502, -0.07325955,  0.90240065])"
            ]
          },
          "metadata": {},
          "execution_count": 49
        }
      ]
    },
    {
      "cell_type": "markdown",
      "metadata": {
        "id": "w3_koZ8rLhwh"
      },
      "source": [
        "np.random.randn()는 정규 분포를 가지는 난수를 생성합니다.\n",
        "\n",
        "정규 분포란 평균과 표준편차가 주어져 있을 때 엔트로피를 최대화하는 분포입니다. \n",
        "\n",
        "정규분포곡선은 좌우 대칭이며 하나의 꼭짓점을 가집니다."
      ]
    },
    {
      "cell_type": "code",
      "metadata": {
        "colab": {
          "base_uri": "https://localhost:8080/"
        },
        "id": "J6e26YmmKevh",
        "outputId": "8303513c-6099-4357-cecc-d7b0f3f74a81"
      },
      "source": [
        "#1부터 100까지 100개의 수 생성\n",
        "np.random.randint(1,100,100)"
      ],
      "execution_count": null,
      "outputs": [
        {
          "output_type": "execute_result",
          "data": {
            "text/plain": [
              "array([43,  4, 69, 52, 85, 28, 40, 16, 42, 74, 61,  7, 11, 81, 15, 29, 56,\n",
              "       91,  2, 52, 97, 94, 23, 65, 10, 30, 18, 16,  3, 17,  3, 15, 22, 21,\n",
              "       85, 52,  1, 91, 37, 73, 86, 78, 68, 33, 36, 28, 59, 72, 75, 91, 31,\n",
              "       45, 32, 47, 54, 25, 80, 86, 77,  5, 55, 61, 98, 60, 27, 57, 61, 60,\n",
              "       52, 45, 45, 12, 55, 51, 79, 31, 94,  5, 86, 80, 10, 88, 42, 72, 58,\n",
              "       89, 39, 28, 25, 54, 26, 24, 59, 62, 51, 40, 81, 15, 42, 33])"
            ]
          },
          "metadata": {},
          "execution_count": 50
        }
      ]
    },
    {
      "cell_type": "code",
      "metadata": {
        "colab": {
          "base_uri": "https://localhost:8080/"
        },
        "id": "uhoTSLZvMaeQ",
        "outputId": "c23c28da-6351-4d98-f5cb-3e2bf51742eb"
      },
      "source": [
        "#행렬 조작을 더한 난수 생성\n",
        "np.random.randint(1,100,size=(3,10))"
      ],
      "execution_count": null,
      "outputs": [
        {
          "output_type": "execute_result",
          "data": {
            "text/plain": [
              "array([[70, 43, 82, 32, 96, 50, 52, 68, 28, 37],\n",
              "       [84, 37, 96, 20, 18, 74, 56, 49, 15, 83],\n",
              "       [50, 68, 69, 34, 37, 34, 34,  1, 25, 89]])"
            ]
          },
          "metadata": {},
          "execution_count": 52
        }
      ]
    },
    {
      "cell_type": "markdown",
      "metadata": {
        "id": "UHC1BCS1MkEi"
      },
      "source": [
        "np.random 기능을 활용하면 난수를 다양한 형태로 생성할 수 있습니다.\n",
        "\n",
        "3행 10열의 형태를 가지는 난수를 100개 생성했습니다."
      ]
    },
    {
      "cell_type": "code",
      "metadata": {
        "colab": {
          "base_uri": "https://localhost:8080/"
        },
        "id": "fKk4GQlSWs6i",
        "outputId": "3ab6cfde-dd9f-4af7-99e8-fec56a578e64"
      },
      "source": [
        "np.random.randint(1,500,size=(5,5))"
      ],
      "execution_count": null,
      "outputs": [
        {
          "output_type": "execute_result",
          "data": {
            "text/plain": [
              "array([[479, 347, 467, 425,  78],\n",
              "       [495,  93, 430, 361, 436],\n",
              "       [419,  27, 469, 215, 245],\n",
              "       [189, 423, 143,   1, 293],\n",
              "       [350, 276, 175, 236,  53]])"
            ]
          },
          "metadata": {},
          "execution_count": 53
        }
      ]
    },
    {
      "cell_type": "code",
      "metadata": {
        "colab": {
          "base_uri": "https://localhost:8080/"
        },
        "id": "6pbZLcwbd_Re",
        "outputId": "e3bc1ea3-f21e-4694-cd65-37385019e223"
      },
      "source": [
        "np.random.randint(5,200,size=(3,3))"
      ],
      "execution_count": null,
      "outputs": [
        {
          "output_type": "execute_result",
          "data": {
            "text/plain": [
              "array([[ 22, 195, 147],\n",
              "       [190,  62, 118],\n",
              "       [145,  52,  66]])"
            ]
          },
          "metadata": {},
          "execution_count": 54
        }
      ]
    },
    {
      "cell_type": "code",
      "metadata": {
        "id": "gj7_OnKAMrxv"
      },
      "source": [
        "a = np.random.randint(1,100,size=(10,10))"
      ],
      "execution_count": null,
      "outputs": []
    },
    {
      "cell_type": "code",
      "metadata": {
        "colab": {
          "base_uri": "https://localhost:8080/"
        },
        "id": "jRc-1ETqMvl2",
        "outputId": "f145777a-8909-4ac1-92ad-77feb4f75cc9"
      },
      "source": [
        "a"
      ],
      "execution_count": null,
      "outputs": [
        {
          "output_type": "execute_result",
          "data": {
            "text/plain": [
              "array([[98, 41, 96, 32, 23, 29, 35, 97, 52, 27],\n",
              "       [89, 28, 45, 47, 69, 80, 90, 99, 95, 99],\n",
              "       [76, 50, 65, 57, 92, 45, 19, 13, 43, 94],\n",
              "       [16, 71, 82, 81, 48, 67, 34, 98, 78,  4],\n",
              "       [ 7, 48, 36, 81, 35, 51,  9, 38, 91, 84],\n",
              "       [89, 81, 82, 99, 93, 21, 83, 82, 85, 52],\n",
              "       [77, 29, 65, 79, 79, 41,  8, 50, 77, 48],\n",
              "       [93, 11, 12, 35, 91, 70,  7, 30, 13, 67],\n",
              "       [ 4,  3, 20, 41, 80, 89, 19,  5, 40,  3],\n",
              "       [11, 41, 17, 75, 12, 87, 28, 28,  7, 48]])"
            ]
          },
          "metadata": {},
          "execution_count": 56
        }
      ]
    },
    {
      "cell_type": "markdown",
      "metadata": {
        "id": "xu-mwjZQGLJz"
      },
      "source": [
        "이번에는 10행 10열의 형태를 가지는 난수를 100개 생성했습니다."
      ]
    },
    {
      "cell_type": "code",
      "metadata": {
        "colab": {
          "base_uri": "https://localhost:8080/"
        },
        "id": "kHu5GakFMw55",
        "outputId": "347478b3-8c9b-46d0-f4d0-3ecf3c87138e"
      },
      "source": [
        "#조건 부여\n",
        "(a < 50)"
      ],
      "execution_count": null,
      "outputs": [
        {
          "output_type": "execute_result",
          "data": {
            "text/plain": [
              "array([[False,  True, False,  True,  True,  True,  True, False, False,\n",
              "         True],\n",
              "       [False,  True,  True,  True, False, False, False, False, False,\n",
              "        False],\n",
              "       [False, False, False, False, False,  True,  True,  True,  True,\n",
              "        False],\n",
              "       [ True, False, False, False,  True, False,  True, False, False,\n",
              "         True],\n",
              "       [ True,  True,  True, False,  True, False,  True,  True, False,\n",
              "        False],\n",
              "       [False, False, False, False, False,  True, False, False, False,\n",
              "        False],\n",
              "       [False,  True, False, False, False,  True,  True, False, False,\n",
              "         True],\n",
              "       [False,  True,  True,  True, False, False,  True,  True,  True,\n",
              "        False],\n",
              "       [ True,  True,  True,  True, False, False,  True,  True,  True,\n",
              "         True],\n",
              "       [ True,  True,  True, False,  True, False,  True,  True,  True,\n",
              "         True]])"
            ]
          },
          "metadata": {},
          "execution_count": 57
        }
      ]
    },
    {
      "cell_type": "markdown",
      "metadata": {
        "id": "u0Wkm2aOGYif"
      },
      "source": [
        "a 내 50보다 작거나 큰 데이터들을 boolean형으로 출력합니다.\n",
        "\n",
        "데이터가 50보다 작으면 True, 크면 False을 표시합니다."
      ]
    },
    {
      "cell_type": "code",
      "metadata": {
        "colab": {
          "base_uri": "https://localhost:8080/"
        },
        "id": "JEatIA08NAwX",
        "outputId": "6a2e963d-45f6-433f-fa3f-c85a808431c2"
      },
      "source": [
        "(a < 50).sum()"
      ],
      "execution_count": null,
      "outputs": [
        {
          "output_type": "execute_result",
          "data": {
            "text/plain": [
              "50"
            ]
          },
          "metadata": {},
          "execution_count": 58
        }
      ]
    },
    {
      "cell_type": "markdown",
      "metadata": {
        "id": "s9wOkCmJHXqz"
      },
      "source": [
        "a 내 50보다 작은 데이터의 갯수는 총 49개입니다.\n",
        "\n",
        "True 데이터의 갯수를 sum()을 사용하여 모두 더한 값입니다."
      ]
    },
    {
      "cell_type": "code",
      "metadata": {
        "colab": {
          "base_uri": "https://localhost:8080/"
        },
        "id": "4t8GyGCiNHZa",
        "outputId": "efad5c01-21c8-4d81-e850-50b505707192"
      },
      "source": [
        "#구조 확인\n",
        "a.shape"
      ],
      "execution_count": null,
      "outputs": [
        {
          "output_type": "execute_result",
          "data": {
            "text/plain": [
              "(10, 10)"
            ]
          },
          "metadata": {},
          "execution_count": 59
        }
      ]
    },
    {
      "cell_type": "markdown",
      "metadata": {
        "id": "EdjNg-LhIFPA"
      },
      "source": [
        "a는 10행 10열의 2차원 데이터 입니다."
      ]
    },
    {
      "cell_type": "code",
      "metadata": {
        "colab": {
          "base_uri": "https://localhost:8080/"
        },
        "id": "xhOQ9n5DNJ7l",
        "outputId": "61c6f869-b162-442b-9912-e6a58704f319"
      },
      "source": [
        "#다차원 행렬을 1차원으로 변환\n",
        "a.flatten()"
      ],
      "execution_count": null,
      "outputs": [
        {
          "output_type": "execute_result",
          "data": {
            "text/plain": [
              "array([98, 41, 96, 32, 23, 29, 35, 97, 52, 27, 89, 28, 45, 47, 69, 80, 90,\n",
              "       99, 95, 99, 76, 50, 65, 57, 92, 45, 19, 13, 43, 94, 16, 71, 82, 81,\n",
              "       48, 67, 34, 98, 78,  4,  7, 48, 36, 81, 35, 51,  9, 38, 91, 84, 89,\n",
              "       81, 82, 99, 93, 21, 83, 82, 85, 52, 77, 29, 65, 79, 79, 41,  8, 50,\n",
              "       77, 48, 93, 11, 12, 35, 91, 70,  7, 30, 13, 67,  4,  3, 20, 41, 80,\n",
              "       89, 19,  5, 40,  3, 11, 41, 17, 75, 12, 87, 28, 28,  7, 48])"
            ]
          },
          "metadata": {},
          "execution_count": 60
        }
      ]
    },
    {
      "cell_type": "markdown",
      "metadata": {
        "id": "9I-QyTfdEAKL"
      },
      "source": [
        "flatten()은 다차원 배열을 1차원으로 변환시켜줍니다.\n",
        "\n",
        "2차원 데이터인 a가 1차원으로 변환된 것을 확인할 수 있습니다."
      ]
    },
    {
      "cell_type": "code",
      "metadata": {
        "colab": {
          "base_uri": "https://localhost:8080/"
        },
        "id": "-m0uZvfuNi3V",
        "outputId": "a88fc285-77c7-425b-f3f6-f2a4bb34248f"
      },
      "source": [
        "#4행 25열로 차원 조작\n",
        "a.reshape(4,25)"
      ],
      "execution_count": null,
      "outputs": [
        {
          "output_type": "execute_result",
          "data": {
            "text/plain": [
              "array([[98, 41, 96, 32, 23, 29, 35, 97, 52, 27, 89, 28, 45, 47, 69, 80,\n",
              "        90, 99, 95, 99, 76, 50, 65, 57, 92],\n",
              "       [45, 19, 13, 43, 94, 16, 71, 82, 81, 48, 67, 34, 98, 78,  4,  7,\n",
              "        48, 36, 81, 35, 51,  9, 38, 91, 84],\n",
              "       [89, 81, 82, 99, 93, 21, 83, 82, 85, 52, 77, 29, 65, 79, 79, 41,\n",
              "         8, 50, 77, 48, 93, 11, 12, 35, 91],\n",
              "       [70,  7, 30, 13, 67,  4,  3, 20, 41, 80, 89, 19,  5, 40,  3, 11,\n",
              "        41, 17, 75, 12, 87, 28, 28,  7, 48]])"
            ]
          },
          "metadata": {},
          "execution_count": 61
        }
      ]
    },
    {
      "cell_type": "code",
      "metadata": {
        "colab": {
          "base_uri": "https://localhost:8080/"
        },
        "id": "Rg0E7wuQfJOU",
        "outputId": "9fed4609-4c97-4eda-d84f-26e4d94d78bb"
      },
      "source": [
        "a.reshape(5,20)"
      ],
      "execution_count": null,
      "outputs": [
        {
          "output_type": "execute_result",
          "data": {
            "text/plain": [
              "array([[98, 41, 96, 32, 23, 29, 35, 97, 52, 27, 89, 28, 45, 47, 69, 80,\n",
              "        90, 99, 95, 99],\n",
              "       [76, 50, 65, 57, 92, 45, 19, 13, 43, 94, 16, 71, 82, 81, 48, 67,\n",
              "        34, 98, 78,  4],\n",
              "       [ 7, 48, 36, 81, 35, 51,  9, 38, 91, 84, 89, 81, 82, 99, 93, 21,\n",
              "        83, 82, 85, 52],\n",
              "       [77, 29, 65, 79, 79, 41,  8, 50, 77, 48, 93, 11, 12, 35, 91, 70,\n",
              "         7, 30, 13, 67],\n",
              "       [ 4,  3, 20, 41, 80, 89, 19,  5, 40,  3, 11, 41, 17, 75, 12, 87,\n",
              "        28, 28,  7, 48]])"
            ]
          },
          "metadata": {},
          "execution_count": 62
        }
      ]
    },
    {
      "cell_type": "code",
      "metadata": {
        "colab": {
          "base_uri": "https://localhost:8080/"
        },
        "id": "MhGGjfCdfXAC",
        "outputId": "6c04c3a3-279e-43d3-ef1d-790eb506ff6a"
      },
      "source": [
        "a.reshape(20,5)"
      ],
      "execution_count": null,
      "outputs": [
        {
          "output_type": "execute_result",
          "data": {
            "text/plain": [
              "array([[98, 41, 96, 32, 23],\n",
              "       [29, 35, 97, 52, 27],\n",
              "       [89, 28, 45, 47, 69],\n",
              "       [80, 90, 99, 95, 99],\n",
              "       [76, 50, 65, 57, 92],\n",
              "       [45, 19, 13, 43, 94],\n",
              "       [16, 71, 82, 81, 48],\n",
              "       [67, 34, 98, 78,  4],\n",
              "       [ 7, 48, 36, 81, 35],\n",
              "       [51,  9, 38, 91, 84],\n",
              "       [89, 81, 82, 99, 93],\n",
              "       [21, 83, 82, 85, 52],\n",
              "       [77, 29, 65, 79, 79],\n",
              "       [41,  8, 50, 77, 48],\n",
              "       [93, 11, 12, 35, 91],\n",
              "       [70,  7, 30, 13, 67],\n",
              "       [ 4,  3, 20, 41, 80],\n",
              "       [89, 19,  5, 40,  3],\n",
              "       [11, 41, 17, 75, 12],\n",
              "       [87, 28, 28,  7, 48]])"
            ]
          },
          "metadata": {},
          "execution_count": 63
        }
      ]
    },
    {
      "cell_type": "code",
      "metadata": {
        "colab": {
          "base_uri": "https://localhost:8080/"
        },
        "id": "YZOw0PnDfbFy",
        "outputId": "5bb85332-c2d7-4850-b113-e08e43c427da"
      },
      "source": [
        "a.reshape(100,1)"
      ],
      "execution_count": null,
      "outputs": [
        {
          "output_type": "execute_result",
          "data": {
            "text/plain": [
              "array([[98],\n",
              "       [41],\n",
              "       [96],\n",
              "       [32],\n",
              "       [23],\n",
              "       [29],\n",
              "       [35],\n",
              "       [97],\n",
              "       [52],\n",
              "       [27],\n",
              "       [89],\n",
              "       [28],\n",
              "       [45],\n",
              "       [47],\n",
              "       [69],\n",
              "       [80],\n",
              "       [90],\n",
              "       [99],\n",
              "       [95],\n",
              "       [99],\n",
              "       [76],\n",
              "       [50],\n",
              "       [65],\n",
              "       [57],\n",
              "       [92],\n",
              "       [45],\n",
              "       [19],\n",
              "       [13],\n",
              "       [43],\n",
              "       [94],\n",
              "       [16],\n",
              "       [71],\n",
              "       [82],\n",
              "       [81],\n",
              "       [48],\n",
              "       [67],\n",
              "       [34],\n",
              "       [98],\n",
              "       [78],\n",
              "       [ 4],\n",
              "       [ 7],\n",
              "       [48],\n",
              "       [36],\n",
              "       [81],\n",
              "       [35],\n",
              "       [51],\n",
              "       [ 9],\n",
              "       [38],\n",
              "       [91],\n",
              "       [84],\n",
              "       [89],\n",
              "       [81],\n",
              "       [82],\n",
              "       [99],\n",
              "       [93],\n",
              "       [21],\n",
              "       [83],\n",
              "       [82],\n",
              "       [85],\n",
              "       [52],\n",
              "       [77],\n",
              "       [29],\n",
              "       [65],\n",
              "       [79],\n",
              "       [79],\n",
              "       [41],\n",
              "       [ 8],\n",
              "       [50],\n",
              "       [77],\n",
              "       [48],\n",
              "       [93],\n",
              "       [11],\n",
              "       [12],\n",
              "       [35],\n",
              "       [91],\n",
              "       [70],\n",
              "       [ 7],\n",
              "       [30],\n",
              "       [13],\n",
              "       [67],\n",
              "       [ 4],\n",
              "       [ 3],\n",
              "       [20],\n",
              "       [41],\n",
              "       [80],\n",
              "       [89],\n",
              "       [19],\n",
              "       [ 5],\n",
              "       [40],\n",
              "       [ 3],\n",
              "       [11],\n",
              "       [41],\n",
              "       [17],\n",
              "       [75],\n",
              "       [12],\n",
              "       [87],\n",
              "       [28],\n",
              "       [28],\n",
              "       [ 7],\n",
              "       [48]])"
            ]
          },
          "metadata": {},
          "execution_count": 64
        }
      ]
    },
    {
      "cell_type": "code",
      "metadata": {
        "colab": {
          "base_uri": "https://localhost:8080/"
        },
        "id": "N2EGYpY1NYJE",
        "outputId": "6d4842ce-4300-49d5-8b02-ad6a9ec65db3"
      },
      "source": [
        "#25행 4열로 차원 조작\n",
        "a.reshape(25,4)"
      ],
      "execution_count": null,
      "outputs": [
        {
          "output_type": "execute_result",
          "data": {
            "text/plain": [
              "array([[83, 30, 23, 70],\n",
              "       [49, 58, 83, 83],\n",
              "       [65, 17, 44, 27],\n",
              "       [86, 65, 18, 81],\n",
              "       [76, 28, 63, 77],\n",
              "       [82, 80, 81, 22],\n",
              "       [37,  2, 13, 80],\n",
              "       [17, 99, 33, 98],\n",
              "       [22, 53, 58, 80],\n",
              "       [46, 83, 61, 32],\n",
              "       [19, 13, 46,  7],\n",
              "       [96, 20, 94, 77],\n",
              "       [88, 26, 90, 49],\n",
              "       [25, 59, 10, 40],\n",
              "       [ 5, 85, 98, 80],\n",
              "       [21, 88, 87, 58],\n",
              "       [57, 37, 70, 85],\n",
              "       [75, 88, 31, 48],\n",
              "       [73,  7, 85,  8],\n",
              "       [28, 51, 93, 78],\n",
              "       [ 2, 41, 55, 42],\n",
              "       [29, 59, 58,  9],\n",
              "       [34, 50, 80, 57],\n",
              "       [20, 97,  3, 44],\n",
              "       [97,  4, 74,  7]])"
            ]
          },
          "metadata": {},
          "execution_count": 213
        }
      ]
    },
    {
      "cell_type": "markdown",
      "metadata": {
        "id": "yEBQFlBvNy4_"
      },
      "source": [
        "행렬값이 100개이므로 차원을 재구조할 때도 행렬값의 개수를 맞춰줘야 합니다.\n",
        "\n",
        "위와 같이 Numpy 기능(reshape)을 활용하여 다양한 차원 조작을 할 수 있습니다.\n",
        "\n",
        "이제 Numpy 데이터에서 다른 자료형으로 변환하는 코딩을 해보겠습니다."
      ]
    },
    {
      "cell_type": "code",
      "metadata": {
        "colab": {
          "base_uri": "https://localhost:8080/"
        },
        "id": "UShZbOkZN_tQ",
        "outputId": "4244c908-b2c3-42e7-871d-2db4cd0822d7"
      },
      "source": [
        "a = np.random.randint(1,100, size=(10,10))\n",
        "a"
      ],
      "execution_count": null,
      "outputs": [
        {
          "output_type": "execute_result",
          "data": {
            "text/plain": [
              "array([[94, 98, 48, 80, 71, 56, 59, 98, 84, 55],\n",
              "       [55, 26, 95, 58, 99, 38, 66, 21,  3, 96],\n",
              "       [25, 73, 30, 26, 13, 76, 53, 64, 27, 17],\n",
              "       [74, 40, 29, 18, 78, 92, 68, 84, 95, 49],\n",
              "       [88, 91,  8, 40, 13, 73, 97, 41, 13, 87],\n",
              "       [45, 13, 55,  4, 43, 55, 62, 24, 39, 60],\n",
              "       [90, 87, 22, 23, 89, 73, 31, 70, 91,  2],\n",
              "       [56, 15, 26, 18,  3, 32, 49, 78, 63, 87],\n",
              "       [71, 60, 97, 69, 72, 79, 70, 13, 61, 13],\n",
              "       [60, 61, 56, 57, 15, 25, 21, 68, 45, 40]])"
            ]
          },
          "metadata": {},
          "execution_count": 214
        }
      ]
    },
    {
      "cell_type": "code",
      "metadata": {
        "id": "KIRN3J1sRibX"
      },
      "source": [
        "#Pandas 패키지를 pd로 사용\n",
        "import pandas as pd"
      ],
      "execution_count": null,
      "outputs": []
    },
    {
      "cell_type": "markdown",
      "metadata": {
        "id": "YcGEWLc8Icp6"
      },
      "source": [
        "Numpy 형태를 데이터 프레임으로 변환시키기 위해 Pandas 패키지를 임포트 합니다."
      ]
    },
    {
      "cell_type": "code",
      "metadata": {
        "id": "xQLXkz7-Rm1v"
      },
      "source": [
        "#Numpy 행렬을 Pandas 데이터프레임으로 변환\n",
        "df = pd.DataFrame(a)"
      ],
      "execution_count": null,
      "outputs": []
    },
    {
      "cell_type": "code",
      "metadata": {
        "colab": {
          "base_uri": "https://localhost:8080/",
          "height": 363
        },
        "id": "MH1SqdaHRppn",
        "outputId": "b95209c2-6c61-4e4d-be90-261d913740e4"
      },
      "source": [
        "df"
      ],
      "execution_count": null,
      "outputs": [
        {
          "output_type": "execute_result",
          "data": {
            "text/html": [
              "<div>\n",
              "<style scoped>\n",
              "    .dataframe tbody tr th:only-of-type {\n",
              "        vertical-align: middle;\n",
              "    }\n",
              "\n",
              "    .dataframe tbody tr th {\n",
              "        vertical-align: top;\n",
              "    }\n",
              "\n",
              "    .dataframe thead th {\n",
              "        text-align: right;\n",
              "    }\n",
              "</style>\n",
              "<table border=\"1\" class=\"dataframe\">\n",
              "  <thead>\n",
              "    <tr style=\"text-align: right;\">\n",
              "      <th></th>\n",
              "      <th>0</th>\n",
              "      <th>1</th>\n",
              "      <th>2</th>\n",
              "      <th>3</th>\n",
              "      <th>4</th>\n",
              "      <th>5</th>\n",
              "      <th>6</th>\n",
              "      <th>7</th>\n",
              "      <th>8</th>\n",
              "      <th>9</th>\n",
              "    </tr>\n",
              "  </thead>\n",
              "  <tbody>\n",
              "    <tr>\n",
              "      <th>0</th>\n",
              "      <td>98</td>\n",
              "      <td>41</td>\n",
              "      <td>96</td>\n",
              "      <td>32</td>\n",
              "      <td>23</td>\n",
              "      <td>29</td>\n",
              "      <td>35</td>\n",
              "      <td>97</td>\n",
              "      <td>52</td>\n",
              "      <td>27</td>\n",
              "    </tr>\n",
              "    <tr>\n",
              "      <th>1</th>\n",
              "      <td>89</td>\n",
              "      <td>28</td>\n",
              "      <td>45</td>\n",
              "      <td>47</td>\n",
              "      <td>69</td>\n",
              "      <td>80</td>\n",
              "      <td>90</td>\n",
              "      <td>99</td>\n",
              "      <td>95</td>\n",
              "      <td>99</td>\n",
              "    </tr>\n",
              "    <tr>\n",
              "      <th>2</th>\n",
              "      <td>76</td>\n",
              "      <td>50</td>\n",
              "      <td>65</td>\n",
              "      <td>57</td>\n",
              "      <td>92</td>\n",
              "      <td>45</td>\n",
              "      <td>19</td>\n",
              "      <td>13</td>\n",
              "      <td>43</td>\n",
              "      <td>94</td>\n",
              "    </tr>\n",
              "    <tr>\n",
              "      <th>3</th>\n",
              "      <td>16</td>\n",
              "      <td>71</td>\n",
              "      <td>82</td>\n",
              "      <td>81</td>\n",
              "      <td>48</td>\n",
              "      <td>67</td>\n",
              "      <td>34</td>\n",
              "      <td>98</td>\n",
              "      <td>78</td>\n",
              "      <td>4</td>\n",
              "    </tr>\n",
              "    <tr>\n",
              "      <th>4</th>\n",
              "      <td>7</td>\n",
              "      <td>48</td>\n",
              "      <td>36</td>\n",
              "      <td>81</td>\n",
              "      <td>35</td>\n",
              "      <td>51</td>\n",
              "      <td>9</td>\n",
              "      <td>38</td>\n",
              "      <td>91</td>\n",
              "      <td>84</td>\n",
              "    </tr>\n",
              "    <tr>\n",
              "      <th>5</th>\n",
              "      <td>89</td>\n",
              "      <td>81</td>\n",
              "      <td>82</td>\n",
              "      <td>99</td>\n",
              "      <td>93</td>\n",
              "      <td>21</td>\n",
              "      <td>83</td>\n",
              "      <td>82</td>\n",
              "      <td>85</td>\n",
              "      <td>52</td>\n",
              "    </tr>\n",
              "    <tr>\n",
              "      <th>6</th>\n",
              "      <td>77</td>\n",
              "      <td>29</td>\n",
              "      <td>65</td>\n",
              "      <td>79</td>\n",
              "      <td>79</td>\n",
              "      <td>41</td>\n",
              "      <td>8</td>\n",
              "      <td>50</td>\n",
              "      <td>77</td>\n",
              "      <td>48</td>\n",
              "    </tr>\n",
              "    <tr>\n",
              "      <th>7</th>\n",
              "      <td>93</td>\n",
              "      <td>11</td>\n",
              "      <td>12</td>\n",
              "      <td>35</td>\n",
              "      <td>91</td>\n",
              "      <td>70</td>\n",
              "      <td>7</td>\n",
              "      <td>30</td>\n",
              "      <td>13</td>\n",
              "      <td>67</td>\n",
              "    </tr>\n",
              "    <tr>\n",
              "      <th>8</th>\n",
              "      <td>4</td>\n",
              "      <td>3</td>\n",
              "      <td>20</td>\n",
              "      <td>41</td>\n",
              "      <td>80</td>\n",
              "      <td>89</td>\n",
              "      <td>19</td>\n",
              "      <td>5</td>\n",
              "      <td>40</td>\n",
              "      <td>3</td>\n",
              "    </tr>\n",
              "    <tr>\n",
              "      <th>9</th>\n",
              "      <td>11</td>\n",
              "      <td>41</td>\n",
              "      <td>17</td>\n",
              "      <td>75</td>\n",
              "      <td>12</td>\n",
              "      <td>87</td>\n",
              "      <td>28</td>\n",
              "      <td>28</td>\n",
              "      <td>7</td>\n",
              "      <td>48</td>\n",
              "    </tr>\n",
              "  </tbody>\n",
              "</table>\n",
              "</div>"
            ],
            "text/plain": [
              "    0   1   2   3   4   5   6   7   8   9\n",
              "0  98  41  96  32  23  29  35  97  52  27\n",
              "1  89  28  45  47  69  80  90  99  95  99\n",
              "2  76  50  65  57  92  45  19  13  43  94\n",
              "3  16  71  82  81  48  67  34  98  78   4\n",
              "4   7  48  36  81  35  51   9  38  91  84\n",
              "5  89  81  82  99  93  21  83  82  85  52\n",
              "6  77  29  65  79  79  41   8  50  77  48\n",
              "7  93  11  12  35  91  70   7  30  13  67\n",
              "8   4   3  20  41  80  89  19   5  40   3\n",
              "9  11  41  17  75  12  87  28  28   7  48"
            ]
          },
          "metadata": {},
          "execution_count": 67
        }
      ]
    },
    {
      "cell_type": "markdown",
      "metadata": {
        "id": "CsNet3lAIukj"
      },
      "source": [
        "a를 pd.DataFrame()을 사용하여 데이터 프레임 구조로 변환시켰습니다."
      ]
    },
    {
      "cell_type": "code",
      "metadata": {
        "colab": {
          "base_uri": "https://localhost:8080/"
        },
        "id": "vTFh_8x5RqH4",
        "outputId": "a9151d66-6f44-491a-e550-4c84c18de195"
      },
      "source": [
        "#데이터프레임을 행렬로 변환\n",
        "df.values"
      ],
      "execution_count": null,
      "outputs": [
        {
          "output_type": "execute_result",
          "data": {
            "text/plain": [
              "array([[98, 41, 96, 32, 23, 29, 35, 97, 52, 27],\n",
              "       [89, 28, 45, 47, 69, 80, 90, 99, 95, 99],\n",
              "       [76, 50, 65, 57, 92, 45, 19, 13, 43, 94],\n",
              "       [16, 71, 82, 81, 48, 67, 34, 98, 78,  4],\n",
              "       [ 7, 48, 36, 81, 35, 51,  9, 38, 91, 84],\n",
              "       [89, 81, 82, 99, 93, 21, 83, 82, 85, 52],\n",
              "       [77, 29, 65, 79, 79, 41,  8, 50, 77, 48],\n",
              "       [93, 11, 12, 35, 91, 70,  7, 30, 13, 67],\n",
              "       [ 4,  3, 20, 41, 80, 89, 19,  5, 40,  3],\n",
              "       [11, 41, 17, 75, 12, 87, 28, 28,  7, 48]])"
            ]
          },
          "metadata": {},
          "execution_count": 68
        }
      ]
    },
    {
      "cell_type": "markdown",
      "metadata": {
        "id": "I1PpAhR6R7sm"
      },
      "source": [
        "values는 2차원 넘파이의 행렬 형태로 값을 얻을 수 있습니다.\n",
        "\n",
        "이상 가장 많이 사용되는 Pandas <-> Numpy 변환이었습니다."
      ]
    },
    {
      "cell_type": "code",
      "metadata": {
        "colab": {
          "base_uri": "https://localhost:8080/"
        },
        "id": "e1P-pqQ8SE_O",
        "outputId": "15c2ce5f-2975-422b-907b-5660facd4549"
      },
      "source": [
        "#리스트로 변환\n",
        "list(a)"
      ],
      "execution_count": null,
      "outputs": [
        {
          "output_type": "execute_result",
          "data": {
            "text/plain": [
              "[array([98, 41, 96, 32, 23, 29, 35, 97, 52, 27]),\n",
              " array([89, 28, 45, 47, 69, 80, 90, 99, 95, 99]),\n",
              " array([76, 50, 65, 57, 92, 45, 19, 13, 43, 94]),\n",
              " array([16, 71, 82, 81, 48, 67, 34, 98, 78,  4]),\n",
              " array([ 7, 48, 36, 81, 35, 51,  9, 38, 91, 84]),\n",
              " array([89, 81, 82, 99, 93, 21, 83, 82, 85, 52]),\n",
              " array([77, 29, 65, 79, 79, 41,  8, 50, 77, 48]),\n",
              " array([93, 11, 12, 35, 91, 70,  7, 30, 13, 67]),\n",
              " array([ 4,  3, 20, 41, 80, 89, 19,  5, 40,  3]),\n",
              " array([11, 41, 17, 75, 12, 87, 28, 28,  7, 48])]"
            ]
          },
          "metadata": {},
          "execution_count": 69
        }
      ]
    },
    {
      "cell_type": "markdown",
      "metadata": {
        "id": "JNS-GoBvJbKn"
      },
      "source": [
        "리스트 안에는 어떠한 자료형도 들어갈 수 있습니다.\n",
        "\n",
        "2차원 데이터인 a를 리스트로 변환시켰습니다.\n",
        "\n"
      ]
    },
    {
      "cell_type": "markdown",
      "metadata": {
        "id": "jrMQlD_ASG5c"
      },
      "source": [
        "**실습 : np.random.randint()기능으로 0 이상 9이하의 범위 내에서 랜덤 정수로 값을 뽑아 shape가 (3,4)인 행렬을 만들고 1번째 행 2번째 열의 값을 10으로 변경해보세요.**"
      ]
    },
    {
      "cell_type": "code",
      "metadata": {
        "id": "5w0mtxETSR-y",
        "colab": {
          "base_uri": "https://localhost:8080/"
        },
        "outputId": "1d1beed1-9aed-4087-d696-d4d538980fcf"
      },
      "source": [
        "result = np.random.randint(0,9, size=(3,4))\n",
        "result"
      ],
      "execution_count": null,
      "outputs": [
        {
          "output_type": "execute_result",
          "data": {
            "text/plain": [
              "array([[7, 3, 3, 5],\n",
              "       [0, 7, 0, 8],\n",
              "       [1, 1, 3, 1]])"
            ]
          },
          "metadata": {},
          "execution_count": 74
        }
      ]
    },
    {
      "cell_type": "code",
      "metadata": {
        "colab": {
          "base_uri": "https://localhost:8080/"
        },
        "id": "n3HPEmwCSZrT",
        "outputId": "bd13d44a-ac76-440e-cf2b-fb5fba02e71a"
      },
      "source": [
        "result[1,2]"
      ],
      "execution_count": null,
      "outputs": [
        {
          "output_type": "execute_result",
          "data": {
            "text/plain": [
              "0"
            ]
          },
          "metadata": {},
          "execution_count": 76
        }
      ]
    },
    {
      "cell_type": "code",
      "metadata": {
        "id": "gGudJDFeSg1u"
      },
      "source": [
        "result[1,2] = 10 "
      ],
      "execution_count": null,
      "outputs": []
    },
    {
      "cell_type": "code",
      "metadata": {
        "colab": {
          "base_uri": "https://localhost:8080/"
        },
        "id": "Qb5y8SBDSi4n",
        "outputId": "3b800ee5-1f5c-4066-d513-64c3e310be4b"
      },
      "source": [
        "result"
      ],
      "execution_count": null,
      "outputs": [
        {
          "output_type": "execute_result",
          "data": {
            "text/plain": [
              "array([[ 7,  3,  3,  5],\n",
              "       [ 0,  7, 10,  8],\n",
              "       [ 1,  1,  3,  1]])"
            ]
          },
          "metadata": {},
          "execution_count": 78
        }
      ]
    },
    {
      "cell_type": "markdown",
      "metadata": {
        "id": "ogA1qCCPSjrN"
      },
      "source": [
        "**실습 : np.random.randn()기능으로 100x100 Numpy 배열을 만들고 배열 내 0.5보다 작은 값이 몇개가 있는지 구해보세요.**"
      ]
    },
    {
      "cell_type": "code",
      "metadata": {
        "id": "DQaS7yGsr2fs"
      },
      "source": [
        "rand_mat = np.random.randn(100)"
      ],
      "execution_count": null,
      "outputs": []
    },
    {
      "cell_type": "code",
      "metadata": {
        "colab": {
          "base_uri": "https://localhost:8080/"
        },
        "id": "x1s-WQdps4k9",
        "outputId": "18e84b96-9f4b-4309-a458-232c66c73c2d"
      },
      "source": [
        "rand_mat"
      ],
      "execution_count": null,
      "outputs": [
        {
          "output_type": "execute_result",
          "data": {
            "text/plain": [
              "array([ 6.45784270e-01, -1.36090894e-01, -1.46282408e+00,  1.00495796e+00,\n",
              "       -1.24180854e+00,  9.17866670e-01, -6.22328508e-01,  1.87829832e+00,\n",
              "        1.10984018e+00,  4.80415101e-01,  1.67861911e+00, -9.05650056e-01,\n",
              "        1.17022047e+00,  6.14173223e-01, -4.80002495e-02, -1.21229821e+00,\n",
              "       -4.01790878e-01,  6.97721739e-01,  4.87809287e-01,  3.54853710e-01,\n",
              "       -7.69285458e-01, -7.95920862e-01, -1.38006751e+00,  8.32779148e-01,\n",
              "        1.68802983e+00,  1.55484587e+00,  1.48474375e+00, -2.28878126e-01,\n",
              "        5.90319098e-01, -2.40275940e+00, -1.98612371e-01, -1.04316517e+00,\n",
              "        2.41718340e-01, -2.55027838e+00, -4.70635096e-01,  1.49083019e+00,\n",
              "        1.73648076e-01,  7.44703396e-01,  1.40406369e+00, -2.78319052e-01,\n",
              "       -3.35302976e-01,  4.01704638e-01, -7.77296785e-01,  4.02188054e-01,\n",
              "       -6.26156247e-02, -1.70292537e+00,  1.20958122e+00, -1.30098171e+00,\n",
              "        6.03400734e-01,  8.64018497e-01, -2.30534148e-01,  3.01491639e-01,\n",
              "        1.83367940e+00, -5.31644915e-02, -6.00628778e-01, -1.73864449e+00,\n",
              "        9.44554862e-01, -1.14087053e+00,  5.51481273e-01, -5.40052898e-01,\n",
              "        1.31265830e+00,  1.25497366e+00,  1.28621127e+00, -2.36691726e+00,\n",
              "        1.42792612e+00,  7.84371892e-01,  6.31343034e-01, -4.60782830e-01,\n",
              "        5.86233596e-02,  1.38791791e+00,  1.70851759e-01, -3.52768396e-01,\n",
              "        5.79190214e-01, -6.05228211e-01,  1.91114283e+00,  6.47363442e-01,\n",
              "       -1.07682081e-01, -6.52598337e-03, -5.45465822e-01, -5.80041442e-05,\n",
              "       -1.87205786e+00, -2.09481128e-01,  6.35501649e-01, -4.73651574e-01,\n",
              "       -9.29343794e-01,  7.08255970e-01,  8.03025193e-01, -1.16774422e-01,\n",
              "       -6.05940955e-01,  9.12528110e-01, -3.60545779e-01,  5.06567494e-01,\n",
              "       -1.76308342e-01,  5.13639587e-01, -6.03046304e-01,  3.32856343e-02,\n",
              "        3.26785882e-02,  4.61968157e-01, -5.70564948e-01,  1.96497050e-01])"
            ]
          },
          "metadata": {},
          "execution_count": 86
        }
      ]
    },
    {
      "cell_type": "code",
      "metadata": {
        "colab": {
          "base_uri": "https://localhost:8080/"
        },
        "id": "70ukqTwxS63K",
        "outputId": "8708cc09-e0cc-4e34-c675-8f1c9261112b"
      },
      "source": [
        "(rand_mat<0.5).sum()"
      ],
      "execution_count": null,
      "outputs": [
        {
          "output_type": "execute_result",
          "data": {
            "text/plain": [
              "61"
            ]
          },
          "metadata": {},
          "execution_count": 87
        }
      ]
    },
    {
      "cell_type": "markdown",
      "metadata": {
        "id": "GhldSHnQTAqH"
      },
      "source": [
        "# Pandas"
      ]
    },
    {
      "cell_type": "markdown",
      "metadata": {
        "id": "WJqR_XXjTQih"
      },
      "source": [
        "파이썬의 기본 자료형에는 테이블 형태의 데이터 프레임이 없습니다.\n",
        "\n",
        "우리가 다루는 정형 데이터는 대부분 데이터 프레임 형태입니다.(DB테이블, 엑셀, CSV 등)\n",
        "\n",
        "파이썬 만으로는 데이터 프레임을 다루기 힘드나 Pandas 패키지를 통하여 데이터 프레임을 조작할 수 있습니다.\n",
        "\n",
        "직관적으로 얘기하면 **\"테이블 형태의 데이터 프레임을 조작하기 위한 도구\"**입니다."
      ]
    },
    {
      "cell_type": "code",
      "metadata": {
        "id": "nn2GzTPqZcgL"
      },
      "source": [
        "#Pandas 패키지를 pd로 사용\n",
        "import pandas as pd"
      ],
      "execution_count": null,
      "outputs": []
    },
    {
      "cell_type": "markdown",
      "metadata": {
        "id": "KMd-1aFRZHkD"
      },
      "source": [
        "Numpy와 함께 자주 보시게 될 코드입니다.\n",
        "\n",
        "대부분의 데이터 분석에서 활용되는 Pandas 패키지를 pd로 임포트합니다."
      ]
    },
    {
      "cell_type": "code",
      "metadata": {
        "id": "69u92D86aKSP"
      },
      "source": [
        "#데이터 프레임 생성\n",
        "data = pd.DataFrame()"
      ],
      "execution_count": null,
      "outputs": []
    },
    {
      "cell_type": "markdown",
      "metadata": {
        "id": "FcV9xsHkKnSY"
      },
      "source": [
        "pd.DataFrame()을 사용하여 데이터 프레임을 생성합니다."
      ]
    },
    {
      "cell_type": "code",
      "metadata": {
        "colab": {
          "base_uri": "https://localhost:8080/",
          "height": 32
        },
        "id": "PAO3eGgJaJsr",
        "outputId": "fada9221-5dda-4214-f77c-e52287f69fda"
      },
      "source": [
        "data"
      ],
      "execution_count": null,
      "outputs": [
        {
          "output_type": "execute_result",
          "data": {
            "text/html": [
              "<div>\n",
              "<style scoped>\n",
              "    .dataframe tbody tr th:only-of-type {\n",
              "        vertical-align: middle;\n",
              "    }\n",
              "\n",
              "    .dataframe tbody tr th {\n",
              "        vertical-align: top;\n",
              "    }\n",
              "\n",
              "    .dataframe thead th {\n",
              "        text-align: right;\n",
              "    }\n",
              "</style>\n",
              "<table border=\"1\" class=\"dataframe\">\n",
              "  <thead>\n",
              "    <tr style=\"text-align: right;\">\n",
              "      <th></th>\n",
              "    </tr>\n",
              "  </thead>\n",
              "  <tbody>\n",
              "  </tbody>\n",
              "</table>\n",
              "</div>"
            ],
            "text/plain": [
              "Empty DataFrame\n",
              "Columns: []\n",
              "Index: []"
            ]
          },
          "metadata": {},
          "execution_count": 90
        }
      ]
    },
    {
      "cell_type": "markdown",
      "metadata": {
        "id": "JeaJaSymLXDw"
      },
      "source": [
        "데이터 프레임 구조이지만 아무런 값을 입력하지 않았기 때문에 빈 값이 출력됩니다.\n",
        "\n",
        "이제 이 데이터 프레임에 값을 채워넣겠습니다."
      ]
    },
    {
      "cell_type": "code",
      "metadata": {
        "id": "9TPPtrkMaPsO"
      },
      "source": [
        "#데이터 프레임 칼럼에 들어갈 리스트\n",
        "col_list = [\"id\",\"name\",\"gender\"]"
      ],
      "execution_count": null,
      "outputs": []
    },
    {
      "cell_type": "markdown",
      "metadata": {
        "id": "vPFulfg2L08V"
      },
      "source": [
        "id, name, gender이라는 칼럼에 설정할 데이터들을 생성했습니다."
      ]
    },
    {
      "cell_type": "code",
      "metadata": {
        "id": "FFHyDEgsrcZy"
      },
      "source": [
        "#칼럼 부여\n",
        "data = pd.DataFrame(columns=col_list)"
      ],
      "execution_count": null,
      "outputs": []
    },
    {
      "cell_type": "code",
      "metadata": {
        "colab": {
          "base_uri": "https://localhost:8080/",
          "height": 49
        },
        "id": "O45Tcu1Erh7E",
        "outputId": "b01e1246-e3c2-4e79-b78b-43f4e19c1fb5"
      },
      "source": [
        "data"
      ],
      "execution_count": null,
      "outputs": [
        {
          "output_type": "execute_result",
          "data": {
            "text/html": [
              "<div>\n",
              "<style scoped>\n",
              "    .dataframe tbody tr th:only-of-type {\n",
              "        vertical-align: middle;\n",
              "    }\n",
              "\n",
              "    .dataframe tbody tr th {\n",
              "        vertical-align: top;\n",
              "    }\n",
              "\n",
              "    .dataframe thead th {\n",
              "        text-align: right;\n",
              "    }\n",
              "</style>\n",
              "<table border=\"1\" class=\"dataframe\">\n",
              "  <thead>\n",
              "    <tr style=\"text-align: right;\">\n",
              "      <th></th>\n",
              "      <th>id</th>\n",
              "      <th>name</th>\n",
              "      <th>gender</th>\n",
              "    </tr>\n",
              "  </thead>\n",
              "  <tbody>\n",
              "  </tbody>\n",
              "</table>\n",
              "</div>"
            ],
            "text/plain": [
              "Empty DataFrame\n",
              "Columns: [id, name, gender]\n",
              "Index: []"
            ]
          },
          "metadata": {},
          "execution_count": 93
        }
      ]
    },
    {
      "cell_type": "markdown",
      "metadata": {
        "id": "NaZ7Ul69rw-N"
      },
      "source": [
        "pd.DataFrame()의 파라미터 중 columns은 칼럼명을 설정하는데 사용합니다.\n",
        "\n",
        "data 변수에 칼럼이 추가된 것을 확인할 수 있습니다."
      ]
    },
    {
      "cell_type": "code",
      "metadata": {
        "id": "_XPDpnStaxKc"
      },
      "source": [
        "data = pd.DataFrame(data = [[1,\"Lee\",\"M\"],[2,\"Lee\",\"M\"],[3,\"Kim\",\"F\"]], columns=col_list)"
      ],
      "execution_count": null,
      "outputs": []
    },
    {
      "cell_type": "code",
      "metadata": {
        "colab": {
          "base_uri": "https://localhost:8080/",
          "height": 143
        },
        "id": "iJqApoLJbHDj",
        "outputId": "147e830b-72d5-42a6-9e4e-0afc3d8218bc"
      },
      "source": [
        "data"
      ],
      "execution_count": null,
      "outputs": [
        {
          "output_type": "execute_result",
          "data": {
            "text/html": [
              "<div>\n",
              "<style scoped>\n",
              "    .dataframe tbody tr th:only-of-type {\n",
              "        vertical-align: middle;\n",
              "    }\n",
              "\n",
              "    .dataframe tbody tr th {\n",
              "        vertical-align: top;\n",
              "    }\n",
              "\n",
              "    .dataframe thead th {\n",
              "        text-align: right;\n",
              "    }\n",
              "</style>\n",
              "<table border=\"1\" class=\"dataframe\">\n",
              "  <thead>\n",
              "    <tr style=\"text-align: right;\">\n",
              "      <th></th>\n",
              "      <th>id</th>\n",
              "      <th>name</th>\n",
              "      <th>gender</th>\n",
              "    </tr>\n",
              "  </thead>\n",
              "  <tbody>\n",
              "    <tr>\n",
              "      <th>0</th>\n",
              "      <td>1</td>\n",
              "      <td>Lee</td>\n",
              "      <td>M</td>\n",
              "    </tr>\n",
              "    <tr>\n",
              "      <th>1</th>\n",
              "      <td>2</td>\n",
              "      <td>Lee</td>\n",
              "      <td>M</td>\n",
              "    </tr>\n",
              "    <tr>\n",
              "      <th>2</th>\n",
              "      <td>3</td>\n",
              "      <td>Kim</td>\n",
              "      <td>F</td>\n",
              "    </tr>\n",
              "  </tbody>\n",
              "</table>\n",
              "</div>"
            ],
            "text/plain": [
              "   id name gender\n",
              "0   1  Lee      M\n",
              "1   2  Lee      M\n",
              "2   3  Kim      F"
            ]
          },
          "metadata": {},
          "execution_count": 96
        }
      ]
    },
    {
      "cell_type": "markdown",
      "metadata": {
        "id": "nm8x4kLubHgz"
      },
      "source": [
        "하나의 행을 리스트 형태로 붙이면 커스텀 데이터 프레임을 생성할 수 있습니다.\n"
      ]
    },
    {
      "cell_type": "code",
      "metadata": {
        "colab": {
          "base_uri": "https://localhost:8080/"
        },
        "id": "YZ8Usg5ubThp",
        "outputId": "0cde8fde-73f9-4f1e-89a4-8a479d030449"
      },
      "source": [
        "type(data)"
      ],
      "execution_count": null,
      "outputs": [
        {
          "output_type": "execute_result",
          "data": {
            "text/plain": [
              "pandas.core.frame.DataFrame"
            ]
          },
          "metadata": {},
          "execution_count": 97
        }
      ]
    },
    {
      "cell_type": "code",
      "metadata": {
        "colab": {
          "base_uri": "https://localhost:8080/"
        },
        "id": "fYT8N6a_bUuK",
        "outputId": "519455ed-5e46-42b1-f235-b2f9c07dc726"
      },
      "source": [
        "data.shape"
      ],
      "execution_count": null,
      "outputs": [
        {
          "output_type": "execute_result",
          "data": {
            "text/plain": [
              "(3, 3)"
            ]
          },
          "metadata": {},
          "execution_count": 98
        }
      ]
    },
    {
      "cell_type": "markdown",
      "metadata": {
        "id": "NF96z3mAbW34"
      },
      "source": [
        "shape 기능은 다양한 데이터 형식에 대한 데이터 프레임 사이즈를 표현해줍니다.\n",
        "\n",
        "딥러닝 모델 입력 시 아주 유용하게 활용됩니다."
      ]
    },
    {
      "cell_type": "code",
      "metadata": {
        "id": "W-uXy38bqqRD"
      },
      "source": [
        "data_dict = {\"id\" : [1,2,3], \"name\" : [\"Lee\",\"Lee\",\"Kim\"], \"gender\" : [\"M\",\"M\",\"F\"]}"
      ],
      "execution_count": null,
      "outputs": []
    },
    {
      "cell_type": "code",
      "metadata": {
        "id": "PDDzNkYxq3ck"
      },
      "source": [
        "#딕셔너리 형태로 데이터 프레임 생성\n",
        "data = pd.DataFrame(data = data_dict)"
      ],
      "execution_count": null,
      "outputs": []
    },
    {
      "cell_type": "code",
      "metadata": {
        "colab": {
          "base_uri": "https://localhost:8080/",
          "height": 143
        },
        "id": "GxAtrgW6q7tZ",
        "outputId": "c0aae125-0f1d-4daf-b25c-c41453d6f31d"
      },
      "source": [
        "data"
      ],
      "execution_count": null,
      "outputs": [
        {
          "output_type": "execute_result",
          "data": {
            "text/html": [
              "<div>\n",
              "<style scoped>\n",
              "    .dataframe tbody tr th:only-of-type {\n",
              "        vertical-align: middle;\n",
              "    }\n",
              "\n",
              "    .dataframe tbody tr th {\n",
              "        vertical-align: top;\n",
              "    }\n",
              "\n",
              "    .dataframe thead th {\n",
              "        text-align: right;\n",
              "    }\n",
              "</style>\n",
              "<table border=\"1\" class=\"dataframe\">\n",
              "  <thead>\n",
              "    <tr style=\"text-align: right;\">\n",
              "      <th></th>\n",
              "      <th>id</th>\n",
              "      <th>name</th>\n",
              "      <th>gender</th>\n",
              "    </tr>\n",
              "  </thead>\n",
              "  <tbody>\n",
              "    <tr>\n",
              "      <th>0</th>\n",
              "      <td>1</td>\n",
              "      <td>Lee</td>\n",
              "      <td>M</td>\n",
              "    </tr>\n",
              "    <tr>\n",
              "      <th>1</th>\n",
              "      <td>2</td>\n",
              "      <td>Lee</td>\n",
              "      <td>M</td>\n",
              "    </tr>\n",
              "    <tr>\n",
              "      <th>2</th>\n",
              "      <td>3</td>\n",
              "      <td>Kim</td>\n",
              "      <td>F</td>\n",
              "    </tr>\n",
              "  </tbody>\n",
              "</table>\n",
              "</div>"
            ],
            "text/plain": [
              "   id name gender\n",
              "0   1  Lee      M\n",
              "1   2  Lee      M\n",
              "2   3  Kim      F"
            ]
          },
          "metadata": {},
          "execution_count": 102
        }
      ]
    },
    {
      "cell_type": "markdown",
      "metadata": {
        "id": "tMxRWoiG1WST"
      },
      "source": [
        "딕셔너리 자료형 형태로도 칼럼명에 따른 value들을 입력할 수 있습니다."
      ]
    },
    {
      "cell_type": "code",
      "metadata": {
        "id": "e8lNcVoOuD_v"
      },
      "source": [
        "#딕셔너리 구조 생성\n",
        "dict1 = {}"
      ],
      "execution_count": null,
      "outputs": []
    },
    {
      "cell_type": "code",
      "metadata": {
        "id": "FNJNRzwguF7U"
      },
      "source": [
        "#key, value값 설정\n",
        "dict1[\"id\"] = [1,2,3]\n",
        "dict1[\"name\"] = [\"Lee\",\"Lee\",\"Kim\",\"Kang\"]\n",
        "dict1[\"gender\"] = [\"M\",\"M\",\"F\"]"
      ],
      "execution_count": null,
      "outputs": []
    },
    {
      "cell_type": "code",
      "metadata": {
        "colab": {
          "base_uri": "https://localhost:8080/"
        },
        "id": "2C-BReaVuUFz",
        "outputId": "b0eb234e-fe8c-4458-821e-df8e42b0cd5e"
      },
      "source": [
        "dict1"
      ],
      "execution_count": null,
      "outputs": [
        {
          "output_type": "execute_result",
          "data": {
            "text/plain": [
              "{'gender': ['M', 'M', 'F'],\n",
              " 'id': [1, 2, 3],\n",
              " 'name': ['Lee', 'Lee', 'Kim', 'Kang']}"
            ]
          },
          "metadata": {},
          "execution_count": 106
        }
      ]
    },
    {
      "cell_type": "code",
      "metadata": {
        "id": "9zvjVdR6uXh6"
      },
      "source": [
        "data = pd.DataFrame()"
      ],
      "execution_count": null,
      "outputs": []
    },
    {
      "cell_type": "code",
      "metadata": {
        "id": "ibaPSagaq8ic"
      },
      "source": [
        "data[\"id\"] = [1,2,3]\n",
        "data[\"name\"] = [\"Lee\",\"Lee\",\"Kim\"]\n",
        "data[\"gender\"] = [\"M\",\"M\",\"F\"]"
      ],
      "execution_count": null,
      "outputs": []
    },
    {
      "cell_type": "code",
      "metadata": {
        "colab": {
          "base_uri": "https://localhost:8080/",
          "height": 143
        },
        "id": "-P10nLvZ1L6l",
        "outputId": "17d28394-896e-4477-9ab5-69372caf18d9"
      },
      "source": [
        "data"
      ],
      "execution_count": null,
      "outputs": [
        {
          "output_type": "execute_result",
          "data": {
            "text/html": [
              "<div>\n",
              "<style scoped>\n",
              "    .dataframe tbody tr th:only-of-type {\n",
              "        vertical-align: middle;\n",
              "    }\n",
              "\n",
              "    .dataframe tbody tr th {\n",
              "        vertical-align: top;\n",
              "    }\n",
              "\n",
              "    .dataframe thead th {\n",
              "        text-align: right;\n",
              "    }\n",
              "</style>\n",
              "<table border=\"1\" class=\"dataframe\">\n",
              "  <thead>\n",
              "    <tr style=\"text-align: right;\">\n",
              "      <th></th>\n",
              "      <th>id</th>\n",
              "      <th>name</th>\n",
              "      <th>gender</th>\n",
              "    </tr>\n",
              "  </thead>\n",
              "  <tbody>\n",
              "    <tr>\n",
              "      <th>0</th>\n",
              "      <td>1</td>\n",
              "      <td>Lee</td>\n",
              "      <td>M</td>\n",
              "    </tr>\n",
              "    <tr>\n",
              "      <th>1</th>\n",
              "      <td>2</td>\n",
              "      <td>Lee</td>\n",
              "      <td>M</td>\n",
              "    </tr>\n",
              "    <tr>\n",
              "      <th>2</th>\n",
              "      <td>3</td>\n",
              "      <td>Kim</td>\n",
              "      <td>F</td>\n",
              "    </tr>\n",
              "  </tbody>\n",
              "</table>\n",
              "</div>"
            ],
            "text/plain": [
              "   id name gender\n",
              "0   1  Lee      M\n",
              "1   2  Lee      M\n",
              "2   3  Kim      F"
            ]
          },
          "metadata": {},
          "execution_count": 109
        }
      ]
    },
    {
      "cell_type": "markdown",
      "metadata": {
        "id": "O6DfyYvcrPn-"
      },
      "source": [
        "Pandas도 딕셔너리처럼 Key에 칼럼명, Value에 데이터값을 불러올 수 있습니다."
      ]
    },
    {
      "cell_type": "code",
      "metadata": {
        "colab": {
          "base_uri": "https://localhost:8080/"
        },
        "id": "ILi0w_M51SIS",
        "outputId": "73e7ea7a-d2d6-4904-a5e4-0fadf5ba31c6"
      },
      "source": [
        "#칼럼값 조회\n",
        "data['name']"
      ],
      "execution_count": null,
      "outputs": [
        {
          "output_type": "execute_result",
          "data": {
            "text/plain": [
              "0    Lee\n",
              "1    Lee\n",
              "2    Kim\n",
              "Name: name, dtype: object"
            ]
          },
          "metadata": {},
          "execution_count": 110
        }
      ]
    },
    {
      "cell_type": "code",
      "metadata": {
        "colab": {
          "base_uri": "https://localhost:8080/"
        },
        "id": "4Y1Pfr0G1uzw",
        "outputId": "ae72331b-71d2-4aa7-e95a-be785a1aa1c9"
      },
      "source": [
        "type(data['id'])"
      ],
      "execution_count": null,
      "outputs": [
        {
          "output_type": "execute_result",
          "data": {
            "text/plain": [
              "pandas.core.series.Series"
            ]
          },
          "metadata": {},
          "execution_count": 111
        }
      ]
    },
    {
      "cell_type": "code",
      "metadata": {
        "colab": {
          "base_uri": "https://localhost:8080/"
        },
        "id": "tDckunby18RK",
        "outputId": "398a019f-acdd-498b-b647-fb2cf662248d"
      },
      "source": [
        "type(data[['id']])"
      ],
      "execution_count": null,
      "outputs": [
        {
          "output_type": "execute_result",
          "data": {
            "text/plain": [
              "pandas.core.frame.DataFrame"
            ]
          },
          "metadata": {},
          "execution_count": 83
        }
      ]
    },
    {
      "cell_type": "markdown",
      "metadata": {
        "id": "Bqs4Q_ht19kX"
      },
      "source": [
        "Pandas에서 하나의 칼럼을 지정하는 것을 시리즈(Series)라고 합니다.\n",
        "\n",
        "가끔 시리즈라서 데이터 처리가 되지 않는 오류가 발생하는데, 데이터 프레임 형태로 만들어주면 해결됩니다."
      ]
    },
    {
      "cell_type": "code",
      "metadata": {
        "colab": {
          "base_uri": "https://localhost:8080/",
          "height": 143
        },
        "id": "LgJspOBk2Kld",
        "outputId": "283bcdfa-f6ce-4ad2-a2e3-ff82f9ebe1dc"
      },
      "source": [
        "data[['id']]"
      ],
      "execution_count": null,
      "outputs": [
        {
          "output_type": "execute_result",
          "data": {
            "text/html": [
              "<div>\n",
              "<style scoped>\n",
              "    .dataframe tbody tr th:only-of-type {\n",
              "        vertical-align: middle;\n",
              "    }\n",
              "\n",
              "    .dataframe tbody tr th {\n",
              "        vertical-align: top;\n",
              "    }\n",
              "\n",
              "    .dataframe thead th {\n",
              "        text-align: right;\n",
              "    }\n",
              "</style>\n",
              "<table border=\"1\" class=\"dataframe\">\n",
              "  <thead>\n",
              "    <tr style=\"text-align: right;\">\n",
              "      <th></th>\n",
              "      <th>id</th>\n",
              "    </tr>\n",
              "  </thead>\n",
              "  <tbody>\n",
              "    <tr>\n",
              "      <th>0</th>\n",
              "      <td>1</td>\n",
              "    </tr>\n",
              "    <tr>\n",
              "      <th>1</th>\n",
              "      <td>2</td>\n",
              "    </tr>\n",
              "    <tr>\n",
              "      <th>2</th>\n",
              "      <td>3</td>\n",
              "    </tr>\n",
              "  </tbody>\n",
              "</table>\n",
              "</div>"
            ],
            "text/plain": [
              "   id\n",
              "0   1\n",
              "1   2\n",
              "2   3"
            ]
          },
          "metadata": {},
          "execution_count": 112
        }
      ]
    },
    {
      "cell_type": "code",
      "metadata": {
        "colab": {
          "base_uri": "https://localhost:8080/"
        },
        "id": "qgMwR7LC2MV8",
        "outputId": "fc68f514-737f-4ff7-8fa8-63dc0aa07cc9"
      },
      "source": [
        "type(data[['id']])"
      ],
      "execution_count": null,
      "outputs": [
        {
          "output_type": "execute_result",
          "data": {
            "text/plain": [
              "pandas.core.frame.DataFrame"
            ]
          },
          "metadata": {},
          "execution_count": 113
        }
      ]
    },
    {
      "cell_type": "markdown",
      "metadata": {
        "id": "rd7gWHjS2Ozv"
      },
      "source": [
        "## pd.concat()"
      ]
    },
    {
      "cell_type": "markdown",
      "metadata": {
        "id": "I-FEG3FZ2ZVZ"
      },
      "source": [
        "concatnate란 사전적 의미로 \"합치다\"라는 뜻입니다.\n",
        "\n",
        "pd.concat()기능은 여러 개의 Pandas 데이터 프레임을 병합할 수 있습니다."
      ]
    },
    {
      "cell_type": "code",
      "metadata": {
        "id": "aSFvx8Cq2nru"
      },
      "source": [
        "d1 = pd.Series([1,2,3,4])"
      ],
      "execution_count": null,
      "outputs": []
    },
    {
      "cell_type": "code",
      "metadata": {
        "colab": {
          "base_uri": "https://localhost:8080/"
        },
        "id": "EbnAX4wz2qap",
        "outputId": "0de6ea6b-2dbc-47e6-bb02-1d3422ab48a9"
      },
      "source": [
        "d1"
      ],
      "execution_count": null,
      "outputs": [
        {
          "output_type": "execute_result",
          "data": {
            "text/plain": [
              "0    1\n",
              "1    2\n",
              "2    3\n",
              "3    4\n",
              "dtype: int64"
            ]
          },
          "metadata": {},
          "execution_count": 115
        }
      ]
    },
    {
      "cell_type": "code",
      "metadata": {
        "id": "HQYaQfGQ2q1s"
      },
      "source": [
        "d2 = pd.Series([\"가\",\"나\",\"다\",\"라\"])"
      ],
      "execution_count": null,
      "outputs": []
    },
    {
      "cell_type": "code",
      "metadata": {
        "colab": {
          "base_uri": "https://localhost:8080/"
        },
        "id": "BpINOVWh2wGz",
        "outputId": "dd8d7f8f-c47c-4050-838c-f12352fb8205"
      },
      "source": [
        "d2"
      ],
      "execution_count": null,
      "outputs": [
        {
          "output_type": "execute_result",
          "data": {
            "text/plain": [
              "0    가\n",
              "1    나\n",
              "2    다\n",
              "3    라\n",
              "dtype: object"
            ]
          },
          "metadata": {},
          "execution_count": 117
        }
      ]
    },
    {
      "cell_type": "code",
      "metadata": {
        "id": "Dix0rjxq2wnE"
      },
      "source": [
        "#두 데이터 프레임을 세로로 병합\n",
        "d1_d2 = pd.concat([d1,d2])"
      ],
      "execution_count": null,
      "outputs": []
    },
    {
      "cell_type": "code",
      "metadata": {
        "colab": {
          "base_uri": "https://localhost:8080/"
        },
        "id": "pZqEWm6Z209a",
        "outputId": "0776af5f-b027-45e1-841e-84d6809081be"
      },
      "source": [
        "d1_d2"
      ],
      "execution_count": null,
      "outputs": [
        {
          "output_type": "execute_result",
          "data": {
            "text/plain": [
              "0    1\n",
              "1    2\n",
              "2    3\n",
              "3    4\n",
              "0    가\n",
              "1    나\n",
              "2    다\n",
              "3    라\n",
              "dtype: object"
            ]
          },
          "metadata": {},
          "execution_count": 120
        }
      ]
    },
    {
      "cell_type": "markdown",
      "metadata": {
        "id": "1yWEnF_62146"
      },
      "source": [
        "d1과 d2 시리즈 형태의 데이터가 세로로 붙었습니다.\n",
        "\n",
        "pd.concat()는 데이터를 기본적으로 세로로 붙입니다."
      ]
    },
    {
      "cell_type": "code",
      "metadata": {
        "id": "DXzAMr7i3D1l"
      },
      "source": [
        "#두 데이터 프레임을 가로로 병합\n",
        "d1_d2 = pd.concat([d1,d2], axis=1)"
      ],
      "execution_count": null,
      "outputs": []
    },
    {
      "cell_type": "code",
      "metadata": {
        "colab": {
          "base_uri": "https://localhost:8080/",
          "height": 175
        },
        "id": "fAsKVsgU3HXs",
        "outputId": "b7fa9c9a-c3e8-4706-cac6-d449116be2d1"
      },
      "source": [
        "d1_d2"
      ],
      "execution_count": null,
      "outputs": [
        {
          "output_type": "execute_result",
          "data": {
            "text/html": [
              "<div>\n",
              "<style scoped>\n",
              "    .dataframe tbody tr th:only-of-type {\n",
              "        vertical-align: middle;\n",
              "    }\n",
              "\n",
              "    .dataframe tbody tr th {\n",
              "        vertical-align: top;\n",
              "    }\n",
              "\n",
              "    .dataframe thead th {\n",
              "        text-align: right;\n",
              "    }\n",
              "</style>\n",
              "<table border=\"1\" class=\"dataframe\">\n",
              "  <thead>\n",
              "    <tr style=\"text-align: right;\">\n",
              "      <th></th>\n",
              "      <th>0</th>\n",
              "      <th>1</th>\n",
              "    </tr>\n",
              "  </thead>\n",
              "  <tbody>\n",
              "    <tr>\n",
              "      <th>0</th>\n",
              "      <td>1</td>\n",
              "      <td>가</td>\n",
              "    </tr>\n",
              "    <tr>\n",
              "      <th>1</th>\n",
              "      <td>2</td>\n",
              "      <td>나</td>\n",
              "    </tr>\n",
              "    <tr>\n",
              "      <th>2</th>\n",
              "      <td>3</td>\n",
              "      <td>다</td>\n",
              "    </tr>\n",
              "    <tr>\n",
              "      <th>3</th>\n",
              "      <td>4</td>\n",
              "      <td>라</td>\n",
              "    </tr>\n",
              "  </tbody>\n",
              "</table>\n",
              "</div>"
            ],
            "text/plain": [
              "   0  1\n",
              "0  1  가\n",
              "1  2  나\n",
              "2  3  다\n",
              "3  4  라"
            ]
          },
          "metadata": {},
          "execution_count": 122
        }
      ]
    },
    {
      "cell_type": "markdown",
      "metadata": {
        "id": "09hdOAgN3IlY"
      },
      "source": [
        "디폴트 파라미터가 세로로 설정되어 있지만 axis 값을 1로 변경하면 데이터를 가로로 병합합니다.\n",
        "\n",
        "axis 파라미터 기능은 다른 기능에서도 많이 활용되기 때문에 기억해두시면 좋습니다."
      ]
    },
    {
      "cell_type": "code",
      "metadata": {
        "colab": {
          "base_uri": "https://localhost:8080/"
        },
        "id": "ug4kPlV93Xbq",
        "outputId": "29bf7068-88ef-4fa9-b15e-ed11acd096ee"
      },
      "source": [
        "#첫번째 칼럼 조회\n",
        "d1_d2[0]"
      ],
      "execution_count": null,
      "outputs": [
        {
          "output_type": "execute_result",
          "data": {
            "text/plain": [
              "0    1\n",
              "1    2\n",
              "2    3\n",
              "3    4\n",
              "Name: 0, dtype: int64"
            ]
          },
          "metadata": {},
          "execution_count": 123
        }
      ]
    },
    {
      "cell_type": "code",
      "metadata": {
        "colab": {
          "base_uri": "https://localhost:8080/"
        },
        "id": "9zFwSaH_4Ape",
        "outputId": "062d8c4b-682b-4327-8228-2bbdab84c473"
      },
      "source": [
        "#두번째 칼럼 조회\n",
        "d1_d2[1]"
      ],
      "execution_count": null,
      "outputs": [
        {
          "output_type": "execute_result",
          "data": {
            "text/plain": [
              "0    가\n",
              "1    나\n",
              "2    다\n",
              "3    라\n",
              "Name: 1, dtype: object"
            ]
          },
          "metadata": {},
          "execution_count": 124
        }
      ]
    },
    {
      "cell_type": "code",
      "metadata": {
        "id": "u-9L5zq84Dby"
      },
      "source": [
        "#데이터 프레임 생성 - 1\n",
        "data1 = pd.DataFrame()\n",
        "data1[\"id\"] = [1,2,3]\n",
        "data1[\"name\"] = [\"Lee\",\"Lee\",\"Kim\"]\n",
        "data1[\"gender\"] = [\"M\",\"M\",\"F\"]"
      ],
      "execution_count": null,
      "outputs": []
    },
    {
      "cell_type": "code",
      "metadata": {
        "colab": {
          "base_uri": "https://localhost:8080/",
          "height": 143
        },
        "id": "VJDmexWE4PyZ",
        "outputId": "84030311-77cc-4e5f-c52a-ec95a6ab43d0"
      },
      "source": [
        "data1"
      ],
      "execution_count": null,
      "outputs": [
        {
          "output_type": "execute_result",
          "data": {
            "text/html": [
              "<div>\n",
              "<style scoped>\n",
              "    .dataframe tbody tr th:only-of-type {\n",
              "        vertical-align: middle;\n",
              "    }\n",
              "\n",
              "    .dataframe tbody tr th {\n",
              "        vertical-align: top;\n",
              "    }\n",
              "\n",
              "    .dataframe thead th {\n",
              "        text-align: right;\n",
              "    }\n",
              "</style>\n",
              "<table border=\"1\" class=\"dataframe\">\n",
              "  <thead>\n",
              "    <tr style=\"text-align: right;\">\n",
              "      <th></th>\n",
              "      <th>id</th>\n",
              "      <th>name</th>\n",
              "      <th>gender</th>\n",
              "    </tr>\n",
              "  </thead>\n",
              "  <tbody>\n",
              "    <tr>\n",
              "      <th>0</th>\n",
              "      <td>1</td>\n",
              "      <td>Lee</td>\n",
              "      <td>M</td>\n",
              "    </tr>\n",
              "    <tr>\n",
              "      <th>1</th>\n",
              "      <td>2</td>\n",
              "      <td>Lee</td>\n",
              "      <td>M</td>\n",
              "    </tr>\n",
              "    <tr>\n",
              "      <th>2</th>\n",
              "      <td>3</td>\n",
              "      <td>Kim</td>\n",
              "      <td>F</td>\n",
              "    </tr>\n",
              "  </tbody>\n",
              "</table>\n",
              "</div>"
            ],
            "text/plain": [
              "   id name gender\n",
              "0   1  Lee      M\n",
              "1   2  Lee      M\n",
              "2   3  Kim      F"
            ]
          },
          "metadata": {},
          "execution_count": 129
        }
      ]
    },
    {
      "cell_type": "code",
      "metadata": {
        "id": "j9BJaakd4QYo"
      },
      "source": [
        "#데이터 프레임 생성 - 2\n",
        "data2 = pd.DataFrame()\n",
        "data2[\"id\"] = [4,5,6]\n",
        "data2[\"name\"] = [\"Park\",\"Lee\",\"Kim\"]\n",
        "data2[\"gender\"] = [\"F\", \"M\", \"F\"]"
      ],
      "execution_count": null,
      "outputs": []
    },
    {
      "cell_type": "code",
      "metadata": {
        "colab": {
          "base_uri": "https://localhost:8080/",
          "height": 143
        },
        "id": "p6iLD2bL4wQA",
        "outputId": "a478a633-8f6e-45d8-98ac-118823029f7b"
      },
      "source": [
        "data2"
      ],
      "execution_count": null,
      "outputs": [
        {
          "output_type": "execute_result",
          "data": {
            "text/html": [
              "<div>\n",
              "<style scoped>\n",
              "    .dataframe tbody tr th:only-of-type {\n",
              "        vertical-align: middle;\n",
              "    }\n",
              "\n",
              "    .dataframe tbody tr th {\n",
              "        vertical-align: top;\n",
              "    }\n",
              "\n",
              "    .dataframe thead th {\n",
              "        text-align: right;\n",
              "    }\n",
              "</style>\n",
              "<table border=\"1\" class=\"dataframe\">\n",
              "  <thead>\n",
              "    <tr style=\"text-align: right;\">\n",
              "      <th></th>\n",
              "      <th>id</th>\n",
              "      <th>name</th>\n",
              "      <th>gender</th>\n",
              "    </tr>\n",
              "  </thead>\n",
              "  <tbody>\n",
              "    <tr>\n",
              "      <th>0</th>\n",
              "      <td>4</td>\n",
              "      <td>Park</td>\n",
              "      <td>F</td>\n",
              "    </tr>\n",
              "    <tr>\n",
              "      <th>1</th>\n",
              "      <td>5</td>\n",
              "      <td>Lee</td>\n",
              "      <td>M</td>\n",
              "    </tr>\n",
              "    <tr>\n",
              "      <th>2</th>\n",
              "      <td>6</td>\n",
              "      <td>Kim</td>\n",
              "      <td>F</td>\n",
              "    </tr>\n",
              "  </tbody>\n",
              "</table>\n",
              "</div>"
            ],
            "text/plain": [
              "   id  name gender\n",
              "0   4  Park      F\n",
              "1   5   Lee      M\n",
              "2   6   Kim      F"
            ]
          },
          "metadata": {},
          "execution_count": 128
        }
      ]
    },
    {
      "cell_type": "code",
      "metadata": {
        "id": "r12Wvu5M4xAG"
      },
      "source": [
        "data1_data2 = pd.concat([data1,data2])"
      ],
      "execution_count": null,
      "outputs": []
    },
    {
      "cell_type": "code",
      "metadata": {
        "colab": {
          "base_uri": "https://localhost:8080/",
          "height": 237
        },
        "id": "DLNOsyKt4y9G",
        "outputId": "d6f5e201-7e39-49a9-d513-52495b6ca646"
      },
      "source": [
        "data1_data2"
      ],
      "execution_count": null,
      "outputs": [
        {
          "output_type": "execute_result",
          "data": {
            "text/html": [
              "<div>\n",
              "<style scoped>\n",
              "    .dataframe tbody tr th:only-of-type {\n",
              "        vertical-align: middle;\n",
              "    }\n",
              "\n",
              "    .dataframe tbody tr th {\n",
              "        vertical-align: top;\n",
              "    }\n",
              "\n",
              "    .dataframe thead th {\n",
              "        text-align: right;\n",
              "    }\n",
              "</style>\n",
              "<table border=\"1\" class=\"dataframe\">\n",
              "  <thead>\n",
              "    <tr style=\"text-align: right;\">\n",
              "      <th></th>\n",
              "      <th>id</th>\n",
              "      <th>name</th>\n",
              "      <th>gender</th>\n",
              "    </tr>\n",
              "  </thead>\n",
              "  <tbody>\n",
              "    <tr>\n",
              "      <th>0</th>\n",
              "      <td>1</td>\n",
              "      <td>Lee</td>\n",
              "      <td>M</td>\n",
              "    </tr>\n",
              "    <tr>\n",
              "      <th>1</th>\n",
              "      <td>2</td>\n",
              "      <td>Lee</td>\n",
              "      <td>M</td>\n",
              "    </tr>\n",
              "    <tr>\n",
              "      <th>2</th>\n",
              "      <td>3</td>\n",
              "      <td>Kim</td>\n",
              "      <td>F</td>\n",
              "    </tr>\n",
              "    <tr>\n",
              "      <th>0</th>\n",
              "      <td>4</td>\n",
              "      <td>Park</td>\n",
              "      <td>F</td>\n",
              "    </tr>\n",
              "    <tr>\n",
              "      <th>1</th>\n",
              "      <td>5</td>\n",
              "      <td>Lee</td>\n",
              "      <td>M</td>\n",
              "    </tr>\n",
              "    <tr>\n",
              "      <th>2</th>\n",
              "      <td>6</td>\n",
              "      <td>Kim</td>\n",
              "      <td>F</td>\n",
              "    </tr>\n",
              "  </tbody>\n",
              "</table>\n",
              "</div>"
            ],
            "text/plain": [
              "   id  name gender\n",
              "0   1   Lee      M\n",
              "1   2   Lee      M\n",
              "2   3   Kim      F\n",
              "0   4  Park      F\n",
              "1   5   Lee      M\n",
              "2   6   Kim      F"
            ]
          },
          "metadata": {},
          "execution_count": 130
        }
      ]
    },
    {
      "cell_type": "markdown",
      "metadata": {
        "id": "ppoz4BfW4247"
      },
      "source": [
        "칼럼은 같지만 각기 다른 데이터를 세로로 병합했습니다."
      ]
    },
    {
      "cell_type": "code",
      "metadata": {
        "colab": {
          "base_uri": "https://localhost:8080/",
          "height": 112
        },
        "id": "7lZapj-B46dS",
        "outputId": "20c2a64d-1ad7-4960-87e4-ec28bda17f96"
      },
      "source": [
        "data1_data2.loc[0]"
      ],
      "execution_count": null,
      "outputs": [
        {
          "output_type": "execute_result",
          "data": {
            "text/html": [
              "<div>\n",
              "<style scoped>\n",
              "    .dataframe tbody tr th:only-of-type {\n",
              "        vertical-align: middle;\n",
              "    }\n",
              "\n",
              "    .dataframe tbody tr th {\n",
              "        vertical-align: top;\n",
              "    }\n",
              "\n",
              "    .dataframe thead th {\n",
              "        text-align: right;\n",
              "    }\n",
              "</style>\n",
              "<table border=\"1\" class=\"dataframe\">\n",
              "  <thead>\n",
              "    <tr style=\"text-align: right;\">\n",
              "      <th></th>\n",
              "      <th>id</th>\n",
              "      <th>name</th>\n",
              "      <th>gender</th>\n",
              "    </tr>\n",
              "  </thead>\n",
              "  <tbody>\n",
              "    <tr>\n",
              "      <th>0</th>\n",
              "      <td>1</td>\n",
              "      <td>Lee</td>\n",
              "      <td>M</td>\n",
              "    </tr>\n",
              "    <tr>\n",
              "      <th>0</th>\n",
              "      <td>4</td>\n",
              "      <td>Park</td>\n",
              "      <td>F</td>\n",
              "    </tr>\n",
              "  </tbody>\n",
              "</table>\n",
              "</div>"
            ],
            "text/plain": [
              "   id  name gender\n",
              "0   1   Lee      M\n",
              "0   4  Park      F"
            ]
          },
          "metadata": {},
          "execution_count": 131
        }
      ]
    },
    {
      "cell_type": "markdown",
      "metadata": {
        "id": "x-qRcYNV481C"
      },
      "source": [
        "그런데 인덱스에 문제가 있습니다. 0 인덱스를 불러오니 2개의 데이터가 조회됩니다.\n",
        "\n",
        "인덱스를 활용하여 데이터를 처리하는 경우가 있기 때문에 이를 정리해두시는 편이 좋습니다."
      ]
    },
    {
      "cell_type": "code",
      "metadata": {
        "colab": {
          "base_uri": "https://localhost:8080/",
          "height": 237
        },
        "id": "BKbdgYHI5Gbk",
        "outputId": "d05fe34b-17ac-4858-cd00-110d2b3de907"
      },
      "source": [
        "data1_data2.reset_index()"
      ],
      "execution_count": null,
      "outputs": [
        {
          "output_type": "execute_result",
          "data": {
            "text/html": [
              "<div>\n",
              "<style scoped>\n",
              "    .dataframe tbody tr th:only-of-type {\n",
              "        vertical-align: middle;\n",
              "    }\n",
              "\n",
              "    .dataframe tbody tr th {\n",
              "        vertical-align: top;\n",
              "    }\n",
              "\n",
              "    .dataframe thead th {\n",
              "        text-align: right;\n",
              "    }\n",
              "</style>\n",
              "<table border=\"1\" class=\"dataframe\">\n",
              "  <thead>\n",
              "    <tr style=\"text-align: right;\">\n",
              "      <th></th>\n",
              "      <th>index</th>\n",
              "      <th>id</th>\n",
              "      <th>name</th>\n",
              "      <th>gender</th>\n",
              "    </tr>\n",
              "  </thead>\n",
              "  <tbody>\n",
              "    <tr>\n",
              "      <th>0</th>\n",
              "      <td>0</td>\n",
              "      <td>1</td>\n",
              "      <td>Lee</td>\n",
              "      <td>M</td>\n",
              "    </tr>\n",
              "    <tr>\n",
              "      <th>1</th>\n",
              "      <td>1</td>\n",
              "      <td>2</td>\n",
              "      <td>Lee</td>\n",
              "      <td>M</td>\n",
              "    </tr>\n",
              "    <tr>\n",
              "      <th>2</th>\n",
              "      <td>2</td>\n",
              "      <td>3</td>\n",
              "      <td>Kim</td>\n",
              "      <td>F</td>\n",
              "    </tr>\n",
              "    <tr>\n",
              "      <th>3</th>\n",
              "      <td>0</td>\n",
              "      <td>4</td>\n",
              "      <td>Park</td>\n",
              "      <td>F</td>\n",
              "    </tr>\n",
              "    <tr>\n",
              "      <th>4</th>\n",
              "      <td>1</td>\n",
              "      <td>5</td>\n",
              "      <td>Lee</td>\n",
              "      <td>M</td>\n",
              "    </tr>\n",
              "    <tr>\n",
              "      <th>5</th>\n",
              "      <td>2</td>\n",
              "      <td>6</td>\n",
              "      <td>Kim</td>\n",
              "      <td>F</td>\n",
              "    </tr>\n",
              "  </tbody>\n",
              "</table>\n",
              "</div>"
            ],
            "text/plain": [
              "   index  id  name gender\n",
              "0      0   1   Lee      M\n",
              "1      1   2   Lee      M\n",
              "2      2   3   Kim      F\n",
              "3      0   4  Park      F\n",
              "4      1   5   Lee      M\n",
              "5      2   6   Kim      F"
            ]
          },
          "metadata": {},
          "execution_count": 132
        }
      ]
    },
    {
      "cell_type": "markdown",
      "metadata": {
        "id": "VPV-IKwo_l3k"
      },
      "source": [
        "reset_index()를 활용하여 인덱스를 정리했습니다."
      ]
    },
    {
      "cell_type": "code",
      "metadata": {
        "id": "aKHVAUHe5KJR"
      },
      "source": [
        "data1_data2 = data1_data2.reset_index().drop([\"index\"], axis = 1)"
      ],
      "execution_count": null,
      "outputs": []
    },
    {
      "cell_type": "markdown",
      "metadata": {
        "id": "kP16zyu0_0th"
      },
      "source": [
        "칼럼에 추가된 인덱스는 drop()를 사용하여 제거를 합니다."
      ]
    },
    {
      "cell_type": "code",
      "metadata": {
        "colab": {
          "base_uri": "https://localhost:8080/",
          "height": 237
        },
        "id": "zFSbYhVB5NfU",
        "outputId": "46ae96b8-b00c-41c0-cbc4-65ed408ac3f6"
      },
      "source": [
        "data1_data2"
      ],
      "execution_count": null,
      "outputs": [
        {
          "output_type": "execute_result",
          "data": {
            "text/html": [
              "<div>\n",
              "<style scoped>\n",
              "    .dataframe tbody tr th:only-of-type {\n",
              "        vertical-align: middle;\n",
              "    }\n",
              "\n",
              "    .dataframe tbody tr th {\n",
              "        vertical-align: top;\n",
              "    }\n",
              "\n",
              "    .dataframe thead th {\n",
              "        text-align: right;\n",
              "    }\n",
              "</style>\n",
              "<table border=\"1\" class=\"dataframe\">\n",
              "  <thead>\n",
              "    <tr style=\"text-align: right;\">\n",
              "      <th></th>\n",
              "      <th>id</th>\n",
              "      <th>name</th>\n",
              "      <th>gender</th>\n",
              "    </tr>\n",
              "  </thead>\n",
              "  <tbody>\n",
              "    <tr>\n",
              "      <th>0</th>\n",
              "      <td>1</td>\n",
              "      <td>Lee</td>\n",
              "      <td>M</td>\n",
              "    </tr>\n",
              "    <tr>\n",
              "      <th>1</th>\n",
              "      <td>2</td>\n",
              "      <td>Lee</td>\n",
              "      <td>M</td>\n",
              "    </tr>\n",
              "    <tr>\n",
              "      <th>2</th>\n",
              "      <td>3</td>\n",
              "      <td>Kim</td>\n",
              "      <td>F</td>\n",
              "    </tr>\n",
              "    <tr>\n",
              "      <th>3</th>\n",
              "      <td>4</td>\n",
              "      <td>Park</td>\n",
              "      <td>F</td>\n",
              "    </tr>\n",
              "    <tr>\n",
              "      <th>4</th>\n",
              "      <td>5</td>\n",
              "      <td>Lee</td>\n",
              "      <td>M</td>\n",
              "    </tr>\n",
              "    <tr>\n",
              "      <th>5</th>\n",
              "      <td>6</td>\n",
              "      <td>Kim</td>\n",
              "      <td>F</td>\n",
              "    </tr>\n",
              "  </tbody>\n",
              "</table>\n",
              "</div>"
            ],
            "text/plain": [
              "   id  name gender\n",
              "0   1   Lee      M\n",
              "1   2   Lee      M\n",
              "2   3   Kim      F\n",
              "3   4  Park      F\n",
              "4   5   Lee      M\n",
              "5   6   Kim      F"
            ]
          },
          "metadata": {},
          "execution_count": 136
        }
      ]
    },
    {
      "cell_type": "code",
      "metadata": {
        "colab": {
          "base_uri": "https://localhost:8080/"
        },
        "id": "GHoSR0DL-5LR",
        "outputId": "92e39414-4f14-4622-b454-2053486ddf25"
      },
      "source": [
        "data1_data2.loc[0]"
      ],
      "execution_count": null,
      "outputs": [
        {
          "output_type": "execute_result",
          "data": {
            "text/plain": [
              "id          1\n",
              "name      Lee\n",
              "gender      M\n",
              "Name: 0, dtype: object"
            ]
          },
          "metadata": {},
          "execution_count": 137
        }
      ]
    },
    {
      "cell_type": "code",
      "metadata": {
        "id": "7z6a2k-M5jGQ"
      },
      "source": [
        "data1_data2 = pd.concat([data1,data2], axis=0, ignore_index=True)"
      ],
      "execution_count": null,
      "outputs": []
    },
    {
      "cell_type": "code",
      "metadata": {
        "colab": {
          "base_uri": "https://localhost:8080/",
          "height": 237
        },
        "id": "4hNXPNi05n6k",
        "outputId": "9f57918f-feb5-445f-dc48-ba8b980131f7"
      },
      "source": [
        "data1_data2"
      ],
      "execution_count": null,
      "outputs": [
        {
          "output_type": "execute_result",
          "data": {
            "text/html": [
              "<div>\n",
              "<style scoped>\n",
              "    .dataframe tbody tr th:only-of-type {\n",
              "        vertical-align: middle;\n",
              "    }\n",
              "\n",
              "    .dataframe tbody tr th {\n",
              "        vertical-align: top;\n",
              "    }\n",
              "\n",
              "    .dataframe thead th {\n",
              "        text-align: right;\n",
              "    }\n",
              "</style>\n",
              "<table border=\"1\" class=\"dataframe\">\n",
              "  <thead>\n",
              "    <tr style=\"text-align: right;\">\n",
              "      <th></th>\n",
              "      <th>id</th>\n",
              "      <th>name</th>\n",
              "      <th>gender</th>\n",
              "    </tr>\n",
              "  </thead>\n",
              "  <tbody>\n",
              "    <tr>\n",
              "      <th>0</th>\n",
              "      <td>1</td>\n",
              "      <td>Lee</td>\n",
              "      <td>M</td>\n",
              "    </tr>\n",
              "    <tr>\n",
              "      <th>1</th>\n",
              "      <td>2</td>\n",
              "      <td>Lee</td>\n",
              "      <td>M</td>\n",
              "    </tr>\n",
              "    <tr>\n",
              "      <th>2</th>\n",
              "      <td>3</td>\n",
              "      <td>Kim</td>\n",
              "      <td>F</td>\n",
              "    </tr>\n",
              "    <tr>\n",
              "      <th>3</th>\n",
              "      <td>4</td>\n",
              "      <td>Park</td>\n",
              "      <td>F</td>\n",
              "    </tr>\n",
              "    <tr>\n",
              "      <th>4</th>\n",
              "      <td>5</td>\n",
              "      <td>Lee</td>\n",
              "      <td>M</td>\n",
              "    </tr>\n",
              "    <tr>\n",
              "      <th>5</th>\n",
              "      <td>6</td>\n",
              "      <td>Kim</td>\n",
              "      <td>F</td>\n",
              "    </tr>\n",
              "  </tbody>\n",
              "</table>\n",
              "</div>"
            ],
            "text/plain": [
              "   id  name gender\n",
              "0   1   Lee      M\n",
              "1   2   Lee      M\n",
              "2   3   Kim      F\n",
              "3   4  Park      F\n",
              "4   5   Lee      M\n",
              "5   6   Kim      F"
            ]
          },
          "metadata": {},
          "execution_count": 140
        }
      ]
    },
    {
      "cell_type": "markdown",
      "metadata": {
        "id": "Xz27kEKx5os6"
      },
      "source": [
        "애초에 데이터를 합칠 때 조작하는 방식도 있습니다."
      ]
    },
    {
      "cell_type": "code",
      "metadata": {
        "colab": {
          "base_uri": "https://localhost:8080/",
          "height": 237
        },
        "id": "82G5sdoN5sd1",
        "outputId": "6e451077-dc83-4f3c-8d1e-d094294b2dfc"
      },
      "source": [
        "#리스트처럼 append 활용 가능\n",
        "data1.append(data2)"
      ],
      "execution_count": null,
      "outputs": [
        {
          "output_type": "execute_result",
          "data": {
            "text/html": [
              "<div>\n",
              "<style scoped>\n",
              "    .dataframe tbody tr th:only-of-type {\n",
              "        vertical-align: middle;\n",
              "    }\n",
              "\n",
              "    .dataframe tbody tr th {\n",
              "        vertical-align: top;\n",
              "    }\n",
              "\n",
              "    .dataframe thead th {\n",
              "        text-align: right;\n",
              "    }\n",
              "</style>\n",
              "<table border=\"1\" class=\"dataframe\">\n",
              "  <thead>\n",
              "    <tr style=\"text-align: right;\">\n",
              "      <th></th>\n",
              "      <th>id</th>\n",
              "      <th>name</th>\n",
              "      <th>gender</th>\n",
              "    </tr>\n",
              "  </thead>\n",
              "  <tbody>\n",
              "    <tr>\n",
              "      <th>0</th>\n",
              "      <td>1</td>\n",
              "      <td>Lee</td>\n",
              "      <td>M</td>\n",
              "    </tr>\n",
              "    <tr>\n",
              "      <th>1</th>\n",
              "      <td>2</td>\n",
              "      <td>Lee</td>\n",
              "      <td>M</td>\n",
              "    </tr>\n",
              "    <tr>\n",
              "      <th>2</th>\n",
              "      <td>3</td>\n",
              "      <td>Kim</td>\n",
              "      <td>F</td>\n",
              "    </tr>\n",
              "    <tr>\n",
              "      <th>0</th>\n",
              "      <td>4</td>\n",
              "      <td>Park</td>\n",
              "      <td>F</td>\n",
              "    </tr>\n",
              "    <tr>\n",
              "      <th>1</th>\n",
              "      <td>5</td>\n",
              "      <td>Lee</td>\n",
              "      <td>M</td>\n",
              "    </tr>\n",
              "    <tr>\n",
              "      <th>2</th>\n",
              "      <td>6</td>\n",
              "      <td>Kim</td>\n",
              "      <td>F</td>\n",
              "    </tr>\n",
              "  </tbody>\n",
              "</table>\n",
              "</div>"
            ],
            "text/plain": [
              "   id  name gender\n",
              "0   1   Lee      M\n",
              "1   2   Lee      M\n",
              "2   3   Kim      F\n",
              "0   4  Park      F\n",
              "1   5   Lee      M\n",
              "2   6   Kim      F"
            ]
          },
          "metadata": {},
          "execution_count": 141
        }
      ]
    },
    {
      "cell_type": "markdown",
      "metadata": {
        "id": "wQysN4qs5xEL"
      },
      "source": [
        "Pandas에서는 리스트처럼 append()기능을 활용할 수도 있습니다."
      ]
    },
    {
      "cell_type": "markdown",
      "metadata": {
        "id": "DyrHMcLT51O9"
      },
      "source": [
        "## pd.merge()"
      ]
    },
    {
      "cell_type": "markdown",
      "metadata": {
        "id": "nGwIFzMW53XI"
      },
      "source": [
        "merge는 concat과 비슷한 기능을 합니다.\n",
        "\n",
        "데이터를 병합할 때 사용되며 특정 칼럼을 기준으로 inner,outer,left,right join을 수행할 수 있습니다."
      ]
    },
    {
      "cell_type": "code",
      "metadata": {
        "id": "ew0T6B756vVc"
      },
      "source": [
        "#데이터 프레임 생성 - 1\n",
        "data1 = pd.DataFrame()\n",
        "data1[\"id\"] = [1,2,3]\n",
        "data1[\"name\"] = [\"Lee\", \"Lee\", \"Kim\"]\n",
        "data1[\"gender\"] = [\"F\", \"F\", \"M\"]"
      ],
      "execution_count": null,
      "outputs": []
    },
    {
      "cell_type": "code",
      "metadata": {
        "id": "7PLnmt8Z7HT-"
      },
      "source": [
        "#데이터 프레임 생성 - 2\n",
        "data2 = pd.DataFrame()\n",
        "data2[\"id\"] = [1,2,3,4,5]\n",
        "data2[\"age\"] = [19,20,30,35,27]\n",
        "data2[\"job\"] = [\"student\", \"student\", \"data engineer\", \"data analyst\", \"carpenter\"]"
      ],
      "execution_count": null,
      "outputs": []
    },
    {
      "cell_type": "code",
      "metadata": {
        "colab": {
          "base_uri": "https://localhost:8080/",
          "height": 143
        },
        "id": "UXGt0QhM7a0C",
        "outputId": "513e62ea-224b-44ca-aa44-308fdb2e4c6b"
      },
      "source": [
        "data1"
      ],
      "execution_count": null,
      "outputs": [
        {
          "output_type": "execute_result",
          "data": {
            "text/html": [
              "<div>\n",
              "<style scoped>\n",
              "    .dataframe tbody tr th:only-of-type {\n",
              "        vertical-align: middle;\n",
              "    }\n",
              "\n",
              "    .dataframe tbody tr th {\n",
              "        vertical-align: top;\n",
              "    }\n",
              "\n",
              "    .dataframe thead th {\n",
              "        text-align: right;\n",
              "    }\n",
              "</style>\n",
              "<table border=\"1\" class=\"dataframe\">\n",
              "  <thead>\n",
              "    <tr style=\"text-align: right;\">\n",
              "      <th></th>\n",
              "      <th>id</th>\n",
              "      <th>name</th>\n",
              "      <th>gender</th>\n",
              "    </tr>\n",
              "  </thead>\n",
              "  <tbody>\n",
              "    <tr>\n",
              "      <th>0</th>\n",
              "      <td>1</td>\n",
              "      <td>Lee</td>\n",
              "      <td>F</td>\n",
              "    </tr>\n",
              "    <tr>\n",
              "      <th>1</th>\n",
              "      <td>2</td>\n",
              "      <td>Lee</td>\n",
              "      <td>F</td>\n",
              "    </tr>\n",
              "    <tr>\n",
              "      <th>2</th>\n",
              "      <td>3</td>\n",
              "      <td>Kim</td>\n",
              "      <td>M</td>\n",
              "    </tr>\n",
              "  </tbody>\n",
              "</table>\n",
              "</div>"
            ],
            "text/plain": [
              "   id name gender\n",
              "0   1  Lee      F\n",
              "1   2  Lee      F\n",
              "2   3  Kim      M"
            ]
          },
          "metadata": {},
          "execution_count": 144
        }
      ]
    },
    {
      "cell_type": "code",
      "metadata": {
        "colab": {
          "base_uri": "https://localhost:8080/",
          "height": 206
        },
        "id": "445Dn3wB7nS9",
        "outputId": "87c70a80-77fc-421d-e3e5-341859f2ddca"
      },
      "source": [
        "data2"
      ],
      "execution_count": null,
      "outputs": [
        {
          "output_type": "execute_result",
          "data": {
            "text/html": [
              "<div>\n",
              "<style scoped>\n",
              "    .dataframe tbody tr th:only-of-type {\n",
              "        vertical-align: middle;\n",
              "    }\n",
              "\n",
              "    .dataframe tbody tr th {\n",
              "        vertical-align: top;\n",
              "    }\n",
              "\n",
              "    .dataframe thead th {\n",
              "        text-align: right;\n",
              "    }\n",
              "</style>\n",
              "<table border=\"1\" class=\"dataframe\">\n",
              "  <thead>\n",
              "    <tr style=\"text-align: right;\">\n",
              "      <th></th>\n",
              "      <th>id</th>\n",
              "      <th>age</th>\n",
              "      <th>job</th>\n",
              "    </tr>\n",
              "  </thead>\n",
              "  <tbody>\n",
              "    <tr>\n",
              "      <th>0</th>\n",
              "      <td>1</td>\n",
              "      <td>19</td>\n",
              "      <td>student</td>\n",
              "    </tr>\n",
              "    <tr>\n",
              "      <th>1</th>\n",
              "      <td>2</td>\n",
              "      <td>20</td>\n",
              "      <td>student</td>\n",
              "    </tr>\n",
              "    <tr>\n",
              "      <th>2</th>\n",
              "      <td>3</td>\n",
              "      <td>30</td>\n",
              "      <td>data engineer</td>\n",
              "    </tr>\n",
              "    <tr>\n",
              "      <th>3</th>\n",
              "      <td>4</td>\n",
              "      <td>35</td>\n",
              "      <td>data analyst</td>\n",
              "    </tr>\n",
              "    <tr>\n",
              "      <th>4</th>\n",
              "      <td>5</td>\n",
              "      <td>27</td>\n",
              "      <td>carpenter</td>\n",
              "    </tr>\n",
              "  </tbody>\n",
              "</table>\n",
              "</div>"
            ],
            "text/plain": [
              "   id  age            job\n",
              "0   1   19        student\n",
              "1   2   20        student\n",
              "2   3   30  data engineer\n",
              "3   4   35   data analyst\n",
              "4   5   27      carpenter"
            ]
          },
          "metadata": {},
          "execution_count": 145
        }
      ]
    },
    {
      "cell_type": "code",
      "metadata": {
        "colab": {
          "base_uri": "https://localhost:8080/",
          "height": 143
        },
        "id": "t9ddEZte7n3t",
        "outputId": "75c4ab0c-4524-41e7-88aa-0168e018f27d"
      },
      "source": [
        "pd.merge(data1,data2, on = \"id\")"
      ],
      "execution_count": null,
      "outputs": [
        {
          "output_type": "execute_result",
          "data": {
            "text/html": [
              "<div>\n",
              "<style scoped>\n",
              "    .dataframe tbody tr th:only-of-type {\n",
              "        vertical-align: middle;\n",
              "    }\n",
              "\n",
              "    .dataframe tbody tr th {\n",
              "        vertical-align: top;\n",
              "    }\n",
              "\n",
              "    .dataframe thead th {\n",
              "        text-align: right;\n",
              "    }\n",
              "</style>\n",
              "<table border=\"1\" class=\"dataframe\">\n",
              "  <thead>\n",
              "    <tr style=\"text-align: right;\">\n",
              "      <th></th>\n",
              "      <th>id</th>\n",
              "      <th>name</th>\n",
              "      <th>gender</th>\n",
              "      <th>age</th>\n",
              "      <th>job</th>\n",
              "    </tr>\n",
              "  </thead>\n",
              "  <tbody>\n",
              "    <tr>\n",
              "      <th>0</th>\n",
              "      <td>1</td>\n",
              "      <td>Lee</td>\n",
              "      <td>F</td>\n",
              "      <td>19</td>\n",
              "      <td>student</td>\n",
              "    </tr>\n",
              "    <tr>\n",
              "      <th>1</th>\n",
              "      <td>2</td>\n",
              "      <td>Lee</td>\n",
              "      <td>F</td>\n",
              "      <td>20</td>\n",
              "      <td>student</td>\n",
              "    </tr>\n",
              "    <tr>\n",
              "      <th>2</th>\n",
              "      <td>3</td>\n",
              "      <td>Kim</td>\n",
              "      <td>M</td>\n",
              "      <td>30</td>\n",
              "      <td>data engineer</td>\n",
              "    </tr>\n",
              "  </tbody>\n",
              "</table>\n",
              "</div>"
            ],
            "text/plain": [
              "   id name gender  age            job\n",
              "0   1  Lee      F   19        student\n",
              "1   2  Lee      F   20        student\n",
              "2   3  Kim      M   30  data engineer"
            ]
          },
          "metadata": {},
          "execution_count": 146
        }
      ]
    },
    {
      "cell_type": "markdown",
      "metadata": {
        "id": "dB0W4wDr7rSz"
      },
      "source": [
        "merge의 기본값은 inner이기 때문에 행값이 겹치지 않은 부분은 사라집니다."
      ]
    },
    {
      "cell_type": "code",
      "metadata": {
        "colab": {
          "base_uri": "https://localhost:8080/",
          "height": 206
        },
        "id": "9-PExeM070J5",
        "outputId": "14aefdbe-5c55-487d-be08-80fc4d502f45"
      },
      "source": [
        "pd.merge(data1,data2, on =\"id\", how=\"outer\")"
      ],
      "execution_count": null,
      "outputs": [
        {
          "output_type": "execute_result",
          "data": {
            "text/html": [
              "<div>\n",
              "<style scoped>\n",
              "    .dataframe tbody tr th:only-of-type {\n",
              "        vertical-align: middle;\n",
              "    }\n",
              "\n",
              "    .dataframe tbody tr th {\n",
              "        vertical-align: top;\n",
              "    }\n",
              "\n",
              "    .dataframe thead th {\n",
              "        text-align: right;\n",
              "    }\n",
              "</style>\n",
              "<table border=\"1\" class=\"dataframe\">\n",
              "  <thead>\n",
              "    <tr style=\"text-align: right;\">\n",
              "      <th></th>\n",
              "      <th>id</th>\n",
              "      <th>name</th>\n",
              "      <th>gender</th>\n",
              "      <th>age</th>\n",
              "      <th>job</th>\n",
              "    </tr>\n",
              "  </thead>\n",
              "  <tbody>\n",
              "    <tr>\n",
              "      <th>0</th>\n",
              "      <td>1</td>\n",
              "      <td>Lee</td>\n",
              "      <td>F</td>\n",
              "      <td>19</td>\n",
              "      <td>student</td>\n",
              "    </tr>\n",
              "    <tr>\n",
              "      <th>1</th>\n",
              "      <td>2</td>\n",
              "      <td>Lee</td>\n",
              "      <td>F</td>\n",
              "      <td>20</td>\n",
              "      <td>student</td>\n",
              "    </tr>\n",
              "    <tr>\n",
              "      <th>2</th>\n",
              "      <td>3</td>\n",
              "      <td>Kim</td>\n",
              "      <td>M</td>\n",
              "      <td>30</td>\n",
              "      <td>data engineer</td>\n",
              "    </tr>\n",
              "    <tr>\n",
              "      <th>3</th>\n",
              "      <td>4</td>\n",
              "      <td>NaN</td>\n",
              "      <td>NaN</td>\n",
              "      <td>35</td>\n",
              "      <td>data analyst</td>\n",
              "    </tr>\n",
              "    <tr>\n",
              "      <th>4</th>\n",
              "      <td>5</td>\n",
              "      <td>NaN</td>\n",
              "      <td>NaN</td>\n",
              "      <td>27</td>\n",
              "      <td>carpenter</td>\n",
              "    </tr>\n",
              "  </tbody>\n",
              "</table>\n",
              "</div>"
            ],
            "text/plain": [
              "   id name gender  age            job\n",
              "0   1  Lee      F   19        student\n",
              "1   2  Lee      F   20        student\n",
              "2   3  Kim      M   30  data engineer\n",
              "3   4  NaN    NaN   35   data analyst\n",
              "4   5  NaN    NaN   27      carpenter"
            ]
          },
          "metadata": {},
          "execution_count": 148
        }
      ]
    },
    {
      "cell_type": "markdown",
      "metadata": {
        "id": "oM03BR9i74bN"
      },
      "source": [
        "outer join을 하면 겹치지 않은 부분은 Nan으로 처리하고 merge됩니다.\n",
        "\n",
        "on으로 지정한 칼럼이 왼쪽 또는 오른쪽에 존재하는 데이터를 병합합니다."
      ]
    },
    {
      "cell_type": "code",
      "metadata": {
        "colab": {
          "base_uri": "https://localhost:8080/",
          "height": 143
        },
        "id": "Z2a1V2yE8Da-",
        "outputId": "e75ab810-07fa-42c7-aad3-674866aa01e5"
      },
      "source": [
        "pd.merge(data1,data2, on=\"id\", how=\"left\")"
      ],
      "execution_count": null,
      "outputs": [
        {
          "output_type": "execute_result",
          "data": {
            "text/html": [
              "<div>\n",
              "<style scoped>\n",
              "    .dataframe tbody tr th:only-of-type {\n",
              "        vertical-align: middle;\n",
              "    }\n",
              "\n",
              "    .dataframe tbody tr th {\n",
              "        vertical-align: top;\n",
              "    }\n",
              "\n",
              "    .dataframe thead th {\n",
              "        text-align: right;\n",
              "    }\n",
              "</style>\n",
              "<table border=\"1\" class=\"dataframe\">\n",
              "  <thead>\n",
              "    <tr style=\"text-align: right;\">\n",
              "      <th></th>\n",
              "      <th>id</th>\n",
              "      <th>name</th>\n",
              "      <th>gender</th>\n",
              "      <th>age</th>\n",
              "      <th>job</th>\n",
              "    </tr>\n",
              "  </thead>\n",
              "  <tbody>\n",
              "    <tr>\n",
              "      <th>0</th>\n",
              "      <td>1</td>\n",
              "      <td>Lee</td>\n",
              "      <td>F</td>\n",
              "      <td>19</td>\n",
              "      <td>student</td>\n",
              "    </tr>\n",
              "    <tr>\n",
              "      <th>1</th>\n",
              "      <td>2</td>\n",
              "      <td>Lee</td>\n",
              "      <td>F</td>\n",
              "      <td>20</td>\n",
              "      <td>student</td>\n",
              "    </tr>\n",
              "    <tr>\n",
              "      <th>2</th>\n",
              "      <td>3</td>\n",
              "      <td>Kim</td>\n",
              "      <td>M</td>\n",
              "      <td>30</td>\n",
              "      <td>data engineer</td>\n",
              "    </tr>\n",
              "  </tbody>\n",
              "</table>\n",
              "</div>"
            ],
            "text/plain": [
              "   id name gender  age            job\n",
              "0   1  Lee      F   19        student\n",
              "1   2  Lee      F   20        student\n",
              "2   3  Kim      M   30  data engineer"
            ]
          },
          "metadata": {},
          "execution_count": 150
        }
      ]
    },
    {
      "cell_type": "markdown",
      "metadata": {
        "id": "T4yJzvVG9zfG"
      },
      "source": [
        "data1에 존재하는 칼럼을 기준으로 병합했습니다."
      ]
    },
    {
      "cell_type": "code",
      "metadata": {
        "colab": {
          "base_uri": "https://localhost:8080/",
          "height": 206
        },
        "id": "fS9owhAH8Vf0",
        "outputId": "aadce90d-28c2-4442-f9e1-b7693479003b"
      },
      "source": [
        "pd.merge(data1,data2, on=\"id\", how=\"right\")"
      ],
      "execution_count": null,
      "outputs": [
        {
          "output_type": "execute_result",
          "data": {
            "text/html": [
              "<div>\n",
              "<style scoped>\n",
              "    .dataframe tbody tr th:only-of-type {\n",
              "        vertical-align: middle;\n",
              "    }\n",
              "\n",
              "    .dataframe tbody tr th {\n",
              "        vertical-align: top;\n",
              "    }\n",
              "\n",
              "    .dataframe thead th {\n",
              "        text-align: right;\n",
              "    }\n",
              "</style>\n",
              "<table border=\"1\" class=\"dataframe\">\n",
              "  <thead>\n",
              "    <tr style=\"text-align: right;\">\n",
              "      <th></th>\n",
              "      <th>id</th>\n",
              "      <th>name</th>\n",
              "      <th>gender</th>\n",
              "      <th>age</th>\n",
              "      <th>job</th>\n",
              "    </tr>\n",
              "  </thead>\n",
              "  <tbody>\n",
              "    <tr>\n",
              "      <th>0</th>\n",
              "      <td>1</td>\n",
              "      <td>Lee</td>\n",
              "      <td>F</td>\n",
              "      <td>19</td>\n",
              "      <td>student</td>\n",
              "    </tr>\n",
              "    <tr>\n",
              "      <th>1</th>\n",
              "      <td>2</td>\n",
              "      <td>Lee</td>\n",
              "      <td>F</td>\n",
              "      <td>20</td>\n",
              "      <td>student</td>\n",
              "    </tr>\n",
              "    <tr>\n",
              "      <th>2</th>\n",
              "      <td>3</td>\n",
              "      <td>Kim</td>\n",
              "      <td>M</td>\n",
              "      <td>30</td>\n",
              "      <td>data engineer</td>\n",
              "    </tr>\n",
              "    <tr>\n",
              "      <th>3</th>\n",
              "      <td>4</td>\n",
              "      <td>NaN</td>\n",
              "      <td>NaN</td>\n",
              "      <td>35</td>\n",
              "      <td>data analyst</td>\n",
              "    </tr>\n",
              "    <tr>\n",
              "      <th>4</th>\n",
              "      <td>5</td>\n",
              "      <td>NaN</td>\n",
              "      <td>NaN</td>\n",
              "      <td>27</td>\n",
              "      <td>carpenter</td>\n",
              "    </tr>\n",
              "  </tbody>\n",
              "</table>\n",
              "</div>"
            ],
            "text/plain": [
              "   id name gender  age            job\n",
              "0   1  Lee      F   19        student\n",
              "1   2  Lee      F   20        student\n",
              "2   3  Kim      M   30  data engineer\n",
              "3   4  NaN    NaN   35   data analyst\n",
              "4   5  NaN    NaN   27      carpenter"
            ]
          },
          "metadata": {},
          "execution_count": 152
        }
      ]
    },
    {
      "cell_type": "markdown",
      "metadata": {
        "id": "1kJtFNtj8jtK"
      },
      "source": [
        "data2에 존재하는 칼럼을 기준으로 병합했습니다."
      ]
    },
    {
      "cell_type": "markdown",
      "metadata": {
        "id": "-zjJy89V-UcO"
      },
      "source": [
        "### 실습: 다음의 data1, data2를 세로로 합치고 row 인덱스를 정상화 해보세요.\n",
        "Hint: reset_index() 기능을 활용하세요."
      ]
    },
    {
      "cell_type": "code",
      "metadata": {
        "id": "elspeESmTObL"
      },
      "source": [
        "data1 = pd.DataFrame()\n",
        "data1[\"id\"] = [1,2,3]\n",
        "data1[\"age\"] = [25, 15, 22]\n",
        "data1[\"job\"] = [\"data scientist\", \"student\", \"teacher\"]"
      ],
      "execution_count": null,
      "outputs": []
    },
    {
      "cell_type": "code",
      "metadata": {
        "id": "8WR5hyr8TVP-"
      },
      "source": [
        "data2 = pd.DataFrame()\n",
        "data2[\"id\"] = [1,2,3,4,5]\n",
        "data2[\"age\"] = [19,20,30,25,23]\n",
        "data2[\"job\"] = [\"student\",\"student\",\"data engineer\", \"data analyst\", \"student\"]"
      ],
      "execution_count": null,
      "outputs": []
    },
    {
      "cell_type": "code",
      "metadata": {
        "id": "lBgI_aWUTXnP"
      },
      "source": [
        "con = pd.concat([data1, data2], axis = 0)"
      ],
      "execution_count": null,
      "outputs": []
    },
    {
      "cell_type": "code",
      "metadata": {
        "id": "hHIvIOuOTVmv"
      },
      "source": [
        "con = con.reset_index().drop(\"index\", axis = 1)"
      ],
      "execution_count": null,
      "outputs": []
    },
    {
      "cell_type": "code",
      "metadata": {
        "colab": {
          "base_uri": "https://localhost:8080/",
          "height": 300
        },
        "id": "o8-FrHwrTVz9",
        "outputId": "21b5a166-d9b6-406a-cf93-7ac79f95f457"
      },
      "source": [
        "con"
      ],
      "execution_count": null,
      "outputs": [
        {
          "output_type": "execute_result",
          "data": {
            "text/html": [
              "<div>\n",
              "<style scoped>\n",
              "    .dataframe tbody tr th:only-of-type {\n",
              "        vertical-align: middle;\n",
              "    }\n",
              "\n",
              "    .dataframe tbody tr th {\n",
              "        vertical-align: top;\n",
              "    }\n",
              "\n",
              "    .dataframe thead th {\n",
              "        text-align: right;\n",
              "    }\n",
              "</style>\n",
              "<table border=\"1\" class=\"dataframe\">\n",
              "  <thead>\n",
              "    <tr style=\"text-align: right;\">\n",
              "      <th></th>\n",
              "      <th>id</th>\n",
              "      <th>age</th>\n",
              "      <th>job</th>\n",
              "    </tr>\n",
              "  </thead>\n",
              "  <tbody>\n",
              "    <tr>\n",
              "      <th>0</th>\n",
              "      <td>1</td>\n",
              "      <td>25</td>\n",
              "      <td>data scientist</td>\n",
              "    </tr>\n",
              "    <tr>\n",
              "      <th>1</th>\n",
              "      <td>2</td>\n",
              "      <td>15</td>\n",
              "      <td>student</td>\n",
              "    </tr>\n",
              "    <tr>\n",
              "      <th>2</th>\n",
              "      <td>3</td>\n",
              "      <td>22</td>\n",
              "      <td>teacher</td>\n",
              "    </tr>\n",
              "    <tr>\n",
              "      <th>3</th>\n",
              "      <td>1</td>\n",
              "      <td>19</td>\n",
              "      <td>student</td>\n",
              "    </tr>\n",
              "    <tr>\n",
              "      <th>4</th>\n",
              "      <td>2</td>\n",
              "      <td>20</td>\n",
              "      <td>student</td>\n",
              "    </tr>\n",
              "    <tr>\n",
              "      <th>5</th>\n",
              "      <td>3</td>\n",
              "      <td>30</td>\n",
              "      <td>data engineer</td>\n",
              "    </tr>\n",
              "    <tr>\n",
              "      <th>6</th>\n",
              "      <td>4</td>\n",
              "      <td>25</td>\n",
              "      <td>data analyst</td>\n",
              "    </tr>\n",
              "    <tr>\n",
              "      <th>7</th>\n",
              "      <td>5</td>\n",
              "      <td>23</td>\n",
              "      <td>student</td>\n",
              "    </tr>\n",
              "  </tbody>\n",
              "</table>\n",
              "</div>"
            ],
            "text/plain": [
              "   id  age             job\n",
              "0   1   25  data scientist\n",
              "1   2   15         student\n",
              "2   3   22         teacher\n",
              "3   1   19         student\n",
              "4   2   20         student\n",
              "5   3   30   data engineer\n",
              "6   4   25    data analyst\n",
              "7   5   23         student"
            ]
          },
          "metadata": {},
          "execution_count": 161
        }
      ]
    },
    {
      "cell_type": "code",
      "metadata": {
        "id": "z4kIsCA-zUTz"
      },
      "source": [
        "con2 = pd.concat([data1,data2], axis=0, ignore_index=True)"
      ],
      "execution_count": null,
      "outputs": []
    },
    {
      "cell_type": "code",
      "metadata": {
        "colab": {
          "base_uri": "https://localhost:8080/",
          "height": 300
        },
        "id": "v4t2UTj7zYN0",
        "outputId": "fcdad25a-00fd-41fa-a194-103d892782b4"
      },
      "source": [
        "con2"
      ],
      "execution_count": null,
      "outputs": [
        {
          "output_type": "execute_result",
          "data": {
            "text/html": [
              "<div>\n",
              "<style scoped>\n",
              "    .dataframe tbody tr th:only-of-type {\n",
              "        vertical-align: middle;\n",
              "    }\n",
              "\n",
              "    .dataframe tbody tr th {\n",
              "        vertical-align: top;\n",
              "    }\n",
              "\n",
              "    .dataframe thead th {\n",
              "        text-align: right;\n",
              "    }\n",
              "</style>\n",
              "<table border=\"1\" class=\"dataframe\">\n",
              "  <thead>\n",
              "    <tr style=\"text-align: right;\">\n",
              "      <th></th>\n",
              "      <th>id</th>\n",
              "      <th>age</th>\n",
              "      <th>job</th>\n",
              "    </tr>\n",
              "  </thead>\n",
              "  <tbody>\n",
              "    <tr>\n",
              "      <th>0</th>\n",
              "      <td>1</td>\n",
              "      <td>25</td>\n",
              "      <td>data scientist</td>\n",
              "    </tr>\n",
              "    <tr>\n",
              "      <th>1</th>\n",
              "      <td>2</td>\n",
              "      <td>15</td>\n",
              "      <td>student</td>\n",
              "    </tr>\n",
              "    <tr>\n",
              "      <th>2</th>\n",
              "      <td>3</td>\n",
              "      <td>22</td>\n",
              "      <td>teacher</td>\n",
              "    </tr>\n",
              "    <tr>\n",
              "      <th>3</th>\n",
              "      <td>1</td>\n",
              "      <td>19</td>\n",
              "      <td>student</td>\n",
              "    </tr>\n",
              "    <tr>\n",
              "      <th>4</th>\n",
              "      <td>2</td>\n",
              "      <td>20</td>\n",
              "      <td>student</td>\n",
              "    </tr>\n",
              "    <tr>\n",
              "      <th>5</th>\n",
              "      <td>3</td>\n",
              "      <td>30</td>\n",
              "      <td>data engineer</td>\n",
              "    </tr>\n",
              "    <tr>\n",
              "      <th>6</th>\n",
              "      <td>4</td>\n",
              "      <td>25</td>\n",
              "      <td>data analyst</td>\n",
              "    </tr>\n",
              "    <tr>\n",
              "      <th>7</th>\n",
              "      <td>5</td>\n",
              "      <td>23</td>\n",
              "      <td>student</td>\n",
              "    </tr>\n",
              "  </tbody>\n",
              "</table>\n",
              "</div>"
            ],
            "text/plain": [
              "   id  age             job\n",
              "0   1   25  data scientist\n",
              "1   2   15         student\n",
              "2   3   22         teacher\n",
              "3   1   19         student\n",
              "4   2   20         student\n",
              "5   3   30   data engineer\n",
              "6   4   25    data analyst\n",
              "7   5   23         student"
            ]
          },
          "metadata": {},
          "execution_count": 163
        }
      ]
    },
    {
      "cell_type": "markdown",
      "metadata": {
        "id": "Ue3ISAGaTbat"
      },
      "source": [
        "# 엑셀 데이터 처리"
      ]
    },
    {
      "cell_type": "code",
      "metadata": {
        "colab": {
          "base_uri": "https://localhost:8080/"
        },
        "id": "k7N4cj95TV-i",
        "outputId": "8e977a5c-ba79-411a-c2fd-a1ffb93904a3"
      },
      "source": [
        "! pip install openpyxl\n",
        "! pip install sklearn"
      ],
      "execution_count": null,
      "outputs": [
        {
          "output_type": "stream",
          "name": "stdout",
          "text": [
            "Requirement already satisfied: openpyxl in /usr/local/lib/python3.7/dist-packages (2.5.9)\n",
            "Requirement already satisfied: jdcal in /usr/local/lib/python3.7/dist-packages (from openpyxl) (1.4.1)\n",
            "Requirement already satisfied: et-xmlfile in /usr/local/lib/python3.7/dist-packages (from openpyxl) (1.1.0)\n",
            "\u001b[33mWARNING: Running pip as the 'root' user can result in broken permissions and conflicting behaviour with the system package manager. It is recommended to use a virtual environment instead: https://pip.pypa.io/warnings/venv\u001b[0m\n",
            "Requirement already satisfied: sklearn in /usr/local/lib/python3.7/dist-packages (0.0)\n",
            "Requirement already satisfied: scikit-learn in /usr/local/lib/python3.7/dist-packages (from sklearn) (1.0.1)\n",
            "Requirement already satisfied: threadpoolctl>=2.0.0 in /usr/local/lib/python3.7/dist-packages (from scikit-learn->sklearn) (3.0.0)\n",
            "Requirement already satisfied: numpy>=1.14.6 in /usr/local/lib/python3.7/dist-packages (from scikit-learn->sklearn) (1.19.5)\n",
            "Requirement already satisfied: scipy>=1.1.0 in /usr/local/lib/python3.7/dist-packages (from scikit-learn->sklearn) (1.4.1)\n",
            "Requirement already satisfied: joblib>=0.11 in /usr/local/lib/python3.7/dist-packages (from scikit-learn->sklearn) (1.1.0)\n",
            "\u001b[33mWARNING: Running pip as the 'root' user can result in broken permissions and conflicting behaviour with the system package manager. It is recommended to use a virtual environment instead: https://pip.pypa.io/warnings/venv\u001b[0m\n"
          ]
        }
      ]
    },
    {
      "cell_type": "markdown",
      "metadata": {
        "id": "5u1eD3pkEisO"
      },
      "source": [
        " OpenPyXL은 Excel 파일을 읽고 쓰기를 Python으로 할 수 있는 일종의 모듈입니다. 예를 들어 아래와 같은 조작이 가능합니다.\n",
        "\n",
        "- 셀 번호를 지정해서 이미지나 문자열을 입력할 수 있습니다.\n",
        "\n",
        "- Excel 파일의 시트 데이터를 복사해서 다른 시트에 붙여넣기 할 수 있습니다.\n",
        "\n",
        "- 시트를 추가하거나 삭제할 수 있다.\n",
        "\n",
        " 다만 이 모듈을 사용하기 위해서 주의해야할 점이 한 가지가 있 바로 확장자가 \".xlsx\"이어야만 합니다."
      ]
    },
    {
      "cell_type": "code",
      "metadata": {
        "id": "Mkng1VFqTWDF"
      },
      "source": [
        "#명목형 데이터에 숫자 부여\n",
        "import pandas as pd\n",
        "from sklearn.preprocessing import LabelEncoder"
      ],
      "execution_count": null,
      "outputs": []
    },
    {
      "cell_type": "code",
      "metadata": {
        "id": "8n77WYObtzFb"
      },
      "source": [
        "from google_drive_downloader import GoogleDriveDownloader as gdd"
      ],
      "execution_count": null,
      "outputs": []
    },
    {
      "cell_type": "code",
      "metadata": {
        "id": "L4JVZFvWuE5X"
      },
      "source": [
        "gdd.download_file_from_google_drive(file_id='13RO98F6tYJgePy4guh1JZILjEKGOfU6G',\n",
        "                                    dest_path='example_data/car.zip',\n",
        "                                    unzip=True)"
      ],
      "execution_count": null,
      "outputs": []
    },
    {
      "cell_type": "code",
      "metadata": {
        "id": "uUuUE4Bjuvmw"
      },
      "source": [
        "#데이터를 임포트\n",
        "data = pd.read_excel(\"example_data/car.xlsx\", sheet_name=\"car_training\")"
      ],
      "execution_count": null,
      "outputs": []
    },
    {
      "cell_type": "code",
      "metadata": {
        "colab": {
          "base_uri": "https://localhost:8080/",
          "height": 423
        },
        "id": "HvvBUb_TwumL",
        "outputId": "425d8dbf-4f98-4cd8-e15f-426ea0b67c8a"
      },
      "source": [
        "data"
      ],
      "execution_count": null,
      "outputs": [
        {
          "output_type": "execute_result",
          "data": {
            "text/html": [
              "<div>\n",
              "<style scoped>\n",
              "    .dataframe tbody tr th:only-of-type {\n",
              "        vertical-align: middle;\n",
              "    }\n",
              "\n",
              "    .dataframe tbody tr th {\n",
              "        vertical-align: top;\n",
              "    }\n",
              "\n",
              "    .dataframe thead th {\n",
              "        text-align: right;\n",
              "    }\n",
              "</style>\n",
              "<table border=\"1\" class=\"dataframe\">\n",
              "  <thead>\n",
              "    <tr style=\"text-align: right;\">\n",
              "      <th></th>\n",
              "      <th>buying</th>\n",
              "      <th>maint</th>\n",
              "      <th>doors</th>\n",
              "      <th>persons</th>\n",
              "      <th>lug_boot</th>\n",
              "      <th>safety</th>\n",
              "      <th>class</th>\n",
              "    </tr>\n",
              "  </thead>\n",
              "  <tbody>\n",
              "    <tr>\n",
              "      <th>0</th>\n",
              "      <td>high</td>\n",
              "      <td>vhigh</td>\n",
              "      <td>2</td>\n",
              "      <td>2</td>\n",
              "      <td>small</td>\n",
              "      <td>low</td>\n",
              "      <td>unacc</td>\n",
              "    </tr>\n",
              "    <tr>\n",
              "      <th>1</th>\n",
              "      <td>high</td>\n",
              "      <td>vhigh</td>\n",
              "      <td>2</td>\n",
              "      <td>2</td>\n",
              "      <td>small</td>\n",
              "      <td>med</td>\n",
              "      <td>unacc</td>\n",
              "    </tr>\n",
              "    <tr>\n",
              "      <th>2</th>\n",
              "      <td>high</td>\n",
              "      <td>vhigh</td>\n",
              "      <td>2</td>\n",
              "      <td>2</td>\n",
              "      <td>small</td>\n",
              "      <td>high</td>\n",
              "      <td>unacc</td>\n",
              "    </tr>\n",
              "    <tr>\n",
              "      <th>3</th>\n",
              "      <td>high</td>\n",
              "      <td>vhigh</td>\n",
              "      <td>2</td>\n",
              "      <td>2</td>\n",
              "      <td>med</td>\n",
              "      <td>low</td>\n",
              "      <td>unacc</td>\n",
              "    </tr>\n",
              "    <tr>\n",
              "      <th>4</th>\n",
              "      <td>vhigh</td>\n",
              "      <td>med</td>\n",
              "      <td>2</td>\n",
              "      <td>2</td>\n",
              "      <td>big</td>\n",
              "      <td>low</td>\n",
              "      <td>unacc</td>\n",
              "    </tr>\n",
              "    <tr>\n",
              "      <th>...</th>\n",
              "      <td>...</td>\n",
              "      <td>...</td>\n",
              "      <td>...</td>\n",
              "      <td>...</td>\n",
              "      <td>...</td>\n",
              "      <td>...</td>\n",
              "      <td>...</td>\n",
              "    </tr>\n",
              "    <tr>\n",
              "      <th>57</th>\n",
              "      <td>high</td>\n",
              "      <td>vhigh</td>\n",
              "      <td>4</td>\n",
              "      <td>2</td>\n",
              "      <td>med</td>\n",
              "      <td>low</td>\n",
              "      <td>unacc</td>\n",
              "    </tr>\n",
              "    <tr>\n",
              "      <th>58</th>\n",
              "      <td>high</td>\n",
              "      <td>vhigh</td>\n",
              "      <td>4</td>\n",
              "      <td>2</td>\n",
              "      <td>med</td>\n",
              "      <td>med</td>\n",
              "      <td>unacc</td>\n",
              "    </tr>\n",
              "    <tr>\n",
              "      <th>59</th>\n",
              "      <td>high</td>\n",
              "      <td>vhigh</td>\n",
              "      <td>4</td>\n",
              "      <td>2</td>\n",
              "      <td>med</td>\n",
              "      <td>high</td>\n",
              "      <td>unacc</td>\n",
              "    </tr>\n",
              "    <tr>\n",
              "      <th>60</th>\n",
              "      <td>high</td>\n",
              "      <td>vhigh</td>\n",
              "      <td>4</td>\n",
              "      <td>2</td>\n",
              "      <td>big</td>\n",
              "      <td>low</td>\n",
              "      <td>unacc</td>\n",
              "    </tr>\n",
              "    <tr>\n",
              "      <th>61</th>\n",
              "      <td>high</td>\n",
              "      <td>vhigh</td>\n",
              "      <td>4</td>\n",
              "      <td>2</td>\n",
              "      <td>big</td>\n",
              "      <td>med</td>\n",
              "      <td>unacc</td>\n",
              "    </tr>\n",
              "  </tbody>\n",
              "</table>\n",
              "<p>62 rows × 7 columns</p>\n",
              "</div>"
            ],
            "text/plain": [
              "   buying  maint   doors  persons  lug_boot  safety class \n",
              "0    high  vhigh       2        2     small     low  unacc\n",
              "1    high  vhigh       2        2     small     med  unacc\n",
              "2    high  vhigh       2        2     small    high  unacc\n",
              "3    high  vhigh       2        2       med     low  unacc\n",
              "4   vhigh    med       2        2       big     low  unacc\n",
              "..    ...    ...     ...      ...       ...     ...    ...\n",
              "57   high  vhigh       4        2       med     low  unacc\n",
              "58   high  vhigh       4        2       med     med  unacc\n",
              "59   high  vhigh       4        2       med    high  unacc\n",
              "60   high  vhigh       4        2       big     low  unacc\n",
              "61   high  vhigh       4        2       big     med  unacc\n",
              "\n",
              "[62 rows x 7 columns]"
            ]
          },
          "metadata": {},
          "execution_count": 172
        }
      ]
    },
    {
      "cell_type": "markdown",
      "metadata": {
        "id": "F7x-XBlTthFw"
      },
      "source": [
        "class\t클래스 (종속변수)\n",
        "\n",
        "buying\t구매가격\n",
        "\n",
        "maint\t유지보수비용\n",
        "\n",
        "doors\t문의 개수\n",
        "\n",
        "persons\t좌석 수\n",
        "\n",
        "lug_boot\t짐칸 크기\n",
        "\n",
        "safety\t안전"
      ]
    },
    {
      "cell_type": "code",
      "metadata": {
        "colab": {
          "base_uri": "https://localhost:8080/",
          "height": 206
        },
        "id": "dp3kjnsLwvSN",
        "outputId": "e1191721-0834-405d-c639-c8469a744a7c"
      },
      "source": [
        "#위에서 5개 데이터 출력\n",
        "data.head()"
      ],
      "execution_count": null,
      "outputs": [
        {
          "output_type": "execute_result",
          "data": {
            "text/html": [
              "<div>\n",
              "<style scoped>\n",
              "    .dataframe tbody tr th:only-of-type {\n",
              "        vertical-align: middle;\n",
              "    }\n",
              "\n",
              "    .dataframe tbody tr th {\n",
              "        vertical-align: top;\n",
              "    }\n",
              "\n",
              "    .dataframe thead th {\n",
              "        text-align: right;\n",
              "    }\n",
              "</style>\n",
              "<table border=\"1\" class=\"dataframe\">\n",
              "  <thead>\n",
              "    <tr style=\"text-align: right;\">\n",
              "      <th></th>\n",
              "      <th>buying</th>\n",
              "      <th>maint</th>\n",
              "      <th>doors</th>\n",
              "      <th>persons</th>\n",
              "      <th>lug_boot</th>\n",
              "      <th>safety</th>\n",
              "      <th>class</th>\n",
              "    </tr>\n",
              "  </thead>\n",
              "  <tbody>\n",
              "    <tr>\n",
              "      <th>0</th>\n",
              "      <td>high</td>\n",
              "      <td>vhigh</td>\n",
              "      <td>2</td>\n",
              "      <td>2</td>\n",
              "      <td>small</td>\n",
              "      <td>low</td>\n",
              "      <td>unacc</td>\n",
              "    </tr>\n",
              "    <tr>\n",
              "      <th>1</th>\n",
              "      <td>high</td>\n",
              "      <td>vhigh</td>\n",
              "      <td>2</td>\n",
              "      <td>2</td>\n",
              "      <td>small</td>\n",
              "      <td>med</td>\n",
              "      <td>unacc</td>\n",
              "    </tr>\n",
              "    <tr>\n",
              "      <th>2</th>\n",
              "      <td>high</td>\n",
              "      <td>vhigh</td>\n",
              "      <td>2</td>\n",
              "      <td>2</td>\n",
              "      <td>small</td>\n",
              "      <td>high</td>\n",
              "      <td>unacc</td>\n",
              "    </tr>\n",
              "    <tr>\n",
              "      <th>3</th>\n",
              "      <td>high</td>\n",
              "      <td>vhigh</td>\n",
              "      <td>2</td>\n",
              "      <td>2</td>\n",
              "      <td>med</td>\n",
              "      <td>low</td>\n",
              "      <td>unacc</td>\n",
              "    </tr>\n",
              "    <tr>\n",
              "      <th>4</th>\n",
              "      <td>vhigh</td>\n",
              "      <td>med</td>\n",
              "      <td>2</td>\n",
              "      <td>2</td>\n",
              "      <td>big</td>\n",
              "      <td>low</td>\n",
              "      <td>unacc</td>\n",
              "    </tr>\n",
              "  </tbody>\n",
              "</table>\n",
              "</div>"
            ],
            "text/plain": [
              "  buying  maint   doors  persons  lug_boot  safety class \n",
              "0   high  vhigh       2        2     small     low  unacc\n",
              "1   high  vhigh       2        2     small     med  unacc\n",
              "2   high  vhigh       2        2     small    high  unacc\n",
              "3   high  vhigh       2        2       med     low  unacc\n",
              "4  vhigh    med       2        2       big     low  unacc"
            ]
          },
          "metadata": {},
          "execution_count": 178
        }
      ]
    },
    {
      "cell_type": "code",
      "metadata": {
        "colab": {
          "base_uri": "https://localhost:8080/",
          "height": 206
        },
        "id": "dFXuVnetw2xf",
        "outputId": "d4794004-5d3a-4943-d880-cddd02b77db6"
      },
      "source": [
        "#아래에서 5개 데이터 출력\n",
        "data.tail()"
      ],
      "execution_count": null,
      "outputs": [
        {
          "output_type": "execute_result",
          "data": {
            "text/html": [
              "<div>\n",
              "<style scoped>\n",
              "    .dataframe tbody tr th:only-of-type {\n",
              "        vertical-align: middle;\n",
              "    }\n",
              "\n",
              "    .dataframe tbody tr th {\n",
              "        vertical-align: top;\n",
              "    }\n",
              "\n",
              "    .dataframe thead th {\n",
              "        text-align: right;\n",
              "    }\n",
              "</style>\n",
              "<table border=\"1\" class=\"dataframe\">\n",
              "  <thead>\n",
              "    <tr style=\"text-align: right;\">\n",
              "      <th></th>\n",
              "      <th>buying</th>\n",
              "      <th>maint</th>\n",
              "      <th>doors</th>\n",
              "      <th>persons</th>\n",
              "      <th>lug_boot</th>\n",
              "      <th>safety</th>\n",
              "      <th>class</th>\n",
              "    </tr>\n",
              "  </thead>\n",
              "  <tbody>\n",
              "    <tr>\n",
              "      <th>57</th>\n",
              "      <td>high</td>\n",
              "      <td>vhigh</td>\n",
              "      <td>4</td>\n",
              "      <td>2</td>\n",
              "      <td>med</td>\n",
              "      <td>low</td>\n",
              "      <td>unacc</td>\n",
              "    </tr>\n",
              "    <tr>\n",
              "      <th>58</th>\n",
              "      <td>high</td>\n",
              "      <td>vhigh</td>\n",
              "      <td>4</td>\n",
              "      <td>2</td>\n",
              "      <td>med</td>\n",
              "      <td>med</td>\n",
              "      <td>unacc</td>\n",
              "    </tr>\n",
              "    <tr>\n",
              "      <th>59</th>\n",
              "      <td>high</td>\n",
              "      <td>vhigh</td>\n",
              "      <td>4</td>\n",
              "      <td>2</td>\n",
              "      <td>med</td>\n",
              "      <td>high</td>\n",
              "      <td>unacc</td>\n",
              "    </tr>\n",
              "    <tr>\n",
              "      <th>60</th>\n",
              "      <td>high</td>\n",
              "      <td>vhigh</td>\n",
              "      <td>4</td>\n",
              "      <td>2</td>\n",
              "      <td>big</td>\n",
              "      <td>low</td>\n",
              "      <td>unacc</td>\n",
              "    </tr>\n",
              "    <tr>\n",
              "      <th>61</th>\n",
              "      <td>high</td>\n",
              "      <td>vhigh</td>\n",
              "      <td>4</td>\n",
              "      <td>2</td>\n",
              "      <td>big</td>\n",
              "      <td>med</td>\n",
              "      <td>unacc</td>\n",
              "    </tr>\n",
              "  </tbody>\n",
              "</table>\n",
              "</div>"
            ],
            "text/plain": [
              "   buying  maint   doors  persons  lug_boot  safety class \n",
              "57   high  vhigh       4        2       med     low  unacc\n",
              "58   high  vhigh       4        2       med     med  unacc\n",
              "59   high  vhigh       4        2       med    high  unacc\n",
              "60   high  vhigh       4        2       big     low  unacc\n",
              "61   high  vhigh       4        2       big     med  unacc"
            ]
          },
          "metadata": {},
          "execution_count": 175
        }
      ]
    },
    {
      "cell_type": "code",
      "metadata": {
        "colab": {
          "base_uri": "https://localhost:8080/",
          "height": 300
        },
        "id": "MiSqtsRTw6pE",
        "outputId": "0f2c0aeb-bfa4-4c45-84b3-4e17c06635ca"
      },
      "source": [
        "#수치데이터의 기초통계량 계산\n",
        "data.describe()"
      ],
      "execution_count": null,
      "outputs": [
        {
          "output_type": "execute_result",
          "data": {
            "text/html": [
              "<div>\n",
              "<style scoped>\n",
              "    .dataframe tbody tr th:only-of-type {\n",
              "        vertical-align: middle;\n",
              "    }\n",
              "\n",
              "    .dataframe tbody tr th {\n",
              "        vertical-align: top;\n",
              "    }\n",
              "\n",
              "    .dataframe thead th {\n",
              "        text-align: right;\n",
              "    }\n",
              "</style>\n",
              "<table border=\"1\" class=\"dataframe\">\n",
              "  <thead>\n",
              "    <tr style=\"text-align: right;\">\n",
              "      <th></th>\n",
              "      <th>doors</th>\n",
              "    </tr>\n",
              "  </thead>\n",
              "  <tbody>\n",
              "    <tr>\n",
              "      <th>count</th>\n",
              "      <td>62.000000</td>\n",
              "    </tr>\n",
              "    <tr>\n",
              "      <th>mean</th>\n",
              "      <td>2.693548</td>\n",
              "    </tr>\n",
              "    <tr>\n",
              "      <th>std</th>\n",
              "      <td>0.691606</td>\n",
              "    </tr>\n",
              "    <tr>\n",
              "      <th>min</th>\n",
              "      <td>2.000000</td>\n",
              "    </tr>\n",
              "    <tr>\n",
              "      <th>25%</th>\n",
              "      <td>2.000000</td>\n",
              "    </tr>\n",
              "    <tr>\n",
              "      <th>50%</th>\n",
              "      <td>3.000000</td>\n",
              "    </tr>\n",
              "    <tr>\n",
              "      <th>75%</th>\n",
              "      <td>3.000000</td>\n",
              "    </tr>\n",
              "    <tr>\n",
              "      <th>max</th>\n",
              "      <td>4.000000</td>\n",
              "    </tr>\n",
              "  </tbody>\n",
              "</table>\n",
              "</div>"
            ],
            "text/plain": [
              "           doors\n",
              "count  62.000000\n",
              "mean    2.693548\n",
              "std     0.691606\n",
              "min     2.000000\n",
              "25%     2.000000\n",
              "50%     3.000000\n",
              "75%     3.000000\n",
              "max     4.000000"
            ]
          },
          "metadata": {},
          "execution_count": 179
        }
      ]
    },
    {
      "cell_type": "markdown",
      "metadata": {
        "id": "_M1c_l5Mw9-A"
      },
      "source": [
        "describe 기능은 기초적인 통계량을 요약하여 나타낼 수 있는 편리한 기능입니다.\n",
        "\n",
        "그런데 문자열로 이루어진 데이터가 많아서 하나만 표현이 됩니다."
      ]
    },
    {
      "cell_type": "code",
      "metadata": {
        "colab": {
          "base_uri": "https://localhost:8080/"
        },
        "id": "_wlUJY_0xH2j",
        "outputId": "a7aa6f04-c10e-4e08-b68c-5a8ce9f0430c"
      },
      "source": [
        "data.columns"
      ],
      "execution_count": null,
      "outputs": [
        {
          "output_type": "execute_result",
          "data": {
            "text/plain": [
              "Index(['buying', ' maint', ' doors', ' persons', ' lug_boot', ' safety',\n",
              "       'class '],\n",
              "      dtype='object')"
            ]
          },
          "metadata": {},
          "execution_count": 180
        }
      ]
    },
    {
      "cell_type": "markdown",
      "metadata": {
        "id": "se2trXEaxYD2"
      },
      "source": [
        "columns 기능을 활용하면 데이터에 포함된 칼럼 인덱스를 확인할 수 있습니다.\n",
        "\n",
        "이 중 문자열 데이터는 모두 숫자로 변환하겠습니다."
      ]
    },
    {
      "cell_type": "code",
      "metadata": {
        "colab": {
          "base_uri": "https://localhost:8080/"
        },
        "id": "ykGZOOlcxOBl",
        "outputId": "0b66bf8a-45f1-4ac6-e860-094f42eeddd2"
      },
      "source": [
        "['buying', ' maint', ' doors', ' persons', ' lug_boot', ' safety', 'class ']"
      ],
      "execution_count": null,
      "outputs": [
        {
          "output_type": "execute_result",
          "data": {
            "text/plain": [
              "['buying', ' maint', ' doors', ' persons', ' lug_boot', ' safety', 'class ']"
            ]
          },
          "metadata": {},
          "execution_count": 181
        }
      ]
    },
    {
      "cell_type": "code",
      "metadata": {
        "id": "QJ_zjh8fBmrK"
      },
      "source": [
        "columns = ['buying', ' maint', ' lug_boot', ' safety', 'class ']\n",
        "\n",
        "for col in columns: #반복문 정의, 리스트 값을 하나씩 반복\n",
        "    le = LabelEncoder() #명목형 데이터를 숫자로 변환하는 기능\n",
        "    le.fit(data[col]) #숫자 매칭 부여\n",
        "    data[col] = le.transform(data[col]) #실제 변환"
      ],
      "execution_count": null,
      "outputs": []
    },
    {
      "cell_type": "code",
      "metadata": {
        "colab": {
          "base_uri": "https://localhost:8080/",
          "height": 300
        },
        "id": "IheS64qNxlzy",
        "outputId": "c0160750-8f80-4080-cb57-fba522e58eff"
      },
      "source": [
        "data.describe()"
      ],
      "execution_count": null,
      "outputs": [
        {
          "output_type": "execute_result",
          "data": {
            "text/html": [
              "<div>\n",
              "<style scoped>\n",
              "    .dataframe tbody tr th:only-of-type {\n",
              "        vertical-align: middle;\n",
              "    }\n",
              "\n",
              "    .dataframe tbody tr th {\n",
              "        vertical-align: top;\n",
              "    }\n",
              "\n",
              "    .dataframe thead th {\n",
              "        text-align: right;\n",
              "    }\n",
              "</style>\n",
              "<table border=\"1\" class=\"dataframe\">\n",
              "  <thead>\n",
              "    <tr style=\"text-align: right;\">\n",
              "      <th></th>\n",
              "      <th>buying</th>\n",
              "      <th>maint</th>\n",
              "      <th>doors</th>\n",
              "      <th>lug_boot</th>\n",
              "      <th>safety</th>\n",
              "      <th>class</th>\n",
              "    </tr>\n",
              "  </thead>\n",
              "  <tbody>\n",
              "    <tr>\n",
              "      <th>count</th>\n",
              "      <td>62.000000</td>\n",
              "      <td>62.000000</td>\n",
              "      <td>62.000000</td>\n",
              "      <td>62.000000</td>\n",
              "      <td>62.000000</td>\n",
              "      <td>62.0</td>\n",
              "    </tr>\n",
              "    <tr>\n",
              "      <th>mean</th>\n",
              "      <td>0.016129</td>\n",
              "      <td>0.983871</td>\n",
              "      <td>2.693548</td>\n",
              "      <td>1.000000</td>\n",
              "      <td>1.000000</td>\n",
              "      <td>0.0</td>\n",
              "    </tr>\n",
              "    <tr>\n",
              "      <th>std</th>\n",
              "      <td>0.127000</td>\n",
              "      <td>0.127000</td>\n",
              "      <td>0.691606</td>\n",
              "      <td>0.829774</td>\n",
              "      <td>0.809776</td>\n",
              "      <td>0.0</td>\n",
              "    </tr>\n",
              "    <tr>\n",
              "      <th>min</th>\n",
              "      <td>0.000000</td>\n",
              "      <td>0.000000</td>\n",
              "      <td>2.000000</td>\n",
              "      <td>0.000000</td>\n",
              "      <td>0.000000</td>\n",
              "      <td>0.0</td>\n",
              "    </tr>\n",
              "    <tr>\n",
              "      <th>25%</th>\n",
              "      <td>0.000000</td>\n",
              "      <td>1.000000</td>\n",
              "      <td>2.000000</td>\n",
              "      <td>0.000000</td>\n",
              "      <td>0.000000</td>\n",
              "      <td>0.0</td>\n",
              "    </tr>\n",
              "    <tr>\n",
              "      <th>50%</th>\n",
              "      <td>0.000000</td>\n",
              "      <td>1.000000</td>\n",
              "      <td>3.000000</td>\n",
              "      <td>1.000000</td>\n",
              "      <td>1.000000</td>\n",
              "      <td>0.0</td>\n",
              "    </tr>\n",
              "    <tr>\n",
              "      <th>75%</th>\n",
              "      <td>0.000000</td>\n",
              "      <td>1.000000</td>\n",
              "      <td>3.000000</td>\n",
              "      <td>2.000000</td>\n",
              "      <td>2.000000</td>\n",
              "      <td>0.0</td>\n",
              "    </tr>\n",
              "    <tr>\n",
              "      <th>max</th>\n",
              "      <td>1.000000</td>\n",
              "      <td>1.000000</td>\n",
              "      <td>4.000000</td>\n",
              "      <td>2.000000</td>\n",
              "      <td>2.000000</td>\n",
              "      <td>0.0</td>\n",
              "    </tr>\n",
              "  </tbody>\n",
              "</table>\n",
              "</div>"
            ],
            "text/plain": [
              "          buying      maint      doors   lug_boot     safety  class \n",
              "count  62.000000  62.000000  62.000000  62.000000  62.000000    62.0\n",
              "mean    0.016129   0.983871   2.693548   1.000000   1.000000     0.0\n",
              "std     0.127000   0.127000   0.691606   0.829774   0.809776     0.0\n",
              "min     0.000000   0.000000   2.000000   0.000000   0.000000     0.0\n",
              "25%     0.000000   1.000000   2.000000   0.000000   0.000000     0.0\n",
              "50%     0.000000   1.000000   3.000000   1.000000   1.000000     0.0\n",
              "75%     0.000000   1.000000   3.000000   2.000000   2.000000     0.0\n",
              "max     1.000000   1.000000   4.000000   2.000000   2.000000     0.0"
            ]
          },
          "metadata": {},
          "execution_count": 183
        }
      ]
    },
    {
      "cell_type": "markdown",
      "metadata": {
        "id": "0vKZC6fLxnPd"
      },
      "source": [
        "이렇게 describe()에 많은 데이터에 대한 기초 통계량을 구했습니다.\n",
        "\n",
        "문자열에서 숫자로 변환한 값의 경우 통계량을 해석할 때 주의해야 합니다"
      ]
    },
    {
      "cell_type": "markdown",
      "metadata": {
        "id": "eV9qSqfbxwNp"
      },
      "source": [
        "그런데 또 person에 해당하는 칼럼이 없습니다."
      ]
    },
    {
      "cell_type": "code",
      "metadata": {
        "colab": {
          "base_uri": "https://localhost:8080/"
        },
        "id": "eUcnzhQlx0RR",
        "outputId": "c39051e4-43a3-41e6-c1c4-303d8b738899"
      },
      "source": [
        "data[\" persons\"].values"
      ],
      "execution_count": null,
      "outputs": [
        {
          "output_type": "execute_result",
          "data": {
            "text/plain": [
              "array([2, 2, 2, 2, 2, 2, 2, 2, 2, 4, 4, 4, 4, 4, 4, 4, 4, 4, 'more',\n",
              "       'more', 'more', 'more', 'more', 'more', 'more', 'more', 'more', 2,\n",
              "       2, 2, 2, 2, 2, 2, 2, 2, 4, 4, 4, 4, 4, 4, 4, 4, 4, 'more', 'more',\n",
              "       'more', 'more', 'more', 'more', 'more', 'more', 'more', 2, 2, 2, 2,\n",
              "       2, 2, 2, 2], dtype=object)"
            ]
          },
          "metadata": {},
          "execution_count": 184
        }
      ]
    },
    {
      "cell_type": "markdown",
      "metadata": {
        "id": "6FLIoY3jx4tn"
      },
      "source": [
        "데이터를 확인해보니 more이라는 문자열 값이 있어서 decribe() 기능을 쓸 수 없었던 것입니다.\n",
        "\n",
        "이를 replace 기능으로 바꿔주겠습니다"
      ]
    },
    {
      "cell_type": "code",
      "metadata": {
        "id": "tJzhDjpiBmrL"
      },
      "source": [
        "#replace를 활용해서 특정값을 변환 가능\n",
        "data[\" persons\"] = data[\" persons\"].replace(\"more\", 6) "
      ],
      "execution_count": null,
      "outputs": []
    },
    {
      "cell_type": "code",
      "metadata": {
        "id": "J_1U7Ve0BmrL"
      },
      "source": [
        "data[\" persons\"] = data[\" persons\"].astype(int)"
      ],
      "execution_count": null,
      "outputs": []
    },
    {
      "cell_type": "code",
      "metadata": {
        "colab": {
          "base_uri": "https://localhost:8080/",
          "height": 300
        },
        "id": "Iv2GFIIXBmrL",
        "outputId": "8ebadebf-f40d-4e69-e79b-a99d54dba029"
      },
      "source": [
        "data.describe()"
      ],
      "execution_count": null,
      "outputs": [
        {
          "output_type": "execute_result",
          "data": {
            "text/html": [
              "<div>\n",
              "<style scoped>\n",
              "    .dataframe tbody tr th:only-of-type {\n",
              "        vertical-align: middle;\n",
              "    }\n",
              "\n",
              "    .dataframe tbody tr th {\n",
              "        vertical-align: top;\n",
              "    }\n",
              "\n",
              "    .dataframe thead th {\n",
              "        text-align: right;\n",
              "    }\n",
              "</style>\n",
              "<table border=\"1\" class=\"dataframe\">\n",
              "  <thead>\n",
              "    <tr style=\"text-align: right;\">\n",
              "      <th></th>\n",
              "      <th>buying</th>\n",
              "      <th>maint</th>\n",
              "      <th>doors</th>\n",
              "      <th>persons</th>\n",
              "      <th>lug_boot</th>\n",
              "      <th>safety</th>\n",
              "      <th>class</th>\n",
              "    </tr>\n",
              "  </thead>\n",
              "  <tbody>\n",
              "    <tr>\n",
              "      <th>count</th>\n",
              "      <td>62.000000</td>\n",
              "      <td>62.000000</td>\n",
              "      <td>62.000000</td>\n",
              "      <td>62.000000</td>\n",
              "      <td>62.000000</td>\n",
              "      <td>62.000000</td>\n",
              "      <td>62.0</td>\n",
              "    </tr>\n",
              "    <tr>\n",
              "      <th>mean</th>\n",
              "      <td>0.016129</td>\n",
              "      <td>0.983871</td>\n",
              "      <td>2.693548</td>\n",
              "      <td>3.741935</td>\n",
              "      <td>1.000000</td>\n",
              "      <td>1.000000</td>\n",
              "      <td>0.0</td>\n",
              "    </tr>\n",
              "    <tr>\n",
              "      <th>std</th>\n",
              "      <td>0.127000</td>\n",
              "      <td>0.127000</td>\n",
              "      <td>0.691606</td>\n",
              "      <td>1.678558</td>\n",
              "      <td>0.829774</td>\n",
              "      <td>0.809776</td>\n",
              "      <td>0.0</td>\n",
              "    </tr>\n",
              "    <tr>\n",
              "      <th>min</th>\n",
              "      <td>0.000000</td>\n",
              "      <td>0.000000</td>\n",
              "      <td>2.000000</td>\n",
              "      <td>2.000000</td>\n",
              "      <td>0.000000</td>\n",
              "      <td>0.000000</td>\n",
              "      <td>0.0</td>\n",
              "    </tr>\n",
              "    <tr>\n",
              "      <th>25%</th>\n",
              "      <td>0.000000</td>\n",
              "      <td>1.000000</td>\n",
              "      <td>2.000000</td>\n",
              "      <td>2.000000</td>\n",
              "      <td>0.000000</td>\n",
              "      <td>0.000000</td>\n",
              "      <td>0.0</td>\n",
              "    </tr>\n",
              "    <tr>\n",
              "      <th>50%</th>\n",
              "      <td>0.000000</td>\n",
              "      <td>1.000000</td>\n",
              "      <td>3.000000</td>\n",
              "      <td>4.000000</td>\n",
              "      <td>1.000000</td>\n",
              "      <td>1.000000</td>\n",
              "      <td>0.0</td>\n",
              "    </tr>\n",
              "    <tr>\n",
              "      <th>75%</th>\n",
              "      <td>0.000000</td>\n",
              "      <td>1.000000</td>\n",
              "      <td>3.000000</td>\n",
              "      <td>6.000000</td>\n",
              "      <td>2.000000</td>\n",
              "      <td>2.000000</td>\n",
              "      <td>0.0</td>\n",
              "    </tr>\n",
              "    <tr>\n",
              "      <th>max</th>\n",
              "      <td>1.000000</td>\n",
              "      <td>1.000000</td>\n",
              "      <td>4.000000</td>\n",
              "      <td>6.000000</td>\n",
              "      <td>2.000000</td>\n",
              "      <td>2.000000</td>\n",
              "      <td>0.0</td>\n",
              "    </tr>\n",
              "  </tbody>\n",
              "</table>\n",
              "</div>"
            ],
            "text/plain": [
              "          buying      maint      doors    persons   lug_boot     safety  class \n",
              "count  62.000000  62.000000  62.000000  62.000000  62.000000  62.000000    62.0\n",
              "mean    0.016129   0.983871   2.693548   3.741935   1.000000   1.000000     0.0\n",
              "std     0.127000   0.127000   0.691606   1.678558   0.829774   0.809776     0.0\n",
              "min     0.000000   0.000000   2.000000   2.000000   0.000000   0.000000     0.0\n",
              "25%     0.000000   1.000000   2.000000   2.000000   0.000000   0.000000     0.0\n",
              "50%     0.000000   1.000000   3.000000   4.000000   1.000000   1.000000     0.0\n",
              "75%     0.000000   1.000000   3.000000   6.000000   2.000000   2.000000     0.0\n",
              "max     1.000000   1.000000   4.000000   6.000000   2.000000   2.000000     0.0"
            ]
          },
          "metadata": {},
          "execution_count": 187
        }
      ]
    },
    {
      "cell_type": "markdown",
      "metadata": {
        "id": "O3AIZCwp0Oyu"
      },
      "source": [
        "string 값을 int로 대체하고 칼럼값의 type을 int로 변환하여 describe로 표현했습니다."
      ]
    },
    {
      "cell_type": "markdown",
      "metadata": {
        "id": "jYp_UVBn0TZW"
      },
      "source": [
        "이제 Pandas 데이터프레임을 slice(자르기)하는 실습을 해보겠습니다."
      ]
    },
    {
      "cell_type": "code",
      "metadata": {
        "colab": {
          "base_uri": "https://localhost:8080/",
          "height": 143
        },
        "id": "pPts1_Am0W1Z",
        "outputId": "ed9c7081-a5e6-4958-d04a-70ef6a476e6d"
      },
      "source": [
        "#0~2까지의 인덱스 row 값을 출력\n",
        "data[0:3]"
      ],
      "execution_count": null,
      "outputs": [
        {
          "output_type": "execute_result",
          "data": {
            "text/html": [
              "<div>\n",
              "<style scoped>\n",
              "    .dataframe tbody tr th:only-of-type {\n",
              "        vertical-align: middle;\n",
              "    }\n",
              "\n",
              "    .dataframe tbody tr th {\n",
              "        vertical-align: top;\n",
              "    }\n",
              "\n",
              "    .dataframe thead th {\n",
              "        text-align: right;\n",
              "    }\n",
              "</style>\n",
              "<table border=\"1\" class=\"dataframe\">\n",
              "  <thead>\n",
              "    <tr style=\"text-align: right;\">\n",
              "      <th></th>\n",
              "      <th>buying</th>\n",
              "      <th>maint</th>\n",
              "      <th>doors</th>\n",
              "      <th>persons</th>\n",
              "      <th>lug_boot</th>\n",
              "      <th>safety</th>\n",
              "      <th>class</th>\n",
              "    </tr>\n",
              "  </thead>\n",
              "  <tbody>\n",
              "    <tr>\n",
              "      <th>0</th>\n",
              "      <td>0</td>\n",
              "      <td>1</td>\n",
              "      <td>2</td>\n",
              "      <td>2</td>\n",
              "      <td>2</td>\n",
              "      <td>1</td>\n",
              "      <td>0</td>\n",
              "    </tr>\n",
              "    <tr>\n",
              "      <th>1</th>\n",
              "      <td>0</td>\n",
              "      <td>1</td>\n",
              "      <td>2</td>\n",
              "      <td>2</td>\n",
              "      <td>2</td>\n",
              "      <td>2</td>\n",
              "      <td>0</td>\n",
              "    </tr>\n",
              "    <tr>\n",
              "      <th>2</th>\n",
              "      <td>0</td>\n",
              "      <td>1</td>\n",
              "      <td>2</td>\n",
              "      <td>2</td>\n",
              "      <td>2</td>\n",
              "      <td>0</td>\n",
              "      <td>0</td>\n",
              "    </tr>\n",
              "  </tbody>\n",
              "</table>\n",
              "</div>"
            ],
            "text/plain": [
              "   buying   maint   doors   persons   lug_boot   safety  class \n",
              "0       0       1       2         2          2        1       0\n",
              "1       0       1       2         2          2        2       0\n",
              "2       0       1       2         2          2        0       0"
            ]
          },
          "metadata": {},
          "execution_count": 189
        }
      ]
    },
    {
      "cell_type": "code",
      "metadata": {
        "colab": {
          "base_uri": "https://localhost:8080/",
          "height": 175
        },
        "id": "o-x0Ip-2KNgi",
        "outputId": "9275e6ef-e95c-4b1d-bc03-142bfd014021"
      },
      "source": [
        "data[0:4]"
      ],
      "execution_count": null,
      "outputs": [
        {
          "output_type": "execute_result",
          "data": {
            "text/html": [
              "<div>\n",
              "<style scoped>\n",
              "    .dataframe tbody tr th:only-of-type {\n",
              "        vertical-align: middle;\n",
              "    }\n",
              "\n",
              "    .dataframe tbody tr th {\n",
              "        vertical-align: top;\n",
              "    }\n",
              "\n",
              "    .dataframe thead th {\n",
              "        text-align: right;\n",
              "    }\n",
              "</style>\n",
              "<table border=\"1\" class=\"dataframe\">\n",
              "  <thead>\n",
              "    <tr style=\"text-align: right;\">\n",
              "      <th></th>\n",
              "      <th>buying</th>\n",
              "      <th>maint</th>\n",
              "      <th>doors</th>\n",
              "      <th>persons</th>\n",
              "      <th>lug_boot</th>\n",
              "      <th>safety</th>\n",
              "      <th>class</th>\n",
              "    </tr>\n",
              "  </thead>\n",
              "  <tbody>\n",
              "    <tr>\n",
              "      <th>0</th>\n",
              "      <td>0</td>\n",
              "      <td>1</td>\n",
              "      <td>2</td>\n",
              "      <td>2</td>\n",
              "      <td>2</td>\n",
              "      <td>1</td>\n",
              "      <td>0</td>\n",
              "    </tr>\n",
              "    <tr>\n",
              "      <th>1</th>\n",
              "      <td>0</td>\n",
              "      <td>1</td>\n",
              "      <td>2</td>\n",
              "      <td>2</td>\n",
              "      <td>2</td>\n",
              "      <td>2</td>\n",
              "      <td>0</td>\n",
              "    </tr>\n",
              "    <tr>\n",
              "      <th>2</th>\n",
              "      <td>0</td>\n",
              "      <td>1</td>\n",
              "      <td>2</td>\n",
              "      <td>2</td>\n",
              "      <td>2</td>\n",
              "      <td>0</td>\n",
              "      <td>0</td>\n",
              "    </tr>\n",
              "    <tr>\n",
              "      <th>3</th>\n",
              "      <td>0</td>\n",
              "      <td>1</td>\n",
              "      <td>2</td>\n",
              "      <td>2</td>\n",
              "      <td>1</td>\n",
              "      <td>1</td>\n",
              "      <td>0</td>\n",
              "    </tr>\n",
              "  </tbody>\n",
              "</table>\n",
              "</div>"
            ],
            "text/plain": [
              "   buying   maint   doors   persons   lug_boot   safety  class \n",
              "0       0       1       2         2          2        1       0\n",
              "1       0       1       2         2          2        2       0\n",
              "2       0       1       2         2          2        0       0\n",
              "3       0       1       2         2          1        1       0"
            ]
          },
          "metadata": {},
          "execution_count": 190
        }
      ]
    },
    {
      "cell_type": "code",
      "metadata": {
        "colab": {
          "base_uri": "https://localhost:8080/",
          "height": 143
        },
        "id": "qxOWmWgEKUOB",
        "outputId": "0af19b58-16cd-4b27-82c4-06a249d3ed5d"
      },
      "source": [
        "data[1:4]"
      ],
      "execution_count": null,
      "outputs": [
        {
          "output_type": "execute_result",
          "data": {
            "text/html": [
              "<div>\n",
              "<style scoped>\n",
              "    .dataframe tbody tr th:only-of-type {\n",
              "        vertical-align: middle;\n",
              "    }\n",
              "\n",
              "    .dataframe tbody tr th {\n",
              "        vertical-align: top;\n",
              "    }\n",
              "\n",
              "    .dataframe thead th {\n",
              "        text-align: right;\n",
              "    }\n",
              "</style>\n",
              "<table border=\"1\" class=\"dataframe\">\n",
              "  <thead>\n",
              "    <tr style=\"text-align: right;\">\n",
              "      <th></th>\n",
              "      <th>buying</th>\n",
              "      <th>maint</th>\n",
              "      <th>doors</th>\n",
              "      <th>persons</th>\n",
              "      <th>lug_boot</th>\n",
              "      <th>safety</th>\n",
              "      <th>class</th>\n",
              "    </tr>\n",
              "  </thead>\n",
              "  <tbody>\n",
              "    <tr>\n",
              "      <th>1</th>\n",
              "      <td>0</td>\n",
              "      <td>1</td>\n",
              "      <td>2</td>\n",
              "      <td>2</td>\n",
              "      <td>2</td>\n",
              "      <td>2</td>\n",
              "      <td>0</td>\n",
              "    </tr>\n",
              "    <tr>\n",
              "      <th>2</th>\n",
              "      <td>0</td>\n",
              "      <td>1</td>\n",
              "      <td>2</td>\n",
              "      <td>2</td>\n",
              "      <td>2</td>\n",
              "      <td>0</td>\n",
              "      <td>0</td>\n",
              "    </tr>\n",
              "    <tr>\n",
              "      <th>3</th>\n",
              "      <td>0</td>\n",
              "      <td>1</td>\n",
              "      <td>2</td>\n",
              "      <td>2</td>\n",
              "      <td>1</td>\n",
              "      <td>1</td>\n",
              "      <td>0</td>\n",
              "    </tr>\n",
              "  </tbody>\n",
              "</table>\n",
              "</div>"
            ],
            "text/plain": [
              "   buying   maint   doors   persons   lug_boot   safety  class \n",
              "1       0       1       2         2          2        2       0\n",
              "2       0       1       2         2          2        0       0\n",
              "3       0       1       2         2          1        1       0"
            ]
          },
          "metadata": {},
          "execution_count": 191
        }
      ]
    },
    {
      "cell_type": "code",
      "metadata": {
        "colab": {
          "base_uri": "https://localhost:8080/",
          "height": 174
        },
        "id": "W5B22U6L0mq5",
        "outputId": "0c4436ea-b89c-43d0-be32-584b41f433ef"
      },
      "source": [
        "#0~3까지의 인덱스 row 값을 출력\n",
        "data.loc[0:3]"
      ],
      "execution_count": null,
      "outputs": [
        {
          "output_type": "execute_result",
          "data": {
            "text/html": [
              "<div>\n",
              "<style scoped>\n",
              "    .dataframe tbody tr th:only-of-type {\n",
              "        vertical-align: middle;\n",
              "    }\n",
              "\n",
              "    .dataframe tbody tr th {\n",
              "        vertical-align: top;\n",
              "    }\n",
              "\n",
              "    .dataframe thead th {\n",
              "        text-align: right;\n",
              "    }\n",
              "</style>\n",
              "<table border=\"1\" class=\"dataframe\">\n",
              "  <thead>\n",
              "    <tr style=\"text-align: right;\">\n",
              "      <th></th>\n",
              "      <th>buying</th>\n",
              "      <th>maint</th>\n",
              "      <th>doors</th>\n",
              "      <th>persons</th>\n",
              "      <th>lug_boot</th>\n",
              "      <th>safety</th>\n",
              "      <th>class</th>\n",
              "    </tr>\n",
              "  </thead>\n",
              "  <tbody>\n",
              "    <tr>\n",
              "      <th>0</th>\n",
              "      <td>0</td>\n",
              "      <td>1</td>\n",
              "      <td>2</td>\n",
              "      <td>2</td>\n",
              "      <td>2</td>\n",
              "      <td>1</td>\n",
              "      <td>0</td>\n",
              "    </tr>\n",
              "    <tr>\n",
              "      <th>1</th>\n",
              "      <td>0</td>\n",
              "      <td>1</td>\n",
              "      <td>2</td>\n",
              "      <td>2</td>\n",
              "      <td>2</td>\n",
              "      <td>2</td>\n",
              "      <td>0</td>\n",
              "    </tr>\n",
              "    <tr>\n",
              "      <th>2</th>\n",
              "      <td>0</td>\n",
              "      <td>1</td>\n",
              "      <td>2</td>\n",
              "      <td>2</td>\n",
              "      <td>2</td>\n",
              "      <td>0</td>\n",
              "      <td>0</td>\n",
              "    </tr>\n",
              "    <tr>\n",
              "      <th>3</th>\n",
              "      <td>0</td>\n",
              "      <td>1</td>\n",
              "      <td>2</td>\n",
              "      <td>2</td>\n",
              "      <td>1</td>\n",
              "      <td>1</td>\n",
              "      <td>0</td>\n",
              "    </tr>\n",
              "  </tbody>\n",
              "</table>\n",
              "</div>"
            ],
            "text/plain": [
              "   buying   maint   doors  persons   lug_boot   safety  class \n",
              "0       0       1       2        2          2        1       0\n",
              "1       0       1       2        2          2        2       0\n",
              "2       0       1       2        2          2        0       0\n",
              "3       0       1       2        2          1        1       0"
            ]
          },
          "metadata": {},
          "execution_count": 17
        }
      ]
    },
    {
      "cell_type": "code",
      "metadata": {
        "colab": {
          "base_uri": "https://localhost:8080/",
          "height": 143
        },
        "id": "FEMqeNpxBmrM",
        "outputId": "9685a816-89ea-4061-af28-3ab7f10fbfcc"
      },
      "source": [
        "data.iloc[0:3,0:5] #iloc는 칼럼, row 인덱스 둘다 slicing 가능"
      ],
      "execution_count": null,
      "outputs": [
        {
          "output_type": "execute_result",
          "data": {
            "text/html": [
              "<div>\n",
              "<style scoped>\n",
              "    .dataframe tbody tr th:only-of-type {\n",
              "        vertical-align: middle;\n",
              "    }\n",
              "\n",
              "    .dataframe tbody tr th {\n",
              "        vertical-align: top;\n",
              "    }\n",
              "\n",
              "    .dataframe thead th {\n",
              "        text-align: right;\n",
              "    }\n",
              "</style>\n",
              "<table border=\"1\" class=\"dataframe\">\n",
              "  <thead>\n",
              "    <tr style=\"text-align: right;\">\n",
              "      <th></th>\n",
              "      <th>buying</th>\n",
              "      <th>maint</th>\n",
              "      <th>doors</th>\n",
              "      <th>persons</th>\n",
              "      <th>lug_boot</th>\n",
              "    </tr>\n",
              "  </thead>\n",
              "  <tbody>\n",
              "    <tr>\n",
              "      <th>0</th>\n",
              "      <td>0</td>\n",
              "      <td>1</td>\n",
              "      <td>2</td>\n",
              "      <td>2</td>\n",
              "      <td>2</td>\n",
              "    </tr>\n",
              "    <tr>\n",
              "      <th>1</th>\n",
              "      <td>0</td>\n",
              "      <td>1</td>\n",
              "      <td>2</td>\n",
              "      <td>2</td>\n",
              "      <td>2</td>\n",
              "    </tr>\n",
              "    <tr>\n",
              "      <th>2</th>\n",
              "      <td>0</td>\n",
              "      <td>1</td>\n",
              "      <td>2</td>\n",
              "      <td>2</td>\n",
              "      <td>2</td>\n",
              "    </tr>\n",
              "  </tbody>\n",
              "</table>\n",
              "</div>"
            ],
            "text/plain": [
              "   buying   maint   doors   persons   lug_boot\n",
              "0       0       1       2         2          2\n",
              "1       0       1       2         2          2\n",
              "2       0       1       2         2          2"
            ]
          },
          "metadata": {},
          "execution_count": 192
        }
      ]
    },
    {
      "cell_type": "code",
      "metadata": {
        "colab": {
          "base_uri": "https://localhost:8080/",
          "height": 175
        },
        "id": "uqleCSStBmrM",
        "outputId": "a246764b-eedd-44bf-c8b4-b63ba17dbf42"
      },
      "source": [
        "data.iloc[1:5,:]"
      ],
      "execution_count": null,
      "outputs": [
        {
          "output_type": "execute_result",
          "data": {
            "text/html": [
              "<div>\n",
              "<style scoped>\n",
              "    .dataframe tbody tr th:only-of-type {\n",
              "        vertical-align: middle;\n",
              "    }\n",
              "\n",
              "    .dataframe tbody tr th {\n",
              "        vertical-align: top;\n",
              "    }\n",
              "\n",
              "    .dataframe thead th {\n",
              "        text-align: right;\n",
              "    }\n",
              "</style>\n",
              "<table border=\"1\" class=\"dataframe\">\n",
              "  <thead>\n",
              "    <tr style=\"text-align: right;\">\n",
              "      <th></th>\n",
              "      <th>buying</th>\n",
              "      <th>maint</th>\n",
              "      <th>doors</th>\n",
              "      <th>persons</th>\n",
              "      <th>lug_boot</th>\n",
              "      <th>safety</th>\n",
              "      <th>class</th>\n",
              "    </tr>\n",
              "  </thead>\n",
              "  <tbody>\n",
              "    <tr>\n",
              "      <th>1</th>\n",
              "      <td>0</td>\n",
              "      <td>1</td>\n",
              "      <td>2</td>\n",
              "      <td>2</td>\n",
              "      <td>2</td>\n",
              "      <td>2</td>\n",
              "      <td>0</td>\n",
              "    </tr>\n",
              "    <tr>\n",
              "      <th>2</th>\n",
              "      <td>0</td>\n",
              "      <td>1</td>\n",
              "      <td>2</td>\n",
              "      <td>2</td>\n",
              "      <td>2</td>\n",
              "      <td>0</td>\n",
              "      <td>0</td>\n",
              "    </tr>\n",
              "    <tr>\n",
              "      <th>3</th>\n",
              "      <td>0</td>\n",
              "      <td>1</td>\n",
              "      <td>2</td>\n",
              "      <td>2</td>\n",
              "      <td>1</td>\n",
              "      <td>1</td>\n",
              "      <td>0</td>\n",
              "    </tr>\n",
              "    <tr>\n",
              "      <th>4</th>\n",
              "      <td>1</td>\n",
              "      <td>0</td>\n",
              "      <td>2</td>\n",
              "      <td>2</td>\n",
              "      <td>0</td>\n",
              "      <td>1</td>\n",
              "      <td>0</td>\n",
              "    </tr>\n",
              "  </tbody>\n",
              "</table>\n",
              "</div>"
            ],
            "text/plain": [
              "   buying   maint   doors   persons   lug_boot   safety  class \n",
              "1       0       1       2         2          2        2       0\n",
              "2       0       1       2         2          2        0       0\n",
              "3       0       1       2         2          1        1       0\n",
              "4       1       0       2         2          0        1       0"
            ]
          },
          "metadata": {},
          "execution_count": 194
        }
      ]
    },
    {
      "cell_type": "markdown",
      "metadata": {
        "id": "JblNkD7ZBmrM"
      },
      "source": [
        "[], loc[], iloc[]의 개념은 자주 사용되므로 쓸때마다 테스트를 몇번 해보고 사용하시면 됩니다."
      ]
    },
    {
      "cell_type": "markdown",
      "metadata": {
        "id": "swP-gYTNBmrM"
      },
      "source": [
        "이제 조건에 따라서 row 값을 선정할 수 있는 필터링 기능에 대해 알아보겠습니다."
      ]
    },
    {
      "cell_type": "code",
      "metadata": {
        "colab": {
          "base_uri": "https://localhost:8080/"
        },
        "id": "roa4dUuEBmrM",
        "outputId": "e9a440f9-e8a4-44ea-b21e-3b159669ad23"
      },
      "source": [
        "data.columns"
      ],
      "execution_count": null,
      "outputs": [
        {
          "output_type": "execute_result",
          "data": {
            "text/plain": [
              "Index(['buying', ' maint', ' doors', ' persons', ' lug_boot', ' safety',\n",
              "       'class '],\n",
              "      dtype='object')"
            ]
          },
          "metadata": {},
          "execution_count": 195
        }
      ]
    },
    {
      "cell_type": "code",
      "metadata": {
        "colab": {
          "base_uri": "https://localhost:8080/"
        },
        "id": "hAJtYL1gBmrM",
        "outputId": "4653e3ea-5ad1-4195-fdef-39aa5f7b5caa"
      },
      "source": [
        "data[\" persons\"]"
      ],
      "execution_count": null,
      "outputs": [
        {
          "output_type": "execute_result",
          "data": {
            "text/plain": [
              "0     2\n",
              "1     2\n",
              "2     2\n",
              "3     2\n",
              "4     2\n",
              "     ..\n",
              "57    2\n",
              "58    2\n",
              "59    2\n",
              "60    2\n",
              "61    2\n",
              "Name:  persons, Length: 62, dtype: int64"
            ]
          },
          "metadata": {},
          "execution_count": 196
        }
      ]
    },
    {
      "cell_type": "code",
      "metadata": {
        "colab": {
          "base_uri": "https://localhost:8080/"
        },
        "id": "ZW22iygJFqm9",
        "outputId": "7fa6156a-b991-4e32-f413-29d8521a2cfe"
      },
      "source": [
        "data[\" persons\"] == 2 #pandas 칼럼에 조건을 주면 True, False 형태로 나타남"
      ],
      "execution_count": null,
      "outputs": [
        {
          "output_type": "execute_result",
          "data": {
            "text/plain": [
              "0     True\n",
              "1     True\n",
              "2     True\n",
              "3     True\n",
              "4     True\n",
              "      ... \n",
              "57    True\n",
              "58    True\n",
              "59    True\n",
              "60    True\n",
              "61    True\n",
              "Name:  persons, Length: 62, dtype: bool"
            ]
          },
          "metadata": {},
          "execution_count": 197
        }
      ]
    },
    {
      "cell_type": "code",
      "metadata": {
        "colab": {
          "base_uri": "https://localhost:8080/",
          "height": 865
        },
        "id": "h5obtgztBmrM",
        "outputId": "f402daee-bcd7-46e1-9a36-ea47d8315cfb"
      },
      "source": [
        "data[data[\" persons\"] == 2]"
      ],
      "execution_count": null,
      "outputs": [
        {
          "output_type": "execute_result",
          "data": {
            "text/html": [
              "<div>\n",
              "<style scoped>\n",
              "    .dataframe tbody tr th:only-of-type {\n",
              "        vertical-align: middle;\n",
              "    }\n",
              "\n",
              "    .dataframe tbody tr th {\n",
              "        vertical-align: top;\n",
              "    }\n",
              "\n",
              "    .dataframe thead th {\n",
              "        text-align: right;\n",
              "    }\n",
              "</style>\n",
              "<table border=\"1\" class=\"dataframe\">\n",
              "  <thead>\n",
              "    <tr style=\"text-align: right;\">\n",
              "      <th></th>\n",
              "      <th>buying</th>\n",
              "      <th>maint</th>\n",
              "      <th>doors</th>\n",
              "      <th>persons</th>\n",
              "      <th>lug_boot</th>\n",
              "      <th>safety</th>\n",
              "      <th>class</th>\n",
              "    </tr>\n",
              "  </thead>\n",
              "  <tbody>\n",
              "    <tr>\n",
              "      <th>0</th>\n",
              "      <td>0</td>\n",
              "      <td>1</td>\n",
              "      <td>2</td>\n",
              "      <td>2</td>\n",
              "      <td>2</td>\n",
              "      <td>1</td>\n",
              "      <td>0</td>\n",
              "    </tr>\n",
              "    <tr>\n",
              "      <th>1</th>\n",
              "      <td>0</td>\n",
              "      <td>1</td>\n",
              "      <td>2</td>\n",
              "      <td>2</td>\n",
              "      <td>2</td>\n",
              "      <td>2</td>\n",
              "      <td>0</td>\n",
              "    </tr>\n",
              "    <tr>\n",
              "      <th>2</th>\n",
              "      <td>0</td>\n",
              "      <td>1</td>\n",
              "      <td>2</td>\n",
              "      <td>2</td>\n",
              "      <td>2</td>\n",
              "      <td>0</td>\n",
              "      <td>0</td>\n",
              "    </tr>\n",
              "    <tr>\n",
              "      <th>3</th>\n",
              "      <td>0</td>\n",
              "      <td>1</td>\n",
              "      <td>2</td>\n",
              "      <td>2</td>\n",
              "      <td>1</td>\n",
              "      <td>1</td>\n",
              "      <td>0</td>\n",
              "    </tr>\n",
              "    <tr>\n",
              "      <th>4</th>\n",
              "      <td>1</td>\n",
              "      <td>0</td>\n",
              "      <td>2</td>\n",
              "      <td>2</td>\n",
              "      <td>0</td>\n",
              "      <td>1</td>\n",
              "      <td>0</td>\n",
              "    </tr>\n",
              "    <tr>\n",
              "      <th>5</th>\n",
              "      <td>0</td>\n",
              "      <td>1</td>\n",
              "      <td>2</td>\n",
              "      <td>2</td>\n",
              "      <td>1</td>\n",
              "      <td>0</td>\n",
              "      <td>0</td>\n",
              "    </tr>\n",
              "    <tr>\n",
              "      <th>6</th>\n",
              "      <td>0</td>\n",
              "      <td>1</td>\n",
              "      <td>2</td>\n",
              "      <td>2</td>\n",
              "      <td>0</td>\n",
              "      <td>1</td>\n",
              "      <td>0</td>\n",
              "    </tr>\n",
              "    <tr>\n",
              "      <th>7</th>\n",
              "      <td>0</td>\n",
              "      <td>1</td>\n",
              "      <td>2</td>\n",
              "      <td>2</td>\n",
              "      <td>0</td>\n",
              "      <td>2</td>\n",
              "      <td>0</td>\n",
              "    </tr>\n",
              "    <tr>\n",
              "      <th>8</th>\n",
              "      <td>0</td>\n",
              "      <td>1</td>\n",
              "      <td>2</td>\n",
              "      <td>2</td>\n",
              "      <td>0</td>\n",
              "      <td>0</td>\n",
              "      <td>0</td>\n",
              "    </tr>\n",
              "    <tr>\n",
              "      <th>27</th>\n",
              "      <td>0</td>\n",
              "      <td>1</td>\n",
              "      <td>3</td>\n",
              "      <td>2</td>\n",
              "      <td>2</td>\n",
              "      <td>1</td>\n",
              "      <td>0</td>\n",
              "    </tr>\n",
              "    <tr>\n",
              "      <th>28</th>\n",
              "      <td>0</td>\n",
              "      <td>1</td>\n",
              "      <td>3</td>\n",
              "      <td>2</td>\n",
              "      <td>2</td>\n",
              "      <td>2</td>\n",
              "      <td>0</td>\n",
              "    </tr>\n",
              "    <tr>\n",
              "      <th>29</th>\n",
              "      <td>0</td>\n",
              "      <td>1</td>\n",
              "      <td>3</td>\n",
              "      <td>2</td>\n",
              "      <td>2</td>\n",
              "      <td>0</td>\n",
              "      <td>0</td>\n",
              "    </tr>\n",
              "    <tr>\n",
              "      <th>30</th>\n",
              "      <td>0</td>\n",
              "      <td>1</td>\n",
              "      <td>3</td>\n",
              "      <td>2</td>\n",
              "      <td>1</td>\n",
              "      <td>1</td>\n",
              "      <td>0</td>\n",
              "    </tr>\n",
              "    <tr>\n",
              "      <th>31</th>\n",
              "      <td>0</td>\n",
              "      <td>1</td>\n",
              "      <td>3</td>\n",
              "      <td>2</td>\n",
              "      <td>1</td>\n",
              "      <td>2</td>\n",
              "      <td>0</td>\n",
              "    </tr>\n",
              "    <tr>\n",
              "      <th>32</th>\n",
              "      <td>0</td>\n",
              "      <td>1</td>\n",
              "      <td>3</td>\n",
              "      <td>2</td>\n",
              "      <td>1</td>\n",
              "      <td>0</td>\n",
              "      <td>0</td>\n",
              "    </tr>\n",
              "    <tr>\n",
              "      <th>33</th>\n",
              "      <td>0</td>\n",
              "      <td>1</td>\n",
              "      <td>3</td>\n",
              "      <td>2</td>\n",
              "      <td>0</td>\n",
              "      <td>1</td>\n",
              "      <td>0</td>\n",
              "    </tr>\n",
              "    <tr>\n",
              "      <th>34</th>\n",
              "      <td>0</td>\n",
              "      <td>1</td>\n",
              "      <td>3</td>\n",
              "      <td>2</td>\n",
              "      <td>0</td>\n",
              "      <td>2</td>\n",
              "      <td>0</td>\n",
              "    </tr>\n",
              "    <tr>\n",
              "      <th>35</th>\n",
              "      <td>0</td>\n",
              "      <td>1</td>\n",
              "      <td>3</td>\n",
              "      <td>2</td>\n",
              "      <td>0</td>\n",
              "      <td>0</td>\n",
              "      <td>0</td>\n",
              "    </tr>\n",
              "    <tr>\n",
              "      <th>54</th>\n",
              "      <td>0</td>\n",
              "      <td>1</td>\n",
              "      <td>4</td>\n",
              "      <td>2</td>\n",
              "      <td>2</td>\n",
              "      <td>1</td>\n",
              "      <td>0</td>\n",
              "    </tr>\n",
              "    <tr>\n",
              "      <th>55</th>\n",
              "      <td>0</td>\n",
              "      <td>1</td>\n",
              "      <td>4</td>\n",
              "      <td>2</td>\n",
              "      <td>2</td>\n",
              "      <td>2</td>\n",
              "      <td>0</td>\n",
              "    </tr>\n",
              "    <tr>\n",
              "      <th>56</th>\n",
              "      <td>0</td>\n",
              "      <td>1</td>\n",
              "      <td>4</td>\n",
              "      <td>2</td>\n",
              "      <td>2</td>\n",
              "      <td>0</td>\n",
              "      <td>0</td>\n",
              "    </tr>\n",
              "    <tr>\n",
              "      <th>57</th>\n",
              "      <td>0</td>\n",
              "      <td>1</td>\n",
              "      <td>4</td>\n",
              "      <td>2</td>\n",
              "      <td>1</td>\n",
              "      <td>1</td>\n",
              "      <td>0</td>\n",
              "    </tr>\n",
              "    <tr>\n",
              "      <th>58</th>\n",
              "      <td>0</td>\n",
              "      <td>1</td>\n",
              "      <td>4</td>\n",
              "      <td>2</td>\n",
              "      <td>1</td>\n",
              "      <td>2</td>\n",
              "      <td>0</td>\n",
              "    </tr>\n",
              "    <tr>\n",
              "      <th>59</th>\n",
              "      <td>0</td>\n",
              "      <td>1</td>\n",
              "      <td>4</td>\n",
              "      <td>2</td>\n",
              "      <td>1</td>\n",
              "      <td>0</td>\n",
              "      <td>0</td>\n",
              "    </tr>\n",
              "    <tr>\n",
              "      <th>60</th>\n",
              "      <td>0</td>\n",
              "      <td>1</td>\n",
              "      <td>4</td>\n",
              "      <td>2</td>\n",
              "      <td>0</td>\n",
              "      <td>1</td>\n",
              "      <td>0</td>\n",
              "    </tr>\n",
              "    <tr>\n",
              "      <th>61</th>\n",
              "      <td>0</td>\n",
              "      <td>1</td>\n",
              "      <td>4</td>\n",
              "      <td>2</td>\n",
              "      <td>0</td>\n",
              "      <td>2</td>\n",
              "      <td>0</td>\n",
              "    </tr>\n",
              "  </tbody>\n",
              "</table>\n",
              "</div>"
            ],
            "text/plain": [
              "    buying   maint   doors   persons   lug_boot   safety  class \n",
              "0        0       1       2         2          2        1       0\n",
              "1        0       1       2         2          2        2       0\n",
              "2        0       1       2         2          2        0       0\n",
              "3        0       1       2         2          1        1       0\n",
              "4        1       0       2         2          0        1       0\n",
              "5        0       1       2         2          1        0       0\n",
              "6        0       1       2         2          0        1       0\n",
              "7        0       1       2         2          0        2       0\n",
              "8        0       1       2         2          0        0       0\n",
              "27       0       1       3         2          2        1       0\n",
              "28       0       1       3         2          2        2       0\n",
              "29       0       1       3         2          2        0       0\n",
              "30       0       1       3         2          1        1       0\n",
              "31       0       1       3         2          1        2       0\n",
              "32       0       1       3         2          1        0       0\n",
              "33       0       1       3         2          0        1       0\n",
              "34       0       1       3         2          0        2       0\n",
              "35       0       1       3         2          0        0       0\n",
              "54       0       1       4         2          2        1       0\n",
              "55       0       1       4         2          2        2       0\n",
              "56       0       1       4         2          2        0       0\n",
              "57       0       1       4         2          1        1       0\n",
              "58       0       1       4         2          1        2       0\n",
              "59       0       1       4         2          1        0       0\n",
              "60       0       1       4         2          0        1       0\n",
              "61       0       1       4         2          0        2       0"
            ]
          },
          "metadata": {},
          "execution_count": 198
        }
      ]
    },
    {
      "cell_type": "code",
      "metadata": {
        "colab": {
          "base_uri": "https://localhost:8080/"
        },
        "id": "GBYWNBs3BmrM",
        "outputId": "683b77b8-6305-4f64-bc29-4e807f30e2db"
      },
      "source": [
        "len(data[data[\" persons\"] == 2])"
      ],
      "execution_count": null,
      "outputs": [
        {
          "output_type": "execute_result",
          "data": {
            "text/plain": [
              "26"
            ]
          },
          "metadata": {},
          "execution_count": 199
        }
      ]
    },
    {
      "cell_type": "code",
      "metadata": {
        "colab": {
          "base_uri": "https://localhost:8080/"
        },
        "id": "iMCDbCteF_7s",
        "outputId": "9504d039-e36f-4227-f122-72f49f0c4a86"
      },
      "source": [
        "len(data)"
      ],
      "execution_count": null,
      "outputs": [
        {
          "output_type": "execute_result",
          "data": {
            "text/plain": [
              "62"
            ]
          },
          "metadata": {},
          "execution_count": 200
        }
      ]
    },
    {
      "cell_type": "markdown",
      "metadata": {
        "id": "pac3TfJMBmrN"
      },
      "source": [
        "2인용 차량만 26개 추출했습니다."
      ]
    },
    {
      "cell_type": "code",
      "metadata": {
        "colab": {
          "base_uri": "https://localhost:8080/",
          "height": 363
        },
        "id": "vrkMde13BmrN",
        "outputId": "75a2818b-687e-472b-e2db-b4c28cf7ef94"
      },
      "source": [
        "# 연산자 &는 and 조건을 나타냄\n",
        "data[(data[\" persons\"] == 2) & (data[\" safety\"] == 1)]"
      ],
      "execution_count": null,
      "outputs": [
        {
          "output_type": "execute_result",
          "data": {
            "text/html": [
              "<div>\n",
              "<style scoped>\n",
              "    .dataframe tbody tr th:only-of-type {\n",
              "        vertical-align: middle;\n",
              "    }\n",
              "\n",
              "    .dataframe tbody tr th {\n",
              "        vertical-align: top;\n",
              "    }\n",
              "\n",
              "    .dataframe thead th {\n",
              "        text-align: right;\n",
              "    }\n",
              "</style>\n",
              "<table border=\"1\" class=\"dataframe\">\n",
              "  <thead>\n",
              "    <tr style=\"text-align: right;\">\n",
              "      <th></th>\n",
              "      <th>buying</th>\n",
              "      <th>maint</th>\n",
              "      <th>doors</th>\n",
              "      <th>persons</th>\n",
              "      <th>lug_boot</th>\n",
              "      <th>safety</th>\n",
              "      <th>class</th>\n",
              "    </tr>\n",
              "  </thead>\n",
              "  <tbody>\n",
              "    <tr>\n",
              "      <th>0</th>\n",
              "      <td>0</td>\n",
              "      <td>1</td>\n",
              "      <td>2</td>\n",
              "      <td>2</td>\n",
              "      <td>2</td>\n",
              "      <td>1</td>\n",
              "      <td>0</td>\n",
              "    </tr>\n",
              "    <tr>\n",
              "      <th>3</th>\n",
              "      <td>0</td>\n",
              "      <td>1</td>\n",
              "      <td>2</td>\n",
              "      <td>2</td>\n",
              "      <td>1</td>\n",
              "      <td>1</td>\n",
              "      <td>0</td>\n",
              "    </tr>\n",
              "    <tr>\n",
              "      <th>4</th>\n",
              "      <td>1</td>\n",
              "      <td>0</td>\n",
              "      <td>2</td>\n",
              "      <td>2</td>\n",
              "      <td>0</td>\n",
              "      <td>1</td>\n",
              "      <td>0</td>\n",
              "    </tr>\n",
              "    <tr>\n",
              "      <th>6</th>\n",
              "      <td>0</td>\n",
              "      <td>1</td>\n",
              "      <td>2</td>\n",
              "      <td>2</td>\n",
              "      <td>0</td>\n",
              "      <td>1</td>\n",
              "      <td>0</td>\n",
              "    </tr>\n",
              "    <tr>\n",
              "      <th>27</th>\n",
              "      <td>0</td>\n",
              "      <td>1</td>\n",
              "      <td>3</td>\n",
              "      <td>2</td>\n",
              "      <td>2</td>\n",
              "      <td>1</td>\n",
              "      <td>0</td>\n",
              "    </tr>\n",
              "    <tr>\n",
              "      <th>30</th>\n",
              "      <td>0</td>\n",
              "      <td>1</td>\n",
              "      <td>3</td>\n",
              "      <td>2</td>\n",
              "      <td>1</td>\n",
              "      <td>1</td>\n",
              "      <td>0</td>\n",
              "    </tr>\n",
              "    <tr>\n",
              "      <th>33</th>\n",
              "      <td>0</td>\n",
              "      <td>1</td>\n",
              "      <td>3</td>\n",
              "      <td>2</td>\n",
              "      <td>0</td>\n",
              "      <td>1</td>\n",
              "      <td>0</td>\n",
              "    </tr>\n",
              "    <tr>\n",
              "      <th>54</th>\n",
              "      <td>0</td>\n",
              "      <td>1</td>\n",
              "      <td>4</td>\n",
              "      <td>2</td>\n",
              "      <td>2</td>\n",
              "      <td>1</td>\n",
              "      <td>0</td>\n",
              "    </tr>\n",
              "    <tr>\n",
              "      <th>57</th>\n",
              "      <td>0</td>\n",
              "      <td>1</td>\n",
              "      <td>4</td>\n",
              "      <td>2</td>\n",
              "      <td>1</td>\n",
              "      <td>1</td>\n",
              "      <td>0</td>\n",
              "    </tr>\n",
              "    <tr>\n",
              "      <th>60</th>\n",
              "      <td>0</td>\n",
              "      <td>1</td>\n",
              "      <td>4</td>\n",
              "      <td>2</td>\n",
              "      <td>0</td>\n",
              "      <td>1</td>\n",
              "      <td>0</td>\n",
              "    </tr>\n",
              "  </tbody>\n",
              "</table>\n",
              "</div>"
            ],
            "text/plain": [
              "    buying   maint   doors   persons   lug_boot   safety  class \n",
              "0        0       1       2         2          2        1       0\n",
              "3        0       1       2         2          1        1       0\n",
              "4        1       0       2         2          0        1       0\n",
              "6        0       1       2         2          0        1       0\n",
              "27       0       1       3         2          2        1       0\n",
              "30       0       1       3         2          1        1       0\n",
              "33       0       1       3         2          0        1       0\n",
              "54       0       1       4         2          2        1       0\n",
              "57       0       1       4         2          1        1       0\n",
              "60       0       1       4         2          0        1       0"
            ]
          },
          "metadata": {},
          "execution_count": 201
        }
      ]
    },
    {
      "cell_type": "code",
      "metadata": {
        "scrolled": true,
        "colab": {
          "base_uri": "https://localhost:8080/",
          "height": 1000
        },
        "id": "TAh9ipLYBmrN",
        "outputId": "279db1c9-5e6d-4453-a6e3-362ddeaeb6f1"
      },
      "source": [
        "# 연산자 | or 기능을 활용 가능\n",
        "data[(data[\" persons\"] == 2) | (data[\" safety\"] == 1)]"
      ],
      "execution_count": null,
      "outputs": [
        {
          "output_type": "execute_result",
          "data": {
            "text/html": [
              "<div>\n",
              "<style scoped>\n",
              "    .dataframe tbody tr th:only-of-type {\n",
              "        vertical-align: middle;\n",
              "    }\n",
              "\n",
              "    .dataframe tbody tr th {\n",
              "        vertical-align: top;\n",
              "    }\n",
              "\n",
              "    .dataframe thead th {\n",
              "        text-align: right;\n",
              "    }\n",
              "</style>\n",
              "<table border=\"1\" class=\"dataframe\">\n",
              "  <thead>\n",
              "    <tr style=\"text-align: right;\">\n",
              "      <th></th>\n",
              "      <th>buying</th>\n",
              "      <th>maint</th>\n",
              "      <th>doors</th>\n",
              "      <th>persons</th>\n",
              "      <th>lug_boot</th>\n",
              "      <th>safety</th>\n",
              "      <th>class</th>\n",
              "    </tr>\n",
              "  </thead>\n",
              "  <tbody>\n",
              "    <tr>\n",
              "      <th>0</th>\n",
              "      <td>0</td>\n",
              "      <td>1</td>\n",
              "      <td>2</td>\n",
              "      <td>2</td>\n",
              "      <td>2</td>\n",
              "      <td>1</td>\n",
              "      <td>0</td>\n",
              "    </tr>\n",
              "    <tr>\n",
              "      <th>1</th>\n",
              "      <td>0</td>\n",
              "      <td>1</td>\n",
              "      <td>2</td>\n",
              "      <td>2</td>\n",
              "      <td>2</td>\n",
              "      <td>2</td>\n",
              "      <td>0</td>\n",
              "    </tr>\n",
              "    <tr>\n",
              "      <th>2</th>\n",
              "      <td>0</td>\n",
              "      <td>1</td>\n",
              "      <td>2</td>\n",
              "      <td>2</td>\n",
              "      <td>2</td>\n",
              "      <td>0</td>\n",
              "      <td>0</td>\n",
              "    </tr>\n",
              "    <tr>\n",
              "      <th>3</th>\n",
              "      <td>0</td>\n",
              "      <td>1</td>\n",
              "      <td>2</td>\n",
              "      <td>2</td>\n",
              "      <td>1</td>\n",
              "      <td>1</td>\n",
              "      <td>0</td>\n",
              "    </tr>\n",
              "    <tr>\n",
              "      <th>4</th>\n",
              "      <td>1</td>\n",
              "      <td>0</td>\n",
              "      <td>2</td>\n",
              "      <td>2</td>\n",
              "      <td>0</td>\n",
              "      <td>1</td>\n",
              "      <td>0</td>\n",
              "    </tr>\n",
              "    <tr>\n",
              "      <th>5</th>\n",
              "      <td>0</td>\n",
              "      <td>1</td>\n",
              "      <td>2</td>\n",
              "      <td>2</td>\n",
              "      <td>1</td>\n",
              "      <td>0</td>\n",
              "      <td>0</td>\n",
              "    </tr>\n",
              "    <tr>\n",
              "      <th>6</th>\n",
              "      <td>0</td>\n",
              "      <td>1</td>\n",
              "      <td>2</td>\n",
              "      <td>2</td>\n",
              "      <td>0</td>\n",
              "      <td>1</td>\n",
              "      <td>0</td>\n",
              "    </tr>\n",
              "    <tr>\n",
              "      <th>7</th>\n",
              "      <td>0</td>\n",
              "      <td>1</td>\n",
              "      <td>2</td>\n",
              "      <td>2</td>\n",
              "      <td>0</td>\n",
              "      <td>2</td>\n",
              "      <td>0</td>\n",
              "    </tr>\n",
              "    <tr>\n",
              "      <th>8</th>\n",
              "      <td>0</td>\n",
              "      <td>1</td>\n",
              "      <td>2</td>\n",
              "      <td>2</td>\n",
              "      <td>0</td>\n",
              "      <td>0</td>\n",
              "      <td>0</td>\n",
              "    </tr>\n",
              "    <tr>\n",
              "      <th>9</th>\n",
              "      <td>0</td>\n",
              "      <td>1</td>\n",
              "      <td>2</td>\n",
              "      <td>4</td>\n",
              "      <td>2</td>\n",
              "      <td>1</td>\n",
              "      <td>0</td>\n",
              "    </tr>\n",
              "    <tr>\n",
              "      <th>12</th>\n",
              "      <td>0</td>\n",
              "      <td>1</td>\n",
              "      <td>2</td>\n",
              "      <td>4</td>\n",
              "      <td>1</td>\n",
              "      <td>1</td>\n",
              "      <td>0</td>\n",
              "    </tr>\n",
              "    <tr>\n",
              "      <th>15</th>\n",
              "      <td>0</td>\n",
              "      <td>1</td>\n",
              "      <td>2</td>\n",
              "      <td>4</td>\n",
              "      <td>0</td>\n",
              "      <td>1</td>\n",
              "      <td>0</td>\n",
              "    </tr>\n",
              "    <tr>\n",
              "      <th>18</th>\n",
              "      <td>0</td>\n",
              "      <td>1</td>\n",
              "      <td>2</td>\n",
              "      <td>6</td>\n",
              "      <td>2</td>\n",
              "      <td>1</td>\n",
              "      <td>0</td>\n",
              "    </tr>\n",
              "    <tr>\n",
              "      <th>21</th>\n",
              "      <td>0</td>\n",
              "      <td>1</td>\n",
              "      <td>2</td>\n",
              "      <td>6</td>\n",
              "      <td>1</td>\n",
              "      <td>1</td>\n",
              "      <td>0</td>\n",
              "    </tr>\n",
              "    <tr>\n",
              "      <th>24</th>\n",
              "      <td>0</td>\n",
              "      <td>1</td>\n",
              "      <td>2</td>\n",
              "      <td>6</td>\n",
              "      <td>0</td>\n",
              "      <td>1</td>\n",
              "      <td>0</td>\n",
              "    </tr>\n",
              "    <tr>\n",
              "      <th>27</th>\n",
              "      <td>0</td>\n",
              "      <td>1</td>\n",
              "      <td>3</td>\n",
              "      <td>2</td>\n",
              "      <td>2</td>\n",
              "      <td>1</td>\n",
              "      <td>0</td>\n",
              "    </tr>\n",
              "    <tr>\n",
              "      <th>28</th>\n",
              "      <td>0</td>\n",
              "      <td>1</td>\n",
              "      <td>3</td>\n",
              "      <td>2</td>\n",
              "      <td>2</td>\n",
              "      <td>2</td>\n",
              "      <td>0</td>\n",
              "    </tr>\n",
              "    <tr>\n",
              "      <th>29</th>\n",
              "      <td>0</td>\n",
              "      <td>1</td>\n",
              "      <td>3</td>\n",
              "      <td>2</td>\n",
              "      <td>2</td>\n",
              "      <td>0</td>\n",
              "      <td>0</td>\n",
              "    </tr>\n",
              "    <tr>\n",
              "      <th>30</th>\n",
              "      <td>0</td>\n",
              "      <td>1</td>\n",
              "      <td>3</td>\n",
              "      <td>2</td>\n",
              "      <td>1</td>\n",
              "      <td>1</td>\n",
              "      <td>0</td>\n",
              "    </tr>\n",
              "    <tr>\n",
              "      <th>31</th>\n",
              "      <td>0</td>\n",
              "      <td>1</td>\n",
              "      <td>3</td>\n",
              "      <td>2</td>\n",
              "      <td>1</td>\n",
              "      <td>2</td>\n",
              "      <td>0</td>\n",
              "    </tr>\n",
              "    <tr>\n",
              "      <th>32</th>\n",
              "      <td>0</td>\n",
              "      <td>1</td>\n",
              "      <td>3</td>\n",
              "      <td>2</td>\n",
              "      <td>1</td>\n",
              "      <td>0</td>\n",
              "      <td>0</td>\n",
              "    </tr>\n",
              "    <tr>\n",
              "      <th>33</th>\n",
              "      <td>0</td>\n",
              "      <td>1</td>\n",
              "      <td>3</td>\n",
              "      <td>2</td>\n",
              "      <td>0</td>\n",
              "      <td>1</td>\n",
              "      <td>0</td>\n",
              "    </tr>\n",
              "    <tr>\n",
              "      <th>34</th>\n",
              "      <td>0</td>\n",
              "      <td>1</td>\n",
              "      <td>3</td>\n",
              "      <td>2</td>\n",
              "      <td>0</td>\n",
              "      <td>2</td>\n",
              "      <td>0</td>\n",
              "    </tr>\n",
              "    <tr>\n",
              "      <th>35</th>\n",
              "      <td>0</td>\n",
              "      <td>1</td>\n",
              "      <td>3</td>\n",
              "      <td>2</td>\n",
              "      <td>0</td>\n",
              "      <td>0</td>\n",
              "      <td>0</td>\n",
              "    </tr>\n",
              "    <tr>\n",
              "      <th>36</th>\n",
              "      <td>0</td>\n",
              "      <td>1</td>\n",
              "      <td>3</td>\n",
              "      <td>4</td>\n",
              "      <td>2</td>\n",
              "      <td>1</td>\n",
              "      <td>0</td>\n",
              "    </tr>\n",
              "    <tr>\n",
              "      <th>39</th>\n",
              "      <td>0</td>\n",
              "      <td>1</td>\n",
              "      <td>3</td>\n",
              "      <td>4</td>\n",
              "      <td>1</td>\n",
              "      <td>1</td>\n",
              "      <td>0</td>\n",
              "    </tr>\n",
              "    <tr>\n",
              "      <th>42</th>\n",
              "      <td>0</td>\n",
              "      <td>1</td>\n",
              "      <td>3</td>\n",
              "      <td>4</td>\n",
              "      <td>0</td>\n",
              "      <td>1</td>\n",
              "      <td>0</td>\n",
              "    </tr>\n",
              "    <tr>\n",
              "      <th>45</th>\n",
              "      <td>0</td>\n",
              "      <td>1</td>\n",
              "      <td>3</td>\n",
              "      <td>6</td>\n",
              "      <td>2</td>\n",
              "      <td>1</td>\n",
              "      <td>0</td>\n",
              "    </tr>\n",
              "    <tr>\n",
              "      <th>48</th>\n",
              "      <td>0</td>\n",
              "      <td>1</td>\n",
              "      <td>3</td>\n",
              "      <td>6</td>\n",
              "      <td>1</td>\n",
              "      <td>1</td>\n",
              "      <td>0</td>\n",
              "    </tr>\n",
              "    <tr>\n",
              "      <th>51</th>\n",
              "      <td>0</td>\n",
              "      <td>1</td>\n",
              "      <td>3</td>\n",
              "      <td>6</td>\n",
              "      <td>0</td>\n",
              "      <td>1</td>\n",
              "      <td>0</td>\n",
              "    </tr>\n",
              "    <tr>\n",
              "      <th>54</th>\n",
              "      <td>0</td>\n",
              "      <td>1</td>\n",
              "      <td>4</td>\n",
              "      <td>2</td>\n",
              "      <td>2</td>\n",
              "      <td>1</td>\n",
              "      <td>0</td>\n",
              "    </tr>\n",
              "    <tr>\n",
              "      <th>55</th>\n",
              "      <td>0</td>\n",
              "      <td>1</td>\n",
              "      <td>4</td>\n",
              "      <td>2</td>\n",
              "      <td>2</td>\n",
              "      <td>2</td>\n",
              "      <td>0</td>\n",
              "    </tr>\n",
              "    <tr>\n",
              "      <th>56</th>\n",
              "      <td>0</td>\n",
              "      <td>1</td>\n",
              "      <td>4</td>\n",
              "      <td>2</td>\n",
              "      <td>2</td>\n",
              "      <td>0</td>\n",
              "      <td>0</td>\n",
              "    </tr>\n",
              "    <tr>\n",
              "      <th>57</th>\n",
              "      <td>0</td>\n",
              "      <td>1</td>\n",
              "      <td>4</td>\n",
              "      <td>2</td>\n",
              "      <td>1</td>\n",
              "      <td>1</td>\n",
              "      <td>0</td>\n",
              "    </tr>\n",
              "    <tr>\n",
              "      <th>58</th>\n",
              "      <td>0</td>\n",
              "      <td>1</td>\n",
              "      <td>4</td>\n",
              "      <td>2</td>\n",
              "      <td>1</td>\n",
              "      <td>2</td>\n",
              "      <td>0</td>\n",
              "    </tr>\n",
              "    <tr>\n",
              "      <th>59</th>\n",
              "      <td>0</td>\n",
              "      <td>1</td>\n",
              "      <td>4</td>\n",
              "      <td>2</td>\n",
              "      <td>1</td>\n",
              "      <td>0</td>\n",
              "      <td>0</td>\n",
              "    </tr>\n",
              "    <tr>\n",
              "      <th>60</th>\n",
              "      <td>0</td>\n",
              "      <td>1</td>\n",
              "      <td>4</td>\n",
              "      <td>2</td>\n",
              "      <td>0</td>\n",
              "      <td>1</td>\n",
              "      <td>0</td>\n",
              "    </tr>\n",
              "    <tr>\n",
              "      <th>61</th>\n",
              "      <td>0</td>\n",
              "      <td>1</td>\n",
              "      <td>4</td>\n",
              "      <td>2</td>\n",
              "      <td>0</td>\n",
              "      <td>2</td>\n",
              "      <td>0</td>\n",
              "    </tr>\n",
              "  </tbody>\n",
              "</table>\n",
              "</div>"
            ],
            "text/plain": [
              "    buying   maint   doors   persons   lug_boot   safety  class \n",
              "0        0       1       2         2          2        1       0\n",
              "1        0       1       2         2          2        2       0\n",
              "2        0       1       2         2          2        0       0\n",
              "3        0       1       2         2          1        1       0\n",
              "4        1       0       2         2          0        1       0\n",
              "5        0       1       2         2          1        0       0\n",
              "6        0       1       2         2          0        1       0\n",
              "7        0       1       2         2          0        2       0\n",
              "8        0       1       2         2          0        0       0\n",
              "9        0       1       2         4          2        1       0\n",
              "12       0       1       2         4          1        1       0\n",
              "15       0       1       2         4          0        1       0\n",
              "18       0       1       2         6          2        1       0\n",
              "21       0       1       2         6          1        1       0\n",
              "24       0       1       2         6          0        1       0\n",
              "27       0       1       3         2          2        1       0\n",
              "28       0       1       3         2          2        2       0\n",
              "29       0       1       3         2          2        0       0\n",
              "30       0       1       3         2          1        1       0\n",
              "31       0       1       3         2          1        2       0\n",
              "32       0       1       3         2          1        0       0\n",
              "33       0       1       3         2          0        1       0\n",
              "34       0       1       3         2          0        2       0\n",
              "35       0       1       3         2          0        0       0\n",
              "36       0       1       3         4          2        1       0\n",
              "39       0       1       3         4          1        1       0\n",
              "42       0       1       3         4          0        1       0\n",
              "45       0       1       3         6          2        1       0\n",
              "48       0       1       3         6          1        1       0\n",
              "51       0       1       3         6          0        1       0\n",
              "54       0       1       4         2          2        1       0\n",
              "55       0       1       4         2          2        2       0\n",
              "56       0       1       4         2          2        0       0\n",
              "57       0       1       4         2          1        1       0\n",
              "58       0       1       4         2          1        2       0\n",
              "59       0       1       4         2          1        0       0\n",
              "60       0       1       4         2          0        1       0\n",
              "61       0       1       4         2          0        2       0"
            ]
          },
          "metadata": {},
          "execution_count": 202
        }
      ]
    },
    {
      "cell_type": "markdown",
      "metadata": {
        "id": "0-YpNukdBmrN"
      },
      "source": [
        "필터링 조건에 ()을 씌우고 연산자를 활용하여 다중 조건을 걸 수 있습니다."
      ]
    },
    {
      "cell_type": "code",
      "metadata": {
        "colab": {
          "base_uri": "https://localhost:8080/",
          "height": 423
        },
        "id": "KsD6mWYkBmrN",
        "outputId": "beead1a1-b0b6-479e-b0cb-2cb853d106d9"
      },
      "source": [
        "data.sort_values(by = \"buying\") #하나의 칼럼을 기준으로 값을 정렬"
      ],
      "execution_count": null,
      "outputs": [
        {
          "output_type": "execute_result",
          "data": {
            "text/html": [
              "<div>\n",
              "<style scoped>\n",
              "    .dataframe tbody tr th:only-of-type {\n",
              "        vertical-align: middle;\n",
              "    }\n",
              "\n",
              "    .dataframe tbody tr th {\n",
              "        vertical-align: top;\n",
              "    }\n",
              "\n",
              "    .dataframe thead th {\n",
              "        text-align: right;\n",
              "    }\n",
              "</style>\n",
              "<table border=\"1\" class=\"dataframe\">\n",
              "  <thead>\n",
              "    <tr style=\"text-align: right;\">\n",
              "      <th></th>\n",
              "      <th>buying</th>\n",
              "      <th>maint</th>\n",
              "      <th>doors</th>\n",
              "      <th>persons</th>\n",
              "      <th>lug_boot</th>\n",
              "      <th>safety</th>\n",
              "      <th>class</th>\n",
              "    </tr>\n",
              "  </thead>\n",
              "  <tbody>\n",
              "    <tr>\n",
              "      <th>0</th>\n",
              "      <td>0</td>\n",
              "      <td>1</td>\n",
              "      <td>2</td>\n",
              "      <td>2</td>\n",
              "      <td>2</td>\n",
              "      <td>1</td>\n",
              "      <td>0</td>\n",
              "    </tr>\n",
              "    <tr>\n",
              "      <th>33</th>\n",
              "      <td>0</td>\n",
              "      <td>1</td>\n",
              "      <td>3</td>\n",
              "      <td>2</td>\n",
              "      <td>0</td>\n",
              "      <td>1</td>\n",
              "      <td>0</td>\n",
              "    </tr>\n",
              "    <tr>\n",
              "      <th>34</th>\n",
              "      <td>0</td>\n",
              "      <td>1</td>\n",
              "      <td>3</td>\n",
              "      <td>2</td>\n",
              "      <td>0</td>\n",
              "      <td>2</td>\n",
              "      <td>0</td>\n",
              "    </tr>\n",
              "    <tr>\n",
              "      <th>35</th>\n",
              "      <td>0</td>\n",
              "      <td>1</td>\n",
              "      <td>3</td>\n",
              "      <td>2</td>\n",
              "      <td>0</td>\n",
              "      <td>0</td>\n",
              "      <td>0</td>\n",
              "    </tr>\n",
              "    <tr>\n",
              "      <th>36</th>\n",
              "      <td>0</td>\n",
              "      <td>1</td>\n",
              "      <td>3</td>\n",
              "      <td>4</td>\n",
              "      <td>2</td>\n",
              "      <td>1</td>\n",
              "      <td>0</td>\n",
              "    </tr>\n",
              "    <tr>\n",
              "      <th>...</th>\n",
              "      <td>...</td>\n",
              "      <td>...</td>\n",
              "      <td>...</td>\n",
              "      <td>...</td>\n",
              "      <td>...</td>\n",
              "      <td>...</td>\n",
              "      <td>...</td>\n",
              "    </tr>\n",
              "    <tr>\n",
              "      <th>27</th>\n",
              "      <td>0</td>\n",
              "      <td>1</td>\n",
              "      <td>3</td>\n",
              "      <td>2</td>\n",
              "      <td>2</td>\n",
              "      <td>1</td>\n",
              "      <td>0</td>\n",
              "    </tr>\n",
              "    <tr>\n",
              "      <th>28</th>\n",
              "      <td>0</td>\n",
              "      <td>1</td>\n",
              "      <td>3</td>\n",
              "      <td>2</td>\n",
              "      <td>2</td>\n",
              "      <td>2</td>\n",
              "      <td>0</td>\n",
              "    </tr>\n",
              "    <tr>\n",
              "      <th>15</th>\n",
              "      <td>0</td>\n",
              "      <td>1</td>\n",
              "      <td>2</td>\n",
              "      <td>4</td>\n",
              "      <td>0</td>\n",
              "      <td>1</td>\n",
              "      <td>0</td>\n",
              "    </tr>\n",
              "    <tr>\n",
              "      <th>61</th>\n",
              "      <td>0</td>\n",
              "      <td>1</td>\n",
              "      <td>4</td>\n",
              "      <td>2</td>\n",
              "      <td>0</td>\n",
              "      <td>2</td>\n",
              "      <td>0</td>\n",
              "    </tr>\n",
              "    <tr>\n",
              "      <th>4</th>\n",
              "      <td>1</td>\n",
              "      <td>0</td>\n",
              "      <td>2</td>\n",
              "      <td>2</td>\n",
              "      <td>0</td>\n",
              "      <td>1</td>\n",
              "      <td>0</td>\n",
              "    </tr>\n",
              "  </tbody>\n",
              "</table>\n",
              "<p>62 rows × 7 columns</p>\n",
              "</div>"
            ],
            "text/plain": [
              "    buying   maint   doors   persons   lug_boot   safety  class \n",
              "0        0       1       2         2          2        1       0\n",
              "33       0       1       3         2          0        1       0\n",
              "34       0       1       3         2          0        2       0\n",
              "35       0       1       3         2          0        0       0\n",
              "36       0       1       3         4          2        1       0\n",
              "..     ...     ...     ...       ...        ...      ...     ...\n",
              "27       0       1       3         2          2        1       0\n",
              "28       0       1       3         2          2        2       0\n",
              "15       0       1       2         4          0        1       0\n",
              "61       0       1       4         2          0        2       0\n",
              "4        1       0       2         2          0        1       0\n",
              "\n",
              "[62 rows x 7 columns]"
            ]
          },
          "metadata": {},
          "execution_count": 204
        }
      ]
    },
    {
      "cell_type": "markdown",
      "metadata": {
        "id": "wWGLAyf8BmrN"
      },
      "source": [
        "sort_values를 사용하면 원하는 값에 따라 데이터프레임을 정렬할 수 있습니다."
      ]
    },
    {
      "cell_type": "markdown",
      "metadata": {
        "id": "2M06C0xDBmrN"
      },
      "source": [
        "pandas 데이터 처리는 이외에도 정말 다양하고 편리한 기능들을 제공합니다.\n",
        "\n",
        "실무에서도 엑셀과 같은 테이블 데이터를 처리하는 경우가 많은데,\n",
        "\n",
        "단순 반복 작업이 필요한 경우 프로그래밍화를 해서 1시간 걸릴 업무를 10초만에 처리할 수도 있습니다.\n",
        "\n",
        "파이썬을 공부하시다보면 자동적으로 기능 활용에 익숙해질 것입니다."
      ]
    },
    {
      "cell_type": "markdown",
      "metadata": {
        "id": "qiSquunUBmrN"
      },
      "source": [
        "### 실습: car_price.xlsx 데이터를 임포트하여 pandas 데이터 처리를 실습해보세요.\n",
        "\n",
        "1. 데이터 임포트\n",
        "2. string 문자열 숫자로 변환\n",
        "3. 기초 통계량 확인\n",
        "4. slicing, filtering\n",
        "5. 년식으로 정렬"
      ]
    },
    {
      "cell_type": "code",
      "metadata": {
        "id": "1pQPZuUHIFGh"
      },
      "source": [
        "import pandas as pd\n",
        "from sklearn.preprocessing import LabelEncoder"
      ],
      "execution_count": null,
      "outputs": []
    },
    {
      "cell_type": "code",
      "metadata": {
        "id": "IDuf0V-UIFGi"
      },
      "source": [
        "from google_drive_downloader import GoogleDriveDownloader as gdd"
      ],
      "execution_count": null,
      "outputs": []
    },
    {
      "cell_type": "code",
      "metadata": {
        "id": "WPPNnoAjIFGj"
      },
      "source": [
        "gdd.download_file_from_google_drive(file_id='13RO98F6tYJgePy4guh1JZILjEKGOfU6G',\n",
        "                                    dest_path='example_data/car.zip',\n",
        "                                    unzip=True)"
      ],
      "execution_count": null,
      "outputs": []
    },
    {
      "cell_type": "code",
      "metadata": {
        "id": "cQHI6FgfNRxf"
      },
      "source": [
        "data = pd.read_excel(\"/content/example_data/carprice.xlsx\", sheet_name=0)"
      ],
      "execution_count": null,
      "outputs": []
    },
    {
      "cell_type": "code",
      "metadata": {
        "colab": {
          "base_uri": "https://localhost:8080/",
          "height": 423
        },
        "id": "PJJ5EU4tNWNG",
        "outputId": "5c1ebf39-3ef5-49a5-b2e2-2a906f22114b"
      },
      "source": [
        "data"
      ],
      "execution_count": null,
      "outputs": [
        {
          "output_type": "execute_result",
          "data": {
            "text/html": [
              "<div>\n",
              "<style scoped>\n",
              "    .dataframe tbody tr th:only-of-type {\n",
              "        vertical-align: middle;\n",
              "    }\n",
              "\n",
              "    .dataframe tbody tr th {\n",
              "        vertical-align: top;\n",
              "    }\n",
              "\n",
              "    .dataframe thead th {\n",
              "        text-align: right;\n",
              "    }\n",
              "</style>\n",
              "<table border=\"1\" class=\"dataframe\">\n",
              "  <thead>\n",
              "    <tr style=\"text-align: right;\">\n",
              "      <th></th>\n",
              "      <th>가격</th>\n",
              "      <th>년식</th>\n",
              "      <th>종류</th>\n",
              "      <th>연비</th>\n",
              "      <th>마력</th>\n",
              "      <th>토크</th>\n",
              "      <th>연료</th>\n",
              "      <th>하이브리드</th>\n",
              "      <th>배기량</th>\n",
              "      <th>중량</th>\n",
              "      <th>변속기</th>\n",
              "    </tr>\n",
              "  </thead>\n",
              "  <tbody>\n",
              "    <tr>\n",
              "      <th>0</th>\n",
              "      <td>1885</td>\n",
              "      <td>2015</td>\n",
              "      <td>준중형</td>\n",
              "      <td>11.8</td>\n",
              "      <td>172</td>\n",
              "      <td>21.0</td>\n",
              "      <td>가솔린</td>\n",
              "      <td>0</td>\n",
              "      <td>1999</td>\n",
              "      <td>1300</td>\n",
              "      <td>자동</td>\n",
              "    </tr>\n",
              "    <tr>\n",
              "      <th>1</th>\n",
              "      <td>2190</td>\n",
              "      <td>2015</td>\n",
              "      <td>준중형</td>\n",
              "      <td>12.3</td>\n",
              "      <td>204</td>\n",
              "      <td>27.0</td>\n",
              "      <td>가솔린</td>\n",
              "      <td>0</td>\n",
              "      <td>1591</td>\n",
              "      <td>1300</td>\n",
              "      <td>자동</td>\n",
              "    </tr>\n",
              "    <tr>\n",
              "      <th>2</th>\n",
              "      <td>1135</td>\n",
              "      <td>2015</td>\n",
              "      <td>소형</td>\n",
              "      <td>15.0</td>\n",
              "      <td>100</td>\n",
              "      <td>13.6</td>\n",
              "      <td>가솔린</td>\n",
              "      <td>0</td>\n",
              "      <td>1368</td>\n",
              "      <td>1035</td>\n",
              "      <td>수동</td>\n",
              "    </tr>\n",
              "    <tr>\n",
              "      <th>3</th>\n",
              "      <td>1645</td>\n",
              "      <td>2014</td>\n",
              "      <td>소형</td>\n",
              "      <td>14.0</td>\n",
              "      <td>140</td>\n",
              "      <td>17.0</td>\n",
              "      <td>가솔린</td>\n",
              "      <td>0</td>\n",
              "      <td>1591</td>\n",
              "      <td>1090</td>\n",
              "      <td>자동</td>\n",
              "    </tr>\n",
              "    <tr>\n",
              "      <th>4</th>\n",
              "      <td>1960</td>\n",
              "      <td>2015</td>\n",
              "      <td>대형</td>\n",
              "      <td>9.6</td>\n",
              "      <td>175</td>\n",
              "      <td>46.0</td>\n",
              "      <td>디젤</td>\n",
              "      <td>0</td>\n",
              "      <td>2497</td>\n",
              "      <td>1990</td>\n",
              "      <td>자동</td>\n",
              "    </tr>\n",
              "    <tr>\n",
              "      <th>...</th>\n",
              "      <td>...</td>\n",
              "      <td>...</td>\n",
              "      <td>...</td>\n",
              "      <td>...</td>\n",
              "      <td>...</td>\n",
              "      <td>...</td>\n",
              "      <td>...</td>\n",
              "      <td>...</td>\n",
              "      <td>...</td>\n",
              "      <td>...</td>\n",
              "      <td>...</td>\n",
              "    </tr>\n",
              "    <tr>\n",
              "      <th>66</th>\n",
              "      <td>3802</td>\n",
              "      <td>2015</td>\n",
              "      <td>중형</td>\n",
              "      <td>8.5</td>\n",
              "      <td>290</td>\n",
              "      <td>34.8</td>\n",
              "      <td>가솔린</td>\n",
              "      <td>0</td>\n",
              "      <td>3342</td>\n",
              "      <td>1901</td>\n",
              "      <td>자동</td>\n",
              "    </tr>\n",
              "    <tr>\n",
              "      <th>67</th>\n",
              "      <td>1270</td>\n",
              "      <td>2012</td>\n",
              "      <td>소형</td>\n",
              "      <td>13.3</td>\n",
              "      <td>108</td>\n",
              "      <td>13.9</td>\n",
              "      <td>가솔린</td>\n",
              "      <td>0</td>\n",
              "      <td>1396</td>\n",
              "      <td>1040</td>\n",
              "      <td>자동</td>\n",
              "    </tr>\n",
              "    <tr>\n",
              "      <th>68</th>\n",
              "      <td>2430</td>\n",
              "      <td>2015</td>\n",
              "      <td>준중형</td>\n",
              "      <td>12.8</td>\n",
              "      <td>186</td>\n",
              "      <td>41.0</td>\n",
              "      <td>디젤</td>\n",
              "      <td>0</td>\n",
              "      <td>1995</td>\n",
              "      <td>1665</td>\n",
              "      <td>자동</td>\n",
              "    </tr>\n",
              "    <tr>\n",
              "      <th>69</th>\n",
              "      <td>2870</td>\n",
              "      <td>2015</td>\n",
              "      <td>중형</td>\n",
              "      <td>17.7</td>\n",
              "      <td>156</td>\n",
              "      <td>19.3</td>\n",
              "      <td>가솔린</td>\n",
              "      <td>1</td>\n",
              "      <td>1999</td>\n",
              "      <td>1585</td>\n",
              "      <td>자동</td>\n",
              "    </tr>\n",
              "    <tr>\n",
              "      <th>70</th>\n",
              "      <td>3254</td>\n",
              "      <td>2015</td>\n",
              "      <td>대형</td>\n",
              "      <td>13.8</td>\n",
              "      <td>202</td>\n",
              "      <td>45.0</td>\n",
              "      <td>디젤</td>\n",
              "      <td>0</td>\n",
              "      <td>2199</td>\n",
              "      <td>1691</td>\n",
              "      <td>자동</td>\n",
              "    </tr>\n",
              "  </tbody>\n",
              "</table>\n",
              "<p>71 rows × 11 columns</p>\n",
              "</div>"
            ],
            "text/plain": [
              "      가격    년식   종류    연비   마력    토크   연료  하이브리드   배기량    중량 변속기\n",
              "0   1885  2015  준중형  11.8  172  21.0  가솔린      0  1999  1300  자동\n",
              "1   2190  2015  준중형  12.3  204  27.0  가솔린      0  1591  1300  자동\n",
              "2   1135  2015   소형  15.0  100  13.6  가솔린      0  1368  1035  수동\n",
              "3   1645  2014   소형  14.0  140  17.0  가솔린      0  1591  1090  자동\n",
              "4   1960  2015   대형   9.6  175  46.0   디젤      0  2497  1990  자동\n",
              "..   ...   ...  ...   ...  ...   ...  ...    ...   ...   ...  ..\n",
              "66  3802  2015   중형   8.5  290  34.8  가솔린      0  3342  1901  자동\n",
              "67  1270  2012   소형  13.3  108  13.9  가솔린      0  1396  1040  자동\n",
              "68  2430  2015  준중형  12.8  186  41.0   디젤      0  1995  1665  자동\n",
              "69  2870  2015   중형  17.7  156  19.3  가솔린      1  1999  1585  자동\n",
              "70  3254  2015   대형  13.8  202  45.0   디젤      0  2199  1691  자동\n",
              "\n",
              "[71 rows x 11 columns]"
            ]
          },
          "metadata": {},
          "execution_count": 229
        }
      ]
    },
    {
      "cell_type": "code",
      "metadata": {
        "id": "vRFZUoAHIFGj"
      },
      "source": [
        "data = pd.read_excel(\"example_data/carprice.xlsx\", sheet_name=0)"
      ],
      "execution_count": null,
      "outputs": []
    },
    {
      "cell_type": "code",
      "metadata": {
        "colab": {
          "base_uri": "https://localhost:8080/",
          "height": 423
        },
        "id": "TYY5SkoDCDAp",
        "outputId": "ef416c6b-b5f8-4790-a93f-c7406401fc53"
      },
      "source": [
        "data"
      ],
      "execution_count": null,
      "outputs": [
        {
          "output_type": "execute_result",
          "data": {
            "text/html": [
              "<div>\n",
              "<style scoped>\n",
              "    .dataframe tbody tr th:only-of-type {\n",
              "        vertical-align: middle;\n",
              "    }\n",
              "\n",
              "    .dataframe tbody tr th {\n",
              "        vertical-align: top;\n",
              "    }\n",
              "\n",
              "    .dataframe thead th {\n",
              "        text-align: right;\n",
              "    }\n",
              "</style>\n",
              "<table border=\"1\" class=\"dataframe\">\n",
              "  <thead>\n",
              "    <tr style=\"text-align: right;\">\n",
              "      <th></th>\n",
              "      <th>가격</th>\n",
              "      <th>년식</th>\n",
              "      <th>종류</th>\n",
              "      <th>연비</th>\n",
              "      <th>마력</th>\n",
              "      <th>토크</th>\n",
              "      <th>연료</th>\n",
              "      <th>하이브리드</th>\n",
              "      <th>배기량</th>\n",
              "      <th>중량</th>\n",
              "      <th>변속기</th>\n",
              "    </tr>\n",
              "  </thead>\n",
              "  <tbody>\n",
              "    <tr>\n",
              "      <th>0</th>\n",
              "      <td>1885</td>\n",
              "      <td>2015</td>\n",
              "      <td>준중형</td>\n",
              "      <td>11.8</td>\n",
              "      <td>172</td>\n",
              "      <td>21.0</td>\n",
              "      <td>가솔린</td>\n",
              "      <td>0</td>\n",
              "      <td>1999</td>\n",
              "      <td>1300</td>\n",
              "      <td>자동</td>\n",
              "    </tr>\n",
              "    <tr>\n",
              "      <th>1</th>\n",
              "      <td>2190</td>\n",
              "      <td>2015</td>\n",
              "      <td>준중형</td>\n",
              "      <td>12.3</td>\n",
              "      <td>204</td>\n",
              "      <td>27.0</td>\n",
              "      <td>가솔린</td>\n",
              "      <td>0</td>\n",
              "      <td>1591</td>\n",
              "      <td>1300</td>\n",
              "      <td>자동</td>\n",
              "    </tr>\n",
              "    <tr>\n",
              "      <th>2</th>\n",
              "      <td>1135</td>\n",
              "      <td>2015</td>\n",
              "      <td>소형</td>\n",
              "      <td>15.0</td>\n",
              "      <td>100</td>\n",
              "      <td>13.6</td>\n",
              "      <td>가솔린</td>\n",
              "      <td>0</td>\n",
              "      <td>1368</td>\n",
              "      <td>1035</td>\n",
              "      <td>수동</td>\n",
              "    </tr>\n",
              "    <tr>\n",
              "      <th>3</th>\n",
              "      <td>1645</td>\n",
              "      <td>2014</td>\n",
              "      <td>소형</td>\n",
              "      <td>14.0</td>\n",
              "      <td>140</td>\n",
              "      <td>17.0</td>\n",
              "      <td>가솔린</td>\n",
              "      <td>0</td>\n",
              "      <td>1591</td>\n",
              "      <td>1090</td>\n",
              "      <td>자동</td>\n",
              "    </tr>\n",
              "    <tr>\n",
              "      <th>4</th>\n",
              "      <td>1960</td>\n",
              "      <td>2015</td>\n",
              "      <td>대형</td>\n",
              "      <td>9.6</td>\n",
              "      <td>175</td>\n",
              "      <td>46.0</td>\n",
              "      <td>디젤</td>\n",
              "      <td>0</td>\n",
              "      <td>2497</td>\n",
              "      <td>1990</td>\n",
              "      <td>자동</td>\n",
              "    </tr>\n",
              "    <tr>\n",
              "      <th>...</th>\n",
              "      <td>...</td>\n",
              "      <td>...</td>\n",
              "      <td>...</td>\n",
              "      <td>...</td>\n",
              "      <td>...</td>\n",
              "      <td>...</td>\n",
              "      <td>...</td>\n",
              "      <td>...</td>\n",
              "      <td>...</td>\n",
              "      <td>...</td>\n",
              "      <td>...</td>\n",
              "    </tr>\n",
              "    <tr>\n",
              "      <th>66</th>\n",
              "      <td>3802</td>\n",
              "      <td>2015</td>\n",
              "      <td>중형</td>\n",
              "      <td>8.5</td>\n",
              "      <td>290</td>\n",
              "      <td>34.8</td>\n",
              "      <td>가솔린</td>\n",
              "      <td>0</td>\n",
              "      <td>3342</td>\n",
              "      <td>1901</td>\n",
              "      <td>자동</td>\n",
              "    </tr>\n",
              "    <tr>\n",
              "      <th>67</th>\n",
              "      <td>1270</td>\n",
              "      <td>2012</td>\n",
              "      <td>소형</td>\n",
              "      <td>13.3</td>\n",
              "      <td>108</td>\n",
              "      <td>13.9</td>\n",
              "      <td>가솔린</td>\n",
              "      <td>0</td>\n",
              "      <td>1396</td>\n",
              "      <td>1040</td>\n",
              "      <td>자동</td>\n",
              "    </tr>\n",
              "    <tr>\n",
              "      <th>68</th>\n",
              "      <td>2430</td>\n",
              "      <td>2015</td>\n",
              "      <td>준중형</td>\n",
              "      <td>12.8</td>\n",
              "      <td>186</td>\n",
              "      <td>41.0</td>\n",
              "      <td>디젤</td>\n",
              "      <td>0</td>\n",
              "      <td>1995</td>\n",
              "      <td>1665</td>\n",
              "      <td>자동</td>\n",
              "    </tr>\n",
              "    <tr>\n",
              "      <th>69</th>\n",
              "      <td>2870</td>\n",
              "      <td>2015</td>\n",
              "      <td>중형</td>\n",
              "      <td>17.7</td>\n",
              "      <td>156</td>\n",
              "      <td>19.3</td>\n",
              "      <td>가솔린</td>\n",
              "      <td>1</td>\n",
              "      <td>1999</td>\n",
              "      <td>1585</td>\n",
              "      <td>자동</td>\n",
              "    </tr>\n",
              "    <tr>\n",
              "      <th>70</th>\n",
              "      <td>3254</td>\n",
              "      <td>2015</td>\n",
              "      <td>대형</td>\n",
              "      <td>13.8</td>\n",
              "      <td>202</td>\n",
              "      <td>45.0</td>\n",
              "      <td>디젤</td>\n",
              "      <td>0</td>\n",
              "      <td>2199</td>\n",
              "      <td>1691</td>\n",
              "      <td>자동</td>\n",
              "    </tr>\n",
              "  </tbody>\n",
              "</table>\n",
              "<p>71 rows × 11 columns</p>\n",
              "</div>"
            ],
            "text/plain": [
              "      가격    년식   종류    연비   마력    토크   연료  하이브리드   배기량    중량 변속기\n",
              "0   1885  2015  준중형  11.8  172  21.0  가솔린      0  1999  1300  자동\n",
              "1   2190  2015  준중형  12.3  204  27.0  가솔린      0  1591  1300  자동\n",
              "2   1135  2015   소형  15.0  100  13.6  가솔린      0  1368  1035  수동\n",
              "3   1645  2014   소형  14.0  140  17.0  가솔린      0  1591  1090  자동\n",
              "4   1960  2015   대형   9.6  175  46.0   디젤      0  2497  1990  자동\n",
              "..   ...   ...  ...   ...  ...   ...  ...    ...   ...   ...  ..\n",
              "66  3802  2015   중형   8.5  290  34.8  가솔린      0  3342  1901  자동\n",
              "67  1270  2012   소형  13.3  108  13.9  가솔린      0  1396  1040  자동\n",
              "68  2430  2015  준중형  12.8  186  41.0   디젤      0  1995  1665  자동\n",
              "69  2870  2015   중형  17.7  156  19.3  가솔린      1  1999  1585  자동\n",
              "70  3254  2015   대형  13.8  202  45.0   디젤      0  2199  1691  자동\n",
              "\n",
              "[71 rows x 11 columns]"
            ]
          },
          "metadata": {},
          "execution_count": 210
        }
      ]
    },
    {
      "cell_type": "code",
      "metadata": {
        "colab": {
          "base_uri": "https://localhost:8080/"
        },
        "id": "OD_MSlgsIcmS",
        "outputId": "25f93e01-e72a-4698-895b-02f2cf38ef31"
      },
      "source": [
        "data.columns"
      ],
      "execution_count": null,
      "outputs": [
        {
          "output_type": "execute_result",
          "data": {
            "text/plain": [
              "Index(['가격', '년식', '종류', '연비', '마력', '토크', '연료', '하이브리드', '배기량', '중량', '변속기'], dtype='object')"
            ]
          },
          "metadata": {},
          "execution_count": 230
        }
      ]
    },
    {
      "cell_type": "code",
      "metadata": {
        "id": "mPYrxxK0CC5T"
      },
      "source": [
        "columns = ['종류', '연료', '변속기']\n",
        "\n",
        "for col in columns:\n",
        "    le = LabelEncoder()\n",
        "    le.fit(data[col])\n",
        "    data[col] = le.transform(data[col])"
      ],
      "execution_count": null,
      "outputs": []
    },
    {
      "cell_type": "code",
      "metadata": {
        "colab": {
          "base_uri": "https://localhost:8080/",
          "height": 423
        },
        "id": "Z7wXc41IItaK",
        "outputId": "3c8e9967-ab4d-4ef4-bfaf-457d4797381e"
      },
      "source": [
        "data"
      ],
      "execution_count": null,
      "outputs": [
        {
          "output_type": "execute_result",
          "data": {
            "text/html": [
              "<div>\n",
              "<style scoped>\n",
              "    .dataframe tbody tr th:only-of-type {\n",
              "        vertical-align: middle;\n",
              "    }\n",
              "\n",
              "    .dataframe tbody tr th {\n",
              "        vertical-align: top;\n",
              "    }\n",
              "\n",
              "    .dataframe thead th {\n",
              "        text-align: right;\n",
              "    }\n",
              "</style>\n",
              "<table border=\"1\" class=\"dataframe\">\n",
              "  <thead>\n",
              "    <tr style=\"text-align: right;\">\n",
              "      <th></th>\n",
              "      <th>가격</th>\n",
              "      <th>년식</th>\n",
              "      <th>종류</th>\n",
              "      <th>연비</th>\n",
              "      <th>마력</th>\n",
              "      <th>토크</th>\n",
              "      <th>연료</th>\n",
              "      <th>하이브리드</th>\n",
              "      <th>배기량</th>\n",
              "      <th>중량</th>\n",
              "      <th>변속기</th>\n",
              "    </tr>\n",
              "  </thead>\n",
              "  <tbody>\n",
              "    <tr>\n",
              "      <th>0</th>\n",
              "      <td>1885</td>\n",
              "      <td>2015</td>\n",
              "      <td>2</td>\n",
              "      <td>11.8</td>\n",
              "      <td>172</td>\n",
              "      <td>21.0</td>\n",
              "      <td>1</td>\n",
              "      <td>0</td>\n",
              "      <td>1999</td>\n",
              "      <td>1300</td>\n",
              "      <td>1</td>\n",
              "    </tr>\n",
              "    <tr>\n",
              "      <th>1</th>\n",
              "      <td>2190</td>\n",
              "      <td>2015</td>\n",
              "      <td>2</td>\n",
              "      <td>12.3</td>\n",
              "      <td>204</td>\n",
              "      <td>27.0</td>\n",
              "      <td>1</td>\n",
              "      <td>0</td>\n",
              "      <td>1591</td>\n",
              "      <td>1300</td>\n",
              "      <td>1</td>\n",
              "    </tr>\n",
              "    <tr>\n",
              "      <th>2</th>\n",
              "      <td>1135</td>\n",
              "      <td>2015</td>\n",
              "      <td>1</td>\n",
              "      <td>15.0</td>\n",
              "      <td>100</td>\n",
              "      <td>13.6</td>\n",
              "      <td>1</td>\n",
              "      <td>0</td>\n",
              "      <td>1368</td>\n",
              "      <td>1035</td>\n",
              "      <td>0</td>\n",
              "    </tr>\n",
              "    <tr>\n",
              "      <th>3</th>\n",
              "      <td>1645</td>\n",
              "      <td>2014</td>\n",
              "      <td>1</td>\n",
              "      <td>14.0</td>\n",
              "      <td>140</td>\n",
              "      <td>17.0</td>\n",
              "      <td>1</td>\n",
              "      <td>0</td>\n",
              "      <td>1591</td>\n",
              "      <td>1090</td>\n",
              "      <td>1</td>\n",
              "    </tr>\n",
              "    <tr>\n",
              "      <th>4</th>\n",
              "      <td>1960</td>\n",
              "      <td>2015</td>\n",
              "      <td>0</td>\n",
              "      <td>9.6</td>\n",
              "      <td>175</td>\n",
              "      <td>46.0</td>\n",
              "      <td>2</td>\n",
              "      <td>0</td>\n",
              "      <td>2497</td>\n",
              "      <td>1990</td>\n",
              "      <td>1</td>\n",
              "    </tr>\n",
              "    <tr>\n",
              "      <th>...</th>\n",
              "      <td>...</td>\n",
              "      <td>...</td>\n",
              "      <td>...</td>\n",
              "      <td>...</td>\n",
              "      <td>...</td>\n",
              "      <td>...</td>\n",
              "      <td>...</td>\n",
              "      <td>...</td>\n",
              "      <td>...</td>\n",
              "      <td>...</td>\n",
              "      <td>...</td>\n",
              "    </tr>\n",
              "    <tr>\n",
              "      <th>66</th>\n",
              "      <td>3802</td>\n",
              "      <td>2015</td>\n",
              "      <td>3</td>\n",
              "      <td>8.5</td>\n",
              "      <td>290</td>\n",
              "      <td>34.8</td>\n",
              "      <td>1</td>\n",
              "      <td>0</td>\n",
              "      <td>3342</td>\n",
              "      <td>1901</td>\n",
              "      <td>1</td>\n",
              "    </tr>\n",
              "    <tr>\n",
              "      <th>67</th>\n",
              "      <td>1270</td>\n",
              "      <td>2012</td>\n",
              "      <td>1</td>\n",
              "      <td>13.3</td>\n",
              "      <td>108</td>\n",
              "      <td>13.9</td>\n",
              "      <td>1</td>\n",
              "      <td>0</td>\n",
              "      <td>1396</td>\n",
              "      <td>1040</td>\n",
              "      <td>1</td>\n",
              "    </tr>\n",
              "    <tr>\n",
              "      <th>68</th>\n",
              "      <td>2430</td>\n",
              "      <td>2015</td>\n",
              "      <td>2</td>\n",
              "      <td>12.8</td>\n",
              "      <td>186</td>\n",
              "      <td>41.0</td>\n",
              "      <td>2</td>\n",
              "      <td>0</td>\n",
              "      <td>1995</td>\n",
              "      <td>1665</td>\n",
              "      <td>1</td>\n",
              "    </tr>\n",
              "    <tr>\n",
              "      <th>69</th>\n",
              "      <td>2870</td>\n",
              "      <td>2015</td>\n",
              "      <td>3</td>\n",
              "      <td>17.7</td>\n",
              "      <td>156</td>\n",
              "      <td>19.3</td>\n",
              "      <td>1</td>\n",
              "      <td>1</td>\n",
              "      <td>1999</td>\n",
              "      <td>1585</td>\n",
              "      <td>1</td>\n",
              "    </tr>\n",
              "    <tr>\n",
              "      <th>70</th>\n",
              "      <td>3254</td>\n",
              "      <td>2015</td>\n",
              "      <td>0</td>\n",
              "      <td>13.8</td>\n",
              "      <td>202</td>\n",
              "      <td>45.0</td>\n",
              "      <td>2</td>\n",
              "      <td>0</td>\n",
              "      <td>2199</td>\n",
              "      <td>1691</td>\n",
              "      <td>1</td>\n",
              "    </tr>\n",
              "  </tbody>\n",
              "</table>\n",
              "<p>71 rows × 11 columns</p>\n",
              "</div>"
            ],
            "text/plain": [
              "      가격    년식  종류    연비   마력    토크  연료  하이브리드   배기량    중량  변속기\n",
              "0   1885  2015   2  11.8  172  21.0   1      0  1999  1300    1\n",
              "1   2190  2015   2  12.3  204  27.0   1      0  1591  1300    1\n",
              "2   1135  2015   1  15.0  100  13.6   1      0  1368  1035    0\n",
              "3   1645  2014   1  14.0  140  17.0   1      0  1591  1090    1\n",
              "4   1960  2015   0   9.6  175  46.0   2      0  2497  1990    1\n",
              "..   ...   ...  ..   ...  ...   ...  ..    ...   ...   ...  ...\n",
              "66  3802  2015   3   8.5  290  34.8   1      0  3342  1901    1\n",
              "67  1270  2012   1  13.3  108  13.9   1      0  1396  1040    1\n",
              "68  2430  2015   2  12.8  186  41.0   2      0  1995  1665    1\n",
              "69  2870  2015   3  17.7  156  19.3   1      1  1999  1585    1\n",
              "70  3254  2015   0  13.8  202  45.0   2      0  2199  1691    1\n",
              "\n",
              "[71 rows x 11 columns]"
            ]
          },
          "metadata": {},
          "execution_count": 232
        }
      ]
    },
    {
      "cell_type": "code",
      "metadata": {
        "colab": {
          "base_uri": "https://localhost:8080/",
          "height": 337
        },
        "id": "23q3uZQMItWe",
        "outputId": "b60dc57a-480f-4e2c-a8d9-8c8729becf13"
      },
      "source": [
        "data.describe()"
      ],
      "execution_count": null,
      "outputs": [
        {
          "output_type": "execute_result",
          "data": {
            "text/html": [
              "<div>\n",
              "<style scoped>\n",
              "    .dataframe tbody tr th:only-of-type {\n",
              "        vertical-align: middle;\n",
              "    }\n",
              "\n",
              "    .dataframe tbody tr th {\n",
              "        vertical-align: top;\n",
              "    }\n",
              "\n",
              "    .dataframe thead th {\n",
              "        text-align: right;\n",
              "    }\n",
              "</style>\n",
              "<table border=\"1\" class=\"dataframe\">\n",
              "  <thead>\n",
              "    <tr style=\"text-align: right;\">\n",
              "      <th></th>\n",
              "      <th>가격</th>\n",
              "      <th>년식</th>\n",
              "      <th>종류</th>\n",
              "      <th>연비</th>\n",
              "      <th>마력</th>\n",
              "      <th>토크</th>\n",
              "      <th>연료</th>\n",
              "      <th>하이브리드</th>\n",
              "      <th>배기량</th>\n",
              "      <th>중량</th>\n",
              "      <th>변속기</th>\n",
              "    </tr>\n",
              "  </thead>\n",
              "  <tbody>\n",
              "    <tr>\n",
              "      <th>count</th>\n",
              "      <td>71.000000</td>\n",
              "      <td>71.000000</td>\n",
              "      <td>71.000000</td>\n",
              "      <td>71.000000</td>\n",
              "      <td>71.000000</td>\n",
              "      <td>71.000000</td>\n",
              "      <td>71.000000</td>\n",
              "      <td>71.000000</td>\n",
              "      <td>71.000000</td>\n",
              "      <td>71.000000</td>\n",
              "      <td>71.000000</td>\n",
              "    </tr>\n",
              "    <tr>\n",
              "      <th>mean</th>\n",
              "      <td>2488.492958</td>\n",
              "      <td>2014.436620</td>\n",
              "      <td>1.239437</td>\n",
              "      <td>12.361972</td>\n",
              "      <td>175.647887</td>\n",
              "      <td>29.443662</td>\n",
              "      <td>1.352113</td>\n",
              "      <td>0.042254</td>\n",
              "      <td>2152.450704</td>\n",
              "      <td>1580.563380</td>\n",
              "      <td>0.718310</td>\n",
              "    </tr>\n",
              "    <tr>\n",
              "      <th>std</th>\n",
              "      <td>1456.797632</td>\n",
              "      <td>1.167811</td>\n",
              "      <td>1.152200</td>\n",
              "      <td>3.154333</td>\n",
              "      <td>61.207165</td>\n",
              "      <td>12.143943</td>\n",
              "      <td>0.611756</td>\n",
              "      <td>0.202599</td>\n",
              "      <td>687.918699</td>\n",
              "      <td>367.027859</td>\n",
              "      <td>0.453025</td>\n",
              "    </tr>\n",
              "    <tr>\n",
              "      <th>min</th>\n",
              "      <td>1104.000000</td>\n",
              "      <td>2011.000000</td>\n",
              "      <td>0.000000</td>\n",
              "      <td>6.300000</td>\n",
              "      <td>100.000000</td>\n",
              "      <td>13.600000</td>\n",
              "      <td>0.000000</td>\n",
              "      <td>0.000000</td>\n",
              "      <td>1368.000000</td>\n",
              "      <td>1035.000000</td>\n",
              "      <td>0.000000</td>\n",
              "    </tr>\n",
              "    <tr>\n",
              "      <th>25%</th>\n",
              "      <td>1620.000000</td>\n",
              "      <td>2015.000000</td>\n",
              "      <td>0.000000</td>\n",
              "      <td>9.950000</td>\n",
              "      <td>136.000000</td>\n",
              "      <td>18.150000</td>\n",
              "      <td>1.000000</td>\n",
              "      <td>0.000000</td>\n",
              "      <td>1591.000000</td>\n",
              "      <td>1261.000000</td>\n",
              "      <td>0.000000</td>\n",
              "    </tr>\n",
              "    <tr>\n",
              "      <th>50%</th>\n",
              "      <td>2110.000000</td>\n",
              "      <td>2015.000000</td>\n",
              "      <td>1.000000</td>\n",
              "      <td>12.400000</td>\n",
              "      <td>166.000000</td>\n",
              "      <td>27.000000</td>\n",
              "      <td>1.000000</td>\n",
              "      <td>0.000000</td>\n",
              "      <td>1999.000000</td>\n",
              "      <td>1615.000000</td>\n",
              "      <td>1.000000</td>\n",
              "    </tr>\n",
              "    <tr>\n",
              "      <th>75%</th>\n",
              "      <td>3044.500000</td>\n",
              "      <td>2015.000000</td>\n",
              "      <td>2.000000</td>\n",
              "      <td>14.200000</td>\n",
              "      <td>200.000000</td>\n",
              "      <td>41.000000</td>\n",
              "      <td>2.000000</td>\n",
              "      <td>0.000000</td>\n",
              "      <td>2428.000000</td>\n",
              "      <td>1903.000000</td>\n",
              "      <td>1.000000</td>\n",
              "    </tr>\n",
              "    <tr>\n",
              "      <th>max</th>\n",
              "      <td>11150.000000</td>\n",
              "      <td>2015.000000</td>\n",
              "      <td>3.000000</td>\n",
              "      <td>19.000000</td>\n",
              "      <td>416.000000</td>\n",
              "      <td>52.000000</td>\n",
              "      <td>2.000000</td>\n",
              "      <td>1.000000</td>\n",
              "      <td>5038.000000</td>\n",
              "      <td>2210.000000</td>\n",
              "      <td>1.000000</td>\n",
              "    </tr>\n",
              "  </tbody>\n",
              "</table>\n",
              "</div>"
            ],
            "text/plain": [
              "                 가격           년식  ...           중량        변속기\n",
              "count     71.000000    71.000000  ...    71.000000  71.000000\n",
              "mean    2488.492958  2014.436620  ...  1580.563380   0.718310\n",
              "std     1456.797632     1.167811  ...   367.027859   0.453025\n",
              "min     1104.000000  2011.000000  ...  1035.000000   0.000000\n",
              "25%     1620.000000  2015.000000  ...  1261.000000   0.000000\n",
              "50%     2110.000000  2015.000000  ...  1615.000000   1.000000\n",
              "75%     3044.500000  2015.000000  ...  1903.000000   1.000000\n",
              "max    11150.000000  2015.000000  ...  2210.000000   1.000000\n",
              "\n",
              "[8 rows x 11 columns]"
            ]
          },
          "metadata": {},
          "execution_count": 233
        }
      ]
    },
    {
      "cell_type": "code",
      "metadata": {
        "colab": {
          "base_uri": "https://localhost:8080/",
          "height": 143
        },
        "id": "-8esrEVeI0nX",
        "outputId": "c0623b60-7c21-4044-ce07-66b0189d0294"
      },
      "source": [
        "data[0:3]"
      ],
      "execution_count": null,
      "outputs": [
        {
          "output_type": "execute_result",
          "data": {
            "text/html": [
              "<div>\n",
              "<style scoped>\n",
              "    .dataframe tbody tr th:only-of-type {\n",
              "        vertical-align: middle;\n",
              "    }\n",
              "\n",
              "    .dataframe tbody tr th {\n",
              "        vertical-align: top;\n",
              "    }\n",
              "\n",
              "    .dataframe thead th {\n",
              "        text-align: right;\n",
              "    }\n",
              "</style>\n",
              "<table border=\"1\" class=\"dataframe\">\n",
              "  <thead>\n",
              "    <tr style=\"text-align: right;\">\n",
              "      <th></th>\n",
              "      <th>가격</th>\n",
              "      <th>년식</th>\n",
              "      <th>종류</th>\n",
              "      <th>연비</th>\n",
              "      <th>마력</th>\n",
              "      <th>토크</th>\n",
              "      <th>연료</th>\n",
              "      <th>하이브리드</th>\n",
              "      <th>배기량</th>\n",
              "      <th>중량</th>\n",
              "      <th>변속기</th>\n",
              "    </tr>\n",
              "  </thead>\n",
              "  <tbody>\n",
              "    <tr>\n",
              "      <th>0</th>\n",
              "      <td>1885</td>\n",
              "      <td>2015</td>\n",
              "      <td>2</td>\n",
              "      <td>11.8</td>\n",
              "      <td>172</td>\n",
              "      <td>21.0</td>\n",
              "      <td>1</td>\n",
              "      <td>0</td>\n",
              "      <td>1999</td>\n",
              "      <td>1300</td>\n",
              "      <td>1</td>\n",
              "    </tr>\n",
              "    <tr>\n",
              "      <th>1</th>\n",
              "      <td>2190</td>\n",
              "      <td>2015</td>\n",
              "      <td>2</td>\n",
              "      <td>12.3</td>\n",
              "      <td>204</td>\n",
              "      <td>27.0</td>\n",
              "      <td>1</td>\n",
              "      <td>0</td>\n",
              "      <td>1591</td>\n",
              "      <td>1300</td>\n",
              "      <td>1</td>\n",
              "    </tr>\n",
              "    <tr>\n",
              "      <th>2</th>\n",
              "      <td>1135</td>\n",
              "      <td>2015</td>\n",
              "      <td>1</td>\n",
              "      <td>15.0</td>\n",
              "      <td>100</td>\n",
              "      <td>13.6</td>\n",
              "      <td>1</td>\n",
              "      <td>0</td>\n",
              "      <td>1368</td>\n",
              "      <td>1035</td>\n",
              "      <td>0</td>\n",
              "    </tr>\n",
              "  </tbody>\n",
              "</table>\n",
              "</div>"
            ],
            "text/plain": [
              "     가격    년식  종류    연비   마력    토크  연료  하이브리드   배기량    중량  변속기\n",
              "0  1885  2015   2  11.8  172  21.0   1      0  1999  1300    1\n",
              "1  2190  2015   2  12.3  204  27.0   1      0  1591  1300    1\n",
              "2  1135  2015   1  15.0  100  13.6   1      0  1368  1035    0"
            ]
          },
          "metadata": {},
          "execution_count": 235
        }
      ]
    },
    {
      "cell_type": "code",
      "metadata": {
        "colab": {
          "base_uri": "https://localhost:8080/",
          "height": 143
        },
        "id": "yqVNjRFOI0kV",
        "outputId": "90cc831e-fa1d-4c46-e894-d71e546fd459"
      },
      "source": [
        "data.loc[1:3]"
      ],
      "execution_count": null,
      "outputs": [
        {
          "output_type": "execute_result",
          "data": {
            "text/html": [
              "<div>\n",
              "<style scoped>\n",
              "    .dataframe tbody tr th:only-of-type {\n",
              "        vertical-align: middle;\n",
              "    }\n",
              "\n",
              "    .dataframe tbody tr th {\n",
              "        vertical-align: top;\n",
              "    }\n",
              "\n",
              "    .dataframe thead th {\n",
              "        text-align: right;\n",
              "    }\n",
              "</style>\n",
              "<table border=\"1\" class=\"dataframe\">\n",
              "  <thead>\n",
              "    <tr style=\"text-align: right;\">\n",
              "      <th></th>\n",
              "      <th>가격</th>\n",
              "      <th>년식</th>\n",
              "      <th>종류</th>\n",
              "      <th>연비</th>\n",
              "      <th>마력</th>\n",
              "      <th>토크</th>\n",
              "      <th>연료</th>\n",
              "      <th>하이브리드</th>\n",
              "      <th>배기량</th>\n",
              "      <th>중량</th>\n",
              "      <th>변속기</th>\n",
              "    </tr>\n",
              "  </thead>\n",
              "  <tbody>\n",
              "    <tr>\n",
              "      <th>1</th>\n",
              "      <td>2190</td>\n",
              "      <td>2015</td>\n",
              "      <td>2</td>\n",
              "      <td>12.3</td>\n",
              "      <td>204</td>\n",
              "      <td>27.0</td>\n",
              "      <td>1</td>\n",
              "      <td>0</td>\n",
              "      <td>1591</td>\n",
              "      <td>1300</td>\n",
              "      <td>1</td>\n",
              "    </tr>\n",
              "    <tr>\n",
              "      <th>2</th>\n",
              "      <td>1135</td>\n",
              "      <td>2015</td>\n",
              "      <td>1</td>\n",
              "      <td>15.0</td>\n",
              "      <td>100</td>\n",
              "      <td>13.6</td>\n",
              "      <td>1</td>\n",
              "      <td>0</td>\n",
              "      <td>1368</td>\n",
              "      <td>1035</td>\n",
              "      <td>0</td>\n",
              "    </tr>\n",
              "    <tr>\n",
              "      <th>3</th>\n",
              "      <td>1645</td>\n",
              "      <td>2014</td>\n",
              "      <td>1</td>\n",
              "      <td>14.0</td>\n",
              "      <td>140</td>\n",
              "      <td>17.0</td>\n",
              "      <td>1</td>\n",
              "      <td>0</td>\n",
              "      <td>1591</td>\n",
              "      <td>1090</td>\n",
              "      <td>1</td>\n",
              "    </tr>\n",
              "  </tbody>\n",
              "</table>\n",
              "</div>"
            ],
            "text/plain": [
              "     가격    년식  종류    연비   마력    토크  연료  하이브리드   배기량    중량  변속기\n",
              "1  2190  2015   2  12.3  204  27.0   1      0  1591  1300    1\n",
              "2  1135  2015   1  15.0  100  13.6   1      0  1368  1035    0\n",
              "3  1645  2014   1  14.0  140  17.0   1      0  1591  1090    1"
            ]
          },
          "metadata": {},
          "execution_count": 236
        }
      ]
    },
    {
      "cell_type": "code",
      "metadata": {
        "colab": {
          "base_uri": "https://localhost:8080/",
          "height": 112
        },
        "id": "Ry3s-8z3JCgo",
        "outputId": "8bfdc0bf-e5a9-4f00-fa78-1a0d5f2b84db"
      },
      "source": [
        "data.iloc[1:3]"
      ],
      "execution_count": null,
      "outputs": [
        {
          "output_type": "execute_result",
          "data": {
            "text/html": [
              "<div>\n",
              "<style scoped>\n",
              "    .dataframe tbody tr th:only-of-type {\n",
              "        vertical-align: middle;\n",
              "    }\n",
              "\n",
              "    .dataframe tbody tr th {\n",
              "        vertical-align: top;\n",
              "    }\n",
              "\n",
              "    .dataframe thead th {\n",
              "        text-align: right;\n",
              "    }\n",
              "</style>\n",
              "<table border=\"1\" class=\"dataframe\">\n",
              "  <thead>\n",
              "    <tr style=\"text-align: right;\">\n",
              "      <th></th>\n",
              "      <th>가격</th>\n",
              "      <th>년식</th>\n",
              "      <th>종류</th>\n",
              "      <th>연비</th>\n",
              "      <th>마력</th>\n",
              "      <th>토크</th>\n",
              "      <th>연료</th>\n",
              "      <th>하이브리드</th>\n",
              "      <th>배기량</th>\n",
              "      <th>중량</th>\n",
              "      <th>변속기</th>\n",
              "    </tr>\n",
              "  </thead>\n",
              "  <tbody>\n",
              "    <tr>\n",
              "      <th>1</th>\n",
              "      <td>2190</td>\n",
              "      <td>2015</td>\n",
              "      <td>2</td>\n",
              "      <td>12.3</td>\n",
              "      <td>204</td>\n",
              "      <td>27.0</td>\n",
              "      <td>1</td>\n",
              "      <td>0</td>\n",
              "      <td>1591</td>\n",
              "      <td>1300</td>\n",
              "      <td>1</td>\n",
              "    </tr>\n",
              "    <tr>\n",
              "      <th>2</th>\n",
              "      <td>1135</td>\n",
              "      <td>2015</td>\n",
              "      <td>1</td>\n",
              "      <td>15.0</td>\n",
              "      <td>100</td>\n",
              "      <td>13.6</td>\n",
              "      <td>1</td>\n",
              "      <td>0</td>\n",
              "      <td>1368</td>\n",
              "      <td>1035</td>\n",
              "      <td>0</td>\n",
              "    </tr>\n",
              "  </tbody>\n",
              "</table>\n",
              "</div>"
            ],
            "text/plain": [
              "     가격    년식  종류    연비   마력    토크  연료  하이브리드   배기량    중량  변속기\n",
              "1  2190  2015   2  12.3  204  27.0   1      0  1591  1300    1\n",
              "2  1135  2015   1  15.0  100  13.6   1      0  1368  1035    0"
            ]
          },
          "metadata": {},
          "execution_count": 237
        }
      ]
    },
    {
      "cell_type": "code",
      "metadata": {
        "colab": {
          "base_uri": "https://localhost:8080/",
          "height": 175
        },
        "id": "R_zswjz5ItTx",
        "outputId": "cc2eb9f4-8c2a-41e8-d431-2b328887b683"
      },
      "source": [
        "data.loc[0:3]"
      ],
      "execution_count": null,
      "outputs": [
        {
          "output_type": "execute_result",
          "data": {
            "text/html": [
              "<div>\n",
              "<style scoped>\n",
              "    .dataframe tbody tr th:only-of-type {\n",
              "        vertical-align: middle;\n",
              "    }\n",
              "\n",
              "    .dataframe tbody tr th {\n",
              "        vertical-align: top;\n",
              "    }\n",
              "\n",
              "    .dataframe thead th {\n",
              "        text-align: right;\n",
              "    }\n",
              "</style>\n",
              "<table border=\"1\" class=\"dataframe\">\n",
              "  <thead>\n",
              "    <tr style=\"text-align: right;\">\n",
              "      <th></th>\n",
              "      <th>가격</th>\n",
              "      <th>년식</th>\n",
              "      <th>종류</th>\n",
              "      <th>연비</th>\n",
              "      <th>마력</th>\n",
              "      <th>토크</th>\n",
              "      <th>연료</th>\n",
              "      <th>하이브리드</th>\n",
              "      <th>배기량</th>\n",
              "      <th>중량</th>\n",
              "      <th>변속기</th>\n",
              "    </tr>\n",
              "  </thead>\n",
              "  <tbody>\n",
              "    <tr>\n",
              "      <th>0</th>\n",
              "      <td>1885</td>\n",
              "      <td>2015</td>\n",
              "      <td>2</td>\n",
              "      <td>11.8</td>\n",
              "      <td>172</td>\n",
              "      <td>21.0</td>\n",
              "      <td>1</td>\n",
              "      <td>0</td>\n",
              "      <td>1999</td>\n",
              "      <td>1300</td>\n",
              "      <td>1</td>\n",
              "    </tr>\n",
              "    <tr>\n",
              "      <th>1</th>\n",
              "      <td>2190</td>\n",
              "      <td>2015</td>\n",
              "      <td>2</td>\n",
              "      <td>12.3</td>\n",
              "      <td>204</td>\n",
              "      <td>27.0</td>\n",
              "      <td>1</td>\n",
              "      <td>0</td>\n",
              "      <td>1591</td>\n",
              "      <td>1300</td>\n",
              "      <td>1</td>\n",
              "    </tr>\n",
              "    <tr>\n",
              "      <th>2</th>\n",
              "      <td>1135</td>\n",
              "      <td>2015</td>\n",
              "      <td>1</td>\n",
              "      <td>15.0</td>\n",
              "      <td>100</td>\n",
              "      <td>13.6</td>\n",
              "      <td>1</td>\n",
              "      <td>0</td>\n",
              "      <td>1368</td>\n",
              "      <td>1035</td>\n",
              "      <td>0</td>\n",
              "    </tr>\n",
              "    <tr>\n",
              "      <th>3</th>\n",
              "      <td>1645</td>\n",
              "      <td>2014</td>\n",
              "      <td>1</td>\n",
              "      <td>14.0</td>\n",
              "      <td>140</td>\n",
              "      <td>17.0</td>\n",
              "      <td>1</td>\n",
              "      <td>0</td>\n",
              "      <td>1591</td>\n",
              "      <td>1090</td>\n",
              "      <td>1</td>\n",
              "    </tr>\n",
              "  </tbody>\n",
              "</table>\n",
              "</div>"
            ],
            "text/plain": [
              "     가격    년식  종류    연비   마력    토크  연료  하이브리드   배기량    중량  변속기\n",
              "0  1885  2015   2  11.8  172  21.0   1      0  1999  1300    1\n",
              "1  2190  2015   2  12.3  204  27.0   1      0  1591  1300    1\n",
              "2  1135  2015   1  15.0  100  13.6   1      0  1368  1035    0\n",
              "3  1645  2014   1  14.0  140  17.0   1      0  1591  1090    1"
            ]
          },
          "metadata": {},
          "execution_count": 238
        }
      ]
    },
    {
      "cell_type": "code",
      "metadata": {
        "colab": {
          "base_uri": "https://localhost:8080/",
          "height": 112
        },
        "id": "X7IxP29RJMOE",
        "outputId": "f3ec25b7-874b-4a26-99e3-549eced4ffa9"
      },
      "source": [
        "data.iloc[1:3, 3:10]"
      ],
      "execution_count": null,
      "outputs": [
        {
          "output_type": "execute_result",
          "data": {
            "text/html": [
              "<div>\n",
              "<style scoped>\n",
              "    .dataframe tbody tr th:only-of-type {\n",
              "        vertical-align: middle;\n",
              "    }\n",
              "\n",
              "    .dataframe tbody tr th {\n",
              "        vertical-align: top;\n",
              "    }\n",
              "\n",
              "    .dataframe thead th {\n",
              "        text-align: right;\n",
              "    }\n",
              "</style>\n",
              "<table border=\"1\" class=\"dataframe\">\n",
              "  <thead>\n",
              "    <tr style=\"text-align: right;\">\n",
              "      <th></th>\n",
              "      <th>연비</th>\n",
              "      <th>마력</th>\n",
              "      <th>토크</th>\n",
              "      <th>연료</th>\n",
              "      <th>하이브리드</th>\n",
              "      <th>배기량</th>\n",
              "      <th>중량</th>\n",
              "    </tr>\n",
              "  </thead>\n",
              "  <tbody>\n",
              "    <tr>\n",
              "      <th>1</th>\n",
              "      <td>12.3</td>\n",
              "      <td>204</td>\n",
              "      <td>27.0</td>\n",
              "      <td>1</td>\n",
              "      <td>0</td>\n",
              "      <td>1591</td>\n",
              "      <td>1300</td>\n",
              "    </tr>\n",
              "    <tr>\n",
              "      <th>2</th>\n",
              "      <td>15.0</td>\n",
              "      <td>100</td>\n",
              "      <td>13.6</td>\n",
              "      <td>1</td>\n",
              "      <td>0</td>\n",
              "      <td>1368</td>\n",
              "      <td>1035</td>\n",
              "    </tr>\n",
              "  </tbody>\n",
              "</table>\n",
              "</div>"
            ],
            "text/plain": [
              "     연비   마력    토크  연료  하이브리드   배기량    중량\n",
              "1  12.3  204  27.0   1      0  1591  1300\n",
              "2  15.0  100  13.6   1      0  1368  1035"
            ]
          },
          "metadata": {},
          "execution_count": 239
        }
      ]
    },
    {
      "cell_type": "code",
      "metadata": {
        "colab": {
          "base_uri": "https://localhost:8080/",
          "height": 423
        },
        "id": "f2JwYHUjJYet",
        "outputId": "47996d34-215a-4c92-fc6c-3c35ac8ff12b"
      },
      "source": [
        "data.sort_values(by = \"가격\")"
      ],
      "execution_count": null,
      "outputs": [
        {
          "output_type": "execute_result",
          "data": {
            "text/html": [
              "<div>\n",
              "<style scoped>\n",
              "    .dataframe tbody tr th:only-of-type {\n",
              "        vertical-align: middle;\n",
              "    }\n",
              "\n",
              "    .dataframe tbody tr th {\n",
              "        vertical-align: top;\n",
              "    }\n",
              "\n",
              "    .dataframe thead th {\n",
              "        text-align: right;\n",
              "    }\n",
              "</style>\n",
              "<table border=\"1\" class=\"dataframe\">\n",
              "  <thead>\n",
              "    <tr style=\"text-align: right;\">\n",
              "      <th></th>\n",
              "      <th>가격</th>\n",
              "      <th>년식</th>\n",
              "      <th>종류</th>\n",
              "      <th>연비</th>\n",
              "      <th>마력</th>\n",
              "      <th>토크</th>\n",
              "      <th>연료</th>\n",
              "      <th>하이브리드</th>\n",
              "      <th>배기량</th>\n",
              "      <th>중량</th>\n",
              "      <th>변속기</th>\n",
              "    </tr>\n",
              "  </thead>\n",
              "  <tbody>\n",
              "    <tr>\n",
              "      <th>14</th>\n",
              "      <td>1104</td>\n",
              "      <td>2013</td>\n",
              "      <td>1</td>\n",
              "      <td>13.3</td>\n",
              "      <td>108</td>\n",
              "      <td>13.6</td>\n",
              "      <td>1</td>\n",
              "      <td>0</td>\n",
              "      <td>1396</td>\n",
              "      <td>1035</td>\n",
              "      <td>1</td>\n",
              "    </tr>\n",
              "    <tr>\n",
              "      <th>46</th>\n",
              "      <td>1104</td>\n",
              "      <td>2013</td>\n",
              "      <td>1</td>\n",
              "      <td>15.0</td>\n",
              "      <td>108</td>\n",
              "      <td>13.6</td>\n",
              "      <td>1</td>\n",
              "      <td>0</td>\n",
              "      <td>1396</td>\n",
              "      <td>1035</td>\n",
              "      <td>0</td>\n",
              "    </tr>\n",
              "    <tr>\n",
              "      <th>2</th>\n",
              "      <td>1135</td>\n",
              "      <td>2015</td>\n",
              "      <td>1</td>\n",
              "      <td>15.0</td>\n",
              "      <td>100</td>\n",
              "      <td>13.6</td>\n",
              "      <td>1</td>\n",
              "      <td>0</td>\n",
              "      <td>1368</td>\n",
              "      <td>1035</td>\n",
              "      <td>0</td>\n",
              "    </tr>\n",
              "    <tr>\n",
              "      <th>49</th>\n",
              "      <td>1149</td>\n",
              "      <td>2011</td>\n",
              "      <td>1</td>\n",
              "      <td>18.0</td>\n",
              "      <td>108</td>\n",
              "      <td>13.9</td>\n",
              "      <td>1</td>\n",
              "      <td>0</td>\n",
              "      <td>1396</td>\n",
              "      <td>1035</td>\n",
              "      <td>0</td>\n",
              "    </tr>\n",
              "    <tr>\n",
              "      <th>40</th>\n",
              "      <td>1149</td>\n",
              "      <td>2011</td>\n",
              "      <td>1</td>\n",
              "      <td>16.1</td>\n",
              "      <td>108</td>\n",
              "      <td>13.9</td>\n",
              "      <td>1</td>\n",
              "      <td>0</td>\n",
              "      <td>1396</td>\n",
              "      <td>1035</td>\n",
              "      <td>1</td>\n",
              "    </tr>\n",
              "    <tr>\n",
              "      <th>...</th>\n",
              "      <td>...</td>\n",
              "      <td>...</td>\n",
              "      <td>...</td>\n",
              "      <td>...</td>\n",
              "      <td>...</td>\n",
              "      <td>...</td>\n",
              "      <td>...</td>\n",
              "      <td>...</td>\n",
              "      <td>...</td>\n",
              "      <td>...</td>\n",
              "      <td>...</td>\n",
              "    </tr>\n",
              "    <tr>\n",
              "      <th>52</th>\n",
              "      <td>4190</td>\n",
              "      <td>2015</td>\n",
              "      <td>0</td>\n",
              "      <td>9.5</td>\n",
              "      <td>294</td>\n",
              "      <td>35.3</td>\n",
              "      <td>1</td>\n",
              "      <td>0</td>\n",
              "      <td>3342</td>\n",
              "      <td>1690</td>\n",
              "      <td>1</td>\n",
              "    </tr>\n",
              "    <tr>\n",
              "      <th>17</th>\n",
              "      <td>4650</td>\n",
              "      <td>2015</td>\n",
              "      <td>0</td>\n",
              "      <td>9.2</td>\n",
              "      <td>282</td>\n",
              "      <td>35.4</td>\n",
              "      <td>1</td>\n",
              "      <td>0</td>\n",
              "      <td>3342</td>\n",
              "      <td>1900</td>\n",
              "      <td>1</td>\n",
              "    </tr>\n",
              "    <tr>\n",
              "      <th>47</th>\n",
              "      <td>5463</td>\n",
              "      <td>2015</td>\n",
              "      <td>0</td>\n",
              "      <td>9.0</td>\n",
              "      <td>315</td>\n",
              "      <td>40.5</td>\n",
              "      <td>1</td>\n",
              "      <td>0</td>\n",
              "      <td>3778</td>\n",
              "      <td>1930</td>\n",
              "      <td>1</td>\n",
              "    </tr>\n",
              "    <tr>\n",
              "      <th>19</th>\n",
              "      <td>5710</td>\n",
              "      <td>2015</td>\n",
              "      <td>0</td>\n",
              "      <td>8.5</td>\n",
              "      <td>315</td>\n",
              "      <td>40.5</td>\n",
              "      <td>1</td>\n",
              "      <td>0</td>\n",
              "      <td>3778</td>\n",
              "      <td>2000</td>\n",
              "      <td>1</td>\n",
              "    </tr>\n",
              "    <tr>\n",
              "      <th>64</th>\n",
              "      <td>11150</td>\n",
              "      <td>2015</td>\n",
              "      <td>0</td>\n",
              "      <td>8.1</td>\n",
              "      <td>416</td>\n",
              "      <td>52.0</td>\n",
              "      <td>1</td>\n",
              "      <td>0</td>\n",
              "      <td>5038</td>\n",
              "      <td>2065</td>\n",
              "      <td>1</td>\n",
              "    </tr>\n",
              "  </tbody>\n",
              "</table>\n",
              "<p>71 rows × 11 columns</p>\n",
              "</div>"
            ],
            "text/plain": [
              "       가격    년식  종류    연비   마력    토크  연료  하이브리드   배기량    중량  변속기\n",
              "14   1104  2013   1  13.3  108  13.6   1      0  1396  1035    1\n",
              "46   1104  2013   1  15.0  108  13.6   1      0  1396  1035    0\n",
              "2    1135  2015   1  15.0  100  13.6   1      0  1368  1035    0\n",
              "49   1149  2011   1  18.0  108  13.9   1      0  1396  1035    0\n",
              "40   1149  2011   1  16.1  108  13.9   1      0  1396  1035    1\n",
              "..    ...   ...  ..   ...  ...   ...  ..    ...   ...   ...  ...\n",
              "52   4190  2015   0   9.5  294  35.3   1      0  3342  1690    1\n",
              "17   4650  2015   0   9.2  282  35.4   1      0  3342  1900    1\n",
              "47   5463  2015   0   9.0  315  40.5   1      0  3778  1930    1\n",
              "19   5710  2015   0   8.5  315  40.5   1      0  3778  2000    1\n",
              "64  11150  2015   0   8.1  416  52.0   1      0  5038  2065    1\n",
              "\n",
              "[71 rows x 11 columns]"
            ]
          },
          "metadata": {},
          "execution_count": 241
        }
      ]
    },
    {
      "cell_type": "markdown",
      "metadata": {
        "id": "byEYkus-OxM0"
      },
      "source": [
        "### csv 데이터 임포트"
      ]
    },
    {
      "cell_type": "markdown",
      "metadata": {
        "id": "Q45nT9JdPFR1"
      },
      "source": [
        "데이터 출처: https://www.kaggle.com/heptapod/titanic"
      ]
    },
    {
      "cell_type": "code",
      "metadata": {
        "id": "4CNcXEK6PBIN"
      },
      "source": [
        "from google_drive_downloader import GoogleDriveDownloader as gdd"
      ],
      "execution_count": null,
      "outputs": []
    },
    {
      "cell_type": "code",
      "metadata": {
        "id": "ivjVDr9ZPBIO",
        "colab": {
          "base_uri": "https://localhost:8080/"
        },
        "outputId": "06d1053e-baa7-40f2-a792-2b4a03ce0e27"
      },
      "source": [
        "gdd.download_file_from_google_drive(file_id='1fPAl5m5zWcILqjmVLtzWm5S3oEC928Zw',\n",
        "                                    dest_path='example_data/titanic.zip',\n",
        "                                    unzip=True)"
      ],
      "execution_count": null,
      "outputs": [
        {
          "output_type": "stream",
          "name": "stdout",
          "text": [
            "Downloading 1fPAl5m5zWcILqjmVLtzWm5S3oEC928Zw into example_data/titanic.zip... Done.\n",
            "Unzipping...Done.\n"
          ]
        }
      ]
    },
    {
      "cell_type": "code",
      "metadata": {
        "id": "qFCoU3UNPBIO"
      },
      "source": [
        "data = pd.read_csv('example_data/train.csv')"
      ],
      "execution_count": null,
      "outputs": []
    },
    {
      "cell_type": "code",
      "metadata": {
        "colab": {
          "base_uri": "https://localhost:8080/",
          "height": 667
        },
        "id": "Cw4gVBE9MezI",
        "outputId": "7229bff8-7b55-4b66-a517-4a59e13ab675"
      },
      "source": [
        "data"
      ],
      "execution_count": null,
      "outputs": [
        {
          "output_type": "execute_result",
          "data": {
            "text/html": [
              "<div>\n",
              "<style scoped>\n",
              "    .dataframe tbody tr th:only-of-type {\n",
              "        vertical-align: middle;\n",
              "    }\n",
              "\n",
              "    .dataframe tbody tr th {\n",
              "        vertical-align: top;\n",
              "    }\n",
              "\n",
              "    .dataframe thead th {\n",
              "        text-align: right;\n",
              "    }\n",
              "</style>\n",
              "<table border=\"1\" class=\"dataframe\">\n",
              "  <thead>\n",
              "    <tr style=\"text-align: right;\">\n",
              "      <th></th>\n",
              "      <th>PassengerId</th>\n",
              "      <th>Survived</th>\n",
              "      <th>Pclass</th>\n",
              "      <th>Name</th>\n",
              "      <th>Sex</th>\n",
              "      <th>Age</th>\n",
              "      <th>SibSp</th>\n",
              "      <th>Parch</th>\n",
              "      <th>Ticket</th>\n",
              "      <th>Fare</th>\n",
              "      <th>Cabin</th>\n",
              "      <th>Embarked</th>\n",
              "    </tr>\n",
              "  </thead>\n",
              "  <tbody>\n",
              "    <tr>\n",
              "      <th>0</th>\n",
              "      <td>1</td>\n",
              "      <td>0</td>\n",
              "      <td>3</td>\n",
              "      <td>Braund, Mr. Owen Harris</td>\n",
              "      <td>male</td>\n",
              "      <td>22.0</td>\n",
              "      <td>1</td>\n",
              "      <td>0</td>\n",
              "      <td>A/5 21171</td>\n",
              "      <td>7.2500</td>\n",
              "      <td>NaN</td>\n",
              "      <td>S</td>\n",
              "    </tr>\n",
              "    <tr>\n",
              "      <th>1</th>\n",
              "      <td>2</td>\n",
              "      <td>1</td>\n",
              "      <td>1</td>\n",
              "      <td>Cumings, Mrs. John Bradley (Florence Briggs Th...</td>\n",
              "      <td>female</td>\n",
              "      <td>38.0</td>\n",
              "      <td>1</td>\n",
              "      <td>0</td>\n",
              "      <td>PC 17599</td>\n",
              "      <td>71.2833</td>\n",
              "      <td>C85</td>\n",
              "      <td>C</td>\n",
              "    </tr>\n",
              "    <tr>\n",
              "      <th>2</th>\n",
              "      <td>3</td>\n",
              "      <td>1</td>\n",
              "      <td>3</td>\n",
              "      <td>Heikkinen, Miss. Laina</td>\n",
              "      <td>female</td>\n",
              "      <td>26.0</td>\n",
              "      <td>0</td>\n",
              "      <td>0</td>\n",
              "      <td>STON/O2. 3101282</td>\n",
              "      <td>7.9250</td>\n",
              "      <td>NaN</td>\n",
              "      <td>S</td>\n",
              "    </tr>\n",
              "    <tr>\n",
              "      <th>3</th>\n",
              "      <td>4</td>\n",
              "      <td>1</td>\n",
              "      <td>1</td>\n",
              "      <td>Futrelle, Mrs. Jacques Heath (Lily May Peel)</td>\n",
              "      <td>female</td>\n",
              "      <td>35.0</td>\n",
              "      <td>1</td>\n",
              "      <td>0</td>\n",
              "      <td>113803</td>\n",
              "      <td>53.1000</td>\n",
              "      <td>C123</td>\n",
              "      <td>S</td>\n",
              "    </tr>\n",
              "    <tr>\n",
              "      <th>4</th>\n",
              "      <td>5</td>\n",
              "      <td>0</td>\n",
              "      <td>3</td>\n",
              "      <td>Allen, Mr. William Henry</td>\n",
              "      <td>male</td>\n",
              "      <td>35.0</td>\n",
              "      <td>0</td>\n",
              "      <td>0</td>\n",
              "      <td>373450</td>\n",
              "      <td>8.0500</td>\n",
              "      <td>NaN</td>\n",
              "      <td>S</td>\n",
              "    </tr>\n",
              "    <tr>\n",
              "      <th>...</th>\n",
              "      <td>...</td>\n",
              "      <td>...</td>\n",
              "      <td>...</td>\n",
              "      <td>...</td>\n",
              "      <td>...</td>\n",
              "      <td>...</td>\n",
              "      <td>...</td>\n",
              "      <td>...</td>\n",
              "      <td>...</td>\n",
              "      <td>...</td>\n",
              "      <td>...</td>\n",
              "      <td>...</td>\n",
              "    </tr>\n",
              "    <tr>\n",
              "      <th>886</th>\n",
              "      <td>887</td>\n",
              "      <td>0</td>\n",
              "      <td>2</td>\n",
              "      <td>Montvila, Rev. Juozas</td>\n",
              "      <td>male</td>\n",
              "      <td>27.0</td>\n",
              "      <td>0</td>\n",
              "      <td>0</td>\n",
              "      <td>211536</td>\n",
              "      <td>13.0000</td>\n",
              "      <td>NaN</td>\n",
              "      <td>S</td>\n",
              "    </tr>\n",
              "    <tr>\n",
              "      <th>887</th>\n",
              "      <td>888</td>\n",
              "      <td>1</td>\n",
              "      <td>1</td>\n",
              "      <td>Graham, Miss. Margaret Edith</td>\n",
              "      <td>female</td>\n",
              "      <td>19.0</td>\n",
              "      <td>0</td>\n",
              "      <td>0</td>\n",
              "      <td>112053</td>\n",
              "      <td>30.0000</td>\n",
              "      <td>B42</td>\n",
              "      <td>S</td>\n",
              "    </tr>\n",
              "    <tr>\n",
              "      <th>888</th>\n",
              "      <td>889</td>\n",
              "      <td>0</td>\n",
              "      <td>3</td>\n",
              "      <td>Johnston, Miss. Catherine Helen \"Carrie\"</td>\n",
              "      <td>female</td>\n",
              "      <td>NaN</td>\n",
              "      <td>1</td>\n",
              "      <td>2</td>\n",
              "      <td>W./C. 6607</td>\n",
              "      <td>23.4500</td>\n",
              "      <td>NaN</td>\n",
              "      <td>S</td>\n",
              "    </tr>\n",
              "    <tr>\n",
              "      <th>889</th>\n",
              "      <td>890</td>\n",
              "      <td>1</td>\n",
              "      <td>1</td>\n",
              "      <td>Behr, Mr. Karl Howell</td>\n",
              "      <td>male</td>\n",
              "      <td>26.0</td>\n",
              "      <td>0</td>\n",
              "      <td>0</td>\n",
              "      <td>111369</td>\n",
              "      <td>30.0000</td>\n",
              "      <td>C148</td>\n",
              "      <td>C</td>\n",
              "    </tr>\n",
              "    <tr>\n",
              "      <th>890</th>\n",
              "      <td>891</td>\n",
              "      <td>0</td>\n",
              "      <td>3</td>\n",
              "      <td>Dooley, Mr. Patrick</td>\n",
              "      <td>male</td>\n",
              "      <td>32.0</td>\n",
              "      <td>0</td>\n",
              "      <td>0</td>\n",
              "      <td>370376</td>\n",
              "      <td>7.7500</td>\n",
              "      <td>NaN</td>\n",
              "      <td>Q</td>\n",
              "    </tr>\n",
              "  </tbody>\n",
              "</table>\n",
              "<p>891 rows × 12 columns</p>\n",
              "</div>"
            ],
            "text/plain": [
              "     PassengerId  Survived  Pclass  ...     Fare Cabin  Embarked\n",
              "0              1         0       3  ...   7.2500   NaN         S\n",
              "1              2         1       1  ...  71.2833   C85         C\n",
              "2              3         1       3  ...   7.9250   NaN         S\n",
              "3              4         1       1  ...  53.1000  C123         S\n",
              "4              5         0       3  ...   8.0500   NaN         S\n",
              "..           ...       ...     ...  ...      ...   ...       ...\n",
              "886          887         0       2  ...  13.0000   NaN         S\n",
              "887          888         1       1  ...  30.0000   B42         S\n",
              "888          889         0       3  ...  23.4500   NaN         S\n",
              "889          890         1       1  ...  30.0000  C148         C\n",
              "890          891         0       3  ...   7.7500   NaN         Q\n",
              "\n",
              "[891 rows x 12 columns]"
            ]
          },
          "metadata": {},
          "execution_count": 166
        }
      ]
    },
    {
      "cell_type": "markdown",
      "metadata": {
        "id": "fvHl6nd7q3l2"
      },
      "source": [
        "Passenger id : 고객 번호\n",
        "\n",
        "Pclass : 티켓의 등급 1=1std, 2=2nd, 3=3rd\n",
        "\n",
        "Name : 승객의 이름\n",
        "\n",
        "Sex : 성별\n",
        "\n",
        "Age : 연령\n",
        "\n",
        "SibSp : 타이타닉에 탑승한 형제/배우자의 수\n",
        "\n",
        "Parch : 타이타닉에 탑승한 부모/자녀의 수\n",
        "\n",
        "Ticket : 티켓 번호\n",
        "\n",
        "Fare : 승객 요금\n",
        "\n",
        "Cabin : 객실 번호\n",
        "\n",
        "Embarked : 기항지 위치 C(Cherbourg),Q(Queenstown), S(Southampton)"
      ]
    },
    {
      "cell_type": "code",
      "metadata": {
        "colab": {
          "base_uri": "https://localhost:8080/"
        },
        "id": "c5s2Kf03PpVt",
        "outputId": "2255bcb5-8c4a-4319-b791-532eeead0005"
      },
      "source": [
        "data.Embarked.unique()"
      ],
      "execution_count": null,
      "outputs": [
        {
          "output_type": "execute_result",
          "data": {
            "text/plain": [
              "array(['S', 'C', 'Q', nan], dtype=object)"
            ]
          },
          "metadata": {
            "tags": []
          },
          "execution_count": 132
        }
      ]
    },
    {
      "cell_type": "code",
      "metadata": {
        "colab": {
          "base_uri": "https://localhost:8080/"
        },
        "id": "K_qV4kcGBkrc",
        "outputId": "b08012ea-2df0-4e33-d29b-d0d693a5e302"
      },
      "source": [
        "data.Name.unique()"
      ],
      "execution_count": null,
      "outputs": [
        {
          "output_type": "execute_result",
          "data": {
            "text/plain": [
              "array(['Braund, Mr. Owen Harris',\n",
              "       'Cumings, Mrs. John Bradley (Florence Briggs Thayer)',\n",
              "       'Heikkinen, Miss. Laina',\n",
              "       'Futrelle, Mrs. Jacques Heath (Lily May Peel)',\n",
              "       'Allen, Mr. William Henry', 'Moran, Mr. James',\n",
              "       'McCarthy, Mr. Timothy J', 'Palsson, Master. Gosta Leonard',\n",
              "       'Johnson, Mrs. Oscar W (Elisabeth Vilhelmina Berg)',\n",
              "       'Nasser, Mrs. Nicholas (Adele Achem)',\n",
              "       'Sandstrom, Miss. Marguerite Rut', 'Bonnell, Miss. Elizabeth',\n",
              "       'Saundercock, Mr. William Henry', 'Andersson, Mr. Anders Johan',\n",
              "       'Vestrom, Miss. Hulda Amanda Adolfina',\n",
              "       'Hewlett, Mrs. (Mary D Kingcome) ', 'Rice, Master. Eugene',\n",
              "       'Williams, Mr. Charles Eugene',\n",
              "       'Vander Planke, Mrs. Julius (Emelia Maria Vandemoortele)',\n",
              "       'Masselmani, Mrs. Fatima', 'Fynney, Mr. Joseph J',\n",
              "       'Beesley, Mr. Lawrence', 'McGowan, Miss. Anna \"Annie\"',\n",
              "       'Sloper, Mr. William Thompson', 'Palsson, Miss. Torborg Danira',\n",
              "       'Asplund, Mrs. Carl Oscar (Selma Augusta Emilia Johansson)',\n",
              "       'Emir, Mr. Farred Chehab', 'Fortune, Mr. Charles Alexander',\n",
              "       'O\\'Dwyer, Miss. Ellen \"Nellie\"', 'Todoroff, Mr. Lalio',\n",
              "       'Uruchurtu, Don. Manuel E',\n",
              "       'Spencer, Mrs. William Augustus (Marie Eugenie)',\n",
              "       'Glynn, Miss. Mary Agatha', 'Wheadon, Mr. Edward H',\n",
              "       'Meyer, Mr. Edgar Joseph', 'Holverson, Mr. Alexander Oskar',\n",
              "       'Mamee, Mr. Hanna', 'Cann, Mr. Ernest Charles',\n",
              "       'Vander Planke, Miss. Augusta Maria',\n",
              "       'Nicola-Yarred, Miss. Jamila',\n",
              "       'Ahlin, Mrs. Johan (Johanna Persdotter Larsson)',\n",
              "       'Turpin, Mrs. William John Robert (Dorothy Ann Wonnacott)',\n",
              "       'Kraeff, Mr. Theodor', 'Laroche, Miss. Simonne Marie Anne Andree',\n",
              "       'Devaney, Miss. Margaret Delia', 'Rogers, Mr. William John',\n",
              "       'Lennon, Mr. Denis', \"O'Driscoll, Miss. Bridget\",\n",
              "       'Samaan, Mr. Youssef',\n",
              "       'Arnold-Franchi, Mrs. Josef (Josefine Franchi)',\n",
              "       'Panula, Master. Juha Niilo', 'Nosworthy, Mr. Richard Cater',\n",
              "       'Harper, Mrs. Henry Sleeper (Myna Haxtun)',\n",
              "       'Faunthorpe, Mrs. Lizzie (Elizabeth Anne Wilkinson)',\n",
              "       'Ostby, Mr. Engelhart Cornelius', 'Woolner, Mr. Hugh',\n",
              "       'Rugg, Miss. Emily', 'Novel, Mr. Mansouer',\n",
              "       'West, Miss. Constance Mirium',\n",
              "       'Goodwin, Master. William Frederick', 'Sirayanian, Mr. Orsen',\n",
              "       'Icard, Miss. Amelie', 'Harris, Mr. Henry Birkhardt',\n",
              "       'Skoog, Master. Harald', 'Stewart, Mr. Albert A',\n",
              "       'Moubarek, Master. Gerios', 'Nye, Mrs. (Elizabeth Ramell)',\n",
              "       'Crease, Mr. Ernest James', 'Andersson, Miss. Erna Alexandra',\n",
              "       'Kink, Mr. Vincenz', 'Jenkin, Mr. Stephen Curnow',\n",
              "       'Goodwin, Miss. Lillian Amy', 'Hood, Mr. Ambrose Jr',\n",
              "       'Chronopoulos, Mr. Apostolos', 'Bing, Mr. Lee',\n",
              "       'Moen, Mr. Sigurd Hansen', 'Staneff, Mr. Ivan',\n",
              "       'Moutal, Mr. Rahamin Haim', 'Caldwell, Master. Alden Gates',\n",
              "       'Dowdell, Miss. Elizabeth', 'Waelens, Mr. Achille',\n",
              "       'Sheerlinck, Mr. Jan Baptist', 'McDermott, Miss. Brigdet Delia',\n",
              "       'Carrau, Mr. Francisco M', 'Ilett, Miss. Bertha',\n",
              "       'Backstrom, Mrs. Karl Alfred (Maria Mathilda Gustafsson)',\n",
              "       'Ford, Mr. William Neal', 'Slocovski, Mr. Selman Francis',\n",
              "       'Fortune, Miss. Mabel Helen', 'Celotti, Mr. Francesco',\n",
              "       'Christmann, Mr. Emil', 'Andreasson, Mr. Paul Edvin',\n",
              "       'Chaffee, Mr. Herbert Fuller', 'Dean, Mr. Bertram Frank',\n",
              "       'Coxon, Mr. Daniel', 'Shorney, Mr. Charles Joseph',\n",
              "       'Goldschmidt, Mr. George B', 'Greenfield, Mr. William Bertram',\n",
              "       'Doling, Mrs. John T (Ada Julia Bone)', 'Kantor, Mr. Sinai',\n",
              "       'Petranec, Miss. Matilda', 'Petroff, Mr. Pastcho (\"Pentcho\")',\n",
              "       'White, Mr. Richard Frasar', 'Johansson, Mr. Gustaf Joel',\n",
              "       'Gustafsson, Mr. Anders Vilhelm', 'Mionoff, Mr. Stoytcho',\n",
              "       'Salkjelsvik, Miss. Anna Kristine', 'Moss, Mr. Albert Johan',\n",
              "       'Rekic, Mr. Tido', 'Moran, Miss. Bertha',\n",
              "       'Porter, Mr. Walter Chamberlain', 'Zabour, Miss. Hileni',\n",
              "       'Barton, Mr. David John', 'Jussila, Miss. Katriina',\n",
              "       'Attalah, Miss. Malake', 'Pekoniemi, Mr. Edvard',\n",
              "       'Connors, Mr. Patrick', 'Turpin, Mr. William John Robert',\n",
              "       'Baxter, Mr. Quigg Edmond', 'Andersson, Miss. Ellis Anna Maria',\n",
              "       'Hickman, Mr. Stanley George', 'Moore, Mr. Leonard Charles',\n",
              "       'Nasser, Mr. Nicholas', 'Webber, Miss. Susan',\n",
              "       'White, Mr. Percival Wayland', 'Nicola-Yarred, Master. Elias',\n",
              "       'McMahon, Mr. Martin', 'Madsen, Mr. Fridtjof Arne',\n",
              "       'Peter, Miss. Anna', 'Ekstrom, Mr. Johan', 'Drazenoic, Mr. Jozef',\n",
              "       'Coelho, Mr. Domingos Fernandeo',\n",
              "       'Robins, Mrs. Alexander A (Grace Charity Laury)',\n",
              "       'Weisz, Mrs. Leopold (Mathilde Francoise Pede)',\n",
              "       'Sobey, Mr. Samuel James Hayden', 'Richard, Mr. Emile',\n",
              "       'Newsom, Miss. Helen Monypeny', 'Futrelle, Mr. Jacques Heath',\n",
              "       'Osen, Mr. Olaf Elon', 'Giglio, Mr. Victor',\n",
              "       'Boulos, Mrs. Joseph (Sultana)', 'Nysten, Miss. Anna Sofia',\n",
              "       'Hakkarainen, Mrs. Pekka Pietari (Elin Matilda Dolck)',\n",
              "       'Burke, Mr. Jeremiah', 'Andrew, Mr. Edgardo Samuel',\n",
              "       'Nicholls, Mr. Joseph Charles',\n",
              "       'Andersson, Mr. August Edvard (\"Wennerstrom\")',\n",
              "       'Ford, Miss. Robina Maggie \"Ruby\"',\n",
              "       'Navratil, Mr. Michel (\"Louis M Hoffman\")',\n",
              "       'Byles, Rev. Thomas Roussel Davids', 'Bateman, Rev. Robert James',\n",
              "       'Pears, Mrs. Thomas (Edith Wearne)', 'Meo, Mr. Alfonzo',\n",
              "       'van Billiard, Mr. Austin Blyler', 'Olsen, Mr. Ole Martin',\n",
              "       'Williams, Mr. Charles Duane', 'Gilnagh, Miss. Katherine \"Katie\"',\n",
              "       'Corn, Mr. Harry', 'Smiljanic, Mr. Mile',\n",
              "       'Sage, Master. Thomas Henry', 'Cribb, Mr. John Hatfield',\n",
              "       'Watt, Mrs. James (Elizabeth \"Bessie\" Inglis Milne)',\n",
              "       'Bengtsson, Mr. John Viktor', 'Calic, Mr. Jovo',\n",
              "       'Panula, Master. Eino Viljami',\n",
              "       'Goldsmith, Master. Frank John William \"Frankie\"',\n",
              "       'Chibnall, Mrs. (Edith Martha Bowerman)',\n",
              "       'Skoog, Mrs. William (Anna Bernhardina Karlsson)',\n",
              "       'Baumann, Mr. John D', 'Ling, Mr. Lee',\n",
              "       'Van der hoef, Mr. Wyckoff', 'Rice, Master. Arthur',\n",
              "       'Johnson, Miss. Eleanor Ileen', 'Sivola, Mr. Antti Wilhelm',\n",
              "       'Smith, Mr. James Clinch', 'Klasen, Mr. Klas Albin',\n",
              "       'Lefebre, Master. Henry Forbes', 'Isham, Miss. Ann Elizabeth',\n",
              "       'Hale, Mr. Reginald', 'Leonard, Mr. Lionel',\n",
              "       'Sage, Miss. Constance Gladys', 'Pernot, Mr. Rene',\n",
              "       'Asplund, Master. Clarence Gustaf Hugo',\n",
              "       'Becker, Master. Richard F', 'Kink-Heilmann, Miss. Luise Gretchen',\n",
              "       'Rood, Mr. Hugh Roscoe',\n",
              "       'O\\'Brien, Mrs. Thomas (Johanna \"Hannah\" Godfrey)',\n",
              "       'Romaine, Mr. Charles Hallace (\"Mr C Rolmane\")',\n",
              "       'Bourke, Mr. John', 'Turcin, Mr. Stjepan', 'Pinsky, Mrs. (Rosa)',\n",
              "       'Carbines, Mr. William',\n",
              "       'Andersen-Jensen, Miss. Carla Christine Nielsine',\n",
              "       'Navratil, Master. Michel M',\n",
              "       'Brown, Mrs. James Joseph (Margaret Tobin)',\n",
              "       'Lurette, Miss. Elise', 'Mernagh, Mr. Robert',\n",
              "       'Olsen, Mr. Karl Siegwart Andreas',\n",
              "       'Madigan, Miss. Margaret \"Maggie\"',\n",
              "       'Yrois, Miss. Henriette (\"Mrs Harbeck\")',\n",
              "       'Vande Walle, Mr. Nestor Cyriel', 'Sage, Mr. Frederick',\n",
              "       'Johanson, Mr. Jakob Alfred', 'Youseff, Mr. Gerious',\n",
              "       'Cohen, Mr. Gurshon \"Gus\"', 'Strom, Miss. Telma Matilda',\n",
              "       'Backstrom, Mr. Karl Alfred', 'Albimona, Mr. Nassef Cassem',\n",
              "       'Carr, Miss. Helen \"Ellen\"', 'Blank, Mr. Henry', 'Ali, Mr. Ahmed',\n",
              "       'Cameron, Miss. Clear Annie', 'Perkin, Mr. John Henry',\n",
              "       'Givard, Mr. Hans Kristensen', 'Kiernan, Mr. Philip',\n",
              "       'Newell, Miss. Madeleine', 'Honkanen, Miss. Eliina',\n",
              "       'Jacobsohn, Mr. Sidney Samuel', 'Bazzani, Miss. Albina',\n",
              "       'Harris, Mr. Walter', 'Sunderland, Mr. Victor Francis',\n",
              "       'Bracken, Mr. James H', 'Green, Mr. George Henry',\n",
              "       'Nenkoff, Mr. Christo', 'Hoyt, Mr. Frederick Maxfield',\n",
              "       'Berglund, Mr. Karl Ivar Sven', 'Mellors, Mr. William John',\n",
              "       'Lovell, Mr. John Hall (\"Henry\")', 'Fahlstrom, Mr. Arne Jonas',\n",
              "       'Lefebre, Miss. Mathilde',\n",
              "       'Harris, Mrs. Henry Birkhardt (Irene Wallach)',\n",
              "       'Larsson, Mr. Bengt Edvin', 'Sjostedt, Mr. Ernst Adolf',\n",
              "       'Asplund, Miss. Lillian Gertrud',\n",
              "       'Leyson, Mr. Robert William Norman',\n",
              "       'Harknett, Miss. Alice Phoebe', 'Hold, Mr. Stephen',\n",
              "       'Collyer, Miss. Marjorie \"Lottie\"',\n",
              "       'Pengelly, Mr. Frederick William', 'Hunt, Mr. George Henry',\n",
              "       'Zabour, Miss. Thamine', 'Murphy, Miss. Katherine \"Kate\"',\n",
              "       'Coleridge, Mr. Reginald Charles', 'Maenpaa, Mr. Matti Alexanteri',\n",
              "       'Attalah, Mr. Sleiman', 'Minahan, Dr. William Edward',\n",
              "       'Lindahl, Miss. Agda Thorilda Viktoria',\n",
              "       'Hamalainen, Mrs. William (Anna)', 'Beckwith, Mr. Richard Leonard',\n",
              "       'Carter, Rev. Ernest Courtenay', 'Reed, Mr. James George',\n",
              "       'Strom, Mrs. Wilhelm (Elna Matilda Persson)',\n",
              "       'Stead, Mr. William Thomas', 'Lobb, Mr. William Arthur',\n",
              "       'Rosblom, Mrs. Viktor (Helena Wilhelmina)',\n",
              "       'Touma, Mrs. Darwis (Hanne Youssef Razi)',\n",
              "       'Thorne, Mrs. Gertrude Maybelle', 'Cherry, Miss. Gladys',\n",
              "       'Ward, Miss. Anna', 'Parrish, Mrs. (Lutie Davis)',\n",
              "       'Smith, Mr. Thomas', 'Asplund, Master. Edvin Rojj Felix',\n",
              "       'Taussig, Mr. Emil', 'Harrison, Mr. William', 'Henry, Miss. Delia',\n",
              "       'Reeves, Mr. David', 'Panula, Mr. Ernesti Arvid',\n",
              "       'Persson, Mr. Ernst Ulrik',\n",
              "       'Graham, Mrs. William Thompson (Edith Junkins)',\n",
              "       'Bissette, Miss. Amelia', 'Cairns, Mr. Alexander',\n",
              "       'Tornquist, Mr. William Henry',\n",
              "       'Mellinger, Mrs. (Elizabeth Anne Maidment)',\n",
              "       'Natsch, Mr. Charles H', 'Healy, Miss. Hanora \"Nora\"',\n",
              "       'Andrews, Miss. Kornelia Theodosia',\n",
              "       'Lindblom, Miss. Augusta Charlotta', 'Parkes, Mr. Francis \"Frank\"',\n",
              "       'Rice, Master. Eric', 'Abbott, Mrs. Stanton (Rosa Hunt)',\n",
              "       'Duane, Mr. Frank', 'Olsson, Mr. Nils Johan Goransson',\n",
              "       'de Pelsmaeker, Mr. Alfons', 'Dorking, Mr. Edward Arthur',\n",
              "       'Smith, Mr. Richard William', 'Stankovic, Mr. Ivan',\n",
              "       'de Mulder, Mr. Theodore', 'Naidenoff, Mr. Penko',\n",
              "       'Hosono, Mr. Masabumi', 'Connolly, Miss. Kate',\n",
              "       'Barber, Miss. Ellen \"Nellie\"',\n",
              "       'Bishop, Mrs. Dickinson H (Helen Walton)',\n",
              "       'Levy, Mr. Rene Jacques', 'Haas, Miss. Aloisia',\n",
              "       'Mineff, Mr. Ivan', 'Lewy, Mr. Ervin G', 'Hanna, Mr. Mansour',\n",
              "       'Allison, Miss. Helen Loraine', 'Saalfeld, Mr. Adolphe',\n",
              "       'Baxter, Mrs. James (Helene DeLaudeniere Chaput)',\n",
              "       'Kelly, Miss. Anna Katherine \"Annie Kate\"', 'McCoy, Mr. Bernard',\n",
              "       'Johnson, Mr. William Cahoone Jr', 'Keane, Miss. Nora A',\n",
              "       'Williams, Mr. Howard Hugh \"Harry\"',\n",
              "       'Allison, Master. Hudson Trevor', 'Fleming, Miss. Margaret',\n",
              "       'Penasco y Castellana, Mrs. Victor de Satode (Maria Josefa Perez de Soto y Vallejo)',\n",
              "       'Abelson, Mr. Samuel', 'Francatelli, Miss. Laura Mabel',\n",
              "       'Hays, Miss. Margaret Bechstein', 'Ryerson, Miss. Emily Borie',\n",
              "       'Lahtinen, Mrs. William (Anna Sylfven)', 'Hendekovic, Mr. Ignjac',\n",
              "       'Hart, Mr. Benjamin', 'Nilsson, Miss. Helmina Josefina',\n",
              "       'Kantor, Mrs. Sinai (Miriam Sternin)', 'Moraweck, Dr. Ernest',\n",
              "       'Wick, Miss. Mary Natalie',\n",
              "       'Spedden, Mrs. Frederic Oakley (Margaretta Corning Stone)',\n",
              "       'Dennis, Mr. Samuel', 'Danoff, Mr. Yoto',\n",
              "       'Slayter, Miss. Hilda Mary',\n",
              "       'Caldwell, Mrs. Albert Francis (Sylvia Mae Harbaugh)',\n",
              "       'Sage, Mr. George John Jr', 'Young, Miss. Marie Grice',\n",
              "       'Nysveen, Mr. Johan Hansen', 'Ball, Mrs. (Ada E Hall)',\n",
              "       'Goldsmith, Mrs. Frank John (Emily Alice Brown)',\n",
              "       'Hippach, Miss. Jean Gertrude', 'McCoy, Miss. Agnes',\n",
              "       'Partner, Mr. Austen', 'Graham, Mr. George Edward',\n",
              "       'Vander Planke, Mr. Leo Edmondus',\n",
              "       'Frauenthal, Mrs. Henry William (Clara Heinsheimer)',\n",
              "       'Denkoff, Mr. Mitto', 'Pears, Mr. Thomas Clinton',\n",
              "       'Burns, Miss. Elizabeth Margaret', 'Dahl, Mr. Karl Edwart',\n",
              "       'Blackwell, Mr. Stephen Weart', 'Navratil, Master. Edmond Roger',\n",
              "       'Fortune, Miss. Alice Elizabeth', 'Collander, Mr. Erik Gustaf',\n",
              "       'Sedgwick, Mr. Charles Frederick Waddington',\n",
              "       'Fox, Mr. Stanley Hubert', 'Brown, Miss. Amelia \"Mildred\"',\n",
              "       'Smith, Miss. Marion Elsie',\n",
              "       'Davison, Mrs. Thomas Henry (Mary E Finck)',\n",
              "       'Coutts, Master. William Loch \"William\"', 'Dimic, Mr. Jovan',\n",
              "       'Odahl, Mr. Nils Martin', 'Williams-Lambert, Mr. Fletcher Fellows',\n",
              "       'Elias, Mr. Tannous', 'Arnold-Franchi, Mr. Josef',\n",
              "       'Yousif, Mr. Wazli', 'Vanden Steen, Mr. Leo Peter',\n",
              "       'Bowerman, Miss. Elsie Edith', 'Funk, Miss. Annie Clemmer',\n",
              "       'McGovern, Miss. Mary', 'Mockler, Miss. Helen Mary \"Ellie\"',\n",
              "       'Skoog, Mr. Wilhelm', 'del Carlo, Mr. Sebastiano',\n",
              "       'Barbara, Mrs. (Catherine David)', 'Asim, Mr. Adola',\n",
              "       \"O'Brien, Mr. Thomas\", 'Adahl, Mr. Mauritz Nils Martin',\n",
              "       'Warren, Mrs. Frank Manley (Anna Sophia Atkinson)',\n",
              "       'Moussa, Mrs. (Mantoura Boulos)', 'Jermyn, Miss. Annie',\n",
              "       'Aubart, Mme. Leontine Pauline', 'Harder, Mr. George Achilles',\n",
              "       'Wiklund, Mr. Jakob Alfred', 'Beavan, Mr. William Thomas',\n",
              "       'Ringhini, Mr. Sante', 'Palsson, Miss. Stina Viola',\n",
              "       'Meyer, Mrs. Edgar Joseph (Leila Saks)',\n",
              "       'Landergren, Miss. Aurora Adelia', 'Widener, Mr. Harry Elkins',\n",
              "       'Betros, Mr. Tannous', 'Gustafsson, Mr. Karl Gideon',\n",
              "       'Bidois, Miss. Rosalie', 'Nakid, Miss. Maria (\"Mary\")',\n",
              "       'Tikkanen, Mr. Juho',\n",
              "       'Holverson, Mrs. Alexander Oskar (Mary Aline Towner)',\n",
              "       'Plotcharsky, Mr. Vasil', 'Davies, Mr. Charles Henry',\n",
              "       'Goodwin, Master. Sidney Leonard', 'Buss, Miss. Kate',\n",
              "       'Sadlier, Mr. Matthew', 'Lehmann, Miss. Bertha',\n",
              "       'Carter, Mr. William Ernest', 'Jansson, Mr. Carl Olof',\n",
              "       'Gustafsson, Mr. Johan Birger', 'Newell, Miss. Marjorie',\n",
              "       'Sandstrom, Mrs. Hjalmar (Agnes Charlotta Bengtsson)',\n",
              "       'Johansson, Mr. Erik', 'Olsson, Miss. Elina',\n",
              "       'McKane, Mr. Peter David', 'Pain, Dr. Alfred',\n",
              "       'Trout, Mrs. William H (Jessie L)', 'Niskanen, Mr. Juha',\n",
              "       'Adams, Mr. John', 'Jussila, Miss. Mari Aina',\n",
              "       'Hakkarainen, Mr. Pekka Pietari', 'Oreskovic, Miss. Marija',\n",
              "       'Gale, Mr. Shadrach', 'Widegren, Mr. Carl/Charles Peter',\n",
              "       'Richards, Master. William Rowe',\n",
              "       'Birkeland, Mr. Hans Martin Monsen', 'Lefebre, Miss. Ida',\n",
              "       'Sdycoff, Mr. Todor', 'Hart, Mr. Henry', 'Minahan, Miss. Daisy E',\n",
              "       'Cunningham, Mr. Alfred Fleming', 'Sundman, Mr. Johan Julian',\n",
              "       'Meek, Mrs. Thomas (Annie Louise Rowley)',\n",
              "       'Drew, Mrs. James Vivian (Lulu Thorne Christian)',\n",
              "       'Silven, Miss. Lyyli Karoliina', 'Matthews, Mr. William John',\n",
              "       'Van Impe, Miss. Catharina', 'Gheorgheff, Mr. Stanio',\n",
              "       'Charters, Mr. David', 'Zimmerman, Mr. Leo',\n",
              "       'Danbom, Mrs. Ernst Gilbert (Anna Sigrid Maria Brogren)',\n",
              "       'Rosblom, Mr. Viktor Richard', 'Wiseman, Mr. Phillippe',\n",
              "       'Clarke, Mrs. Charles V (Ada Maria Winfield)',\n",
              "       'Phillips, Miss. Kate Florence (\"Mrs Kate Louise Phillips Marshall\")',\n",
              "       'Flynn, Mr. James', 'Pickard, Mr. Berk (Berk Trembisky)',\n",
              "       'Bjornstrom-Steffansson, Mr. Mauritz Hakan',\n",
              "       'Thorneycroft, Mrs. Percival (Florence Kate White)',\n",
              "       'Louch, Mrs. Charles Alexander (Alice Adelaide Slow)',\n",
              "       'Kallio, Mr. Nikolai Erland', 'Silvey, Mr. William Baird',\n",
              "       'Carter, Miss. Lucile Polk',\n",
              "       'Ford, Miss. Doolina Margaret \"Daisy\"',\n",
              "       'Richards, Mrs. Sidney (Emily Hocking)', 'Fortune, Mr. Mark',\n",
              "       'Kvillner, Mr. Johan Henrik Johannesson',\n",
              "       'Hart, Mrs. Benjamin (Esther Ada Bloomfield)', 'Hampe, Mr. Leon',\n",
              "       'Petterson, Mr. Johan Emil', 'Reynaldo, Ms. Encarnacion',\n",
              "       'Johannesen-Bratthammer, Mr. Bernt', 'Dodge, Master. Washington',\n",
              "       'Mellinger, Miss. Madeleine Violet', 'Seward, Mr. Frederic Kimber',\n",
              "       'Baclini, Miss. Marie Catherine', 'Peuchen, Major. Arthur Godfrey',\n",
              "       'West, Mr. Edwy Arthur', 'Hagland, Mr. Ingvald Olai Olsen',\n",
              "       'Foreman, Mr. Benjamin Laventall', 'Goldenberg, Mr. Samuel L',\n",
              "       'Peduzzi, Mr. Joseph', 'Jalsevac, Mr. Ivan',\n",
              "       'Millet, Mr. Francis Davis', 'Kenyon, Mrs. Frederick R (Marion)',\n",
              "       'Toomey, Miss. Ellen', \"O'Connor, Mr. Maurice\",\n",
              "       'Anderson, Mr. Harry', 'Morley, Mr. William', 'Gee, Mr. Arthur H',\n",
              "       'Milling, Mr. Jacob Christian', 'Maisner, Mr. Simon',\n",
              "       'Goncalves, Mr. Manuel Estanslas', 'Campbell, Mr. William',\n",
              "       'Smart, Mr. John Montgomery', 'Scanlan, Mr. James',\n",
              "       'Baclini, Miss. Helene Barbara', 'Keefe, Mr. Arthur',\n",
              "       'Cacic, Mr. Luka', 'West, Mrs. Edwy Arthur (Ada Mary Worth)',\n",
              "       'Jerwan, Mrs. Amin S (Marie Marthe Thuillard)',\n",
              "       'Strandberg, Miss. Ida Sofia', 'Clifford, Mr. George Quincy',\n",
              "       'Renouf, Mr. Peter Henry', 'Braund, Mr. Lewis Richard',\n",
              "       'Karlsson, Mr. Nils August', 'Hirvonen, Miss. Hildur E',\n",
              "       'Goodwin, Master. Harold Victor',\n",
              "       'Frost, Mr. Anthony Wood \"Archie\"', 'Rouse, Mr. Richard Henry',\n",
              "       'Turkula, Mrs. (Hedwig)', 'Bishop, Mr. Dickinson H',\n",
              "       'Lefebre, Miss. Jeannie',\n",
              "       'Hoyt, Mrs. Frederick Maxfield (Jane Anne Forby)',\n",
              "       'Kent, Mr. Edward Austin', 'Somerton, Mr. Francis William',\n",
              "       'Coutts, Master. Eden Leslie \"Neville\"',\n",
              "       'Hagland, Mr. Konrad Mathias Reiersen', 'Windelov, Mr. Einar',\n",
              "       'Molson, Mr. Harry Markland', 'Artagaveytia, Mr. Ramon',\n",
              "       'Stanley, Mr. Edward Roland', 'Yousseff, Mr. Gerious',\n",
              "       'Eustis, Miss. Elizabeth Mussey',\n",
              "       'Shellard, Mr. Frederick William',\n",
              "       'Allison, Mrs. Hudson J C (Bessie Waldo Daniels)',\n",
              "       'Svensson, Mr. Olof', 'Calic, Mr. Petar', 'Canavan, Miss. Mary',\n",
              "       \"O'Sullivan, Miss. Bridget Mary\", 'Laitinen, Miss. Kristina Sofia',\n",
              "       'Maioni, Miss. Roberta',\n",
              "       'Penasco y Castellana, Mr. Victor de Satode',\n",
              "       'Quick, Mrs. Frederick Charles (Jane Richards)',\n",
              "       'Bradley, Mr. George (\"George Arthur Brayton\")',\n",
              "       'Olsen, Mr. Henry Margido', 'Lang, Mr. Fang',\n",
              "       'Daly, Mr. Eugene Patrick', 'Webber, Mr. James',\n",
              "       'McGough, Mr. James Robert',\n",
              "       'Rothschild, Mrs. Martin (Elizabeth L. Barrett)',\n",
              "       'Coleff, Mr. Satio', 'Walker, Mr. William Anderson',\n",
              "       'Lemore, Mrs. (Amelia Milley)', 'Ryan, Mr. Patrick',\n",
              "       'Angle, Mrs. William A (Florence \"Mary\" Agnes Hughes)',\n",
              "       'Pavlovic, Mr. Stefo', 'Perreault, Miss. Anne', 'Vovk, Mr. Janko',\n",
              "       'Lahoud, Mr. Sarkis',\n",
              "       'Hippach, Mrs. Louis Albert (Ida Sophia Fischer)',\n",
              "       'Kassem, Mr. Fared', 'Farrell, Mr. James', 'Ridsdale, Miss. Lucy',\n",
              "       'Farthing, Mr. John', 'Salonen, Mr. Johan Werner',\n",
              "       'Hocking, Mr. Richard George', 'Quick, Miss. Phyllis May',\n",
              "       'Toufik, Mr. Nakli', 'Elias, Mr. Joseph Jr',\n",
              "       'Peter, Mrs. Catherine (Catherine Rizk)', 'Cacic, Miss. Marija',\n",
              "       'Hart, Miss. Eva Miriam', 'Butt, Major. Archibald Willingham',\n",
              "       'LeRoy, Miss. Bertha', 'Risien, Mr. Samuel Beard',\n",
              "       'Frolicher, Miss. Hedwig Margaritha', 'Crosby, Miss. Harriet R',\n",
              "       'Andersson, Miss. Ingeborg Constanzia',\n",
              "       'Andersson, Miss. Sigrid Elisabeth', 'Beane, Mr. Edward',\n",
              "       'Douglas, Mr. Walter Donald', 'Nicholson, Mr. Arthur Ernest',\n",
              "       'Beane, Mrs. Edward (Ethel Clarke)', 'Padro y Manent, Mr. Julian',\n",
              "       'Goldsmith, Mr. Frank John', 'Davies, Master. John Morgan Jr',\n",
              "       'Thayer, Mr. John Borland Jr', 'Sharp, Mr. Percival James R',\n",
              "       \"O'Brien, Mr. Timothy\", 'Leeni, Mr. Fahim (\"Philip Zenni\")',\n",
              "       'Ohman, Miss. Velin', 'Wright, Mr. George',\n",
              "       'Duff Gordon, Lady. (Lucille Christiana Sutherland) (\"Mrs Morgan\")',\n",
              "       'Robbins, Mr. Victor', 'Taussig, Mrs. Emil (Tillie Mandelbaum)',\n",
              "       'de Messemaeker, Mrs. Guillaume Joseph (Emma)',\n",
              "       'Morrow, Mr. Thomas Rowan', 'Sivic, Mr. Husein',\n",
              "       'Norman, Mr. Robert Douglas', 'Simmons, Mr. John',\n",
              "       'Meanwell, Miss. (Marion Ogden)', 'Davies, Mr. Alfred J',\n",
              "       'Stoytcheff, Mr. Ilia',\n",
              "       'Palsson, Mrs. Nils (Alma Cornelia Berglund)',\n",
              "       'Doharr, Mr. Tannous', 'Jonsson, Mr. Carl', 'Harris, Mr. George',\n",
              "       'Appleton, Mrs. Edward Dale (Charlotte Lamson)',\n",
              "       'Flynn, Mr. John Irwin (\"Irving\")', 'Kelly, Miss. Mary',\n",
              "       'Rush, Mr. Alfred George John', 'Patchett, Mr. George',\n",
              "       'Garside, Miss. Ethel',\n",
              "       'Silvey, Mrs. William Baird (Alice Munger)',\n",
              "       'Caram, Mrs. Joseph (Maria Elias)', 'Jussila, Mr. Eiriik',\n",
              "       'Christy, Miss. Julie Rachel',\n",
              "       'Thayer, Mrs. John Borland (Marian Longstreth Morris)',\n",
              "       'Downton, Mr. William James', 'Ross, Mr. John Hugo',\n",
              "       'Paulner, Mr. Uscher', 'Taussig, Miss. Ruth',\n",
              "       'Jarvis, Mr. John Denzil', 'Frolicher-Stehli, Mr. Maxmillian',\n",
              "       'Gilinski, Mr. Eliezer', 'Murdlin, Mr. Joseph',\n",
              "       'Rintamaki, Mr. Matti',\n",
              "       'Stephenson, Mrs. Walter Bertram (Martha Eustis)',\n",
              "       'Elsbury, Mr. William James', 'Bourke, Miss. Mary',\n",
              "       'Chapman, Mr. John Henry', 'Van Impe, Mr. Jean Baptiste',\n",
              "       'Leitch, Miss. Jessie Wills', 'Johnson, Mr. Alfred',\n",
              "       'Boulos, Mr. Hanna',\n",
              "       'Duff Gordon, Sir. Cosmo Edmund (\"Mr Morgan\")',\n",
              "       'Jacobsohn, Mrs. Sidney Samuel (Amy Frances Christy)',\n",
              "       'Slabenoff, Mr. Petco', 'Harrington, Mr. Charles H',\n",
              "       'Torber, Mr. Ernst William', 'Homer, Mr. Harry (\"Mr E Haven\")',\n",
              "       'Lindell, Mr. Edvard Bengtsson', 'Karaic, Mr. Milan',\n",
              "       'Daniel, Mr. Robert Williams',\n",
              "       'Laroche, Mrs. Joseph (Juliette Marie Louise Lafargue)',\n",
              "       'Shutes, Miss. Elizabeth W',\n",
              "       'Andersson, Mrs. Anders Johan (Alfrida Konstantia Brogren)',\n",
              "       'Jardin, Mr. Jose Neto', 'Murphy, Miss. Margaret Jane',\n",
              "       'Horgan, Mr. John', 'Brocklebank, Mr. William Alfred',\n",
              "       'Herman, Miss. Alice', 'Danbom, Mr. Ernst Gilbert',\n",
              "       'Lobb, Mrs. William Arthur (Cordelia K Stanlick)',\n",
              "       'Becker, Miss. Marion Louise', 'Gavey, Mr. Lawrence',\n",
              "       'Yasbeck, Mr. Antoni', 'Kimball, Mr. Edwin Nelson Jr',\n",
              "       'Nakid, Mr. Sahid', 'Hansen, Mr. Henry Damsgaard',\n",
              "       'Bowen, Mr. David John \"Dai\"', 'Sutton, Mr. Frederick',\n",
              "       'Kirkland, Rev. Charles Leonard', 'Longley, Miss. Gretchen Fiske',\n",
              "       'Bostandyeff, Mr. Guentcho', \"O'Connell, Mr. Patrick D\",\n",
              "       'Barkworth, Mr. Algernon Henry Wilson',\n",
              "       'Lundahl, Mr. Johan Svensson', 'Stahelin-Maeglin, Dr. Max',\n",
              "       'Parr, Mr. William Henry Marsh', 'Skoog, Miss. Mabel',\n",
              "       'Davis, Miss. Mary', 'Leinonen, Mr. Antti Gustaf',\n",
              "       'Collyer, Mr. Harvey', 'Panula, Mrs. Juha (Maria Emilia Ojala)',\n",
              "       'Thorneycroft, Mr. Percival', 'Jensen, Mr. Hans Peder',\n",
              "       'Sagesser, Mlle. Emma', 'Skoog, Miss. Margit Elizabeth',\n",
              "       'Foo, Mr. Choong', 'Baclini, Miss. Eugenie',\n",
              "       'Harper, Mr. Henry Sleeper', 'Cor, Mr. Liudevit',\n",
              "       'Simonius-Blumer, Col. Oberst Alfons', 'Willey, Mr. Edward',\n",
              "       'Stanley, Miss. Amy Zillah Elsie', 'Mitkoff, Mr. Mito',\n",
              "       'Doling, Miss. Elsie', 'Kalvik, Mr. Johannes Halvorsen',\n",
              "       'O\\'Leary, Miss. Hanora \"Norah\"', 'Hegarty, Miss. Hanora \"Nora\"',\n",
              "       'Hickman, Mr. Leonard Mark', 'Radeff, Mr. Alexander',\n",
              "       'Bourke, Mrs. John (Catherine)', 'Eitemiller, Mr. George Floyd',\n",
              "       'Newell, Mr. Arthur Webster', 'Frauenthal, Dr. Henry William',\n",
              "       'Badt, Mr. Mohamed', 'Colley, Mr. Edward Pomeroy',\n",
              "       'Coleff, Mr. Peju', 'Lindqvist, Mr. Eino William',\n",
              "       'Hickman, Mr. Lewis', 'Butler, Mr. Reginald Fenton',\n",
              "       'Rommetvedt, Mr. Knud Paust', 'Cook, Mr. Jacob',\n",
              "       'Taylor, Mrs. Elmer Zebley (Juliet Cummins Wright)',\n",
              "       'Brown, Mrs. Thomas William Solomon (Elizabeth Catherine Ford)',\n",
              "       'Davidson, Mr. Thornton', 'Mitchell, Mr. Henry Michael',\n",
              "       'Wilhelms, Mr. Charles', 'Watson, Mr. Ennis Hastings',\n",
              "       'Edvardsson, Mr. Gustaf Hjalmar', 'Sawyer, Mr. Frederick Charles',\n",
              "       'Turja, Miss. Anna Sofia',\n",
              "       'Goodwin, Mrs. Frederick (Augusta Tyler)',\n",
              "       'Cardeza, Mr. Thomas Drake Martinez', 'Peters, Miss. Katie',\n",
              "       'Hassab, Mr. Hammad', 'Olsvigen, Mr. Thor Anderson',\n",
              "       'Goodwin, Mr. Charles Edward', 'Brown, Mr. Thomas William Solomon',\n",
              "       'Laroche, Mr. Joseph Philippe Lemercier',\n",
              "       'Panula, Mr. Jaako Arnold', 'Dakic, Mr. Branko',\n",
              "       'Fischer, Mr. Eberhard Thelander',\n",
              "       'Madill, Miss. Georgette Alexandra', 'Dick, Mr. Albert Adrian',\n",
              "       'Karun, Miss. Manca', 'Lam, Mr. Ali', 'Saad, Mr. Khalil',\n",
              "       'Weir, Col. John', 'Chapman, Mr. Charles Henry',\n",
              "       'Kelly, Mr. James', 'Mullens, Miss. Katherine \"Katie\"',\n",
              "       'Thayer, Mr. John Borland',\n",
              "       'Humblen, Mr. Adolf Mathias Nicolai Olsen',\n",
              "       'Astor, Mrs. John Jacob (Madeleine Talmadge Force)',\n",
              "       'Silverthorne, Mr. Spencer Victor', 'Barbara, Miss. Saiide',\n",
              "       'Gallagher, Mr. Martin', 'Hansen, Mr. Henrik Juul',\n",
              "       'Morley, Mr. Henry Samuel (\"Mr Henry Marshall\")',\n",
              "       'Kelly, Mrs. Florence \"Fannie\"',\n",
              "       'Calderhead, Mr. Edward Pennington', 'Cleaver, Miss. Alice',\n",
              "       'Moubarek, Master. Halim Gonios (\"William George\")',\n",
              "       'Mayne, Mlle. Berthe Antonine (\"Mrs de Villiers\")',\n",
              "       'Klaber, Mr. Herman', 'Taylor, Mr. Elmer Zebley',\n",
              "       'Larsson, Mr. August Viktor', 'Greenberg, Mr. Samuel',\n",
              "       'Soholt, Mr. Peter Andreas Lauritz Andersen',\n",
              "       'Endres, Miss. Caroline Louise',\n",
              "       'Troutt, Miss. Edwina Celia \"Winnie\"', 'McEvoy, Mr. Michael',\n",
              "       'Johnson, Mr. Malkolm Joackim',\n",
              "       'Harper, Miss. Annie Jessie \"Nina\"', 'Jensen, Mr. Svend Lauritz',\n",
              "       'Gillespie, Mr. William Henry', 'Hodges, Mr. Henry Price',\n",
              "       'Chambers, Mr. Norman Campbell', 'Oreskovic, Mr. Luka',\n",
              "       'Renouf, Mrs. Peter Henry (Lillian Jefferys)',\n",
              "       'Mannion, Miss. Margareth', 'Bryhl, Mr. Kurt Arnold Gottfrid',\n",
              "       'Ilmakangas, Miss. Pieta Sofia', 'Allen, Miss. Elisabeth Walton',\n",
              "       'Hassan, Mr. Houssein G N', 'Knight, Mr. Robert J',\n",
              "       'Berriman, Mr. William John', 'Troupiansky, Mr. Moses Aaron',\n",
              "       'Williams, Mr. Leslie', 'Ford, Mrs. Edward (Margaret Ann Watson)',\n",
              "       'Lesurer, Mr. Gustave J', 'Ivanoff, Mr. Kanio',\n",
              "       'Nankoff, Mr. Minko', 'Hawksford, Mr. Walter James',\n",
              "       'Cavendish, Mr. Tyrell William',\n",
              "       'Ryerson, Miss. Susan Parker \"Suzette\"', 'McNamee, Mr. Neal',\n",
              "       'Stranden, Mr. Juho', 'Crosby, Capt. Edward Gifford',\n",
              "       'Abbott, Mr. Rossmore Edward', 'Sinkkonen, Miss. Anna',\n",
              "       'Marvin, Mr. Daniel Warner', 'Connaghton, Mr. Michael',\n",
              "       'Wells, Miss. Joan', 'Moor, Master. Meier',\n",
              "       'Vande Velde, Mr. Johannes Joseph', 'Jonkoff, Mr. Lalio',\n",
              "       'Herman, Mrs. Samuel (Jane Laver)', 'Hamalainen, Master. Viljo',\n",
              "       'Carlsson, Mr. August Sigfrid', 'Bailey, Mr. Percy Andrew',\n",
              "       'Theobald, Mr. Thomas Leonard',\n",
              "       'Rothes, the Countess. of (Lucy Noel Martha Dyer-Edwards)',\n",
              "       'Garfirth, Mr. John', 'Nirva, Mr. Iisakki Antino Aijo',\n",
              "       'Barah, Mr. Hanna Assi',\n",
              "       'Carter, Mrs. William Ernest (Lucile Polk)',\n",
              "       'Eklund, Mr. Hans Linus', 'Hogeboom, Mrs. John C (Anna Andrews)',\n",
              "       'Brewe, Dr. Arthur Jackson', 'Mangan, Miss. Mary',\n",
              "       'Moran, Mr. Daniel J', 'Gronnestad, Mr. Daniel Danielsen',\n",
              "       'Lievens, Mr. Rene Aime', 'Jensen, Mr. Niels Peder',\n",
              "       'Mack, Mrs. (Mary)', 'Elias, Mr. Dibo',\n",
              "       'Hocking, Mrs. Elizabeth (Eliza Needs)',\n",
              "       'Myhrman, Mr. Pehr Fabian Oliver Malkolm', 'Tobin, Mr. Roger',\n",
              "       'Emanuel, Miss. Virginia Ethel', 'Kilgannon, Mr. Thomas J',\n",
              "       'Robert, Mrs. Edward Scott (Elisabeth Walton McMillan)',\n",
              "       'Ayoub, Miss. Banoura',\n",
              "       'Dick, Mrs. Albert Adrian (Vera Gillespie)',\n",
              "       'Long, Mr. Milton Clyde', 'Johnston, Mr. Andrew G',\n",
              "       'Ali, Mr. William', 'Harmer, Mr. Abraham (David Lishin)',\n",
              "       'Sjoblom, Miss. Anna Sofia', 'Rice, Master. George Hugh',\n",
              "       'Dean, Master. Bertram Vere', 'Guggenheim, Mr. Benjamin',\n",
              "       'Keane, Mr. Andrew \"Andy\"', 'Gaskell, Mr. Alfred',\n",
              "       'Sage, Miss. Stella Anna', 'Hoyt, Mr. William Fisher',\n",
              "       'Dantcheff, Mr. Ristiu', 'Otter, Mr. Richard',\n",
              "       'Leader, Dr. Alice (Farnham)', 'Osman, Mrs. Mara',\n",
              "       'Ibrahim Shawah, Mr. Yousseff',\n",
              "       'Van Impe, Mrs. Jean Baptiste (Rosalie Paula Govaert)',\n",
              "       'Ponesell, Mr. Martin',\n",
              "       'Collyer, Mrs. Harvey (Charlotte Annie Tate)',\n",
              "       'Carter, Master. William Thornton II',\n",
              "       'Thomas, Master. Assad Alexander', 'Hedman, Mr. Oskar Arvid',\n",
              "       'Johansson, Mr. Karl Johan', 'Andrews, Mr. Thomas Jr',\n",
              "       'Pettersson, Miss. Ellen Natalia', 'Meyer, Mr. August',\n",
              "       'Chambers, Mrs. Norman Campbell (Bertha Griggs)',\n",
              "       'Alexander, Mr. William', 'Lester, Mr. James',\n",
              "       'Slemen, Mr. Richard James', 'Andersson, Miss. Ebba Iris Alfrida',\n",
              "       'Tomlin, Mr. Ernest Portage', 'Fry, Mr. Richard',\n",
              "       'Heininen, Miss. Wendla Maria', 'Mallet, Mr. Albert',\n",
              "       'Holm, Mr. John Fredrik Alexander', 'Skoog, Master. Karl Thorsten',\n",
              "       'Hays, Mrs. Charles Melville (Clara Jennings Gregg)',\n",
              "       'Lulic, Mr. Nikola', 'Reuchlin, Jonkheer. John George',\n",
              "       'Moor, Mrs. (Beila)', 'Panula, Master. Urho Abraham',\n",
              "       'Flynn, Mr. John', 'Lam, Mr. Len', 'Mallet, Master. Andre',\n",
              "       'McCormack, Mr. Thomas Joseph',\n",
              "       'Stone, Mrs. George Nelson (Martha Evelyn)',\n",
              "       'Yasbeck, Mrs. Antoni (Selini Alexander)',\n",
              "       'Richards, Master. George Sibley', 'Saad, Mr. Amin',\n",
              "       'Augustsson, Mr. Albert', 'Allum, Mr. Owen George',\n",
              "       'Compton, Miss. Sara Rebecca', 'Pasic, Mr. Jakob',\n",
              "       'Sirota, Mr. Maurice', 'Chip, Mr. Chang', 'Marechal, Mr. Pierre',\n",
              "       'Alhomaki, Mr. Ilmari Rudolf', 'Mudd, Mr. Thomas Charles',\n",
              "       'Serepeca, Miss. Augusta', 'Lemberopolous, Mr. Peter L',\n",
              "       'Culumovic, Mr. Jeso', 'Abbing, Mr. Anthony',\n",
              "       'Sage, Mr. Douglas Bullen', 'Markoff, Mr. Marin',\n",
              "       'Harper, Rev. John',\n",
              "       'Goldenberg, Mrs. Samuel L (Edwiga Grabowska)',\n",
              "       'Andersson, Master. Sigvard Harald Elias', 'Svensson, Mr. Johan',\n",
              "       'Boulos, Miss. Nourelain', 'Lines, Miss. Mary Conover',\n",
              "       'Carter, Mrs. Ernest Courtenay (Lilian Hughes)',\n",
              "       'Aks, Mrs. Sam (Leah Rosen)',\n",
              "       'Wick, Mrs. George Dennick (Mary Hitchcock)',\n",
              "       'Daly, Mr. Peter Denis ', 'Baclini, Mrs. Solomon (Latifa Qurban)',\n",
              "       'Razi, Mr. Raihed', 'Hansen, Mr. Claus Peter',\n",
              "       'Giles, Mr. Frederick Edward',\n",
              "       'Swift, Mrs. Frederick Joel (Margaret Welles Barron)',\n",
              "       'Sage, Miss. Dorothy Edith \"Dolly\"', 'Gill, Mr. John William',\n",
              "       'Bystrom, Mrs. (Karolina)', 'Duran y More, Miss. Asuncion',\n",
              "       'Roebling, Mr. Washington Augustus II',\n",
              "       'van Melkebeke, Mr. Philemon', 'Johnson, Master. Harold Theodor',\n",
              "       'Balkic, Mr. Cerin',\n",
              "       'Beckwith, Mrs. Richard Leonard (Sallie Monypeny)',\n",
              "       'Carlsson, Mr. Frans Olof', 'Vander Cruyssen, Mr. Victor',\n",
              "       'Abelson, Mrs. Samuel (Hannah Wizosky)',\n",
              "       'Najib, Miss. Adele Kiamie \"Jane\"',\n",
              "       'Gustafsson, Mr. Alfred Ossian', 'Petroff, Mr. Nedelio',\n",
              "       'Laleff, Mr. Kristo',\n",
              "       'Potter, Mrs. Thomas Jr (Lily Alexenia Wilson)',\n",
              "       'Shelley, Mrs. William (Imanita Parrish Hall)',\n",
              "       'Markun, Mr. Johann', 'Dahlberg, Miss. Gerda Ulrika',\n",
              "       'Banfield, Mr. Frederick James', 'Sutehall, Mr. Henry Jr',\n",
              "       'Rice, Mrs. William (Margaret Norton)', 'Montvila, Rev. Juozas',\n",
              "       'Graham, Miss. Margaret Edith',\n",
              "       'Johnston, Miss. Catherine Helen \"Carrie\"',\n",
              "       'Behr, Mr. Karl Howell', 'Dooley, Mr. Patrick'], dtype=object)"
            ]
          },
          "metadata": {},
          "execution_count": 30
        }
      ]
    },
    {
      "cell_type": "code",
      "metadata": {
        "id": "3j1yYQWEPe_b"
      },
      "source": [
        "data = data.drop([\"Name\", \"Ticket\", \"Cabin\"], axis = 1)"
      ],
      "execution_count": null,
      "outputs": []
    },
    {
      "cell_type": "code",
      "metadata": {
        "colab": {
          "base_uri": "https://localhost:8080/"
        },
        "id": "JeHMY4VSPZQ2",
        "outputId": "096a5367-8895-492d-cb85-cf94d421a81b"
      },
      "source": [
        "data.columns"
      ],
      "execution_count": null,
      "outputs": [
        {
          "output_type": "execute_result",
          "data": {
            "text/plain": [
              "Index(['PassengerId', 'Survived', 'Pclass', 'Sex', 'Age', 'SibSp', 'Parch',\n",
              "       'Fare', 'Embarked'],\n",
              "      dtype='object')"
            ]
          },
          "metadata": {
            "tags": []
          },
          "execution_count": 134
        }
      ]
    },
    {
      "cell_type": "code",
      "metadata": {
        "id": "aoYUYYNzQ9l5"
      },
      "source": [
        "data = data.fillna(\"null\")"
      ],
      "execution_count": null,
      "outputs": []
    },
    {
      "cell_type": "code",
      "metadata": {
        "id": "_x_Voj5KPZQ2"
      },
      "source": [
        "columns = ['Sex', 'Embarked']\n",
        "\n",
        "for col in columns:\n",
        "    le = LabelEncoder()\n",
        "    le.fit(data[col])\n",
        "    data[col] = le.transform(data[col])"
      ],
      "execution_count": null,
      "outputs": []
    },
    {
      "cell_type": "code",
      "metadata": {
        "colab": {
          "base_uri": "https://localhost:8080/",
          "height": 419
        },
        "id": "KL-ZIaOdPZQ2",
        "outputId": "586b92c9-3a51-482c-b666-390671cc3649"
      },
      "source": [
        "data"
      ],
      "execution_count": null,
      "outputs": [
        {
          "output_type": "execute_result",
          "data": {
            "text/html": [
              "<div>\n",
              "<style scoped>\n",
              "    .dataframe tbody tr th:only-of-type {\n",
              "        vertical-align: middle;\n",
              "    }\n",
              "\n",
              "    .dataframe tbody tr th {\n",
              "        vertical-align: top;\n",
              "    }\n",
              "\n",
              "    .dataframe thead th {\n",
              "        text-align: right;\n",
              "    }\n",
              "</style>\n",
              "<table border=\"1\" class=\"dataframe\">\n",
              "  <thead>\n",
              "    <tr style=\"text-align: right;\">\n",
              "      <th></th>\n",
              "      <th>PassengerId</th>\n",
              "      <th>Survived</th>\n",
              "      <th>Pclass</th>\n",
              "      <th>Sex</th>\n",
              "      <th>Age</th>\n",
              "      <th>SibSp</th>\n",
              "      <th>Parch</th>\n",
              "      <th>Fare</th>\n",
              "      <th>Embarked</th>\n",
              "    </tr>\n",
              "  </thead>\n",
              "  <tbody>\n",
              "    <tr>\n",
              "      <th>0</th>\n",
              "      <td>1</td>\n",
              "      <td>0</td>\n",
              "      <td>3</td>\n",
              "      <td>1</td>\n",
              "      <td>22</td>\n",
              "      <td>1</td>\n",
              "      <td>0</td>\n",
              "      <td>7.2500</td>\n",
              "      <td>2</td>\n",
              "    </tr>\n",
              "    <tr>\n",
              "      <th>1</th>\n",
              "      <td>2</td>\n",
              "      <td>1</td>\n",
              "      <td>1</td>\n",
              "      <td>0</td>\n",
              "      <td>38</td>\n",
              "      <td>1</td>\n",
              "      <td>0</td>\n",
              "      <td>71.2833</td>\n",
              "      <td>0</td>\n",
              "    </tr>\n",
              "    <tr>\n",
              "      <th>2</th>\n",
              "      <td>3</td>\n",
              "      <td>1</td>\n",
              "      <td>3</td>\n",
              "      <td>0</td>\n",
              "      <td>26</td>\n",
              "      <td>0</td>\n",
              "      <td>0</td>\n",
              "      <td>7.9250</td>\n",
              "      <td>2</td>\n",
              "    </tr>\n",
              "    <tr>\n",
              "      <th>3</th>\n",
              "      <td>4</td>\n",
              "      <td>1</td>\n",
              "      <td>1</td>\n",
              "      <td>0</td>\n",
              "      <td>35</td>\n",
              "      <td>1</td>\n",
              "      <td>0</td>\n",
              "      <td>53.1000</td>\n",
              "      <td>2</td>\n",
              "    </tr>\n",
              "    <tr>\n",
              "      <th>4</th>\n",
              "      <td>5</td>\n",
              "      <td>0</td>\n",
              "      <td>3</td>\n",
              "      <td>1</td>\n",
              "      <td>35</td>\n",
              "      <td>0</td>\n",
              "      <td>0</td>\n",
              "      <td>8.0500</td>\n",
              "      <td>2</td>\n",
              "    </tr>\n",
              "    <tr>\n",
              "      <th>...</th>\n",
              "      <td>...</td>\n",
              "      <td>...</td>\n",
              "      <td>...</td>\n",
              "      <td>...</td>\n",
              "      <td>...</td>\n",
              "      <td>...</td>\n",
              "      <td>...</td>\n",
              "      <td>...</td>\n",
              "      <td>...</td>\n",
              "    </tr>\n",
              "    <tr>\n",
              "      <th>886</th>\n",
              "      <td>887</td>\n",
              "      <td>0</td>\n",
              "      <td>2</td>\n",
              "      <td>1</td>\n",
              "      <td>27</td>\n",
              "      <td>0</td>\n",
              "      <td>0</td>\n",
              "      <td>13.0000</td>\n",
              "      <td>2</td>\n",
              "    </tr>\n",
              "    <tr>\n",
              "      <th>887</th>\n",
              "      <td>888</td>\n",
              "      <td>1</td>\n",
              "      <td>1</td>\n",
              "      <td>0</td>\n",
              "      <td>19</td>\n",
              "      <td>0</td>\n",
              "      <td>0</td>\n",
              "      <td>30.0000</td>\n",
              "      <td>2</td>\n",
              "    </tr>\n",
              "    <tr>\n",
              "      <th>888</th>\n",
              "      <td>889</td>\n",
              "      <td>0</td>\n",
              "      <td>3</td>\n",
              "      <td>0</td>\n",
              "      <td>null</td>\n",
              "      <td>1</td>\n",
              "      <td>2</td>\n",
              "      <td>23.4500</td>\n",
              "      <td>2</td>\n",
              "    </tr>\n",
              "    <tr>\n",
              "      <th>889</th>\n",
              "      <td>890</td>\n",
              "      <td>1</td>\n",
              "      <td>1</td>\n",
              "      <td>1</td>\n",
              "      <td>26</td>\n",
              "      <td>0</td>\n",
              "      <td>0</td>\n",
              "      <td>30.0000</td>\n",
              "      <td>0</td>\n",
              "    </tr>\n",
              "    <tr>\n",
              "      <th>890</th>\n",
              "      <td>891</td>\n",
              "      <td>0</td>\n",
              "      <td>3</td>\n",
              "      <td>1</td>\n",
              "      <td>32</td>\n",
              "      <td>0</td>\n",
              "      <td>0</td>\n",
              "      <td>7.7500</td>\n",
              "      <td>1</td>\n",
              "    </tr>\n",
              "  </tbody>\n",
              "</table>\n",
              "<p>891 rows × 9 columns</p>\n",
              "</div>"
            ],
            "text/plain": [
              "     PassengerId  Survived  Pclass  Sex   Age  SibSp  Parch     Fare  Embarked\n",
              "0              1         0       3    1    22      1      0   7.2500         2\n",
              "1              2         1       1    0    38      1      0  71.2833         0\n",
              "2              3         1       3    0    26      0      0   7.9250         2\n",
              "3              4         1       1    0    35      1      0  53.1000         2\n",
              "4              5         0       3    1    35      0      0   8.0500         2\n",
              "..           ...       ...     ...  ...   ...    ...    ...      ...       ...\n",
              "886          887         0       2    1    27      0      0  13.0000         2\n",
              "887          888         1       1    0    19      0      0  30.0000         2\n",
              "888          889         0       3    0  null      1      2  23.4500         2\n",
              "889          890         1       1    1    26      0      0  30.0000         0\n",
              "890          891         0       3    1    32      0      0   7.7500         1\n",
              "\n",
              "[891 rows x 9 columns]"
            ]
          },
          "metadata": {
            "tags": []
          },
          "execution_count": 139
        }
      ]
    },
    {
      "cell_type": "code",
      "metadata": {
        "colab": {
          "base_uri": "https://localhost:8080/",
          "height": 297
        },
        "id": "uGcdofxwPZQ3",
        "outputId": "6a3778f0-ca6f-4836-83f0-f46d740fa864"
      },
      "source": [
        "data.describe()"
      ],
      "execution_count": null,
      "outputs": [
        {
          "output_type": "execute_result",
          "data": {
            "text/html": [
              "<div>\n",
              "<style scoped>\n",
              "    .dataframe tbody tr th:only-of-type {\n",
              "        vertical-align: middle;\n",
              "    }\n",
              "\n",
              "    .dataframe tbody tr th {\n",
              "        vertical-align: top;\n",
              "    }\n",
              "\n",
              "    .dataframe thead th {\n",
              "        text-align: right;\n",
              "    }\n",
              "</style>\n",
              "<table border=\"1\" class=\"dataframe\">\n",
              "  <thead>\n",
              "    <tr style=\"text-align: right;\">\n",
              "      <th></th>\n",
              "      <th>PassengerId</th>\n",
              "      <th>Survived</th>\n",
              "      <th>Pclass</th>\n",
              "      <th>Sex</th>\n",
              "      <th>SibSp</th>\n",
              "      <th>Parch</th>\n",
              "      <th>Fare</th>\n",
              "      <th>Embarked</th>\n",
              "    </tr>\n",
              "  </thead>\n",
              "  <tbody>\n",
              "    <tr>\n",
              "      <th>count</th>\n",
              "      <td>891.000000</td>\n",
              "      <td>891.000000</td>\n",
              "      <td>891.000000</td>\n",
              "      <td>891.000000</td>\n",
              "      <td>891.000000</td>\n",
              "      <td>891.000000</td>\n",
              "      <td>891.000000</td>\n",
              "      <td>891.000000</td>\n",
              "    </tr>\n",
              "    <tr>\n",
              "      <th>mean</th>\n",
              "      <td>446.000000</td>\n",
              "      <td>0.383838</td>\n",
              "      <td>2.308642</td>\n",
              "      <td>0.647587</td>\n",
              "      <td>0.523008</td>\n",
              "      <td>0.381594</td>\n",
              "      <td>32.204208</td>\n",
              "      <td>1.538721</td>\n",
              "    </tr>\n",
              "    <tr>\n",
              "      <th>std</th>\n",
              "      <td>257.353842</td>\n",
              "      <td>0.486592</td>\n",
              "      <td>0.836071</td>\n",
              "      <td>0.477990</td>\n",
              "      <td>1.102743</td>\n",
              "      <td>0.806057</td>\n",
              "      <td>49.693429</td>\n",
              "      <td>0.794231</td>\n",
              "    </tr>\n",
              "    <tr>\n",
              "      <th>min</th>\n",
              "      <td>1.000000</td>\n",
              "      <td>0.000000</td>\n",
              "      <td>1.000000</td>\n",
              "      <td>0.000000</td>\n",
              "      <td>0.000000</td>\n",
              "      <td>0.000000</td>\n",
              "      <td>0.000000</td>\n",
              "      <td>0.000000</td>\n",
              "    </tr>\n",
              "    <tr>\n",
              "      <th>25%</th>\n",
              "      <td>223.500000</td>\n",
              "      <td>0.000000</td>\n",
              "      <td>2.000000</td>\n",
              "      <td>0.000000</td>\n",
              "      <td>0.000000</td>\n",
              "      <td>0.000000</td>\n",
              "      <td>7.910400</td>\n",
              "      <td>1.000000</td>\n",
              "    </tr>\n",
              "    <tr>\n",
              "      <th>50%</th>\n",
              "      <td>446.000000</td>\n",
              "      <td>0.000000</td>\n",
              "      <td>3.000000</td>\n",
              "      <td>1.000000</td>\n",
              "      <td>0.000000</td>\n",
              "      <td>0.000000</td>\n",
              "      <td>14.454200</td>\n",
              "      <td>2.000000</td>\n",
              "    </tr>\n",
              "    <tr>\n",
              "      <th>75%</th>\n",
              "      <td>668.500000</td>\n",
              "      <td>1.000000</td>\n",
              "      <td>3.000000</td>\n",
              "      <td>1.000000</td>\n",
              "      <td>1.000000</td>\n",
              "      <td>0.000000</td>\n",
              "      <td>31.000000</td>\n",
              "      <td>2.000000</td>\n",
              "    </tr>\n",
              "    <tr>\n",
              "      <th>max</th>\n",
              "      <td>891.000000</td>\n",
              "      <td>1.000000</td>\n",
              "      <td>3.000000</td>\n",
              "      <td>1.000000</td>\n",
              "      <td>8.000000</td>\n",
              "      <td>6.000000</td>\n",
              "      <td>512.329200</td>\n",
              "      <td>3.000000</td>\n",
              "    </tr>\n",
              "  </tbody>\n",
              "</table>\n",
              "</div>"
            ],
            "text/plain": [
              "       PassengerId    Survived      Pclass  ...       Parch        Fare    Embarked\n",
              "count   891.000000  891.000000  891.000000  ...  891.000000  891.000000  891.000000\n",
              "mean    446.000000    0.383838    2.308642  ...    0.381594   32.204208    1.538721\n",
              "std     257.353842    0.486592    0.836071  ...    0.806057   49.693429    0.794231\n",
              "min       1.000000    0.000000    1.000000  ...    0.000000    0.000000    0.000000\n",
              "25%     223.500000    0.000000    2.000000  ...    0.000000    7.910400    1.000000\n",
              "50%     446.000000    0.000000    3.000000  ...    0.000000   14.454200    2.000000\n",
              "75%     668.500000    1.000000    3.000000  ...    0.000000   31.000000    2.000000\n",
              "max     891.000000    1.000000    3.000000  ...    6.000000  512.329200    3.000000\n",
              "\n",
              "[8 rows x 8 columns]"
            ]
          },
          "metadata": {
            "tags": []
          },
          "execution_count": 140
        }
      ]
    },
    {
      "cell_type": "code",
      "metadata": {
        "colab": {
          "base_uri": "https://localhost:8080/",
          "height": 111
        },
        "id": "VCYCoQXpPZQ3",
        "outputId": "f61ea8c2-4467-4ed2-f921-35438ff3d845"
      },
      "source": [
        "data[1:3]"
      ],
      "execution_count": null,
      "outputs": [
        {
          "output_type": "execute_result",
          "data": {
            "text/html": [
              "<div>\n",
              "<style scoped>\n",
              "    .dataframe tbody tr th:only-of-type {\n",
              "        vertical-align: middle;\n",
              "    }\n",
              "\n",
              "    .dataframe tbody tr th {\n",
              "        vertical-align: top;\n",
              "    }\n",
              "\n",
              "    .dataframe thead th {\n",
              "        text-align: right;\n",
              "    }\n",
              "</style>\n",
              "<table border=\"1\" class=\"dataframe\">\n",
              "  <thead>\n",
              "    <tr style=\"text-align: right;\">\n",
              "      <th></th>\n",
              "      <th>PassengerId</th>\n",
              "      <th>Survived</th>\n",
              "      <th>Pclass</th>\n",
              "      <th>Sex</th>\n",
              "      <th>Age</th>\n",
              "      <th>SibSp</th>\n",
              "      <th>Parch</th>\n",
              "      <th>Fare</th>\n",
              "      <th>Embarked</th>\n",
              "    </tr>\n",
              "  </thead>\n",
              "  <tbody>\n",
              "    <tr>\n",
              "      <th>1</th>\n",
              "      <td>2</td>\n",
              "      <td>1</td>\n",
              "      <td>1</td>\n",
              "      <td>0</td>\n",
              "      <td>38</td>\n",
              "      <td>1</td>\n",
              "      <td>0</td>\n",
              "      <td>71.2833</td>\n",
              "      <td>0</td>\n",
              "    </tr>\n",
              "    <tr>\n",
              "      <th>2</th>\n",
              "      <td>3</td>\n",
              "      <td>1</td>\n",
              "      <td>3</td>\n",
              "      <td>0</td>\n",
              "      <td>26</td>\n",
              "      <td>0</td>\n",
              "      <td>0</td>\n",
              "      <td>7.9250</td>\n",
              "      <td>2</td>\n",
              "    </tr>\n",
              "  </tbody>\n",
              "</table>\n",
              "</div>"
            ],
            "text/plain": [
              "   PassengerId  Survived  Pclass  Sex Age  SibSp  Parch     Fare  Embarked\n",
              "1            2         1       1    0  38      1      0  71.2833         0\n",
              "2            3         1       3    0  26      0      0   7.9250         2"
            ]
          },
          "metadata": {
            "tags": []
          },
          "execution_count": 141
        }
      ]
    },
    {
      "cell_type": "code",
      "metadata": {
        "colab": {
          "base_uri": "https://localhost:8080/",
          "height": 142
        },
        "id": "kTZGTMcmPZQ3",
        "outputId": "d7e69691-30e6-47da-afaa-7c24846d1e64"
      },
      "source": [
        "data.loc[1:3]"
      ],
      "execution_count": null,
      "outputs": [
        {
          "output_type": "execute_result",
          "data": {
            "text/html": [
              "<div>\n",
              "<style scoped>\n",
              "    .dataframe tbody tr th:only-of-type {\n",
              "        vertical-align: middle;\n",
              "    }\n",
              "\n",
              "    .dataframe tbody tr th {\n",
              "        vertical-align: top;\n",
              "    }\n",
              "\n",
              "    .dataframe thead th {\n",
              "        text-align: right;\n",
              "    }\n",
              "</style>\n",
              "<table border=\"1\" class=\"dataframe\">\n",
              "  <thead>\n",
              "    <tr style=\"text-align: right;\">\n",
              "      <th></th>\n",
              "      <th>PassengerId</th>\n",
              "      <th>Survived</th>\n",
              "      <th>Pclass</th>\n",
              "      <th>Sex</th>\n",
              "      <th>Age</th>\n",
              "      <th>SibSp</th>\n",
              "      <th>Parch</th>\n",
              "      <th>Fare</th>\n",
              "      <th>Embarked</th>\n",
              "    </tr>\n",
              "  </thead>\n",
              "  <tbody>\n",
              "    <tr>\n",
              "      <th>1</th>\n",
              "      <td>2</td>\n",
              "      <td>1</td>\n",
              "      <td>1</td>\n",
              "      <td>0</td>\n",
              "      <td>38</td>\n",
              "      <td>1</td>\n",
              "      <td>0</td>\n",
              "      <td>71.2833</td>\n",
              "      <td>0</td>\n",
              "    </tr>\n",
              "    <tr>\n",
              "      <th>2</th>\n",
              "      <td>3</td>\n",
              "      <td>1</td>\n",
              "      <td>3</td>\n",
              "      <td>0</td>\n",
              "      <td>26</td>\n",
              "      <td>0</td>\n",
              "      <td>0</td>\n",
              "      <td>7.9250</td>\n",
              "      <td>2</td>\n",
              "    </tr>\n",
              "    <tr>\n",
              "      <th>3</th>\n",
              "      <td>4</td>\n",
              "      <td>1</td>\n",
              "      <td>1</td>\n",
              "      <td>0</td>\n",
              "      <td>35</td>\n",
              "      <td>1</td>\n",
              "      <td>0</td>\n",
              "      <td>53.1000</td>\n",
              "      <td>2</td>\n",
              "    </tr>\n",
              "  </tbody>\n",
              "</table>\n",
              "</div>"
            ],
            "text/plain": [
              "   PassengerId  Survived  Pclass  Sex Age  SibSp  Parch     Fare  Embarked\n",
              "1            2         1       1    0  38      1      0  71.2833         0\n",
              "2            3         1       3    0  26      0      0   7.9250         2\n",
              "3            4         1       1    0  35      1      0  53.1000         2"
            ]
          },
          "metadata": {
            "tags": []
          },
          "execution_count": 142
        }
      ]
    },
    {
      "cell_type": "code",
      "metadata": {
        "colab": {
          "base_uri": "https://localhost:8080/",
          "height": 142
        },
        "id": "ujju57PTPZQ3",
        "outputId": "19d86821-66f0-4359-8d24-569b4f56c134"
      },
      "source": [
        "data.loc[1:3]"
      ],
      "execution_count": null,
      "outputs": [
        {
          "output_type": "execute_result",
          "data": {
            "text/html": [
              "<div>\n",
              "<style scoped>\n",
              "    .dataframe tbody tr th:only-of-type {\n",
              "        vertical-align: middle;\n",
              "    }\n",
              "\n",
              "    .dataframe tbody tr th {\n",
              "        vertical-align: top;\n",
              "    }\n",
              "\n",
              "    .dataframe thead th {\n",
              "        text-align: right;\n",
              "    }\n",
              "</style>\n",
              "<table border=\"1\" class=\"dataframe\">\n",
              "  <thead>\n",
              "    <tr style=\"text-align: right;\">\n",
              "      <th></th>\n",
              "      <th>PassengerId</th>\n",
              "      <th>Survived</th>\n",
              "      <th>Pclass</th>\n",
              "      <th>Sex</th>\n",
              "      <th>Age</th>\n",
              "      <th>SibSp</th>\n",
              "      <th>Parch</th>\n",
              "      <th>Fare</th>\n",
              "      <th>Embarked</th>\n",
              "    </tr>\n",
              "  </thead>\n",
              "  <tbody>\n",
              "    <tr>\n",
              "      <th>1</th>\n",
              "      <td>2</td>\n",
              "      <td>1</td>\n",
              "      <td>1</td>\n",
              "      <td>0</td>\n",
              "      <td>38</td>\n",
              "      <td>1</td>\n",
              "      <td>0</td>\n",
              "      <td>71.2833</td>\n",
              "      <td>0</td>\n",
              "    </tr>\n",
              "    <tr>\n",
              "      <th>2</th>\n",
              "      <td>3</td>\n",
              "      <td>1</td>\n",
              "      <td>3</td>\n",
              "      <td>0</td>\n",
              "      <td>26</td>\n",
              "      <td>0</td>\n",
              "      <td>0</td>\n",
              "      <td>7.9250</td>\n",
              "      <td>2</td>\n",
              "    </tr>\n",
              "    <tr>\n",
              "      <th>3</th>\n",
              "      <td>4</td>\n",
              "      <td>1</td>\n",
              "      <td>1</td>\n",
              "      <td>0</td>\n",
              "      <td>35</td>\n",
              "      <td>1</td>\n",
              "      <td>0</td>\n",
              "      <td>53.1000</td>\n",
              "      <td>2</td>\n",
              "    </tr>\n",
              "  </tbody>\n",
              "</table>\n",
              "</div>"
            ],
            "text/plain": [
              "   PassengerId  Survived  Pclass  Sex Age  SibSp  Parch     Fare  Embarked\n",
              "1            2         1       1    0  38      1      0  71.2833         0\n",
              "2            3         1       3    0  26      0      0   7.9250         2\n",
              "3            4         1       1    0  35      1      0  53.1000         2"
            ]
          },
          "metadata": {
            "tags": []
          },
          "execution_count": 143
        }
      ]
    },
    {
      "cell_type": "code",
      "metadata": {
        "colab": {
          "base_uri": "https://localhost:8080/",
          "height": 111
        },
        "id": "psepjm-dPZQ3",
        "outputId": "7518a5ce-795b-4f7a-b012-294146fef390"
      },
      "source": [
        "data.iloc[1:3]"
      ],
      "execution_count": null,
      "outputs": [
        {
          "output_type": "execute_result",
          "data": {
            "text/html": [
              "<div>\n",
              "<style scoped>\n",
              "    .dataframe tbody tr th:only-of-type {\n",
              "        vertical-align: middle;\n",
              "    }\n",
              "\n",
              "    .dataframe tbody tr th {\n",
              "        vertical-align: top;\n",
              "    }\n",
              "\n",
              "    .dataframe thead th {\n",
              "        text-align: right;\n",
              "    }\n",
              "</style>\n",
              "<table border=\"1\" class=\"dataframe\">\n",
              "  <thead>\n",
              "    <tr style=\"text-align: right;\">\n",
              "      <th></th>\n",
              "      <th>PassengerId</th>\n",
              "      <th>Survived</th>\n",
              "      <th>Pclass</th>\n",
              "      <th>Sex</th>\n",
              "      <th>Age</th>\n",
              "      <th>SibSp</th>\n",
              "      <th>Parch</th>\n",
              "      <th>Fare</th>\n",
              "      <th>Embarked</th>\n",
              "    </tr>\n",
              "  </thead>\n",
              "  <tbody>\n",
              "    <tr>\n",
              "      <th>1</th>\n",
              "      <td>2</td>\n",
              "      <td>1</td>\n",
              "      <td>1</td>\n",
              "      <td>0</td>\n",
              "      <td>38</td>\n",
              "      <td>1</td>\n",
              "      <td>0</td>\n",
              "      <td>71.2833</td>\n",
              "      <td>0</td>\n",
              "    </tr>\n",
              "    <tr>\n",
              "      <th>2</th>\n",
              "      <td>3</td>\n",
              "      <td>1</td>\n",
              "      <td>3</td>\n",
              "      <td>0</td>\n",
              "      <td>26</td>\n",
              "      <td>0</td>\n",
              "      <td>0</td>\n",
              "      <td>7.9250</td>\n",
              "      <td>2</td>\n",
              "    </tr>\n",
              "  </tbody>\n",
              "</table>\n",
              "</div>"
            ],
            "text/plain": [
              "   PassengerId  Survived  Pclass  Sex Age  SibSp  Parch     Fare  Embarked\n",
              "1            2         1       1    0  38      1      0  71.2833         0\n",
              "2            3         1       3    0  26      0      0   7.9250         2"
            ]
          },
          "metadata": {
            "tags": []
          },
          "execution_count": 144
        }
      ]
    },
    {
      "cell_type": "code",
      "metadata": {
        "colab": {
          "base_uri": "https://localhost:8080/",
          "height": 111
        },
        "id": "4ZQ7F0kEPZQ3",
        "outputId": "138d4c9d-21f6-4611-d082-086d41758f44"
      },
      "source": [
        "data.iloc[1:3, 3:10]"
      ],
      "execution_count": null,
      "outputs": [
        {
          "output_type": "execute_result",
          "data": {
            "text/html": [
              "<div>\n",
              "<style scoped>\n",
              "    .dataframe tbody tr th:only-of-type {\n",
              "        vertical-align: middle;\n",
              "    }\n",
              "\n",
              "    .dataframe tbody tr th {\n",
              "        vertical-align: top;\n",
              "    }\n",
              "\n",
              "    .dataframe thead th {\n",
              "        text-align: right;\n",
              "    }\n",
              "</style>\n",
              "<table border=\"1\" class=\"dataframe\">\n",
              "  <thead>\n",
              "    <tr style=\"text-align: right;\">\n",
              "      <th></th>\n",
              "      <th>Sex</th>\n",
              "      <th>Age</th>\n",
              "      <th>SibSp</th>\n",
              "      <th>Parch</th>\n",
              "      <th>Fare</th>\n",
              "      <th>Embarked</th>\n",
              "    </tr>\n",
              "  </thead>\n",
              "  <tbody>\n",
              "    <tr>\n",
              "      <th>1</th>\n",
              "      <td>0</td>\n",
              "      <td>38</td>\n",
              "      <td>1</td>\n",
              "      <td>0</td>\n",
              "      <td>71.2833</td>\n",
              "      <td>0</td>\n",
              "    </tr>\n",
              "    <tr>\n",
              "      <th>2</th>\n",
              "      <td>0</td>\n",
              "      <td>26</td>\n",
              "      <td>0</td>\n",
              "      <td>0</td>\n",
              "      <td>7.9250</td>\n",
              "      <td>2</td>\n",
              "    </tr>\n",
              "  </tbody>\n",
              "</table>\n",
              "</div>"
            ],
            "text/plain": [
              "   Sex Age  SibSp  Parch     Fare  Embarked\n",
              "1    0  38      1      0  71.2833         0\n",
              "2    0  26      0      0   7.9250         2"
            ]
          },
          "metadata": {
            "tags": []
          },
          "execution_count": 145
        }
      ]
    },
    {
      "cell_type": "code",
      "metadata": {
        "colab": {
          "base_uri": "https://localhost:8080/",
          "height": 419
        },
        "id": "mcNwK4GpPZQ3",
        "outputId": "79f81e2e-5b3f-499b-e735-d51a3cfdc472"
      },
      "source": [
        "data.sort_values(by = \"Fare\")"
      ],
      "execution_count": null,
      "outputs": [
        {
          "output_type": "execute_result",
          "data": {
            "text/html": [
              "<div>\n",
              "<style scoped>\n",
              "    .dataframe tbody tr th:only-of-type {\n",
              "        vertical-align: middle;\n",
              "    }\n",
              "\n",
              "    .dataframe tbody tr th {\n",
              "        vertical-align: top;\n",
              "    }\n",
              "\n",
              "    .dataframe thead th {\n",
              "        text-align: right;\n",
              "    }\n",
              "</style>\n",
              "<table border=\"1\" class=\"dataframe\">\n",
              "  <thead>\n",
              "    <tr style=\"text-align: right;\">\n",
              "      <th></th>\n",
              "      <th>PassengerId</th>\n",
              "      <th>Survived</th>\n",
              "      <th>Pclass</th>\n",
              "      <th>Sex</th>\n",
              "      <th>Age</th>\n",
              "      <th>SibSp</th>\n",
              "      <th>Parch</th>\n",
              "      <th>Fare</th>\n",
              "      <th>Embarked</th>\n",
              "    </tr>\n",
              "  </thead>\n",
              "  <tbody>\n",
              "    <tr>\n",
              "      <th>271</th>\n",
              "      <td>272</td>\n",
              "      <td>1</td>\n",
              "      <td>3</td>\n",
              "      <td>1</td>\n",
              "      <td>25</td>\n",
              "      <td>0</td>\n",
              "      <td>0</td>\n",
              "      <td>0.0000</td>\n",
              "      <td>2</td>\n",
              "    </tr>\n",
              "    <tr>\n",
              "      <th>597</th>\n",
              "      <td>598</td>\n",
              "      <td>0</td>\n",
              "      <td>3</td>\n",
              "      <td>1</td>\n",
              "      <td>49</td>\n",
              "      <td>0</td>\n",
              "      <td>0</td>\n",
              "      <td>0.0000</td>\n",
              "      <td>2</td>\n",
              "    </tr>\n",
              "    <tr>\n",
              "      <th>302</th>\n",
              "      <td>303</td>\n",
              "      <td>0</td>\n",
              "      <td>3</td>\n",
              "      <td>1</td>\n",
              "      <td>19</td>\n",
              "      <td>0</td>\n",
              "      <td>0</td>\n",
              "      <td>0.0000</td>\n",
              "      <td>2</td>\n",
              "    </tr>\n",
              "    <tr>\n",
              "      <th>633</th>\n",
              "      <td>634</td>\n",
              "      <td>0</td>\n",
              "      <td>1</td>\n",
              "      <td>1</td>\n",
              "      <td>null</td>\n",
              "      <td>0</td>\n",
              "      <td>0</td>\n",
              "      <td>0.0000</td>\n",
              "      <td>2</td>\n",
              "    </tr>\n",
              "    <tr>\n",
              "      <th>277</th>\n",
              "      <td>278</td>\n",
              "      <td>0</td>\n",
              "      <td>2</td>\n",
              "      <td>1</td>\n",
              "      <td>null</td>\n",
              "      <td>0</td>\n",
              "      <td>0</td>\n",
              "      <td>0.0000</td>\n",
              "      <td>2</td>\n",
              "    </tr>\n",
              "    <tr>\n",
              "      <th>...</th>\n",
              "      <td>...</td>\n",
              "      <td>...</td>\n",
              "      <td>...</td>\n",
              "      <td>...</td>\n",
              "      <td>...</td>\n",
              "      <td>...</td>\n",
              "      <td>...</td>\n",
              "      <td>...</td>\n",
              "      <td>...</td>\n",
              "    </tr>\n",
              "    <tr>\n",
              "      <th>438</th>\n",
              "      <td>439</td>\n",
              "      <td>0</td>\n",
              "      <td>1</td>\n",
              "      <td>1</td>\n",
              "      <td>64</td>\n",
              "      <td>1</td>\n",
              "      <td>4</td>\n",
              "      <td>263.0000</td>\n",
              "      <td>2</td>\n",
              "    </tr>\n",
              "    <tr>\n",
              "      <th>341</th>\n",
              "      <td>342</td>\n",
              "      <td>1</td>\n",
              "      <td>1</td>\n",
              "      <td>0</td>\n",
              "      <td>24</td>\n",
              "      <td>3</td>\n",
              "      <td>2</td>\n",
              "      <td>263.0000</td>\n",
              "      <td>2</td>\n",
              "    </tr>\n",
              "    <tr>\n",
              "      <th>737</th>\n",
              "      <td>738</td>\n",
              "      <td>1</td>\n",
              "      <td>1</td>\n",
              "      <td>1</td>\n",
              "      <td>35</td>\n",
              "      <td>0</td>\n",
              "      <td>0</td>\n",
              "      <td>512.3292</td>\n",
              "      <td>0</td>\n",
              "    </tr>\n",
              "    <tr>\n",
              "      <th>258</th>\n",
              "      <td>259</td>\n",
              "      <td>1</td>\n",
              "      <td>1</td>\n",
              "      <td>0</td>\n",
              "      <td>35</td>\n",
              "      <td>0</td>\n",
              "      <td>0</td>\n",
              "      <td>512.3292</td>\n",
              "      <td>0</td>\n",
              "    </tr>\n",
              "    <tr>\n",
              "      <th>679</th>\n",
              "      <td>680</td>\n",
              "      <td>1</td>\n",
              "      <td>1</td>\n",
              "      <td>1</td>\n",
              "      <td>36</td>\n",
              "      <td>0</td>\n",
              "      <td>1</td>\n",
              "      <td>512.3292</td>\n",
              "      <td>0</td>\n",
              "    </tr>\n",
              "  </tbody>\n",
              "</table>\n",
              "<p>891 rows × 9 columns</p>\n",
              "</div>"
            ],
            "text/plain": [
              "     PassengerId  Survived  Pclass  Sex   Age  SibSp  Parch      Fare  Embarked\n",
              "271          272         1       3    1    25      0      0    0.0000         2\n",
              "597          598         0       3    1    49      0      0    0.0000         2\n",
              "302          303         0       3    1    19      0      0    0.0000         2\n",
              "633          634         0       1    1  null      0      0    0.0000         2\n",
              "277          278         0       2    1  null      0      0    0.0000         2\n",
              "..           ...       ...     ...  ...   ...    ...    ...       ...       ...\n",
              "438          439         0       1    1    64      1      4  263.0000         2\n",
              "341          342         1       1    0    24      3      2  263.0000         2\n",
              "737          738         1       1    1    35      0      0  512.3292         0\n",
              "258          259         1       1    0    35      0      0  512.3292         0\n",
              "679          680         1       1    1    36      0      1  512.3292         0\n",
              "\n",
              "[891 rows x 9 columns]"
            ]
          },
          "metadata": {
            "tags": []
          },
          "execution_count": 146
        }
      ]
    },
    {
      "cell_type": "code",
      "metadata": {
        "colab": {
          "base_uri": "https://localhost:8080/",
          "height": 419
        },
        "id": "mjHyoOvEPZQ3",
        "outputId": "1e98df3f-33ad-44f4-a2ad-6f036d61d5b2"
      },
      "source": [
        "data"
      ],
      "execution_count": null,
      "outputs": [
        {
          "output_type": "execute_result",
          "data": {
            "text/html": [
              "<div>\n",
              "<style scoped>\n",
              "    .dataframe tbody tr th:only-of-type {\n",
              "        vertical-align: middle;\n",
              "    }\n",
              "\n",
              "    .dataframe tbody tr th {\n",
              "        vertical-align: top;\n",
              "    }\n",
              "\n",
              "    .dataframe thead th {\n",
              "        text-align: right;\n",
              "    }\n",
              "</style>\n",
              "<table border=\"1\" class=\"dataframe\">\n",
              "  <thead>\n",
              "    <tr style=\"text-align: right;\">\n",
              "      <th></th>\n",
              "      <th>PassengerId</th>\n",
              "      <th>Survived</th>\n",
              "      <th>Pclass</th>\n",
              "      <th>Sex</th>\n",
              "      <th>Age</th>\n",
              "      <th>SibSp</th>\n",
              "      <th>Parch</th>\n",
              "      <th>Fare</th>\n",
              "      <th>Embarked</th>\n",
              "    </tr>\n",
              "  </thead>\n",
              "  <tbody>\n",
              "    <tr>\n",
              "      <th>0</th>\n",
              "      <td>1</td>\n",
              "      <td>0</td>\n",
              "      <td>3</td>\n",
              "      <td>1</td>\n",
              "      <td>22</td>\n",
              "      <td>1</td>\n",
              "      <td>0</td>\n",
              "      <td>7.2500</td>\n",
              "      <td>2</td>\n",
              "    </tr>\n",
              "    <tr>\n",
              "      <th>1</th>\n",
              "      <td>2</td>\n",
              "      <td>1</td>\n",
              "      <td>1</td>\n",
              "      <td>0</td>\n",
              "      <td>38</td>\n",
              "      <td>1</td>\n",
              "      <td>0</td>\n",
              "      <td>71.2833</td>\n",
              "      <td>0</td>\n",
              "    </tr>\n",
              "    <tr>\n",
              "      <th>2</th>\n",
              "      <td>3</td>\n",
              "      <td>1</td>\n",
              "      <td>3</td>\n",
              "      <td>0</td>\n",
              "      <td>26</td>\n",
              "      <td>0</td>\n",
              "      <td>0</td>\n",
              "      <td>7.9250</td>\n",
              "      <td>2</td>\n",
              "    </tr>\n",
              "    <tr>\n",
              "      <th>3</th>\n",
              "      <td>4</td>\n",
              "      <td>1</td>\n",
              "      <td>1</td>\n",
              "      <td>0</td>\n",
              "      <td>35</td>\n",
              "      <td>1</td>\n",
              "      <td>0</td>\n",
              "      <td>53.1000</td>\n",
              "      <td>2</td>\n",
              "    </tr>\n",
              "    <tr>\n",
              "      <th>4</th>\n",
              "      <td>5</td>\n",
              "      <td>0</td>\n",
              "      <td>3</td>\n",
              "      <td>1</td>\n",
              "      <td>35</td>\n",
              "      <td>0</td>\n",
              "      <td>0</td>\n",
              "      <td>8.0500</td>\n",
              "      <td>2</td>\n",
              "    </tr>\n",
              "    <tr>\n",
              "      <th>...</th>\n",
              "      <td>...</td>\n",
              "      <td>...</td>\n",
              "      <td>...</td>\n",
              "      <td>...</td>\n",
              "      <td>...</td>\n",
              "      <td>...</td>\n",
              "      <td>...</td>\n",
              "      <td>...</td>\n",
              "      <td>...</td>\n",
              "    </tr>\n",
              "    <tr>\n",
              "      <th>886</th>\n",
              "      <td>887</td>\n",
              "      <td>0</td>\n",
              "      <td>2</td>\n",
              "      <td>1</td>\n",
              "      <td>27</td>\n",
              "      <td>0</td>\n",
              "      <td>0</td>\n",
              "      <td>13.0000</td>\n",
              "      <td>2</td>\n",
              "    </tr>\n",
              "    <tr>\n",
              "      <th>887</th>\n",
              "      <td>888</td>\n",
              "      <td>1</td>\n",
              "      <td>1</td>\n",
              "      <td>0</td>\n",
              "      <td>19</td>\n",
              "      <td>0</td>\n",
              "      <td>0</td>\n",
              "      <td>30.0000</td>\n",
              "      <td>2</td>\n",
              "    </tr>\n",
              "    <tr>\n",
              "      <th>888</th>\n",
              "      <td>889</td>\n",
              "      <td>0</td>\n",
              "      <td>3</td>\n",
              "      <td>0</td>\n",
              "      <td>null</td>\n",
              "      <td>1</td>\n",
              "      <td>2</td>\n",
              "      <td>23.4500</td>\n",
              "      <td>2</td>\n",
              "    </tr>\n",
              "    <tr>\n",
              "      <th>889</th>\n",
              "      <td>890</td>\n",
              "      <td>1</td>\n",
              "      <td>1</td>\n",
              "      <td>1</td>\n",
              "      <td>26</td>\n",
              "      <td>0</td>\n",
              "      <td>0</td>\n",
              "      <td>30.0000</td>\n",
              "      <td>0</td>\n",
              "    </tr>\n",
              "    <tr>\n",
              "      <th>890</th>\n",
              "      <td>891</td>\n",
              "      <td>0</td>\n",
              "      <td>3</td>\n",
              "      <td>1</td>\n",
              "      <td>32</td>\n",
              "      <td>0</td>\n",
              "      <td>0</td>\n",
              "      <td>7.7500</td>\n",
              "      <td>1</td>\n",
              "    </tr>\n",
              "  </tbody>\n",
              "</table>\n",
              "<p>891 rows × 9 columns</p>\n",
              "</div>"
            ],
            "text/plain": [
              "     PassengerId  Survived  Pclass  Sex   Age  SibSp  Parch     Fare  Embarked\n",
              "0              1         0       3    1    22      1      0   7.2500         2\n",
              "1              2         1       1    0    38      1      0  71.2833         0\n",
              "2              3         1       3    0    26      0      0   7.9250         2\n",
              "3              4         1       1    0    35      1      0  53.1000         2\n",
              "4              5         0       3    1    35      0      0   8.0500         2\n",
              "..           ...       ...     ...  ...   ...    ...    ...      ...       ...\n",
              "886          887         0       2    1    27      0      0  13.0000         2\n",
              "887          888         1       1    0    19      0      0  30.0000         2\n",
              "888          889         0       3    0  null      1      2  23.4500         2\n",
              "889          890         1       1    1    26      0      0  30.0000         0\n",
              "890          891         0       3    1    32      0      0   7.7500         1\n",
              "\n",
              "[891 rows x 9 columns]"
            ]
          },
          "metadata": {
            "tags": []
          },
          "execution_count": 147
        }
      ]
    },
    {
      "cell_type": "markdown",
      "metadata": {
        "id": "a_CBfaXUo5VQ"
      },
      "source": [
        "# EDA"
      ]
    },
    {
      "cell_type": "markdown",
      "metadata": {
        "id": "LYQIb-FQpoje"
      },
      "source": [
        "EDA(Exploratory Data Analysis)란 탐색적 데이터 분석을 의미하며 기초 통계량 및 시각화를 통해 데이터의 속성을 파악하는 것입니다.\n",
        "\n",
        "EDA에 정해진 프로세스는 없으며 데이터 분석 목적에 따라 자유롭게 진행하면 됩니다.\n",
        "\n",
        "실제 csv 파일을 임포트하여 pandas 활용 데이터 처리를 실습하겠습니다.\n",
        "\n",
        "pandas는 dataframe 형태의 데이터를 처리할 수 있는 다양한 기능을 제공하는 패키지입니다."
      ]
    },
    {
      "cell_type": "markdown",
      "metadata": {
        "id": "rZH-pccGrNkr"
      },
      "source": [
        "Kaggle의 보험 관련 데이터를 가지고 EDA 실습을 진행하겠습니다."
      ]
    },
    {
      "cell_type": "markdown",
      "metadata": {
        "id": "Iba-H9cq7FTt"
      },
      "source": [
        "데이터 출처: https://www.kaggle.com/sonujha090/insurance-prediction"
      ]
    },
    {
      "cell_type": "markdown",
      "metadata": {
        "id": "EMTxmER9wl4N"
      },
      "source": [
        "### 패키지 및 데이터 임포트"
      ]
    },
    {
      "cell_type": "code",
      "metadata": {
        "id": "p6Mm4-e1o4Rd"
      },
      "source": [
        "import numpy as np \n",
        "import pandas as pd \n",
        "import os\n",
        "import matplotlib.pyplot as pl\n",
        "import seaborn as sns\n",
        "import warnings\n",
        "warnings.filterwarnings('ignore')"
      ],
      "execution_count": null,
      "outputs": []
    },
    {
      "cell_type": "code",
      "metadata": {
        "colab": {
          "base_uri": "https://localhost:8080/"
        },
        "id": "O8i52-nSBmrO",
        "outputId": "41d824f1-91e3-4773-e643-df094495ab47"
      },
      "source": [
        "! pip install --user --upgrade pip"
      ],
      "execution_count": null,
      "outputs": [
        {
          "output_type": "stream",
          "name": "stdout",
          "text": [
            "Requirement already satisfied: pip in /root/.local/lib/python3.7/site-packages (21.3.1)\n",
            "\u001b[33mWARNING: Running pip as the 'root' user can result in broken permissions and conflicting behaviour with the system package manager. It is recommended to use a virtual environment instead: https://pip.pypa.io/warnings/venv\u001b[0m\n"
          ]
        }
      ]
    },
    {
      "cell_type": "code",
      "metadata": {
        "scrolled": true,
        "colab": {
          "base_uri": "https://localhost:8080/"
        },
        "id": "-GqZKVu4BmrO",
        "outputId": "ab85768e-8599-48a2-d8df-6df8e548c347"
      },
      "source": [
        "! pip install pandas\n",
        "! pip install matplotlib\n",
        "! pip install sklearn\n",
        "! pip install --user seaborn\n",
        "! pip install googledrivedownloader"
      ],
      "execution_count": null,
      "outputs": [
        {
          "output_type": "stream",
          "name": "stdout",
          "text": [
            "Requirement already satisfied: pandas in /usr/local/lib/python3.7/dist-packages (1.1.5)\n",
            "Requirement already satisfied: numpy>=1.15.4 in /usr/local/lib/python3.7/dist-packages (from pandas) (1.19.5)\n",
            "Requirement already satisfied: pytz>=2017.2 in /usr/local/lib/python3.7/dist-packages (from pandas) (2018.9)\n",
            "Requirement already satisfied: python-dateutil>=2.7.3 in /usr/local/lib/python3.7/dist-packages (from pandas) (2.8.2)\n",
            "Requirement already satisfied: six>=1.5 in /usr/local/lib/python3.7/dist-packages (from python-dateutil>=2.7.3->pandas) (1.15.0)\n",
            "\u001b[33mWARNING: Running pip as the 'root' user can result in broken permissions and conflicting behaviour with the system package manager. It is recommended to use a virtual environment instead: https://pip.pypa.io/warnings/venv\u001b[0m\n",
            "Requirement already satisfied: matplotlib in /usr/local/lib/python3.7/dist-packages (3.2.2)\n",
            "Requirement already satisfied: cycler>=0.10 in /usr/local/lib/python3.7/dist-packages (from matplotlib) (0.11.0)\n",
            "Requirement already satisfied: python-dateutil>=2.1 in /usr/local/lib/python3.7/dist-packages (from matplotlib) (2.8.2)\n",
            "Requirement already satisfied: numpy>=1.11 in /usr/local/lib/python3.7/dist-packages (from matplotlib) (1.19.5)\n",
            "Requirement already satisfied: kiwisolver>=1.0.1 in /usr/local/lib/python3.7/dist-packages (from matplotlib) (1.3.2)\n",
            "Requirement already satisfied: pyparsing!=2.0.4,!=2.1.2,!=2.1.6,>=2.0.1 in /usr/local/lib/python3.7/dist-packages (from matplotlib) (3.0.6)\n",
            "Requirement already satisfied: six>=1.5 in /usr/local/lib/python3.7/dist-packages (from python-dateutil>=2.1->matplotlib) (1.15.0)\n",
            "\u001b[33mWARNING: Running pip as the 'root' user can result in broken permissions and conflicting behaviour with the system package manager. It is recommended to use a virtual environment instead: https://pip.pypa.io/warnings/venv\u001b[0m\n",
            "Requirement already satisfied: sklearn in /usr/local/lib/python3.7/dist-packages (0.0)\n",
            "Requirement already satisfied: scikit-learn in /usr/local/lib/python3.7/dist-packages (from sklearn) (1.0.1)\n",
            "Requirement already satisfied: scipy>=1.1.0 in /usr/local/lib/python3.7/dist-packages (from scikit-learn->sklearn) (1.4.1)\n",
            "Requirement already satisfied: threadpoolctl>=2.0.0 in /usr/local/lib/python3.7/dist-packages (from scikit-learn->sklearn) (3.0.0)\n",
            "Requirement already satisfied: numpy>=1.14.6 in /usr/local/lib/python3.7/dist-packages (from scikit-learn->sklearn) (1.19.5)\n",
            "Requirement already satisfied: joblib>=0.11 in /usr/local/lib/python3.7/dist-packages (from scikit-learn->sklearn) (1.1.0)\n",
            "\u001b[33mWARNING: Running pip as the 'root' user can result in broken permissions and conflicting behaviour with the system package manager. It is recommended to use a virtual environment instead: https://pip.pypa.io/warnings/venv\u001b[0m\n",
            "Requirement already satisfied: seaborn in /usr/local/lib/python3.7/dist-packages (0.11.2)\n",
            "Requirement already satisfied: numpy>=1.15 in /usr/local/lib/python3.7/dist-packages (from seaborn) (1.19.5)\n",
            "Requirement already satisfied: scipy>=1.0 in /usr/local/lib/python3.7/dist-packages (from seaborn) (1.4.1)\n",
            "Requirement already satisfied: matplotlib>=2.2 in /usr/local/lib/python3.7/dist-packages (from seaborn) (3.2.2)\n",
            "Requirement already satisfied: pandas>=0.23 in /usr/local/lib/python3.7/dist-packages (from seaborn) (1.1.5)\n",
            "Requirement already satisfied: python-dateutil>=2.1 in /usr/local/lib/python3.7/dist-packages (from matplotlib>=2.2->seaborn) (2.8.2)\n",
            "Requirement already satisfied: kiwisolver>=1.0.1 in /usr/local/lib/python3.7/dist-packages (from matplotlib>=2.2->seaborn) (1.3.2)\n",
            "Requirement already satisfied: cycler>=0.10 in /usr/local/lib/python3.7/dist-packages (from matplotlib>=2.2->seaborn) (0.11.0)\n",
            "Requirement already satisfied: pyparsing!=2.0.4,!=2.1.2,!=2.1.6,>=2.0.1 in /usr/local/lib/python3.7/dist-packages (from matplotlib>=2.2->seaborn) (3.0.6)\n",
            "Requirement already satisfied: pytz>=2017.2 in /usr/local/lib/python3.7/dist-packages (from pandas>=0.23->seaborn) (2018.9)\n",
            "Requirement already satisfied: six>=1.5 in /usr/local/lib/python3.7/dist-packages (from python-dateutil>=2.1->matplotlib>=2.2->seaborn) (1.15.0)\n",
            "\u001b[33mWARNING: Running pip as the 'root' user can result in broken permissions and conflicting behaviour with the system package manager. It is recommended to use a virtual environment instead: https://pip.pypa.io/warnings/venv\u001b[0m\n",
            "Requirement already satisfied: googledrivedownloader in /usr/local/lib/python3.7/dist-packages (0.4)\n",
            "\u001b[33mWARNING: Running pip as the 'root' user can result in broken permissions and conflicting behaviour with the system package manager. It is recommended to use a virtual environment instead: https://pip.pypa.io/warnings/venv\u001b[0m\n"
          ]
        }
      ]
    },
    {
      "cell_type": "code",
      "metadata": {
        "id": "ogF8uZ6GqnLn"
      },
      "source": [
        "import pandas as pd\n",
        "from google_drive_downloader import GoogleDriveDownloader as gdd"
      ],
      "execution_count": null,
      "outputs": []
    },
    {
      "cell_type": "code",
      "metadata": {
        "id": "aP6CJTxvqnwa"
      },
      "source": [
        "gdd.download_file_from_google_drive(file_id='1O23YvOgZOdMRVXYG_IpIkCjpHBqU62id',\n",
        "                                    dest_path='example_data/insurance.zip',\n",
        "                                    unzip=True)"
      ],
      "execution_count": null,
      "outputs": []
    },
    {
      "cell_type": "code",
      "metadata": {
        "id": "PI2vNtyrrNku"
      },
      "source": [
        "data = pd.read_csv('example_data/insurance.csv')"
      ],
      "execution_count": null,
      "outputs": []
    },
    {
      "cell_type": "code",
      "metadata": {
        "colab": {
          "base_uri": "https://localhost:8080/",
          "height": 206
        },
        "id": "0PdUNkEDrNkv",
        "scrolled": true,
        "outputId": "6de9d8ad-8141-4921-822e-3412d24b27bb"
      },
      "source": [
        "data.head()"
      ],
      "execution_count": null,
      "outputs": [
        {
          "output_type": "execute_result",
          "data": {
            "text/html": [
              "<div>\n",
              "<style scoped>\n",
              "    .dataframe tbody tr th:only-of-type {\n",
              "        vertical-align: middle;\n",
              "    }\n",
              "\n",
              "    .dataframe tbody tr th {\n",
              "        vertical-align: top;\n",
              "    }\n",
              "\n",
              "    .dataframe thead th {\n",
              "        text-align: right;\n",
              "    }\n",
              "</style>\n",
              "<table border=\"1\" class=\"dataframe\">\n",
              "  <thead>\n",
              "    <tr style=\"text-align: right;\">\n",
              "      <th></th>\n",
              "      <th>age</th>\n",
              "      <th>sex</th>\n",
              "      <th>bmi</th>\n",
              "      <th>children</th>\n",
              "      <th>smoker</th>\n",
              "      <th>region</th>\n",
              "      <th>charges</th>\n",
              "    </tr>\n",
              "  </thead>\n",
              "  <tbody>\n",
              "    <tr>\n",
              "      <th>0</th>\n",
              "      <td>19</td>\n",
              "      <td>female</td>\n",
              "      <td>27.900</td>\n",
              "      <td>0</td>\n",
              "      <td>yes</td>\n",
              "      <td>southwest</td>\n",
              "      <td>16884.92400</td>\n",
              "    </tr>\n",
              "    <tr>\n",
              "      <th>1</th>\n",
              "      <td>18</td>\n",
              "      <td>male</td>\n",
              "      <td>33.770</td>\n",
              "      <td>1</td>\n",
              "      <td>no</td>\n",
              "      <td>southeast</td>\n",
              "      <td>1725.55230</td>\n",
              "    </tr>\n",
              "    <tr>\n",
              "      <th>2</th>\n",
              "      <td>28</td>\n",
              "      <td>male</td>\n",
              "      <td>33.000</td>\n",
              "      <td>3</td>\n",
              "      <td>no</td>\n",
              "      <td>southeast</td>\n",
              "      <td>4449.46200</td>\n",
              "    </tr>\n",
              "    <tr>\n",
              "      <th>3</th>\n",
              "      <td>33</td>\n",
              "      <td>male</td>\n",
              "      <td>22.705</td>\n",
              "      <td>0</td>\n",
              "      <td>no</td>\n",
              "      <td>northwest</td>\n",
              "      <td>21984.47061</td>\n",
              "    </tr>\n",
              "    <tr>\n",
              "      <th>4</th>\n",
              "      <td>32</td>\n",
              "      <td>male</td>\n",
              "      <td>28.880</td>\n",
              "      <td>0</td>\n",
              "      <td>no</td>\n",
              "      <td>northwest</td>\n",
              "      <td>3866.85520</td>\n",
              "    </tr>\n",
              "  </tbody>\n",
              "</table>\n",
              "</div>"
            ],
            "text/plain": [
              "   age     sex     bmi  children smoker     region      charges\n",
              "0   19  female  27.900         0    yes  southwest  16884.92400\n",
              "1   18    male  33.770         1     no  southeast   1725.55230\n",
              "2   28    male  33.000         3     no  southeast   4449.46200\n",
              "3   33    male  22.705         0     no  northwest  21984.47061\n",
              "4   32    male  28.880         0     no  northwest   3866.85520"
            ]
          },
          "metadata": {},
          "execution_count": 248
        }
      ]
    },
    {
      "cell_type": "code",
      "metadata": {
        "colab": {
          "base_uri": "https://localhost:8080/",
          "height": 423
        },
        "id": "XDb5n0LS-xC1",
        "outputId": "b5f94448-1d90-4b43-e4b8-e5310dbda717"
      },
      "source": [
        "data"
      ],
      "execution_count": null,
      "outputs": [
        {
          "output_type": "execute_result",
          "data": {
            "text/html": [
              "<div>\n",
              "<style scoped>\n",
              "    .dataframe tbody tr th:only-of-type {\n",
              "        vertical-align: middle;\n",
              "    }\n",
              "\n",
              "    .dataframe tbody tr th {\n",
              "        vertical-align: top;\n",
              "    }\n",
              "\n",
              "    .dataframe thead th {\n",
              "        text-align: right;\n",
              "    }\n",
              "</style>\n",
              "<table border=\"1\" class=\"dataframe\">\n",
              "  <thead>\n",
              "    <tr style=\"text-align: right;\">\n",
              "      <th></th>\n",
              "      <th>age</th>\n",
              "      <th>sex</th>\n",
              "      <th>bmi</th>\n",
              "      <th>children</th>\n",
              "      <th>smoker</th>\n",
              "      <th>region</th>\n",
              "      <th>charges</th>\n",
              "    </tr>\n",
              "  </thead>\n",
              "  <tbody>\n",
              "    <tr>\n",
              "      <th>0</th>\n",
              "      <td>19</td>\n",
              "      <td>female</td>\n",
              "      <td>27.900</td>\n",
              "      <td>0</td>\n",
              "      <td>yes</td>\n",
              "      <td>southwest</td>\n",
              "      <td>16884.92400</td>\n",
              "    </tr>\n",
              "    <tr>\n",
              "      <th>1</th>\n",
              "      <td>18</td>\n",
              "      <td>male</td>\n",
              "      <td>33.770</td>\n",
              "      <td>1</td>\n",
              "      <td>no</td>\n",
              "      <td>southeast</td>\n",
              "      <td>1725.55230</td>\n",
              "    </tr>\n",
              "    <tr>\n",
              "      <th>2</th>\n",
              "      <td>28</td>\n",
              "      <td>male</td>\n",
              "      <td>33.000</td>\n",
              "      <td>3</td>\n",
              "      <td>no</td>\n",
              "      <td>southeast</td>\n",
              "      <td>4449.46200</td>\n",
              "    </tr>\n",
              "    <tr>\n",
              "      <th>3</th>\n",
              "      <td>33</td>\n",
              "      <td>male</td>\n",
              "      <td>22.705</td>\n",
              "      <td>0</td>\n",
              "      <td>no</td>\n",
              "      <td>northwest</td>\n",
              "      <td>21984.47061</td>\n",
              "    </tr>\n",
              "    <tr>\n",
              "      <th>4</th>\n",
              "      <td>32</td>\n",
              "      <td>male</td>\n",
              "      <td>28.880</td>\n",
              "      <td>0</td>\n",
              "      <td>no</td>\n",
              "      <td>northwest</td>\n",
              "      <td>3866.85520</td>\n",
              "    </tr>\n",
              "    <tr>\n",
              "      <th>...</th>\n",
              "      <td>...</td>\n",
              "      <td>...</td>\n",
              "      <td>...</td>\n",
              "      <td>...</td>\n",
              "      <td>...</td>\n",
              "      <td>...</td>\n",
              "      <td>...</td>\n",
              "    </tr>\n",
              "    <tr>\n",
              "      <th>1333</th>\n",
              "      <td>50</td>\n",
              "      <td>male</td>\n",
              "      <td>30.970</td>\n",
              "      <td>3</td>\n",
              "      <td>no</td>\n",
              "      <td>northwest</td>\n",
              "      <td>10600.54830</td>\n",
              "    </tr>\n",
              "    <tr>\n",
              "      <th>1334</th>\n",
              "      <td>18</td>\n",
              "      <td>female</td>\n",
              "      <td>31.920</td>\n",
              "      <td>0</td>\n",
              "      <td>no</td>\n",
              "      <td>northeast</td>\n",
              "      <td>2205.98080</td>\n",
              "    </tr>\n",
              "    <tr>\n",
              "      <th>1335</th>\n",
              "      <td>18</td>\n",
              "      <td>female</td>\n",
              "      <td>36.850</td>\n",
              "      <td>0</td>\n",
              "      <td>no</td>\n",
              "      <td>southeast</td>\n",
              "      <td>1629.83350</td>\n",
              "    </tr>\n",
              "    <tr>\n",
              "      <th>1336</th>\n",
              "      <td>21</td>\n",
              "      <td>female</td>\n",
              "      <td>25.800</td>\n",
              "      <td>0</td>\n",
              "      <td>no</td>\n",
              "      <td>southwest</td>\n",
              "      <td>2007.94500</td>\n",
              "    </tr>\n",
              "    <tr>\n",
              "      <th>1337</th>\n",
              "      <td>61</td>\n",
              "      <td>female</td>\n",
              "      <td>29.070</td>\n",
              "      <td>0</td>\n",
              "      <td>yes</td>\n",
              "      <td>northwest</td>\n",
              "      <td>29141.36030</td>\n",
              "    </tr>\n",
              "  </tbody>\n",
              "</table>\n",
              "<p>1338 rows × 7 columns</p>\n",
              "</div>"
            ],
            "text/plain": [
              "      age     sex     bmi  children smoker     region      charges\n",
              "0      19  female  27.900         0    yes  southwest  16884.92400\n",
              "1      18    male  33.770         1     no  southeast   1725.55230\n",
              "2      28    male  33.000         3     no  southeast   4449.46200\n",
              "3      33    male  22.705         0     no  northwest  21984.47061\n",
              "4      32    male  28.880         0     no  northwest   3866.85520\n",
              "...   ...     ...     ...       ...    ...        ...          ...\n",
              "1333   50    male  30.970         3     no  northwest  10600.54830\n",
              "1334   18  female  31.920         0     no  northeast   2205.98080\n",
              "1335   18  female  36.850         0     no  southeast   1629.83350\n",
              "1336   21  female  25.800         0     no  southwest   2007.94500\n",
              "1337   61  female  29.070         0    yes  northwest  29141.36030\n",
              "\n",
              "[1338 rows x 7 columns]"
            ]
          },
          "metadata": {},
          "execution_count": 249
        }
      ]
    },
    {
      "cell_type": "markdown",
      "metadata": {
        "id": "5QZp5IuxrNkw"
      },
      "source": [
        " - age: 나이\n",
        " \n",
        " \n",
        " - sex: 성별\n",
        " \n",
        " \n",
        " - bmi: 비만지수\n",
        " \n",
        " \n",
        " - children: 자녀 수\n",
        " \n",
        " \n",
        " - smoker: 흡연자\n",
        " \n",
        " \n",
        " - region: 지역\n",
        " \n",
        " \n",
        " - charges: 보험금"
      ]
    },
    {
      "cell_type": "code",
      "metadata": {
        "colab": {
          "base_uri": "https://localhost:8080/",
          "height": 423
        },
        "id": "n3QjzRe5KCJ3",
        "outputId": "49f70530-53da-4613-9ef0-16d0b869979c"
      },
      "source": [
        "data.isnull() #결측치 여부 확인"
      ],
      "execution_count": null,
      "outputs": [
        {
          "output_type": "execute_result",
          "data": {
            "text/html": [
              "<div>\n",
              "<style scoped>\n",
              "    .dataframe tbody tr th:only-of-type {\n",
              "        vertical-align: middle;\n",
              "    }\n",
              "\n",
              "    .dataframe tbody tr th {\n",
              "        vertical-align: top;\n",
              "    }\n",
              "\n",
              "    .dataframe thead th {\n",
              "        text-align: right;\n",
              "    }\n",
              "</style>\n",
              "<table border=\"1\" class=\"dataframe\">\n",
              "  <thead>\n",
              "    <tr style=\"text-align: right;\">\n",
              "      <th></th>\n",
              "      <th>age</th>\n",
              "      <th>sex</th>\n",
              "      <th>bmi</th>\n",
              "      <th>children</th>\n",
              "      <th>smoker</th>\n",
              "      <th>region</th>\n",
              "      <th>charges</th>\n",
              "    </tr>\n",
              "  </thead>\n",
              "  <tbody>\n",
              "    <tr>\n",
              "      <th>0</th>\n",
              "      <td>False</td>\n",
              "      <td>False</td>\n",
              "      <td>False</td>\n",
              "      <td>False</td>\n",
              "      <td>False</td>\n",
              "      <td>False</td>\n",
              "      <td>False</td>\n",
              "    </tr>\n",
              "    <tr>\n",
              "      <th>1</th>\n",
              "      <td>False</td>\n",
              "      <td>False</td>\n",
              "      <td>False</td>\n",
              "      <td>False</td>\n",
              "      <td>False</td>\n",
              "      <td>False</td>\n",
              "      <td>False</td>\n",
              "    </tr>\n",
              "    <tr>\n",
              "      <th>2</th>\n",
              "      <td>False</td>\n",
              "      <td>False</td>\n",
              "      <td>False</td>\n",
              "      <td>False</td>\n",
              "      <td>False</td>\n",
              "      <td>False</td>\n",
              "      <td>False</td>\n",
              "    </tr>\n",
              "    <tr>\n",
              "      <th>3</th>\n",
              "      <td>False</td>\n",
              "      <td>False</td>\n",
              "      <td>False</td>\n",
              "      <td>False</td>\n",
              "      <td>False</td>\n",
              "      <td>False</td>\n",
              "      <td>False</td>\n",
              "    </tr>\n",
              "    <tr>\n",
              "      <th>4</th>\n",
              "      <td>False</td>\n",
              "      <td>False</td>\n",
              "      <td>False</td>\n",
              "      <td>False</td>\n",
              "      <td>False</td>\n",
              "      <td>False</td>\n",
              "      <td>False</td>\n",
              "    </tr>\n",
              "    <tr>\n",
              "      <th>...</th>\n",
              "      <td>...</td>\n",
              "      <td>...</td>\n",
              "      <td>...</td>\n",
              "      <td>...</td>\n",
              "      <td>...</td>\n",
              "      <td>...</td>\n",
              "      <td>...</td>\n",
              "    </tr>\n",
              "    <tr>\n",
              "      <th>1333</th>\n",
              "      <td>False</td>\n",
              "      <td>False</td>\n",
              "      <td>False</td>\n",
              "      <td>False</td>\n",
              "      <td>False</td>\n",
              "      <td>False</td>\n",
              "      <td>False</td>\n",
              "    </tr>\n",
              "    <tr>\n",
              "      <th>1334</th>\n",
              "      <td>False</td>\n",
              "      <td>False</td>\n",
              "      <td>False</td>\n",
              "      <td>False</td>\n",
              "      <td>False</td>\n",
              "      <td>False</td>\n",
              "      <td>False</td>\n",
              "    </tr>\n",
              "    <tr>\n",
              "      <th>1335</th>\n",
              "      <td>False</td>\n",
              "      <td>False</td>\n",
              "      <td>False</td>\n",
              "      <td>False</td>\n",
              "      <td>False</td>\n",
              "      <td>False</td>\n",
              "      <td>False</td>\n",
              "    </tr>\n",
              "    <tr>\n",
              "      <th>1336</th>\n",
              "      <td>False</td>\n",
              "      <td>False</td>\n",
              "      <td>False</td>\n",
              "      <td>False</td>\n",
              "      <td>False</td>\n",
              "      <td>False</td>\n",
              "      <td>False</td>\n",
              "    </tr>\n",
              "    <tr>\n",
              "      <th>1337</th>\n",
              "      <td>False</td>\n",
              "      <td>False</td>\n",
              "      <td>False</td>\n",
              "      <td>False</td>\n",
              "      <td>False</td>\n",
              "      <td>False</td>\n",
              "      <td>False</td>\n",
              "    </tr>\n",
              "  </tbody>\n",
              "</table>\n",
              "<p>1338 rows × 7 columns</p>\n",
              "</div>"
            ],
            "text/plain": [
              "        age    sex    bmi  children  smoker  region  charges\n",
              "0     False  False  False     False   False   False    False\n",
              "1     False  False  False     False   False   False    False\n",
              "2     False  False  False     False   False   False    False\n",
              "3     False  False  False     False   False   False    False\n",
              "4     False  False  False     False   False   False    False\n",
              "...     ...    ...    ...       ...     ...     ...      ...\n",
              "1333  False  False  False     False   False   False    False\n",
              "1334  False  False  False     False   False   False    False\n",
              "1335  False  False  False     False   False   False    False\n",
              "1336  False  False  False     False   False   False    False\n",
              "1337  False  False  False     False   False   False    False\n",
              "\n",
              "[1338 rows x 7 columns]"
            ]
          },
          "metadata": {},
          "execution_count": 250
        }
      ]
    },
    {
      "cell_type": "code",
      "metadata": {
        "colab": {
          "base_uri": "https://localhost:8080/"
        },
        "id": "pYE6Ewp3rNkx",
        "outputId": "9feae7cd-f793-4420-d184-c725b5a6e9d2"
      },
      "source": [
        "data.isnull().sum() #칼럼별 결측치 개수 확인"
      ],
      "execution_count": null,
      "outputs": [
        {
          "output_type": "execute_result",
          "data": {
            "text/plain": [
              "age         0\n",
              "sex         0\n",
              "bmi         0\n",
              "children    0\n",
              "smoker      0\n",
              "region      0\n",
              "charges     0\n",
              "dtype: int64"
            ]
          },
          "metadata": {},
          "execution_count": 251
        }
      ]
    },
    {
      "cell_type": "markdown",
      "metadata": {
        "id": "19TGYELirNky"
      },
      "source": [
        "본 실습에서는 정제된 데이터를 쓰기 때문에 결측치가 없지만 실제 raw 데이터에서는 <br> 결측치가 있는 경우가 많기 때문에 반드시 이를 처리해야 합니다."
      ]
    },
    {
      "cell_type": "markdown",
      "metadata": {
        "id": "8qhw76NqrNky"
      },
      "source": [
        "### 결측치 및 중복 데이터 처리"
      ]
    },
    {
      "cell_type": "markdown",
      "metadata": {
        "id": "s3anB3l6rNky"
      },
      "source": [
        "경우에 따라 Pandas 내의 기능인 drop 혹은 fillna 코드를 활용하는 것이 가능합니다.\n",
        "\n",
        "데이터 특성을 충분히 파악한 다음 결측치를 어떻게 처리할 지 정해야 합니다."
      ]
    },
    {
      "cell_type": "code",
      "metadata": {
        "id": "_CkQsC-yxGQo",
        "colab": {
          "base_uri": "https://localhost:8080/",
          "height": 35
        },
        "outputId": "5f986591-55e1-455c-f38f-706550c2c706"
      },
      "source": [
        "\"\"\"\n",
        "data.dropna() #결측치 제거\n",
        "\n",
        "data.dropna(how = 'all') #모든 데이터값이 결측치일 경우 제거\n",
        "\n",
        "data[data.isnull().any(axis=1)] #결측치 데이터만 할당\n",
        "\"\"\""
      ],
      "execution_count": null,
      "outputs": [
        {
          "output_type": "execute_result",
          "data": {
            "application/vnd.google.colaboratory.intrinsic+json": {
              "type": "string"
            },
            "text/plain": [
              "\"\\ndata.dropna()\\n\\ndata.dropna(how = 'all')\\n\\ndata[data.isnull().any(axis=1)]\\n\""
            ]
          },
          "metadata": {
            "tags": []
          },
          "execution_count": 10
        }
      ]
    },
    {
      "cell_type": "code",
      "metadata": {
        "id": "13d7w-kHxLll",
        "colab": {
          "base_uri": "https://localhost:8080/",
          "height": 35
        },
        "outputId": "360cfdd8-c9e2-4671-ec8a-caee086233e7"
      },
      "source": [
        "\"\"\"\n",
        "df.fillna(0) #결측치 대체\n",
        "\n",
        "df.fillna(df.mean()) #결측치를 해당 칼럼의 평균값으로 대체\n",
        "\"\"\""
      ],
      "execution_count": null,
      "outputs": [
        {
          "output_type": "execute_result",
          "data": {
            "application/vnd.google.colaboratory.intrinsic+json": {
              "type": "string"
            },
            "text/plain": [
              "'\\ndf.fillna(0)\\n\\ndf.fillna(df.mean())\\n'"
            ]
          },
          "metadata": {
            "tags": []
          },
          "execution_count": 11
        }
      ]
    },
    {
      "cell_type": "markdown",
      "metadata": {
        "id": "ItfhtudQrNkz"
      },
      "source": [
        "결측치 처리와 같은 맥락으로 중복 데이터 또한 필요에 따라 처리해야 합니다.\n",
        "\n",
        "일반적으로 pandas의 drop_duplicates() 기능을 사용합니다."
      ]
    },
    {
      "cell_type": "code",
      "metadata": {
        "colab": {
          "base_uri": "https://localhost:8080/"
        },
        "id": "QN1H0WggrNk0",
        "outputId": "8e5d3ad1-d1c7-4f4b-ce3a-49e40e640925"
      },
      "source": [
        "data.duplicated().sum() #중복 데이터 개수 확인"
      ],
      "execution_count": null,
      "outputs": [
        {
          "output_type": "execute_result",
          "data": {
            "text/plain": [
              "1"
            ]
          },
          "metadata": {},
          "execution_count": 252
        }
      ]
    },
    {
      "cell_type": "markdown",
      "metadata": {
        "id": "bhv4oA8TrNk0"
      },
      "source": [
        "본 데이터의 경우 중복 데이터가 1개 있으므로 이를 제거해야 합니다."
      ]
    },
    {
      "cell_type": "code",
      "metadata": {
        "id": "ngxWCPLdrNk1"
      },
      "source": [
        "data = data.drop_duplicates() #중복 데이터 제거"
      ],
      "execution_count": null,
      "outputs": []
    },
    {
      "cell_type": "markdown",
      "metadata": {
        "id": "iSy88yG6rNk1"
      },
      "source": [
        "### 명목 데이터 변환"
      ]
    },
    {
      "cell_type": "code",
      "metadata": {
        "colab": {
          "base_uri": "https://localhost:8080/",
          "height": 206
        },
        "id": "M22xD0bbrNk1",
        "outputId": "db9e4e35-a139-4d93-fa7b-83f7bca8c404"
      },
      "source": [
        "data.head()"
      ],
      "execution_count": null,
      "outputs": [
        {
          "output_type": "execute_result",
          "data": {
            "text/html": [
              "<div>\n",
              "<style scoped>\n",
              "    .dataframe tbody tr th:only-of-type {\n",
              "        vertical-align: middle;\n",
              "    }\n",
              "\n",
              "    .dataframe tbody tr th {\n",
              "        vertical-align: top;\n",
              "    }\n",
              "\n",
              "    .dataframe thead th {\n",
              "        text-align: right;\n",
              "    }\n",
              "</style>\n",
              "<table border=\"1\" class=\"dataframe\">\n",
              "  <thead>\n",
              "    <tr style=\"text-align: right;\">\n",
              "      <th></th>\n",
              "      <th>age</th>\n",
              "      <th>sex</th>\n",
              "      <th>bmi</th>\n",
              "      <th>children</th>\n",
              "      <th>smoker</th>\n",
              "      <th>region</th>\n",
              "      <th>charges</th>\n",
              "    </tr>\n",
              "  </thead>\n",
              "  <tbody>\n",
              "    <tr>\n",
              "      <th>0</th>\n",
              "      <td>19</td>\n",
              "      <td>female</td>\n",
              "      <td>27.900</td>\n",
              "      <td>0</td>\n",
              "      <td>yes</td>\n",
              "      <td>southwest</td>\n",
              "      <td>16884.92400</td>\n",
              "    </tr>\n",
              "    <tr>\n",
              "      <th>1</th>\n",
              "      <td>18</td>\n",
              "      <td>male</td>\n",
              "      <td>33.770</td>\n",
              "      <td>1</td>\n",
              "      <td>no</td>\n",
              "      <td>southeast</td>\n",
              "      <td>1725.55230</td>\n",
              "    </tr>\n",
              "    <tr>\n",
              "      <th>2</th>\n",
              "      <td>28</td>\n",
              "      <td>male</td>\n",
              "      <td>33.000</td>\n",
              "      <td>3</td>\n",
              "      <td>no</td>\n",
              "      <td>southeast</td>\n",
              "      <td>4449.46200</td>\n",
              "    </tr>\n",
              "    <tr>\n",
              "      <th>3</th>\n",
              "      <td>33</td>\n",
              "      <td>male</td>\n",
              "      <td>22.705</td>\n",
              "      <td>0</td>\n",
              "      <td>no</td>\n",
              "      <td>northwest</td>\n",
              "      <td>21984.47061</td>\n",
              "    </tr>\n",
              "    <tr>\n",
              "      <th>4</th>\n",
              "      <td>32</td>\n",
              "      <td>male</td>\n",
              "      <td>28.880</td>\n",
              "      <td>0</td>\n",
              "      <td>no</td>\n",
              "      <td>northwest</td>\n",
              "      <td>3866.85520</td>\n",
              "    </tr>\n",
              "  </tbody>\n",
              "</table>\n",
              "</div>"
            ],
            "text/plain": [
              "   age     sex     bmi  children smoker     region      charges\n",
              "0   19  female  27.900         0    yes  southwest  16884.92400\n",
              "1   18    male  33.770         1     no  southeast   1725.55230\n",
              "2   28    male  33.000         3     no  southeast   4449.46200\n",
              "3   33    male  22.705         0     no  northwest  21984.47061\n",
              "4   32    male  28.880         0     no  northwest   3866.85520"
            ]
          },
          "metadata": {},
          "execution_count": 254
        }
      ]
    },
    {
      "cell_type": "markdown",
      "metadata": {
        "id": "OqBDem0grNk2"
      },
      "source": [
        "명목 데이터란 위의 데이터프레임에서 sex, smoker, region과 같은 데이터를 의미합니다.\n",
        "\n",
        "이에 대한 데이터를 숫자로 변환해야 수월하게 시각화 및 모델링 등의 분석을 수행할 수 있습니다."
      ]
    },
    {
      "cell_type": "code",
      "metadata": {
        "id": "ZUYmF9G1rNk2"
      },
      "source": [
        "from sklearn.preprocessing import LabelEncoder\n",
        "\n",
        "le = LabelEncoder()\n",
        "le.fit(data.sex) \n",
        "data.sex = le.transform(data.sex)\n",
        "\n",
        "le.fit(data.smoker) \n",
        "data.smoker = le.transform(data.smoker)\n",
        "\n",
        "le.fit(data.region) \n",
        "data.region = le.transform(data.region)"
      ],
      "execution_count": null,
      "outputs": []
    },
    {
      "cell_type": "code",
      "metadata": {
        "colab": {
          "base_uri": "https://localhost:8080/",
          "height": 206
        },
        "id": "4vZLIBnPrNk2",
        "outputId": "bbc062db-9bb1-463b-95cf-d520acf1eaf3"
      },
      "source": [
        "data.head()"
      ],
      "execution_count": null,
      "outputs": [
        {
          "output_type": "execute_result",
          "data": {
            "text/html": [
              "<div>\n",
              "<style scoped>\n",
              "    .dataframe tbody tr th:only-of-type {\n",
              "        vertical-align: middle;\n",
              "    }\n",
              "\n",
              "    .dataframe tbody tr th {\n",
              "        vertical-align: top;\n",
              "    }\n",
              "\n",
              "    .dataframe thead th {\n",
              "        text-align: right;\n",
              "    }\n",
              "</style>\n",
              "<table border=\"1\" class=\"dataframe\">\n",
              "  <thead>\n",
              "    <tr style=\"text-align: right;\">\n",
              "      <th></th>\n",
              "      <th>age</th>\n",
              "      <th>sex</th>\n",
              "      <th>bmi</th>\n",
              "      <th>children</th>\n",
              "      <th>smoker</th>\n",
              "      <th>region</th>\n",
              "      <th>charges</th>\n",
              "    </tr>\n",
              "  </thead>\n",
              "  <tbody>\n",
              "    <tr>\n",
              "      <th>0</th>\n",
              "      <td>19</td>\n",
              "      <td>0</td>\n",
              "      <td>27.900</td>\n",
              "      <td>0</td>\n",
              "      <td>1</td>\n",
              "      <td>3</td>\n",
              "      <td>16884.92400</td>\n",
              "    </tr>\n",
              "    <tr>\n",
              "      <th>1</th>\n",
              "      <td>18</td>\n",
              "      <td>1</td>\n",
              "      <td>33.770</td>\n",
              "      <td>1</td>\n",
              "      <td>0</td>\n",
              "      <td>2</td>\n",
              "      <td>1725.55230</td>\n",
              "    </tr>\n",
              "    <tr>\n",
              "      <th>2</th>\n",
              "      <td>28</td>\n",
              "      <td>1</td>\n",
              "      <td>33.000</td>\n",
              "      <td>3</td>\n",
              "      <td>0</td>\n",
              "      <td>2</td>\n",
              "      <td>4449.46200</td>\n",
              "    </tr>\n",
              "    <tr>\n",
              "      <th>3</th>\n",
              "      <td>33</td>\n",
              "      <td>1</td>\n",
              "      <td>22.705</td>\n",
              "      <td>0</td>\n",
              "      <td>0</td>\n",
              "      <td>1</td>\n",
              "      <td>21984.47061</td>\n",
              "    </tr>\n",
              "    <tr>\n",
              "      <th>4</th>\n",
              "      <td>32</td>\n",
              "      <td>1</td>\n",
              "      <td>28.880</td>\n",
              "      <td>0</td>\n",
              "      <td>0</td>\n",
              "      <td>1</td>\n",
              "      <td>3866.85520</td>\n",
              "    </tr>\n",
              "  </tbody>\n",
              "</table>\n",
              "</div>"
            ],
            "text/plain": [
              "   age  sex     bmi  children  smoker  region      charges\n",
              "0   19    0  27.900         0       1       3  16884.92400\n",
              "1   18    1  33.770         1       0       2   1725.55230\n",
              "2   28    1  33.000         3       0       2   4449.46200\n",
              "3   33    1  22.705         0       0       1  21984.47061\n",
              "4   32    1  28.880         0       0       1   3866.85520"
            ]
          },
          "metadata": {},
          "execution_count": 256
        }
      ]
    },
    {
      "cell_type": "markdown",
      "metadata": {
        "id": "MBkAPWCJrNk3"
      },
      "source": [
        "위의 결과로 sex, smoker, region의 항목들이 숫자로 변환되었음을 확인할 수 있습니다."
      ]
    },
    {
      "cell_type": "markdown",
      "metadata": {
        "id": "gtkkmw4IrNk3"
      },
      "source": [
        "### 데이터 통계량 확인"
      ]
    },
    {
      "cell_type": "markdown",
      "metadata": {
        "id": "6HyhNJKQrNk3"
      },
      "source": [
        "pandas의 describe() 기능을 통해 기본적인 통계량을 확인할 수 있습니다."
      ]
    },
    {
      "cell_type": "code",
      "metadata": {
        "colab": {
          "base_uri": "https://localhost:8080/",
          "height": 300
        },
        "id": "xA6PFI3hrNk3",
        "outputId": "4a444186-7d2d-47ca-aea2-2e1f5bb89d62"
      },
      "source": [
        "data.describe()"
      ],
      "execution_count": null,
      "outputs": [
        {
          "output_type": "execute_result",
          "data": {
            "text/html": [
              "<div>\n",
              "<style scoped>\n",
              "    .dataframe tbody tr th:only-of-type {\n",
              "        vertical-align: middle;\n",
              "    }\n",
              "\n",
              "    .dataframe tbody tr th {\n",
              "        vertical-align: top;\n",
              "    }\n",
              "\n",
              "    .dataframe thead th {\n",
              "        text-align: right;\n",
              "    }\n",
              "</style>\n",
              "<table border=\"1\" class=\"dataframe\">\n",
              "  <thead>\n",
              "    <tr style=\"text-align: right;\">\n",
              "      <th></th>\n",
              "      <th>age</th>\n",
              "      <th>sex</th>\n",
              "      <th>bmi</th>\n",
              "      <th>children</th>\n",
              "      <th>smoker</th>\n",
              "      <th>region</th>\n",
              "      <th>charges</th>\n",
              "    </tr>\n",
              "  </thead>\n",
              "  <tbody>\n",
              "    <tr>\n",
              "      <th>count</th>\n",
              "      <td>1337.000000</td>\n",
              "      <td>1337.000000</td>\n",
              "      <td>1337.000000</td>\n",
              "      <td>1337.000000</td>\n",
              "      <td>1337.000000</td>\n",
              "      <td>1337.000000</td>\n",
              "      <td>1337.000000</td>\n",
              "    </tr>\n",
              "    <tr>\n",
              "      <th>mean</th>\n",
              "      <td>39.222139</td>\n",
              "      <td>0.504862</td>\n",
              "      <td>30.663452</td>\n",
              "      <td>1.095737</td>\n",
              "      <td>0.204936</td>\n",
              "      <td>1.516081</td>\n",
              "      <td>13279.121487</td>\n",
              "    </tr>\n",
              "    <tr>\n",
              "      <th>std</th>\n",
              "      <td>14.044333</td>\n",
              "      <td>0.500163</td>\n",
              "      <td>6.100468</td>\n",
              "      <td>1.205571</td>\n",
              "      <td>0.403806</td>\n",
              "      <td>1.105208</td>\n",
              "      <td>12110.359656</td>\n",
              "    </tr>\n",
              "    <tr>\n",
              "      <th>min</th>\n",
              "      <td>18.000000</td>\n",
              "      <td>0.000000</td>\n",
              "      <td>15.960000</td>\n",
              "      <td>0.000000</td>\n",
              "      <td>0.000000</td>\n",
              "      <td>0.000000</td>\n",
              "      <td>1121.873900</td>\n",
              "    </tr>\n",
              "    <tr>\n",
              "      <th>25%</th>\n",
              "      <td>27.000000</td>\n",
              "      <td>0.000000</td>\n",
              "      <td>26.290000</td>\n",
              "      <td>0.000000</td>\n",
              "      <td>0.000000</td>\n",
              "      <td>1.000000</td>\n",
              "      <td>4746.344000</td>\n",
              "    </tr>\n",
              "    <tr>\n",
              "      <th>50%</th>\n",
              "      <td>39.000000</td>\n",
              "      <td>1.000000</td>\n",
              "      <td>30.400000</td>\n",
              "      <td>1.000000</td>\n",
              "      <td>0.000000</td>\n",
              "      <td>2.000000</td>\n",
              "      <td>9386.161300</td>\n",
              "    </tr>\n",
              "    <tr>\n",
              "      <th>75%</th>\n",
              "      <td>51.000000</td>\n",
              "      <td>1.000000</td>\n",
              "      <td>34.700000</td>\n",
              "      <td>2.000000</td>\n",
              "      <td>0.000000</td>\n",
              "      <td>2.000000</td>\n",
              "      <td>16657.717450</td>\n",
              "    </tr>\n",
              "    <tr>\n",
              "      <th>max</th>\n",
              "      <td>64.000000</td>\n",
              "      <td>1.000000</td>\n",
              "      <td>53.130000</td>\n",
              "      <td>5.000000</td>\n",
              "      <td>1.000000</td>\n",
              "      <td>3.000000</td>\n",
              "      <td>63770.428010</td>\n",
              "    </tr>\n",
              "  </tbody>\n",
              "</table>\n",
              "</div>"
            ],
            "text/plain": [
              "               age          sex  ...       region       charges\n",
              "count  1337.000000  1337.000000  ...  1337.000000   1337.000000\n",
              "mean     39.222139     0.504862  ...     1.516081  13279.121487\n",
              "std      14.044333     0.500163  ...     1.105208  12110.359656\n",
              "min      18.000000     0.000000  ...     0.000000   1121.873900\n",
              "25%      27.000000     0.000000  ...     1.000000   4746.344000\n",
              "50%      39.000000     1.000000  ...     2.000000   9386.161300\n",
              "75%      51.000000     1.000000  ...     2.000000  16657.717450\n",
              "max      64.000000     1.000000  ...     3.000000  63770.428010\n",
              "\n",
              "[8 rows x 7 columns]"
            ]
          },
          "metadata": {},
          "execution_count": 257
        }
      ]
    },
    {
      "cell_type": "markdown",
      "metadata": {
        "id": "agMeTUeUy2nl"
      },
      "source": [
        "변수 간의 상관관계를 분석합니다."
      ]
    },
    {
      "cell_type": "code",
      "metadata": {
        "colab": {
          "base_uri": "https://localhost:8080/"
        },
        "id": "wJeqK7cZrNk4",
        "outputId": "02bf4adc-db9a-47dd-fd15-9ba46a0d1b88"
      },
      "source": [
        "data.corr()['charges'].sort_values() #상관관계 분석"
      ],
      "execution_count": null,
      "outputs": [
        {
          "output_type": "execute_result",
          "data": {
            "text/plain": [
              "region     -0.006547\n",
              "sex         0.058044\n",
              "children    0.067389\n",
              "bmi         0.198401\n",
              "age         0.298308\n",
              "smoker      0.787234\n",
              "charges     1.000000\n",
              "Name: charges, dtype: float64"
            ]
          },
          "metadata": {},
          "execution_count": 258
        }
      ]
    },
    {
      "cell_type": "code",
      "metadata": {
        "colab": {
          "base_uri": "https://localhost:8080/",
          "height": 269
        },
        "id": "3_VokYP0MjBK",
        "outputId": "fc522984-bfe5-4c69-de67-8b137e08be79"
      },
      "source": [
        "data.corr()"
      ],
      "execution_count": null,
      "outputs": [
        {
          "output_type": "execute_result",
          "data": {
            "text/html": [
              "<div>\n",
              "<style scoped>\n",
              "    .dataframe tbody tr th:only-of-type {\n",
              "        vertical-align: middle;\n",
              "    }\n",
              "\n",
              "    .dataframe tbody tr th {\n",
              "        vertical-align: top;\n",
              "    }\n",
              "\n",
              "    .dataframe thead th {\n",
              "        text-align: right;\n",
              "    }\n",
              "</style>\n",
              "<table border=\"1\" class=\"dataframe\">\n",
              "  <thead>\n",
              "    <tr style=\"text-align: right;\">\n",
              "      <th></th>\n",
              "      <th>age</th>\n",
              "      <th>sex</th>\n",
              "      <th>bmi</th>\n",
              "      <th>children</th>\n",
              "      <th>smoker</th>\n",
              "      <th>region</th>\n",
              "      <th>charges</th>\n",
              "    </tr>\n",
              "  </thead>\n",
              "  <tbody>\n",
              "    <tr>\n",
              "      <th>age</th>\n",
              "      <td>1.000000</td>\n",
              "      <td>-0.019814</td>\n",
              "      <td>0.109344</td>\n",
              "      <td>0.041536</td>\n",
              "      <td>-0.025587</td>\n",
              "      <td>0.001626</td>\n",
              "      <td>0.298308</td>\n",
              "    </tr>\n",
              "    <tr>\n",
              "      <th>sex</th>\n",
              "      <td>-0.019814</td>\n",
              "      <td>1.000000</td>\n",
              "      <td>0.046397</td>\n",
              "      <td>0.017848</td>\n",
              "      <td>0.076596</td>\n",
              "      <td>0.004936</td>\n",
              "      <td>0.058044</td>\n",
              "    </tr>\n",
              "    <tr>\n",
              "      <th>bmi</th>\n",
              "      <td>0.109344</td>\n",
              "      <td>0.046397</td>\n",
              "      <td>1.000000</td>\n",
              "      <td>0.012755</td>\n",
              "      <td>0.003746</td>\n",
              "      <td>0.157574</td>\n",
              "      <td>0.198401</td>\n",
              "    </tr>\n",
              "    <tr>\n",
              "      <th>children</th>\n",
              "      <td>0.041536</td>\n",
              "      <td>0.017848</td>\n",
              "      <td>0.012755</td>\n",
              "      <td>1.000000</td>\n",
              "      <td>0.007331</td>\n",
              "      <td>0.016258</td>\n",
              "      <td>0.067389</td>\n",
              "    </tr>\n",
              "    <tr>\n",
              "      <th>smoker</th>\n",
              "      <td>-0.025587</td>\n",
              "      <td>0.076596</td>\n",
              "      <td>0.003746</td>\n",
              "      <td>0.007331</td>\n",
              "      <td>1.000000</td>\n",
              "      <td>-0.002358</td>\n",
              "      <td>0.787234</td>\n",
              "    </tr>\n",
              "    <tr>\n",
              "      <th>region</th>\n",
              "      <td>0.001626</td>\n",
              "      <td>0.004936</td>\n",
              "      <td>0.157574</td>\n",
              "      <td>0.016258</td>\n",
              "      <td>-0.002358</td>\n",
              "      <td>1.000000</td>\n",
              "      <td>-0.006547</td>\n",
              "    </tr>\n",
              "    <tr>\n",
              "      <th>charges</th>\n",
              "      <td>0.298308</td>\n",
              "      <td>0.058044</td>\n",
              "      <td>0.198401</td>\n",
              "      <td>0.067389</td>\n",
              "      <td>0.787234</td>\n",
              "      <td>-0.006547</td>\n",
              "      <td>1.000000</td>\n",
              "    </tr>\n",
              "  </tbody>\n",
              "</table>\n",
              "</div>"
            ],
            "text/plain": [
              "               age       sex       bmi  children    smoker    region   charges\n",
              "age       1.000000 -0.019814  0.109344  0.041536 -0.025587  0.001626  0.298308\n",
              "sex      -0.019814  1.000000  0.046397  0.017848  0.076596  0.004936  0.058044\n",
              "bmi       0.109344  0.046397  1.000000  0.012755  0.003746  0.157574  0.198401\n",
              "children  0.041536  0.017848  0.012755  1.000000  0.007331  0.016258  0.067389\n",
              "smoker   -0.025587  0.076596  0.003746  0.007331  1.000000 -0.002358  0.787234\n",
              "region    0.001626  0.004936  0.157574  0.016258 -0.002358  1.000000 -0.006547\n",
              "charges   0.298308  0.058044  0.198401  0.067389  0.787234 -0.006547  1.000000"
            ]
          },
          "metadata": {},
          "execution_count": 259
        }
      ]
    },
    {
      "cell_type": "code",
      "metadata": {
        "colab": {
          "base_uri": "https://localhost:8080/",
          "height": 723
        },
        "id": "dKwFRf_-rNk5",
        "outputId": "8db3dec8-d835-4a78-d699-925f2d598b4a"
      },
      "source": [
        "f, ax = pl.subplots(figsize=(12, 12))\n",
        "corr = data.corr()\n",
        "sns.heatmap(corr, annot=True, fmt = '.2f', linewidths=.5, cmap='Blues')"
      ],
      "execution_count": null,
      "outputs": [
        {
          "output_type": "execute_result",
          "data": {
            "text/plain": [
              "<matplotlib.axes._subplots.AxesSubplot at 0x7f656ad3f650>"
            ]
          },
          "metadata": {},
          "execution_count": 260
        },
        {
          "output_type": "display_data",
          "data": {
            "image/png": "[encoded data removed]",
            "text/plain": [
              "<Figure size 864x864 with 2 Axes>"
            ]
          },
          "metadata": {
            "needs_background": "light"
          }
        }
      ]
    },
    {
      "cell_type": "markdown",
      "metadata": {
        "id": "T33UevILrNk5"
      },
      "source": [
        "이렇듯 EDA분석에서는 데이터 시각화를 통해 탐색적 분석을 수행합니다.\n",
        "\n",
        "그래프 스타일과 색상은 기호에 따라 바꿀 수 있습니다.\n",
        "\n",
        "위의 그래프를 봤을 때 흡연 여부가 보험금액에 큰 상관관계를 가지고 있는 것을 알 수 있습니다.\n",
        "\n",
        "즉, 흡연을 할수록 보험금액이 높아진다는 것입니다."
      ]
    },
    {
      "cell_type": "markdown",
      "metadata": {
        "id": "LuVYeGtey_SN"
      },
      "source": [
        "### 데이터 시각화"
      ]
    },
    {
      "cell_type": "markdown",
      "metadata": {
        "id": "qkFPcXDizCaJ"
      },
      "source": [
        "데이터를 시각화하는 것은 직관적으로 데이터의 특성을 파악하는데 도움이 됩니다.\n",
        "\n",
        "실제 머신러닝 모델링 시 결과가 잘 안나올 경우 데이터 시각화를 통해 모델의 문제점을 파악하여 성능을 개선하는 경우가 많습니다."
      ]
    },
    {
      "cell_type": "code",
      "metadata": {
        "colab": {
          "base_uri": "https://localhost:8080/",
          "height": 369
        },
        "id": "vDZQTM_7rNk6",
        "scrolled": false,
        "outputId": "8a4838d0-8ab6-4106-b6be-7f183b865190"
      },
      "source": [
        "f= pl.figure(figsize=(12,5)) #프레임 지정\n",
        "\n",
        "#담배를 피는 사람들의 보험금 분포\n",
        "ax=f.add_subplot(121) #subplot 배치\n",
        "sns.distplot(data[(data.smoker == 1)][\"charges\"],color='c',ax=ax) #distplot 생성\n",
        "ax.set_title('Distribution of charges for smokers') #제목 설정\n",
        "\n",
        "#담배를 안 피는 사람들의 보험금 분포\n",
        "ax=f.add_subplot(122) #subplot 배치2\n",
        "sns.distplot(data[(data.smoker == 0)]['charges'],color='b',ax=ax)\n",
        "ax.set_title('Distribution of charges for non-smokers')"
      ],
      "execution_count": null,
      "outputs": [
        {
          "output_type": "execute_result",
          "data": {
            "text/plain": [
              "Text(0.5, 1.0, 'Distribution of charges for non-smokers')"
            ]
          },
          "metadata": {},
          "execution_count": 261
        },
        {
          "output_type": "display_data",
          "data": {
            "image/png": "[encoded data removed]",
            "text/plain": [
              "<Figure size 864x360 with 2 Axes>"
            ]
          },
          "metadata": {
            "needs_background": "light"
          }
        }
      ]
    },
    {
      "cell_type": "markdown",
      "metadata": {
        "id": "3p23VUB4rNk6"
      },
      "source": [
        "흡연자와 비흡연자의 보험금액 분포를 나타낸 그래프입니다.\n",
        "\n",
        "왼쪽 그래프(흡연자)가 오른쪽 그래프(비흡연자)에 비해 보험금을 많이 내는 사람들이 분포해 있는 것을 확인할 수 있습니다."
      ]
    },
    {
      "cell_type": "code",
      "metadata": {
        "colab": {
          "base_uri": "https://localhost:8080/",
          "height": 388
        },
        "id": "cbM-VYPurNk6",
        "outputId": "fef99efa-f720-413c-fd09-49da462f359e"
      },
      "source": [
        "#catplot 생성\n",
        "sns.catplot(x=\"smoker\",\n",
        "            kind=\"count\",\n",
        "            hue = 'sex',\n",
        "            palette=\"pink\",\n",
        "            data=data\n",
        "           )"
      ],
      "execution_count": null,
      "outputs": [
        {
          "output_type": "execute_result",
          "data": {
            "text/plain": [
              "<seaborn.axisgrid.FacetGrid at 0x7f6561557750>"
            ]
          },
          "metadata": {},
          "execution_count": 262
        },
        {
          "output_type": "display_data",
          "data": {
            "image/png": "[encoded data removed]",
            "text/plain": [
              "<Figure size 402.375x360 with 1 Axes>"
            ]
          },
          "metadata": {
            "needs_background": "light"
          }
        }
      ]
    },
    {
      "cell_type": "markdown",
      "metadata": {
        "id": "zvLMBt9NrNk7"
      },
      "source": [
        "여성에 비해 남성들이 흡연을 더 많이 한다는 사실을 알 수 있습니다."
      ]
    },
    {
      "cell_type": "code",
      "metadata": {
        "colab": {
          "base_uri": "https://localhost:8080/",
          "height": 369
        },
        "id": "J_b3OWAarNk7",
        "outputId": "ef8ceeab-c436-4cf3-f97b-287a583796ee"
      },
      "source": [
        "pl.figure(figsize=(12,5))\n",
        "pl.title(\"Box plot for charges of women\")\n",
        "sns.boxplot(y=\"smoker\", \n",
        "            x=\"charges\",\n",
        "            data =  data[(data.sex == 0)],\n",
        "            orient=\"h\",\n",
        "            palette = 'rainbow')"
      ],
      "execution_count": null,
      "outputs": [
        {
          "output_type": "execute_result",
          "data": {
            "text/plain": [
              "<matplotlib.axes._subplots.AxesSubplot at 0x7f65614afcd0>"
            ]
          },
          "metadata": {},
          "execution_count": 263
        },
        {
          "output_type": "display_data",
          "data": {
            "image/png": "[encoded data removed]",
            "text/plain": [
              "<Figure size 864x360 with 1 Axes>"
            ]
          },
          "metadata": {
            "needs_background": "light"
          }
        }
      ]
    },
    {
      "cell_type": "code",
      "metadata": {
        "colab": {
          "base_uri": "https://localhost:8080/",
          "height": 369
        },
        "id": "Wx2Y2aYUrNk7",
        "outputId": "85720fe9-d3ab-4887-e981-e903e2214381"
      },
      "source": [
        "pl.figure(figsize=(12,5))\n",
        "pl.title(\"Box plot for charges of men\")\n",
        "sns.boxplot(y=\"smoker\", \n",
        "            x=\"charges\", \n",
        "            data =  data[(data.sex == 1)],\n",
        "            orient=\"h\",\n",
        "            palette = 'magma') "
      ],
      "execution_count": null,
      "outputs": [
        {
          "output_type": "execute_result",
          "data": {
            "text/plain": [
              "<matplotlib.axes._subplots.AxesSubplot at 0x7f65614552d0>"
            ]
          },
          "metadata": {},
          "execution_count": 264
        },
        {
          "output_type": "display_data",
          "data": {
            "image/png": "[encoded data removed]",
            "text/plain": [
              "<Figure size 864x360 with 1 Axes>"
            ]
          },
          "metadata": {
            "needs_background": "light"
          }
        }
      ]
    },
    {
      "cell_type": "markdown",
      "metadata": {
        "id": "wVdV1GxUrNk7"
      },
      "source": [
        "남성과 여성 데이터에 대해 box plot 형태로 나타냈습니다.\n",
        "\n",
        "box plot이란 위의 그림과 같이 하한선, 상한선과 중간의 박스로 구성되며 박스의 양쪽 끝은 각 25% 분포 수준과 75% 수준을 나타냅니다.\n",
        "\n",
        "박스의 중간 선은 중앙값(median)을 나타냅니다.\n",
        "\n",
        "비흡연자의 보험금액 분포는 둘이 비슷하지만 흡연자의 보험금액 분포에서는 여성 쪽이 상한선 금액이 크게 나타났으나 <br> 중앙값을 봤을 때 평균적으로 남성 흡연자의 보험금액이 비싼 것으로 나타납니다."
      ]
    },
    {
      "cell_type": "code",
      "metadata": {
        "colab": {
          "base_uri": "https://localhost:8080/",
          "height": 350
        },
        "id": "Cj7_q8RVrNk8",
        "outputId": "76cdd0e8-4c07-4f1a-f9a6-211a124f03ea"
      },
      "source": [
        "pl.figure(figsize=(12,5))\n",
        "pl.title(\"Distribution of age\")\n",
        "ax = sns.distplot(data[\"age\"], \n",
        "                  color = 'g')"
      ],
      "execution_count": null,
      "outputs": [
        {
          "output_type": "display_data",
          "data": {
            "image/png": "[encoded data removed]",
            "text/plain": [
              "<Figure size 864x360 with 1 Axes>"
            ]
          },
          "metadata": {
            "needs_background": "light"
          }
        }
      ]
    },
    {
      "cell_type": "markdown",
      "metadata": {
        "id": "jdmvv9_6rNk8"
      },
      "source": [
        "전체적으로 고르게 분포되어 있습니다.\n",
        "\n",
        "하한은 18살이며 상한은 64살로 나타납니다."
      ]
    },
    {
      "cell_type": "code",
      "metadata": {
        "colab": {
          "base_uri": "https://localhost:8080/",
          "height": 404
        },
        "id": "YTyiJsJorNk9",
        "outputId": "7b311afa-cfc9-4cd7-b96a-7709cd9368fd"
      },
      "source": [
        "sns.catplot(x=\"smoker\",\n",
        "            kind=\"count\",\n",
        "            hue = 'sex',\n",
        "            palette=\"rainbow\",\n",
        "            data=data[(data.age == 18)])\n",
        "pl.title(\"The number of smokers and non-smokers (18 years old)\")"
      ],
      "execution_count": null,
      "outputs": [
        {
          "output_type": "execute_result",
          "data": {
            "text/plain": [
              "Text(0.5, 1.0, 'The number of smokers and non-smokers (18 years old)')"
            ]
          },
          "metadata": {},
          "execution_count": 266
        },
        {
          "output_type": "display_data",
          "data": {
            "image/png": "[encoded data removed]",
            "text/plain": [
              "<Figure size 402.375x360 with 1 Axes>"
            ]
          },
          "metadata": {
            "needs_background": "light"
          }
        }
      ]
    },
    {
      "cell_type": "markdown",
      "metadata": {
        "id": "jt7PzX6OrNk9"
      },
      "source": [
        "18살의 제일 나이가 어린 보험 가입자에 대한 흡연 여부를 시각화로 나타냈습니다."
      ]
    },
    {
      "cell_type": "code",
      "metadata": {
        "colab": {
          "base_uri": "https://localhost:8080/",
          "height": 369
        },
        "id": "GadRu9TyrNk9",
        "outputId": "c7950edf-5af9-4dc9-f541-e7c49cb7b2c6"
      },
      "source": [
        "pl.figure(figsize=(12,5))\n",
        "pl.title(\"Box plot for charges 18 years old smokers\")\n",
        "sns.boxplot(y=\"smoker\", \n",
        "            x=\"charges\", \n",
        "            data = data[(data.age == 18)] , \n",
        "            orient=\"h\", \n",
        "            palette = 'pink')"
      ],
      "execution_count": null,
      "outputs": [
        {
          "output_type": "execute_result",
          "data": {
            "text/plain": [
              "<matplotlib.axes._subplots.AxesSubplot at 0x7f65612dead0>"
            ]
          },
          "metadata": {},
          "execution_count": 267
        },
        {
          "output_type": "display_data",
          "data": {
            "image/png": "[encoded data removed]",
            "text/plain": [
              "<Figure size 864x360 with 1 Axes>"
            ]
          },
          "metadata": {
            "needs_background": "light"
          }
        }
      ]
    },
    {
      "cell_type": "markdown",
      "metadata": {
        "id": "qVf3-i6grNk9"
      },
      "source": [
        "전체 데이터에 대한 분포보다 극단적으로 흡연의 영향이 큰 것으로 나타납니다."
      ]
    },
    {
      "cell_type": "code",
      "metadata": {
        "colab": {
          "base_uri": "https://localhost:8080/",
          "height": 532
        },
        "id": "jBz8duHFrNk-",
        "outputId": "e9665708-f266-4f2e-db6a-a0502e9e6726"
      },
      "source": [
        "sns.lmplot(x=\"age\",\n",
        "           y=\"charges\",\n",
        "           hue=\"smoker\", \n",
        "           data=data, \n",
        "           palette = 'inferno_r', \n",
        "           size = 7)\n",
        "ax.set_title('Smokers and non-smokers')"
      ],
      "execution_count": null,
      "outputs": [
        {
          "output_type": "execute_result",
          "data": {
            "text/plain": [
              "Text(0.5, 1.0, 'Smokers and non-smokers')"
            ]
          },
          "metadata": {},
          "execution_count": 269
        },
        {
          "output_type": "display_data",
          "data": {
            "image/png": "[encoded data removed]",
            "text/plain": [
              "<Figure size 548.5x504 with 1 Axes>"
            ]
          },
          "metadata": {
            "needs_background": "light"
          }
        }
      ]
    },
    {
      "cell_type": "markdown",
      "metadata": {
        "id": "8kkGl_rHrNk-"
      },
      "source": [
        "비흡연자의 경우 나이에 따라 아주 고르게 분포되고 있는 반면에 <br> \n",
        "흡연자들은 전체적으로 보험금액이 높으며 편차도 심한 것으로 나타납니다."
      ]
    },
    {
      "cell_type": "code",
      "metadata": {
        "colab": {
          "base_uri": "https://localhost:8080/",
          "height": 350
        },
        "id": "_IQzPPKZrNk-",
        "outputId": "98a3cbf8-d336-4067-a632-76b3d9d99201"
      },
      "source": [
        "pl.figure(figsize=(12,5))\n",
        "pl.title(\"Distribution of bmi\")\n",
        "ax = sns.distplot(data[\"bmi\"], \n",
        "                  color = 'm')"
      ],
      "execution_count": null,
      "outputs": [
        {
          "output_type": "display_data",
          "data": {
            "image/png": "[encoded data removed]",
            "text/plain": [
              "<Figure size 864x360 with 1 Axes>"
            ]
          },
          "metadata": {
            "needs_background": "light"
          }
        }
      ]
    },
    {
      "cell_type": "markdown",
      "metadata": {
        "id": "08c-3XqErNk-"
      },
      "source": [
        "평균 bmi가 약 30정도로 나오며 거의 정규 분포를 이루는 것을 알 수 있습니다.\n",
        "\n",
        "하지만 bmi 수준이 30이면 과체중을 넘어 비만이기 때문에 건강을 위해 전반적인 체중 감소가 필요한 상황입니다."
      ]
    },
    {
      "cell_type": "code",
      "metadata": {
        "colab": {
          "base_uri": "https://localhost:8080/",
          "height": 350
        },
        "id": "03t4xF3JrNk-",
        "outputId": "5f071e44-9b5a-4ed6-b29b-ad78e86bf154"
      },
      "source": [
        "pl.figure(figsize=(12,5))\n",
        "pl.title(\"Distribution of charges for patients with BMI greater than 30\")\n",
        "ax = sns.distplot(data[(data.bmi >= 30)]['charges'], \n",
        "                  color = 'm')"
      ],
      "execution_count": null,
      "outputs": [
        {
          "output_type": "display_data",
          "data": {
            "image/png": "[encoded data removed]",
            "text/plain": [
              "<Figure size 864x360 with 1 Axes>"
            ]
          },
          "metadata": {
            "needs_background": "light"
          }
        }
      ]
    },
    {
      "cell_type": "code",
      "metadata": {
        "colab": {
          "base_uri": "https://localhost:8080/",
          "height": 350
        },
        "id": "tErm6uwxrNk_",
        "outputId": "192a3ad4-e570-4317-c421-72d312ccd079"
      },
      "source": [
        "pl.figure(figsize=(12,5))\n",
        "pl.title(\"Distribution of charges for patients with BMI less than 30\")\n",
        "ax = sns.distplot(data[(data.bmi < 30)]['charges'], color = 'b')"
      ],
      "execution_count": null,
      "outputs": [
        {
          "output_type": "display_data",
          "data": {
            "image/png": "[encoded data removed]",
            "text/plain": [
              "<Figure size 864x360 with 1 Axes>"
            ]
          },
          "metadata": {
            "needs_background": "light"
          }
        }
      ]
    },
    {
      "cell_type": "markdown",
      "metadata": {
        "id": "WJmX9FWUrNk_"
      },
      "source": [
        "BMI가 30이 넘는 보험 가입자들을 대상으로 시각화 한 결과 상한선이 크게 늘어났고, <br> bmi 30이하인 데이터에 비해 높은 보험금액에 많이 분포되어 있는 것을 알 수 있습니다."
      ]
    },
    {
      "cell_type": "code",
      "metadata": {
        "colab": {
          "base_uri": "https://localhost:8080/",
          "height": 388
        },
        "id": "jLVDV1RirNk_",
        "outputId": "e4beff46-3df8-4ab4-e42b-ce9ec85b8a27"
      },
      "source": [
        "sns.catplot(x=\"children\",\n",
        "            kind=\"count\", \n",
        "            palette=\"ch:.25\", \n",
        "            data=data, \n",
        "            size = 5)"
      ],
      "execution_count": null,
      "outputs": [
        {
          "output_type": "execute_result",
          "data": {
            "text/plain": [
              "<seaborn.axisgrid.FacetGrid at 0x7f6560e69e10>"
            ]
          },
          "metadata": {},
          "execution_count": 275
        },
        {
          "output_type": "display_data",
          "data": {
            "image/png": "[encoded data removed]",
            "text/plain": [
              "<Figure size 360x360 with 1 Axes>"
            ]
          },
          "metadata": {
            "needs_background": "light"
          }
        }
      ]
    },
    {
      "cell_type": "markdown",
      "metadata": {
        "id": "i2QMe64wrNk_"
      },
      "source": [
        "시각화를 통해 자녀 수 분포를 나타냈습니다.\n",
        "\n",
        "자녀가 없는 보험 가입자들이 압도적으로 많은 것으로 나타납니다."
      ]
    },
    {
      "cell_type": "code",
      "metadata": {
        "colab": {
          "base_uri": "https://localhost:8080/",
          "height": 460
        },
        "id": "55H9LPyOrNlA",
        "outputId": "09b476b0-0d55-4215-94a5-007946db5bec"
      },
      "source": [
        "sns.catplot(x=\"smoker\", \n",
        "            kind=\"count\", \n",
        "            palette=\"rainbow\",\n",
        "            hue = \"sex\",\n",
        "            data=data, \n",
        "            size = 6)\n",
        "ax.set_title('Smokers and non-smokers who have childrens')"
      ],
      "execution_count": null,
      "outputs": [
        {
          "output_type": "execute_result",
          "data": {
            "text/plain": [
              "Text(0.5, 1.0, 'Smokers and non-smokers who have childrens')"
            ]
          },
          "metadata": {},
          "execution_count": 276
        },
        {
          "output_type": "display_data",
          "data": {
            "image/png": "[encoded data removed]",
            "text/plain": [
              "<Figure size 474.375x432 with 1 Axes>"
            ]
          },
          "metadata": {
            "needs_background": "light"
          }
        }
      ]
    },
    {
      "cell_type": "code",
      "metadata": {
        "colab": {
          "base_uri": "https://localhost:8080/",
          "height": 460
        },
        "id": "4ZDInnItrNlA",
        "outputId": "816f91ee-edbe-40ce-f74b-607f27cb9f89"
      },
      "source": [
        "sns.catplot(x=\"smoker\", kind=\"count\", palette=\"rainbow\",hue = \"sex\",\n",
        "            data=data[(data.children >= 1)], size = 6)\n",
        "ax.set_title('Smokers and non-smokers who have childrens')"
      ],
      "execution_count": null,
      "outputs": [
        {
          "output_type": "execute_result",
          "data": {
            "text/plain": [
              "Text(0.5, 1.0, 'Smokers and non-smokers who have childrens')"
            ]
          },
          "metadata": {},
          "execution_count": 277
        },
        {
          "output_type": "display_data",
          "data": {
            "image/png": "[encoded data removed]",
            "text/plain": [
              "<Figure size 474.375x432 with 1 Axes>"
            ]
          },
          "metadata": {
            "needs_background": "light"
          }
        }
      ]
    },
    {
      "cell_type": "markdown",
      "metadata": {
        "id": "Sx5ja043rNlA"
      },
      "source": [
        "자녀가 하나 이상인 보험가입자 일수록 남성 흡연자 비율이 높아지고 여성 흡연자 비중이 낮아지는 양상을 보입니다."
      ]
    },
    {
      "cell_type": "markdown",
      "metadata": {
        "id": "eUS9kOov5Ojl"
      },
      "source": [
        "### 실습: 타이타닉 데이터를 가지고 자유롭게 EDA를 실습해보세요.\n",
        "\n",
        "데이터 출처: https://www.kaggle.com/heptapod/titanic"
      ]
    },
    {
      "cell_type": "markdown",
      "metadata": {
        "id": "xVdWv5y2BmrV"
      },
      "source": [
        "EDA process\n",
        "1. 패키지 및 데이터 임포트\n",
        "2. 기초 통계량 분석\n",
        "3. 데이터 시각화\n",
        "4. 데이터 전처리"
      ]
    },
    {
      "cell_type": "code",
      "metadata": {
        "id": "9d5BtZ5w5lPr"
      },
      "source": [
        "from google_drive_downloader import GoogleDriveDownloader as gdd"
      ],
      "execution_count": null,
      "outputs": []
    },
    {
      "cell_type": "code",
      "metadata": {
        "id": "2nw0oBZl5lPr"
      },
      "source": [
        "gdd.download_file_from_google_drive(file_id='1fPAl5m5zWcILqjmVLtzWm5S3oEC928Zw',\n",
        "                                    dest_path='example_data/titanic.zip',\n",
        "                                    unzip=True)"
      ],
      "execution_count": null,
      "outputs": []
    },
    {
      "cell_type": "code",
      "metadata": {
        "id": "qongIUuR5lPr"
      },
      "source": [
        "data = pd.read_csv('example_data/train.csv')"
      ],
      "execution_count": null,
      "outputs": []
    },
    {
      "cell_type": "code",
      "metadata": {
        "id": "86cyqUkLBmrV"
      },
      "source": [
        "data.drop([\"Name\", \"Ticket\", \"Cabin\"], axis = 1, inplace=True)"
      ],
      "execution_count": null,
      "outputs": []
    },
    {
      "cell_type": "code",
      "metadata": {
        "colab": {
          "base_uri": "https://localhost:8080/",
          "height": 300
        },
        "id": "g-gbG293eyzw",
        "outputId": "735ab2cd-2510-4ef2-f063-0312cc3e7748"
      },
      "source": [
        "data.describe()"
      ],
      "execution_count": null,
      "outputs": [
        {
          "output_type": "execute_result",
          "data": {
            "text/html": [
              "<div>\n",
              "<style scoped>\n",
              "    .dataframe tbody tr th:only-of-type {\n",
              "        vertical-align: middle;\n",
              "    }\n",
              "\n",
              "    .dataframe tbody tr th {\n",
              "        vertical-align: top;\n",
              "    }\n",
              "\n",
              "    .dataframe thead th {\n",
              "        text-align: right;\n",
              "    }\n",
              "</style>\n",
              "<table border=\"1\" class=\"dataframe\">\n",
              "  <thead>\n",
              "    <tr style=\"text-align: right;\">\n",
              "      <th></th>\n",
              "      <th>PassengerId</th>\n",
              "      <th>Survived</th>\n",
              "      <th>Pclass</th>\n",
              "      <th>Age</th>\n",
              "      <th>SibSp</th>\n",
              "      <th>Parch</th>\n",
              "      <th>Fare</th>\n",
              "    </tr>\n",
              "  </thead>\n",
              "  <tbody>\n",
              "    <tr>\n",
              "      <th>count</th>\n",
              "      <td>891.000000</td>\n",
              "      <td>891.000000</td>\n",
              "      <td>891.000000</td>\n",
              "      <td>714.000000</td>\n",
              "      <td>891.000000</td>\n",
              "      <td>891.000000</td>\n",
              "      <td>891.000000</td>\n",
              "    </tr>\n",
              "    <tr>\n",
              "      <th>mean</th>\n",
              "      <td>446.000000</td>\n",
              "      <td>0.383838</td>\n",
              "      <td>2.308642</td>\n",
              "      <td>29.699118</td>\n",
              "      <td>0.523008</td>\n",
              "      <td>0.381594</td>\n",
              "      <td>32.204208</td>\n",
              "    </tr>\n",
              "    <tr>\n",
              "      <th>std</th>\n",
              "      <td>257.353842</td>\n",
              "      <td>0.486592</td>\n",
              "      <td>0.836071</td>\n",
              "      <td>14.526497</td>\n",
              "      <td>1.102743</td>\n",
              "      <td>0.806057</td>\n",
              "      <td>49.693429</td>\n",
              "    </tr>\n",
              "    <tr>\n",
              "      <th>min</th>\n",
              "      <td>1.000000</td>\n",
              "      <td>0.000000</td>\n",
              "      <td>1.000000</td>\n",
              "      <td>0.420000</td>\n",
              "      <td>0.000000</td>\n",
              "      <td>0.000000</td>\n",
              "      <td>0.000000</td>\n",
              "    </tr>\n",
              "    <tr>\n",
              "      <th>25%</th>\n",
              "      <td>223.500000</td>\n",
              "      <td>0.000000</td>\n",
              "      <td>2.000000</td>\n",
              "      <td>20.125000</td>\n",
              "      <td>0.000000</td>\n",
              "      <td>0.000000</td>\n",
              "      <td>7.910400</td>\n",
              "    </tr>\n",
              "    <tr>\n",
              "      <th>50%</th>\n",
              "      <td>446.000000</td>\n",
              "      <td>0.000000</td>\n",
              "      <td>3.000000</td>\n",
              "      <td>28.000000</td>\n",
              "      <td>0.000000</td>\n",
              "      <td>0.000000</td>\n",
              "      <td>14.454200</td>\n",
              "    </tr>\n",
              "    <tr>\n",
              "      <th>75%</th>\n",
              "      <td>668.500000</td>\n",
              "      <td>1.000000</td>\n",
              "      <td>3.000000</td>\n",
              "      <td>38.000000</td>\n",
              "      <td>1.000000</td>\n",
              "      <td>0.000000</td>\n",
              "      <td>31.000000</td>\n",
              "    </tr>\n",
              "    <tr>\n",
              "      <th>max</th>\n",
              "      <td>891.000000</td>\n",
              "      <td>1.000000</td>\n",
              "      <td>3.000000</td>\n",
              "      <td>80.000000</td>\n",
              "      <td>8.000000</td>\n",
              "      <td>6.000000</td>\n",
              "      <td>512.329200</td>\n",
              "    </tr>\n",
              "  </tbody>\n",
              "</table>\n",
              "</div>"
            ],
            "text/plain": [
              "       PassengerId    Survived      Pclass  ...       SibSp       Parch        Fare\n",
              "count   891.000000  891.000000  891.000000  ...  891.000000  891.000000  891.000000\n",
              "mean    446.000000    0.383838    2.308642  ...    0.523008    0.381594   32.204208\n",
              "std     257.353842    0.486592    0.836071  ...    1.102743    0.806057   49.693429\n",
              "min       1.000000    0.000000    1.000000  ...    0.000000    0.000000    0.000000\n",
              "25%     223.500000    0.000000    2.000000  ...    0.000000    0.000000    7.910400\n",
              "50%     446.000000    0.000000    3.000000  ...    0.000000    0.000000   14.454200\n",
              "75%     668.500000    1.000000    3.000000  ...    1.000000    0.000000   31.000000\n",
              "max     891.000000    1.000000    3.000000  ...    8.000000    6.000000  512.329200\n",
              "\n",
              "[8 rows x 7 columns]"
            ]
          },
          "metadata": {},
          "execution_count": 38
        }
      ]
    },
    {
      "cell_type": "code",
      "metadata": {
        "colab": {
          "base_uri": "https://localhost:8080/",
          "height": 626
        },
        "id": "5g5UW741eyuo",
        "outputId": "c6f2393c-00f8-4ef6-d735-a2474a1eda75"
      },
      "source": [
        "data.hist(bins=10,figsize=(9,7),grid=False)"
      ],
      "execution_count": null,
      "outputs": [
        {
          "output_type": "execute_result",
          "data": {
            "text/plain": [
              "array([[<matplotlib.axes._subplots.AxesSubplot object at 0x7fb23d65dc10>,\n",
              "        <matplotlib.axes._subplots.AxesSubplot object at 0x7fb23d62f250>,\n",
              "        <matplotlib.axes._subplots.AxesSubplot object at 0x7fb23d5e5850>],\n",
              "       [<matplotlib.axes._subplots.AxesSubplot object at 0x7fb23d59ae50>,\n",
              "        <matplotlib.axes._subplots.AxesSubplot object at 0x7fb23d55d490>,\n",
              "        <matplotlib.axes._subplots.AxesSubplot object at 0x7fb23d511a90>],\n",
              "       [<matplotlib.axes._subplots.AxesSubplot object at 0x7fb23d4d5150>,\n",
              "        <matplotlib.axes._subplots.AxesSubplot object at 0x7fb23d48a690>,\n",
              "        <matplotlib.axes._subplots.AxesSubplot object at 0x7fb23d48a6d0>]],\n",
              "      dtype=object)"
            ]
          },
          "metadata": {},
          "execution_count": 39
        },
        {
          "output_type": "display_data",
          "data": {
            "image/png": "[encoded data removed]",
            "text/plain": [
              "<Figure size 648x504 with 9 Axes>"
            ]
          },
          "metadata": {
            "needs_background": "light"
          }
        }
      ]
    },
    {
      "cell_type": "code",
      "metadata": {
        "colab": {
          "base_uri": "https://localhost:8080/",
          "height": 297
        },
        "id": "8PX21428eyrv",
        "outputId": "eb9bc6e4-ae3a-4727-b85f-a3b1df03b4b0"
      },
      "source": [
        "sns.countplot(x=\"Survived\", hue=\"Parch\",data=data,palette=\"rainbow\")"
      ],
      "execution_count": null,
      "outputs": [
        {
          "output_type": "execute_result",
          "data": {
            "text/plain": [
              "<matplotlib.axes._subplots.AxesSubplot at 0x7fb233cdc610>"
            ]
          },
          "metadata": {},
          "execution_count": 43
        },
        {
          "output_type": "display_data",
          "data": {
            "image/png": "[encoded data removed]",
            "text/plain": [
              "<Figure size 432x288 with 1 Axes>"
            ]
          },
          "metadata": {
            "needs_background": "light"
          }
        }
      ]
    },
    {
      "cell_type": "code",
      "metadata": {
        "colab": {
          "base_uri": "https://localhost:8080/",
          "height": 297
        },
        "id": "VDZLD-eHgHNB",
        "outputId": "72e1a3b3-e43e-405b-e072-0271b98c5d98"
      },
      "source": [
        "sns.countplot(x=\"Survived\" ,hue=\"Sex\" , data=data, palette=\"rainbow\")"
      ],
      "execution_count": null,
      "outputs": [
        {
          "output_type": "execute_result",
          "data": {
            "text/plain": [
              "<matplotlib.axes._subplots.AxesSubplot at 0x7fb2329b3290>"
            ]
          },
          "metadata": {},
          "execution_count": 44
        },
        {
          "output_type": "display_data",
          "data": {
            "image/png": "[encoded data removed]",
            "text/plain": [
              "<Figure size 432x288 with 1 Axes>"
            ]
          },
          "metadata": {
            "needs_background": "light"
          }
        }
      ]
    },
    {
      "cell_type": "code",
      "metadata": {
        "colab": {
          "base_uri": "https://localhost:8080/",
          "height": 423
        },
        "id": "PhhYGG49gHgp",
        "outputId": "3a919bec-7b76-4e6c-9280-c7b540dfb8a6"
      },
      "source": [
        "data"
      ],
      "execution_count": null,
      "outputs": [
        {
          "output_type": "execute_result",
          "data": {
            "text/html": [
              "<div>\n",
              "<style scoped>\n",
              "    .dataframe tbody tr th:only-of-type {\n",
              "        vertical-align: middle;\n",
              "    }\n",
              "\n",
              "    .dataframe tbody tr th {\n",
              "        vertical-align: top;\n",
              "    }\n",
              "\n",
              "    .dataframe thead th {\n",
              "        text-align: right;\n",
              "    }\n",
              "</style>\n",
              "<table border=\"1\" class=\"dataframe\">\n",
              "  <thead>\n",
              "    <tr style=\"text-align: right;\">\n",
              "      <th></th>\n",
              "      <th>PassengerId</th>\n",
              "      <th>Survived</th>\n",
              "      <th>Pclass</th>\n",
              "      <th>Sex</th>\n",
              "      <th>Age</th>\n",
              "      <th>SibSp</th>\n",
              "      <th>Parch</th>\n",
              "      <th>Fare</th>\n",
              "      <th>Embarked</th>\n",
              "    </tr>\n",
              "  </thead>\n",
              "  <tbody>\n",
              "    <tr>\n",
              "      <th>0</th>\n",
              "      <td>1</td>\n",
              "      <td>0</td>\n",
              "      <td>3</td>\n",
              "      <td>male</td>\n",
              "      <td>22.0</td>\n",
              "      <td>1</td>\n",
              "      <td>0</td>\n",
              "      <td>7.2500</td>\n",
              "      <td>S</td>\n",
              "    </tr>\n",
              "    <tr>\n",
              "      <th>1</th>\n",
              "      <td>2</td>\n",
              "      <td>1</td>\n",
              "      <td>1</td>\n",
              "      <td>female</td>\n",
              "      <td>38.0</td>\n",
              "      <td>1</td>\n",
              "      <td>0</td>\n",
              "      <td>71.2833</td>\n",
              "      <td>C</td>\n",
              "    </tr>\n",
              "    <tr>\n",
              "      <th>2</th>\n",
              "      <td>3</td>\n",
              "      <td>1</td>\n",
              "      <td>3</td>\n",
              "      <td>female</td>\n",
              "      <td>26.0</td>\n",
              "      <td>0</td>\n",
              "      <td>0</td>\n",
              "      <td>7.9250</td>\n",
              "      <td>S</td>\n",
              "    </tr>\n",
              "    <tr>\n",
              "      <th>3</th>\n",
              "      <td>4</td>\n",
              "      <td>1</td>\n",
              "      <td>1</td>\n",
              "      <td>female</td>\n",
              "      <td>35.0</td>\n",
              "      <td>1</td>\n",
              "      <td>0</td>\n",
              "      <td>53.1000</td>\n",
              "      <td>S</td>\n",
              "    </tr>\n",
              "    <tr>\n",
              "      <th>4</th>\n",
              "      <td>5</td>\n",
              "      <td>0</td>\n",
              "      <td>3</td>\n",
              "      <td>male</td>\n",
              "      <td>35.0</td>\n",
              "      <td>0</td>\n",
              "      <td>0</td>\n",
              "      <td>8.0500</td>\n",
              "      <td>S</td>\n",
              "    </tr>\n",
              "    <tr>\n",
              "      <th>...</th>\n",
              "      <td>...</td>\n",
              "      <td>...</td>\n",
              "      <td>...</td>\n",
              "      <td>...</td>\n",
              "      <td>...</td>\n",
              "      <td>...</td>\n",
              "      <td>...</td>\n",
              "      <td>...</td>\n",
              "      <td>...</td>\n",
              "    </tr>\n",
              "    <tr>\n",
              "      <th>886</th>\n",
              "      <td>887</td>\n",
              "      <td>0</td>\n",
              "      <td>2</td>\n",
              "      <td>male</td>\n",
              "      <td>27.0</td>\n",
              "      <td>0</td>\n",
              "      <td>0</td>\n",
              "      <td>13.0000</td>\n",
              "      <td>S</td>\n",
              "    </tr>\n",
              "    <tr>\n",
              "      <th>887</th>\n",
              "      <td>888</td>\n",
              "      <td>1</td>\n",
              "      <td>1</td>\n",
              "      <td>female</td>\n",
              "      <td>19.0</td>\n",
              "      <td>0</td>\n",
              "      <td>0</td>\n",
              "      <td>30.0000</td>\n",
              "      <td>S</td>\n",
              "    </tr>\n",
              "    <tr>\n",
              "      <th>888</th>\n",
              "      <td>889</td>\n",
              "      <td>0</td>\n",
              "      <td>3</td>\n",
              "      <td>female</td>\n",
              "      <td>NaN</td>\n",
              "      <td>1</td>\n",
              "      <td>2</td>\n",
              "      <td>23.4500</td>\n",
              "      <td>S</td>\n",
              "    </tr>\n",
              "    <tr>\n",
              "      <th>889</th>\n",
              "      <td>890</td>\n",
              "      <td>1</td>\n",
              "      <td>1</td>\n",
              "      <td>male</td>\n",
              "      <td>26.0</td>\n",
              "      <td>0</td>\n",
              "      <td>0</td>\n",
              "      <td>30.0000</td>\n",
              "      <td>C</td>\n",
              "    </tr>\n",
              "    <tr>\n",
              "      <th>890</th>\n",
              "      <td>891</td>\n",
              "      <td>0</td>\n",
              "      <td>3</td>\n",
              "      <td>male</td>\n",
              "      <td>32.0</td>\n",
              "      <td>0</td>\n",
              "      <td>0</td>\n",
              "      <td>7.7500</td>\n",
              "      <td>Q</td>\n",
              "    </tr>\n",
              "  </tbody>\n",
              "</table>\n",
              "<p>891 rows × 9 columns</p>\n",
              "</div>"
            ],
            "text/plain": [
              "     PassengerId  Survived  Pclass     Sex  ...  SibSp  Parch     Fare  Embarked\n",
              "0              1         0       3    male  ...      1      0   7.2500         S\n",
              "1              2         1       1  female  ...      1      0  71.2833         C\n",
              "2              3         1       3  female  ...      0      0   7.9250         S\n",
              "3              4         1       1  female  ...      1      0  53.1000         S\n",
              "4              5         0       3    male  ...      0      0   8.0500         S\n",
              "..           ...       ...     ...     ...  ...    ...    ...      ...       ...\n",
              "886          887         0       2    male  ...      0      0  13.0000         S\n",
              "887          888         1       1  female  ...      0      0  30.0000         S\n",
              "888          889         0       3  female  ...      1      2  23.4500         S\n",
              "889          890         1       1    male  ...      0      0  30.0000         C\n",
              "890          891         0       3    male  ...      0      0   7.7500         Q\n",
              "\n",
              "[891 rows x 9 columns]"
            ]
          },
          "metadata": {},
          "execution_count": 45
        }
      ]
    },
    {
      "cell_type": "code",
      "metadata": {
        "id": "QddPxY1XhHwi"
      },
      "source": [
        "data = data.fillna(data.mean())"
      ],
      "execution_count": null,
      "outputs": []
    },
    {
      "cell_type": "code",
      "metadata": {
        "id": "lx9A0i7zhULM"
      },
      "source": [
        "data = data.drop_duplicates()"
      ],
      "execution_count": null,
      "outputs": []
    },
    {
      "cell_type": "code",
      "metadata": {
        "colab": {
          "base_uri": "https://localhost:8080/",
          "height": 143
        },
        "id": "UCZhaKOfhmwz",
        "outputId": "c3f9ffd4-7303-43f7-986c-77ccec5289c0"
      },
      "source": [
        "data[['Pclass', 'Survived']].groupby(['Pclass'], as_index=False).mean().sort_values(by='Survived', ascending=False)"
      ],
      "execution_count": null,
      "outputs": [
        {
          "output_type": "execute_result",
          "data": {
            "text/html": [
              "<div>\n",
              "<style scoped>\n",
              "    .dataframe tbody tr th:only-of-type {\n",
              "        vertical-align: middle;\n",
              "    }\n",
              "\n",
              "    .dataframe tbody tr th {\n",
              "        vertical-align: top;\n",
              "    }\n",
              "\n",
              "    .dataframe thead th {\n",
              "        text-align: right;\n",
              "    }\n",
              "</style>\n",
              "<table border=\"1\" class=\"dataframe\">\n",
              "  <thead>\n",
              "    <tr style=\"text-align: right;\">\n",
              "      <th></th>\n",
              "      <th>Pclass</th>\n",
              "      <th>Survived</th>\n",
              "    </tr>\n",
              "  </thead>\n",
              "  <tbody>\n",
              "    <tr>\n",
              "      <th>0</th>\n",
              "      <td>1</td>\n",
              "      <td>0.629630</td>\n",
              "    </tr>\n",
              "    <tr>\n",
              "      <th>1</th>\n",
              "      <td>2</td>\n",
              "      <td>0.472826</td>\n",
              "    </tr>\n",
              "    <tr>\n",
              "      <th>2</th>\n",
              "      <td>3</td>\n",
              "      <td>0.242363</td>\n",
              "    </tr>\n",
              "  </tbody>\n",
              "</table>\n",
              "</div>"
            ],
            "text/plain": [
              "   Pclass  Survived\n",
              "0       1  0.629630\n",
              "1       2  0.472826\n",
              "2       3  0.242363"
            ]
          },
          "metadata": {},
          "execution_count": 48
        }
      ]
    },
    {
      "cell_type": "code",
      "metadata": {
        "colab": {
          "base_uri": "https://localhost:8080/",
          "height": 111
        },
        "id": "nsXNnNjvhmud",
        "outputId": "69af2c71-03d6-4f8b-aab2-5eb9199a5ab8"
      },
      "source": [
        "data[[\"Sex\" , \"Survived\"]].groupby([\"Sex\"] , as_index = False).mean().sort_values(by=\"Survived\" , ascending = False)"
      ],
      "execution_count": null,
      "outputs": [
        {
          "output_type": "execute_result",
          "data": {
            "text/html": [
              "<div>\n",
              "<style scoped>\n",
              "    .dataframe tbody tr th:only-of-type {\n",
              "        vertical-align: middle;\n",
              "    }\n",
              "\n",
              "    .dataframe tbody tr th {\n",
              "        vertical-align: top;\n",
              "    }\n",
              "\n",
              "    .dataframe thead th {\n",
              "        text-align: right;\n",
              "    }\n",
              "</style>\n",
              "<table border=\"1\" class=\"dataframe\">\n",
              "  <thead>\n",
              "    <tr style=\"text-align: right;\">\n",
              "      <th></th>\n",
              "      <th>Sex</th>\n",
              "      <th>Survived</th>\n",
              "    </tr>\n",
              "  </thead>\n",
              "  <tbody>\n",
              "    <tr>\n",
              "      <th>0</th>\n",
              "      <td>female</td>\n",
              "      <td>0.742038</td>\n",
              "    </tr>\n",
              "    <tr>\n",
              "      <th>1</th>\n",
              "      <td>male</td>\n",
              "      <td>0.188908</td>\n",
              "    </tr>\n",
              "  </tbody>\n",
              "</table>\n",
              "</div>"
            ],
            "text/plain": [
              "      Sex  Survived\n",
              "0  female  0.742038\n",
              "1    male  0.188908"
            ]
          },
          "metadata": {
            "tags": []
          },
          "execution_count": 180
        }
      ]
    },
    {
      "cell_type": "code",
      "metadata": {
        "colab": {
          "base_uri": "https://localhost:8080/",
          "height": 266
        },
        "id": "-RsDcj-3hmqf",
        "outputId": "de391c3b-9798-4a25-c37d-42d2e9e971cf"
      },
      "source": [
        "data[[\"Parch\" , \"Survived\"]].groupby([\"Parch\"] , as_index = False) .mean().sort_values(by=\"Parch\" , ascending = False)"
      ],
      "execution_count": null,
      "outputs": [
        {
          "output_type": "execute_result",
          "data": {
            "text/html": [
              "<div>\n",
              "<style scoped>\n",
              "    .dataframe tbody tr th:only-of-type {\n",
              "        vertical-align: middle;\n",
              "    }\n",
              "\n",
              "    .dataframe tbody tr th {\n",
              "        vertical-align: top;\n",
              "    }\n",
              "\n",
              "    .dataframe thead th {\n",
              "        text-align: right;\n",
              "    }\n",
              "</style>\n",
              "<table border=\"1\" class=\"dataframe\">\n",
              "  <thead>\n",
              "    <tr style=\"text-align: right;\">\n",
              "      <th></th>\n",
              "      <th>Parch</th>\n",
              "      <th>Survived</th>\n",
              "    </tr>\n",
              "  </thead>\n",
              "  <tbody>\n",
              "    <tr>\n",
              "      <th>6</th>\n",
              "      <td>6</td>\n",
              "      <td>0.000000</td>\n",
              "    </tr>\n",
              "    <tr>\n",
              "      <th>5</th>\n",
              "      <td>5</td>\n",
              "      <td>0.200000</td>\n",
              "    </tr>\n",
              "    <tr>\n",
              "      <th>4</th>\n",
              "      <td>4</td>\n",
              "      <td>0.000000</td>\n",
              "    </tr>\n",
              "    <tr>\n",
              "      <th>3</th>\n",
              "      <td>3</td>\n",
              "      <td>0.600000</td>\n",
              "    </tr>\n",
              "    <tr>\n",
              "      <th>2</th>\n",
              "      <td>2</td>\n",
              "      <td>0.500000</td>\n",
              "    </tr>\n",
              "    <tr>\n",
              "      <th>1</th>\n",
              "      <td>1</td>\n",
              "      <td>0.550847</td>\n",
              "    </tr>\n",
              "    <tr>\n",
              "      <th>0</th>\n",
              "      <td>0</td>\n",
              "      <td>0.343658</td>\n",
              "    </tr>\n",
              "  </tbody>\n",
              "</table>\n",
              "</div>"
            ],
            "text/plain": [
              "   Parch  Survived\n",
              "6      6  0.000000\n",
              "5      5  0.200000\n",
              "4      4  0.000000\n",
              "3      3  0.600000\n",
              "2      2  0.500000\n",
              "1      1  0.550847\n",
              "0      0  0.343658"
            ]
          },
          "metadata": {
            "tags": []
          },
          "execution_count": 182
        }
      ]
    },
    {
      "cell_type": "code",
      "metadata": {
        "colab": {
          "base_uri": "https://localhost:8080/",
          "height": 142
        },
        "id": "6f2YpMARhuvn",
        "outputId": "9b605da4-b545-43f6-a12a-d7cba2804c71"
      },
      "source": [
        "data[['Embarked', 'Survived']].groupby(['Embarked'], as_index=False).mean().sort_values(by='Survived', ascending=False)"
      ],
      "execution_count": null,
      "outputs": [
        {
          "output_type": "execute_result",
          "data": {
            "text/html": [
              "<div>\n",
              "<style scoped>\n",
              "    .dataframe tbody tr th:only-of-type {\n",
              "        vertical-align: middle;\n",
              "    }\n",
              "\n",
              "    .dataframe tbody tr th {\n",
              "        vertical-align: top;\n",
              "    }\n",
              "\n",
              "    .dataframe thead th {\n",
              "        text-align: right;\n",
              "    }\n",
              "</style>\n",
              "<table border=\"1\" class=\"dataframe\">\n",
              "  <thead>\n",
              "    <tr style=\"text-align: right;\">\n",
              "      <th></th>\n",
              "      <th>Embarked</th>\n",
              "      <th>Survived</th>\n",
              "    </tr>\n",
              "  </thead>\n",
              "  <tbody>\n",
              "    <tr>\n",
              "      <th>0</th>\n",
              "      <td>C</td>\n",
              "      <td>0.553571</td>\n",
              "    </tr>\n",
              "    <tr>\n",
              "      <th>1</th>\n",
              "      <td>Q</td>\n",
              "      <td>0.389610</td>\n",
              "    </tr>\n",
              "    <tr>\n",
              "      <th>2</th>\n",
              "      <td>S</td>\n",
              "      <td>0.336957</td>\n",
              "    </tr>\n",
              "  </tbody>\n",
              "</table>\n",
              "</div>"
            ],
            "text/plain": [
              "  Embarked  Survived\n",
              "0        C  0.553571\n",
              "1        Q  0.389610\n",
              "2        S  0.336957"
            ]
          },
          "metadata": {
            "tags": []
          },
          "execution_count": 184
        }
      ]
    }
  ]
}